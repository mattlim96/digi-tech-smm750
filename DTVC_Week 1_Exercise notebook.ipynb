{
 "cells": [
  {
   "cell_type": "markdown",
   "source": [
    "In this notebook, we are going to review some of the basics in Python that you partially covered in your introductory classes. We will get started on some very easy exercises and progressively see more complicated topics.\n",
    "\n",
    "The goal of this short tutorial is to reinforce important basics, and for you to see whether you'll be comfortable using Python throughout the class - if there are any issues, we want to make sure to fix them early on, to get the best learning experience.\n",
    "\n",
    "Please fill in the document as you go!"
   ],
   "metadata": {}
  },
  {
   "cell_type": "markdown",
   "source": [
    "## Welcome to our first Jupyter notebook!\n",
    "\n",
    "This is a markdown, where you can read text written in a \"normal\" font. These will be interspersed with coding blocks that you can run. \n",
    "\n",
    "As you may know, Python is open source code. This means that anyone is free to contribute to writing bits of it and anyone can use it free of charge. A collection of pieces of code is called a package: we install packages so we don't have to rewrite things from scratch every time. We can leverage what other people have already done!\n",
    "\n",
    "As a consequence, the first commands you will see here deal with package installation. These packages will be installed using \"conda install name_of_package\". You may also come across the code \"pip install name_of_package\": these are similar commands. As we are working with Anaconda, the first one is easier to use. But if for some reason, conda install fails to work for you, switch to pip (also, many packages are not available with conda, but only with pip)!\n",
    "\n",
    "The way it works for most coding languages is that packages only have to be installed *once*. This is similar to downloading an app e.g. on your phone. However, packages generally have to be loaded or imported at the beginning of every session (i.e., every time you re-open anaconda). This is similar to opening the app on your phone. It means that the package is active in the background. \n",
    "\n",
    "As a consequence, I am including some \"installation commands\" at the beginning of this notebook. In the future, you won't need to run those code segments again: you will just have to load them.. However, it doesn't really matter if you forget and run them again - anaconda will check for you whether they are already there, and if they are, will simply not reinstall them.\n",
    "\n",
    "Note that we are downloading an awful lot of packages here. This is because these packages will come in useful at many point in times in this course, so we may as well install them from the get-go. However, you will only need to have installed `numpy` and `pandas` for the rest of the notebook, so feel free to skip the rest during class if you run into trouble and try installing them after class."
   ],
   "metadata": {}
  },
  {
   "cell_type": "code",
   "execution_count": 1,
   "source": [
    "conda install numpy"
   ],
   "outputs": [
    {
     "output_type": "stream",
     "name": "stdout",
     "text": [
      "Collecting package metadata (current_repodata.json): done\n",
      "Solving environment: done\n",
      "\n",
      "## Package Plan ##\n",
      "\n",
      "  environment location: /opt/anaconda3/envs/smm750\n",
      "\n",
      "  added / updated specs:\n",
      "    - numpy\n",
      "\n",
      "\n",
      "The following packages will be downloaded:\n",
      "\n",
      "    package                    |            build\n",
      "    ---------------------------|-----------------\n",
      "    mkl-service-2.4.0          |   py37h9ed2024_0          44 KB\n",
      "    mkl_fft-1.3.0              |   py37h4a7008c_2         159 KB\n",
      "    mkl_random-1.2.2           |   py37hb2f4e1b_0         263 KB\n",
      "    numpy-1.20.3               |   py37h4b4dc7a_0          23 KB\n",
      "    numpy-base-1.20.3          |   py37he0bd621_0         4.3 MB\n",
      "    ------------------------------------------------------------\n",
      "                                           Total:         4.8 MB\n",
      "\n",
      "The following NEW packages will be INSTALLED:\n",
      "\n",
      "  blas               pkgs/main/osx-64::blas-1.0-mkl\n",
      "  intel-openmp       pkgs/main/osx-64::intel-openmp-2021.3.0-hecd8cb5_3375\n",
      "  mkl                pkgs/main/osx-64::mkl-2021.3.0-hecd8cb5_517\n",
      "  mkl-service        pkgs/main/osx-64::mkl-service-2.4.0-py37h9ed2024_0\n",
      "  mkl_fft            pkgs/main/osx-64::mkl_fft-1.3.0-py37h4a7008c_2\n",
      "  mkl_random         pkgs/main/osx-64::mkl_random-1.2.2-py37hb2f4e1b_0\n",
      "  numpy              pkgs/main/osx-64::numpy-1.20.3-py37h4b4dc7a_0\n",
      "  numpy-base         pkgs/main/osx-64::numpy-base-1.20.3-py37he0bd621_0\n",
      "\n",
      "\n",
      "\n",
      "Downloading and Extracting Packages\n",
      "numpy-base-1.20.3    | 4.3 MB    | ##################################### | 100% \n",
      "mkl-service-2.4.0    | 44 KB     | ##################################### | 100% \n",
      "mkl_random-1.2.2     | 263 KB    | ##################################### | 100% \n",
      "numpy-1.20.3         | 23 KB     | ##################################### | 100% \n",
      "mkl_fft-1.3.0        | 159 KB    | ##################################### | 100% \n",
      "Preparing transaction: done\n",
      "Verifying transaction: done\n",
      "Executing transaction: done\n",
      "\n",
      "Note: you may need to restart the kernel to use updated packages.\n"
     ]
    }
   ],
   "metadata": {}
  },
  {
   "cell_type": "code",
   "execution_count": 2,
   "source": [
    "conda install scipy"
   ],
   "outputs": [
    {
     "output_type": "stream",
     "name": "stdout",
     "text": [
      "Collecting package metadata (current_repodata.json): done\n",
      "Solving environment: done\n",
      "\n",
      "## Package Plan ##\n",
      "\n",
      "  environment location: /opt/anaconda3/envs/smm750\n",
      "\n",
      "  added / updated specs:\n",
      "    - scipy\n",
      "\n",
      "\n",
      "The following packages will be downloaded:\n",
      "\n",
      "    package                    |            build\n",
      "    ---------------------------|-----------------\n",
      "    scipy-1.7.1                |   py37h88652d9_2        15.3 MB\n",
      "    ------------------------------------------------------------\n",
      "                                           Total:        15.3 MB\n",
      "\n",
      "The following NEW packages will be INSTALLED:\n",
      "\n",
      "  libgfortran        pkgs/main/osx-64::libgfortran-3.0.1-h93005f0_2\n",
      "  scipy              pkgs/main/osx-64::scipy-1.7.1-py37h88652d9_2\n",
      "\n",
      "\n",
      "\n",
      "Downloading and Extracting Packages\n",
      "scipy-1.7.1          | 15.3 MB   | ##################################### | 100% \n",
      "Preparing transaction: done\n",
      "Verifying transaction: done\n",
      "Executing transaction: done\n",
      "\n",
      "Note: you may need to restart the kernel to use updated packages.\n"
     ]
    }
   ],
   "metadata": {}
  },
  {
   "cell_type": "code",
   "execution_count": 3,
   "source": [
    "conda install pandas"
   ],
   "outputs": [
    {
     "output_type": "stream",
     "name": "stdout",
     "text": [
      "Collecting package metadata (current_repodata.json): done\n",
      "Solving environment: done\n",
      "\n",
      "## Package Plan ##\n",
      "\n",
      "  environment location: /opt/anaconda3/envs/smm750\n",
      "\n",
      "  added / updated specs:\n",
      "    - pandas\n",
      "\n",
      "\n",
      "The following packages will be downloaded:\n",
      "\n",
      "    package                    |            build\n",
      "    ---------------------------|-----------------\n",
      "    bottleneck-1.3.2           |   py37hf1fa96c_1         107 KB\n",
      "    numexpr-2.7.3              |   py37h5873af2_1         124 KB\n",
      "    pandas-1.3.3               |   py37h5008ddb_0         8.8 MB\n",
      "    ------------------------------------------------------------\n",
      "                                           Total:         9.1 MB\n",
      "\n",
      "The following NEW packages will be INSTALLED:\n",
      "\n",
      "  bottleneck         pkgs/main/osx-64::bottleneck-1.3.2-py37hf1fa96c_1\n",
      "  numexpr            pkgs/main/osx-64::numexpr-2.7.3-py37h5873af2_1\n",
      "  pandas             pkgs/main/osx-64::pandas-1.3.3-py37h5008ddb_0\n",
      "  pytz               pkgs/main/noarch::pytz-2021.1-pyhd3eb1b0_0\n",
      "\n",
      "\n",
      "\n",
      "Downloading and Extracting Packages\n",
      "numexpr-2.7.3        | 124 KB    | ##################################### | 100% \n",
      "pandas-1.3.3         | 8.8 MB    | ##################################### | 100% \n",
      "bottleneck-1.3.2     | 107 KB    | ##################################### | 100% \n",
      "Preparing transaction: done\n",
      "Verifying transaction: done\n",
      "Executing transaction: done\n",
      "\n",
      "Note: you may need to restart the kernel to use updated packages.\n"
     ]
    }
   ],
   "metadata": {}
  },
  {
   "cell_type": "code",
   "execution_count": 4,
   "source": [
    "conda install matplotlib"
   ],
   "outputs": [
    {
     "output_type": "stream",
     "name": "stdout",
     "text": [
      "Collecting package metadata (current_repodata.json): done\n",
      "Solving environment: done\n",
      "\n",
      "## Package Plan ##\n",
      "\n",
      "  environment location: /opt/anaconda3/envs/smm750\n",
      "\n",
      "  added / updated specs:\n",
      "    - matplotlib\n",
      "\n",
      "\n",
      "The following packages will be downloaded:\n",
      "\n",
      "    package                    |            build\n",
      "    ---------------------------|-----------------\n",
      "    cycler-0.10.0              |           py37_0          14 KB\n",
      "    kiwisolver-1.3.1           |   py37h23ab428_0          52 KB\n",
      "    matplotlib-3.4.2           |   py37hecd8cb5_0          26 KB\n",
      "    matplotlib-base-3.4.2      |   py37h8b3ea08_0         5.5 MB\n",
      "    olefile-0.46               |           py37_0          49 KB\n",
      "    pillow-8.3.1               |   py37ha4cf6ea_0         607 KB\n",
      "    ------------------------------------------------------------\n",
      "                                           Total:         6.3 MB\n",
      "\n",
      "The following NEW packages will be INSTALLED:\n",
      "\n",
      "  brotli             pkgs/main/osx-64::brotli-1.0.9-hb1e8313_2\n",
      "  cycler             pkgs/main/osx-64::cycler-0.10.0-py37_0\n",
      "  fonttools          pkgs/main/noarch::fonttools-4.25.0-pyhd3eb1b0_0\n",
      "  freetype           pkgs/main/osx-64::freetype-2.10.4-ha233b18_0\n",
      "  jpeg               pkgs/main/osx-64::jpeg-9d-h9ed2024_0\n",
      "  kiwisolver         pkgs/main/osx-64::kiwisolver-1.3.1-py37h23ab428_0\n",
      "  lcms2              pkgs/main/osx-64::lcms2-2.12-hf1fd2bf_0\n",
      "  libpng             pkgs/main/osx-64::libpng-1.6.37-ha441bb4_0\n",
      "  libtiff            pkgs/main/osx-64::libtiff-4.2.0-h87d7836_0\n",
      "  libwebp-base       pkgs/main/osx-64::libwebp-base-1.2.0-h9ed2024_0\n",
      "  lz4-c              pkgs/main/osx-64::lz4-c-1.9.3-h23ab428_1\n",
      "  matplotlib         pkgs/main/osx-64::matplotlib-3.4.2-py37hecd8cb5_0\n",
      "  matplotlib-base    pkgs/main/osx-64::matplotlib-base-3.4.2-py37h8b3ea08_0\n",
      "  munkres            pkgs/main/noarch::munkres-1.1.4-py_0\n",
      "  olefile            pkgs/main/osx-64::olefile-0.46-py37_0\n",
      "  openjpeg           pkgs/main/osx-64::openjpeg-2.4.0-h66ea3da_0\n",
      "  pillow             pkgs/main/osx-64::pillow-8.3.1-py37ha4cf6ea_0\n",
      "  pyparsing          pkgs/main/noarch::pyparsing-2.4.7-pyhd3eb1b0_0\n",
      "  zstd               pkgs/main/osx-64::zstd-1.4.9-h322a384_0\n",
      "\n",
      "\n",
      "\n",
      "Downloading and Extracting Packages\n",
      "kiwisolver-1.3.1     | 52 KB     | ##################################### | 100% \n",
      "cycler-0.10.0        | 14 KB     | ##################################### | 100% \n",
      "olefile-0.46         | 49 KB     | ##################################### | 100% \n",
      "matplotlib-base-3.4. | 5.5 MB    | ##################################### | 100% \n",
      "matplotlib-3.4.2     | 26 KB     | ##################################### | 100% \n",
      "pillow-8.3.1         | 607 KB    | ##################################### | 100% \n",
      "Preparing transaction: done\n",
      "Verifying transaction: done\n",
      "Executing transaction: done\n",
      "\n",
      "Note: you may need to restart the kernel to use updated packages.\n"
     ]
    }
   ],
   "metadata": {}
  },
  {
   "cell_type": "code",
   "execution_count": 5,
   "source": [
    "conda install statsmodels"
   ],
   "outputs": [
    {
     "output_type": "stream",
     "name": "stdout",
     "text": [
      "Collecting package metadata (current_repodata.json): done\n",
      "Solving environment: done\n",
      "\n",
      "## Package Plan ##\n",
      "\n",
      "  environment location: /opt/anaconda3/envs/smm750\n",
      "\n",
      "  added / updated specs:\n",
      "    - statsmodels\n",
      "\n",
      "\n",
      "The following packages will be downloaded:\n",
      "\n",
      "    package                    |            build\n",
      "    ---------------------------|-----------------\n",
      "    patsy-0.5.2                |   py37hecd8cb5_0         268 KB\n",
      "    statsmodels-0.12.2         |   py37h9ed2024_0         8.2 MB\n",
      "    ------------------------------------------------------------\n",
      "                                           Total:         8.4 MB\n",
      "\n",
      "The following NEW packages will be INSTALLED:\n",
      "\n",
      "  patsy              pkgs/main/osx-64::patsy-0.5.2-py37hecd8cb5_0\n",
      "  statsmodels        pkgs/main/osx-64::statsmodels-0.12.2-py37h9ed2024_0\n",
      "\n",
      "\n",
      "\n",
      "Downloading and Extracting Packages\n",
      "patsy-0.5.2          | 268 KB    | ##################################### | 100% \n",
      "statsmodels-0.12.2   | 8.2 MB    | ##################################### | 100% \n",
      "Preparing transaction: done\n",
      "Verifying transaction: done\n",
      "Executing transaction: done\n",
      "\n",
      "Note: you may need to restart the kernel to use updated packages.\n"
     ]
    }
   ],
   "metadata": {}
  },
  {
   "cell_type": "code",
   "execution_count": 6,
   "source": [
    "conda install seaborn"
   ],
   "outputs": [
    {
     "output_type": "stream",
     "name": "stdout",
     "text": [
      "Collecting package metadata (current_repodata.json): done\n",
      "Solving environment: done\n",
      "\n",
      "## Package Plan ##\n",
      "\n",
      "  environment location: /opt/anaconda3/envs/smm750\n",
      "\n",
      "  added / updated specs:\n",
      "    - seaborn\n",
      "\n",
      "\n",
      "The following NEW packages will be INSTALLED:\n",
      "\n",
      "  seaborn            pkgs/main/noarch::seaborn-0.11.2-pyhd3eb1b0_0\n",
      "\n",
      "\n",
      "Preparing transaction: done\n",
      "Verifying transaction: done\n",
      "Executing transaction: done\n",
      "\n",
      "Note: you may need to restart the kernel to use updated packages.\n"
     ]
    }
   ],
   "metadata": {}
  },
  {
   "cell_type": "code",
   "execution_count": 7,
   "source": [
    "conda install scikit-learn"
   ],
   "outputs": [
    {
     "output_type": "stream",
     "name": "stdout",
     "text": [
      "Collecting package metadata (current_repodata.json): done\n",
      "Solving environment: done\n",
      "\n",
      "## Package Plan ##\n",
      "\n",
      "  environment location: /opt/anaconda3/envs/smm750\n",
      "\n",
      "  added / updated specs:\n",
      "    - scikit-learn\n",
      "\n",
      "\n",
      "The following packages will be downloaded:\n",
      "\n",
      "    package                    |            build\n",
      "    ---------------------------|-----------------\n",
      "    scikit-learn-0.24.2        |   py37hb2f4e1b_0         4.8 MB\n",
      "    ------------------------------------------------------------\n",
      "                                           Total:         4.8 MB\n",
      "\n",
      "The following NEW packages will be INSTALLED:\n",
      "\n",
      "  joblib             pkgs/main/noarch::joblib-1.0.1-pyhd3eb1b0_0\n",
      "  llvm-openmp        pkgs/main/osx-64::llvm-openmp-12.0.0-h0dcd299_1\n",
      "  scikit-learn       pkgs/main/osx-64::scikit-learn-0.24.2-py37hb2f4e1b_0\n",
      "  threadpoolctl      pkgs/main/noarch::threadpoolctl-2.2.0-pyh0d69192_0\n",
      "\n",
      "\n",
      "\n",
      "Downloading and Extracting Packages\n",
      "scikit-learn-0.24.2  | 4.8 MB    | ##################################### | 100% \n",
      "Preparing transaction: done\n",
      "Verifying transaction: done\n",
      "Executing transaction: \\ \n",
      "\n",
      "    Installed package of scikit-learn can be accelerated using scikit-learn-intelex.\n",
      "    More details are available here: https://intel.github.io/scikit-learn-intelex\n",
      "\n",
      "    For example:\n",
      "\n",
      "        $ conda install scikit-learn-intelex\n",
      "        $ python -m sklearnex my_application.py\n",
      "\n",
      "    \n",
      "\n",
      "done\n",
      "\n",
      "Note: you may need to restart the kernel to use updated packages.\n"
     ]
    }
   ],
   "metadata": {}
  },
  {
   "cell_type": "code",
   "execution_count": 8,
   "source": [
    "conda install graphviz"
   ],
   "outputs": [
    {
     "output_type": "stream",
     "name": "stdout",
     "text": [
      "Collecting package metadata (current_repodata.json): done\n",
      "Solving environment: failed with initial frozen solve. Retrying with flexible solve.\n",
      "Solving environment: failed with repodata from current_repodata.json, will retry with next repodata source.\n",
      "Collecting package metadata (repodata.json): done\n",
      "Solving environment: failed with initial frozen solve. Retrying with flexible solve.\n",
      "Solving environment: done\n",
      "\n",
      "## Package Plan ##\n",
      "\n",
      "  environment location: /opt/anaconda3/envs/smm750\n",
      "\n",
      "  added / updated specs:\n",
      "    - graphviz\n",
      "\n",
      "\n",
      "The following packages will be downloaded:\n",
      "\n",
      "    package                    |            build\n",
      "    ---------------------------|-----------------\n",
      "    graphviz-2.40.1            |       hefbbd9a_2         6.3 MB\n",
      "    harfbuzz-1.8.8             |       hb8d4a28_0         414 KB\n",
      "    pango-1.42.4               |       h7e27002_1         456 KB\n",
      "    python-3.7.7               |hc70fcce_0_cpython        19.8 MB\n",
      "    ------------------------------------------------------------\n",
      "                                           Total:        26.9 MB\n",
      "\n",
      "The following NEW packages will be INSTALLED:\n",
      "\n",
      "  cairo              pkgs/main/osx-64::cairo-1.14.12-hc4e6be7_4\n",
      "  expat              pkgs/main/osx-64::expat-2.4.1-h23ab428_2\n",
      "  fontconfig         pkgs/main/osx-64::fontconfig-2.13.1-ha9ee91d_0\n",
      "  fribidi            pkgs/main/osx-64::fribidi-1.0.10-haf1e3a3_0\n",
      "  gettext            pkgs/main/osx-64::gettext-0.21.0-h7535e17_0\n",
      "  glib               pkgs/main/osx-64::glib-2.63.1-hd977a24_0\n",
      "  graphite2          pkgs/main/osx-64::graphite2-1.3.14-h38d11af_0\n",
      "  graphviz           pkgs/main/osx-64::graphviz-2.40.1-hefbbd9a_2\n",
      "  harfbuzz           pkgs/main/osx-64::harfbuzz-1.8.8-hb8d4a28_0\n",
      "  icu                pkgs/main/osx-64::icu-58.2-h0a44026_3\n",
      "  libiconv           pkgs/main/osx-64::libiconv-1.16-h1de35cc_0\n",
      "  libxml2            pkgs/main/osx-64::libxml2-2.9.12-hcdb78fc_0\n",
      "  pango              pkgs/main/osx-64::pango-1.42.4-h7e27002_1\n",
      "  pcre               pkgs/main/osx-64::pcre-8.45-h23ab428_0\n",
      "  pixman             pkgs/main/osx-64::pixman-0.40.0-h9ed2024_1\n",
      "\n",
      "The following packages will be DOWNGRADED:\n",
      "\n",
      "  libffi                                     3.3-hb1e8313_2 --> 3.2.1-h0a44026_1007\n",
      "  python                                  3.7.11-h88f2d9e_0 --> 3.7.7-hc70fcce_0_cpython\n",
      "\n",
      "\n",
      "\n",
      "Downloading and Extracting Packages\n",
      "pango-1.42.4         | 456 KB    | ##################################### | 100% \n",
      "graphviz-2.40.1      | 6.3 MB    | ##################################### | 100% \n",
      "python-3.7.7         | 19.8 MB   | ##################################### | 100% \n",
      "harfbuzz-1.8.8       | 414 KB    | ##################################### | 100% \n",
      "Preparing transaction: done\n",
      "Verifying transaction: done\n",
      "Executing transaction: done\n",
      "\n",
      "Note: you may need to restart the kernel to use updated packages.\n"
     ]
    }
   ],
   "metadata": {}
  },
  {
   "cell_type": "code",
   "execution_count": 9,
   "source": [
    "conda install python-graphviz"
   ],
   "outputs": [
    {
     "output_type": "stream",
     "name": "stdout",
     "text": [
      "\n",
      "Note: you may need to restart the kernel to use updated packages.\n"
     ]
    }
   ],
   "metadata": {}
  },
  {
   "cell_type": "code",
   "execution_count": 10,
   "source": [
    "pip install pygal_maps_world "
   ],
   "outputs": [
    {
     "output_type": "stream",
     "name": "stdout",
     "text": [
      "Note: you may need to restart the kernel to use updated packages.\n"
     ]
    }
   ],
   "metadata": {}
  },
  {
   "cell_type": "code",
   "execution_count": 11,
   "source": [
    "pip install tweepy"
   ],
   "outputs": [
    {
     "output_type": "stream",
     "name": "stdout",
     "text": [
      "Note: you may need to restart the kernel to use updated packages.\n"
     ]
    }
   ],
   "metadata": {}
  },
  {
   "cell_type": "code",
   "execution_count": 12,
   "source": [
    "pip install beautifulsoup4"
   ],
   "outputs": [
    {
     "output_type": "stream",
     "name": "stdout",
     "text": [
      "Note: you may need to restart the kernel to use updated packages.\n"
     ]
    }
   ],
   "metadata": {}
  },
  {
   "cell_type": "code",
   "execution_count": 13,
   "source": [
    "pip install requests"
   ],
   "outputs": [
    {
     "output_type": "stream",
     "name": "stdout",
     "text": [
      "Note: you may need to restart the kernel to use updated packages.\n"
     ]
    }
   ],
   "metadata": {}
  },
  {
   "cell_type": "code",
   "execution_count": 14,
   "source": [
    "pip install splash"
   ],
   "outputs": [
    {
     "output_type": "stream",
     "name": "stdout",
     "text": [
      "Note: you may need to restart the kernel to use updated packages.\n"
     ]
    }
   ],
   "metadata": {}
  },
  {
   "cell_type": "code",
   "execution_count": 15,
   "source": [
    "pip install scrapy"
   ],
   "outputs": [
    {
     "output_type": "stream",
     "name": "stdout",
     "text": [
      "Note: you may need to restart the kernel to use updated packages.\n"
     ]
    }
   ],
   "metadata": {}
  },
  {
   "cell_type": "code",
   "execution_count": 16,
   "source": [
    "pip install scrapy-splash"
   ],
   "outputs": [
    {
     "output_type": "stream",
     "name": "stdout",
     "text": [
      "Note: you may need to restart the kernel to use updated packages.\n"
     ]
    }
   ],
   "metadata": {}
  },
  {
   "cell_type": "code",
   "execution_count": 17,
   "source": [
    "pip install nltk"
   ],
   "outputs": [
    {
     "output_type": "stream",
     "name": "stdout",
     "text": [
      "Note: you may need to restart the kernel to use updated packages.\n"
     ]
    }
   ],
   "metadata": {}
  },
  {
   "cell_type": "code",
   "execution_count": 18,
   "source": [
    "pip install praw"
   ],
   "outputs": [
    {
     "output_type": "stream",
     "name": "stdout",
     "text": [
      "Note: you may need to restart the kernel to use updated packages.\n"
     ]
    }
   ],
   "metadata": {}
  },
  {
   "cell_type": "code",
   "execution_count": 19,
   "source": [
    "pip install pytrends"
   ],
   "outputs": [
    {
     "output_type": "stream",
     "name": "stdout",
     "text": [
      "Note: you may need to restart the kernel to use updated packages.\n"
     ]
    }
   ],
   "metadata": {}
  },
  {
   "cell_type": "code",
   "execution_count": 20,
   "source": [
    "pip install selenium"
   ],
   "outputs": [
    {
     "output_type": "stream",
     "name": "stdout",
     "text": [
      "Note: you may need to restart the kernel to use updated packages.\n"
     ]
    }
   ],
   "metadata": {}
  },
  {
   "cell_type": "markdown",
   "source": [
    "# 1. Preambles in a Jupyter Notebook\n",
    "\n",
    "Python is a pretty \"basic\" shell. It contains for example commands to do basic arithmetic and basic data structures (such as lists). To complement the existing functionalities provided by Python, we install **packages**. For any package we wish to use in a notebook, we first need to import it, often renaming it in the process to make it shorter to type out. \n",
    "\n",
    "You don't need to know what each package does exactly but it can be useful to have a high-level idea: the ones we use in this session are numpy (specializes in **arrays** which are ways of storing data) and pandas (specializes in **dataframes** which again are a way of storing data)."
   ],
   "metadata": {}
  },
  {
   "cell_type": "code",
   "execution_count": 1,
   "source": [
    "import numpy as np\n",
    "import pandas as pd"
   ],
   "outputs": [],
   "metadata": {}
  },
  {
   "cell_type": "markdown",
   "source": [
    "In general, in preambles of the notebooks I give you, there is also a part that reads in the data that we are going to use throughout the lecture. We will see how we \"read in\" data later on."
   ],
   "metadata": {}
  },
  {
   "cell_type": "markdown",
   "source": [
    "# 2. Print, variable assignment and types, basic operations, lists\n",
    "\n",
    "All of the concepts we see here should be easy and immediate for you in the long-run (i.e., you should be so familiar with them that you don't need any googling or help using them). \n",
    "\n",
    "## 1. Printing\n",
    "\n",
    "The \"print\" command enables us to \"see\" what is going on in the background. We use it in this way: `print(\"Hello World!\")`. Try it out!"
   ],
   "metadata": {}
  },
  {
   "cell_type": "code",
   "execution_count": 2,
   "source": [
    "print(\"hello world\")"
   ],
   "outputs": [
    {
     "output_type": "stream",
     "name": "stdout",
     "text": [
      "hello world\n"
     ]
    }
   ],
   "metadata": {}
  },
  {
   "cell_type": "markdown",
   "source": [
    "Note that you can get round using `print` if you just type `Hello World!` e.g. Try it out!"
   ],
   "metadata": {}
  },
  {
   "cell_type": "code",
   "execution_count": null,
   "source": [],
   "outputs": [],
   "metadata": {}
  },
  {
   "cell_type": "markdown",
   "source": [
    "This only works for the last command you type in though. If you type ` \"Hello World!\"` and then, in the same block, `\"My name is...\"`, only the last one appears. Try it out! This is where `print` is particularly useful."
   ],
   "metadata": {}
  },
  {
   "cell_type": "code",
   "execution_count": null,
   "source": [],
   "outputs": [],
   "metadata": {}
  },
  {
   "cell_type": "markdown",
   "source": [
    "## 2. Variable Assignment and Types\n",
    "\n",
    "It is very useful to know how to store information into a variable. For example, if the price of a good is 28.75 euros and I don't want to keep remembering this number, I can simply write `p=28.75` and then call `p` throughout. This is known as *variable assignment*: we assign to the variable p the value 28.75. \n",
    "\n",
    "Try assigning the integer 104 to the variable `number`. Then print out `number`."
   ],
   "metadata": {}
  },
  {
   "cell_type": "code",
   "execution_count": null,
   "source": [],
   "outputs": [],
   "metadata": {}
  },
  {
   "cell_type": "markdown",
   "source": [
    "To organize things, Python classifies information into categories and then handles these categories differently. There are many categories but we just focus on three: integers (such as 104), floats (you can view these as decimal numbers), and strings (which are text based). For Python to recognize these categories, you don't have to do much except input your information correctly. You can use `type` to see what this gives you. For example:"
   ],
   "metadata": {}
  },
  {
   "cell_type": "code",
   "execution_count": null,
   "source": [
    "number=104\n",
    "type(number)"
   ],
   "outputs": [],
   "metadata": {}
  },
  {
   "cell_type": "markdown",
   "source": [
    "Now pick your favorite float and string, assign them to some variables and print out their type!"
   ],
   "metadata": {}
  },
  {
   "cell_type": "code",
   "execution_count": null,
   "source": [],
   "outputs": [],
   "metadata": {}
  },
  {
   "cell_type": "markdown",
   "source": [
    "## 3. Basic operations\n",
    "\n",
    "These are the basic arithmetic operations that you may have to conduct: they include `+` for addition, `-` for substraction, `*` for multiplication, `/` for division and `**` for powers. \n",
    "\n",
    "Our first exercise is to take any temperature in Celsius and conver it to Fahrenheit. For example, $0^\\circ C \\cdot 9/5+32= 32^\\circ F$. How much is $15^\\circ$ Celsius in Fahrenheit?"
   ],
   "metadata": {}
  },
  {
   "cell_type": "code",
   "execution_count": null,
   "source": [],
   "outputs": [],
   "metadata": {
    "scrolled": true
   }
  },
  {
   "cell_type": "markdown",
   "source": [
    "Compute the area of a circle of radius 3. (Reminder: $A=\\pi R^2$ and use `np.pi` for $\\pi$.)"
   ],
   "metadata": {}
  },
  {
   "cell_type": "code",
   "execution_count": null,
   "source": [],
   "outputs": [],
   "metadata": {}
  },
  {
   "cell_type": "markdown",
   "source": [
    "The `%` operation gives the remainder of a division: try `10%2` versus `11%2`."
   ],
   "metadata": {}
  },
  {
   "cell_type": "code",
   "execution_count": null,
   "source": [],
   "outputs": [],
   "metadata": {}
  },
  {
   "cell_type": "code",
   "execution_count": null,
   "source": [],
   "outputs": [],
   "metadata": {}
  },
  {
   "cell_type": "markdown",
   "source": [
    "## 4. Lists\n",
    "\n",
    "These are the most basic data structures one can encounter in Python. Defining a list L can look something like this `L=[1,2,3]`. A list can take as an entry any type of variable (strings, floats, integers). It can also be taken to be empty if the goal is just to add to it later `L=[]`.\n",
    "\n",
    "Create a list L that contains: your first name, your last name, your age. Print it out."
   ],
   "metadata": {}
  },
  {
   "cell_type": "code",
   "execution_count": null,
   "source": [],
   "outputs": [],
   "metadata": {}
  },
  {
   "cell_type": "markdown",
   "source": [
    "Check that your list has size 3 by running `len()`."
   ],
   "metadata": {}
  },
  {
   "cell_type": "code",
   "execution_count": null,
   "source": [],
   "outputs": [],
   "metadata": {}
  },
  {
   "cell_type": "markdown",
   "source": [
    "Access the second element of your list using `L[1]`. Why is it not `L[2]`? How do I access the last two elements e.g.?"
   ],
   "metadata": {}
  },
  {
   "cell_type": "code",
   "execution_count": null,
   "source": [],
   "outputs": [],
   "metadata": {}
  },
  {
   "cell_type": "markdown",
   "source": [
    "Note that `L[-1]` gives access to the last element."
   ],
   "metadata": {}
  },
  {
   "cell_type": "code",
   "execution_count": null,
   "source": [],
   "outputs": [],
   "metadata": {}
  },
  {
   "cell_type": "markdown",
   "source": [
    "Change the first element of the list to your second name, or a name you would have liked to have if you don't have a second name. Use the assignment operator (`=`) to do this."
   ],
   "metadata": {}
  },
  {
   "cell_type": "code",
   "execution_count": null,
   "source": [],
   "outputs": [],
   "metadata": {}
  },
  {
   "cell_type": "markdown",
   "source": [
    "Using `.append` add your month of birth (as a string) to your list L."
   ],
   "metadata": {}
  },
  {
   "cell_type": "code",
   "execution_count": null,
   "source": [],
   "outputs": [],
   "metadata": {}
  },
  {
   "cell_type": "markdown",
   "source": [
    "Suppose I want to add two pieces of information to the list: the class name and number, i.e., I want to add `M=[\"DTVC\", 1]` to the existing list L. Try using `.append()` and `.extend()` to see how they are different. Which one should you use?"
   ],
   "metadata": {}
  },
  {
   "cell_type": "code",
   "execution_count": null,
   "source": [
    "L=[\"Philippe\",\"Blaettchen\",29]\n",
    "M=[\"DTVC\",1]\n",
    "L.append(M)\n",
    "L"
   ],
   "outputs": [],
   "metadata": {}
  },
  {
   "cell_type": "code",
   "execution_count": null,
   "source": [
    "L=[\"Philippe\",\"Blaettchen\",29]\n",
    "M=[\"DTVC\",1]\n",
    "L.extend(M)\n",
    "L"
   ],
   "outputs": [],
   "metadata": {}
  },
  {
   "cell_type": "markdown",
   "source": [
    "Note that `.append` and `.extend` modify the *original* list. If you want to create a new variable that contains L with M added on you would use the `+` operator thus:"
   ],
   "metadata": {}
  },
  {
   "cell_type": "code",
   "execution_count": null,
   "source": [
    "L=[\"Philippe\",\"Blaettchen\",29]\n",
    "M=[\"DTVC\",1]\n",
    "NewList=L+M\n",
    "print(NewList)"
   ],
   "outputs": [],
   "metadata": {}
  },
  {
   "cell_type": "markdown",
   "source": [
    "One last operator that might be useful for lists is the ability to count frequencies `.count`. Use `.count` to count the number of occurrences of 5 in the list below."
   ],
   "metadata": {}
  },
  {
   "cell_type": "code",
   "execution_count": null,
   "source": [
    "L=[1,2,4,2,4,5,1,5,0]"
   ],
   "outputs": [],
   "metadata": {}
  },
  {
   "cell_type": "code",
   "execution_count": null,
   "source": [],
   "outputs": [],
   "metadata": {}
  },
  {
   "cell_type": "markdown",
   "source": [
    "Similar functions that can be used are `.sort` which sorts the list for you, `.insert` which inserts an element at a specified index, and `.index` which returns the first index of appearance of a given item."
   ],
   "metadata": {}
  },
  {
   "cell_type": "markdown",
   "source": [
    "# 3. Conditions, if...then...else, and loops\n",
    "\n",
    "It can be very useful to be able to check whether a condition is verified or loop through a list. We give more examples now.\n",
    "\n",
    "## 1. Conditions\n",
    "\n",
    "The first condition is simply whether something is equal to something else. We use here `==`: when the left hand side of the double equality is equal to the right hand side, True is returned. Otherwise False is returned. Note that `==` and `=` mean fundamentally different things: `==` is about checking whether two things are the same, `=` assigns a value to whatever is on the left hand side. Note that not equal to is `!=`.\n",
    "\n",
    "Create a variable `x` equal to 2. Check using `==` whether `x` is equal to 2."
   ],
   "metadata": {}
  },
  {
   "cell_type": "code",
   "execution_count": null,
   "source": [],
   "outputs": [],
   "metadata": {}
  },
  {
   "cell_type": "markdown",
   "source": [
    "There are also the `and` and `or` operators. The `and` operator returns True if both conditions it links are true. The `or` operator returns True if at least one of the conditions is true.\n",
    "\n",
    "Try it out for yourself: define a variable `x` equal to `10`. Try both the `and` and `or` operators with conditions x is equal to 10 and x is greater than or equal to 15."
   ],
   "metadata": {}
  },
  {
   "cell_type": "code",
   "execution_count": null,
   "source": [],
   "outputs": [],
   "metadata": {}
  },
  {
   "cell_type": "code",
   "execution_count": null,
   "source": [],
   "outputs": [],
   "metadata": {}
  },
  {
   "cell_type": "markdown",
   "source": [
    "The final condition we see here is the condition `in` which checks whether a given element is in a given structure.\n",
    "Define the list `L=[3,4,5]` and the variable `x=3` then check whether x is in L. What happens if `x=1`?"
   ],
   "metadata": {}
  },
  {
   "cell_type": "code",
   "execution_count": null,
   "source": [],
   "outputs": [],
   "metadata": {}
  },
  {
   "cell_type": "markdown",
   "source": [
    "## 2. If...then..else\n",
    "\n",
    "We have seen how to check different conditions on variables. It may be useful sometimes to have some action based on the answer to the condition. This is codified in the if..then..else type routines: if [condition] is satisfied, then [do this], else [do this]. For example:"
   ],
   "metadata": {}
  },
  {
   "cell_type": "code",
   "execution_count": null,
   "source": [
    "name = \"John\"\n",
    "age = 23\n",
    "if name == \"John\" or age == 23:\n",
    "    print(\"Your name is John or you are 23 years old.\")\n",
    "\n",
    "else:\n",
    "    print(\"Your name mustn't be John\")"
   ],
   "outputs": [],
   "metadata": {}
  },
  {
   "cell_type": "markdown",
   "source": [
    "Two things are **crucial** here: the two dots at the end of if and else and the indentation. If you don't have the tabulation before print this code will not work. Try it out!"
   ],
   "metadata": {}
  },
  {
   "cell_type": "markdown",
   "source": [
    "Sometimes you may have many conditions to check, in which case you would use elif, in this way:"
   ],
   "metadata": {}
  },
  {
   "cell_type": "code",
   "execution_count": null,
   "source": [
    "name = \"John\"\n",
    "\n",
    "if name == \"Rachel\":\n",
    "    print(\"Your name is Rachel.\")\n",
    "\n",
    "elif name==\"John\":\n",
    "    print(\"Your name is John.\")\n",
    "\n",
    "else:\n",
    "    print(\"Your name mustn't be John, nor Rachel.\")"
   ],
   "outputs": [],
   "metadata": {}
  },
  {
   "cell_type": "markdown",
   "source": [
    "Your turn: create a list with a number of elements between 3 and 5. Then have an if...then...else type statement, which returns 3 if the list of elements has length 3, 4 if it has length 4, 5 if it has length 5, \"there is an error\" otherwise."
   ],
   "metadata": {}
  },
  {
   "cell_type": "code",
   "execution_count": null,
   "source": [],
   "outputs": [],
   "metadata": {}
  },
  {
   "cell_type": "markdown",
   "source": [
    "## 3. For loops\n",
    "\n",
    "For loops enable us to repeat an operation many times without typing it out at each iteration.\n",
    "\n",
    "For example, we can use it to sum over all possible items in a list:"
   ],
   "metadata": {}
  },
  {
   "cell_type": "code",
   "execution_count": null,
   "source": [
    "L=[2,5,10,4]\n",
    "sum_L=0\n",
    "\n",
    "for i in L:\n",
    "    sum_L=sum_L+i\n",
    "    \n",
    "print(sum_L)"
   ],
   "outputs": [],
   "metadata": {}
  },
  {
   "cell_type": "markdown",
   "source": [
    "The notion of `range` is very useful for for loops. Try the following code to understand what range does."
   ],
   "metadata": {}
  },
  {
   "cell_type": "code",
   "execution_count": null,
   "source": [
    "for i in range(10):\n",
    "    print(i)"
   ],
   "outputs": [],
   "metadata": {}
  },
  {
   "cell_type": "code",
   "execution_count": null,
   "source": [
    "for i in range(5,10):\n",
    "    print(i)"
   ],
   "outputs": [],
   "metadata": {}
  },
  {
   "cell_type": "code",
   "execution_count": null,
   "source": [
    "for i in range(0,10,2):\n",
    "    print(i)"
   ],
   "outputs": [],
   "metadata": {}
  },
  {
   "cell_type": "markdown",
   "source": [
    "How could we use `range`, `len(L)` to compute the sum of all elements in the list L above?"
   ],
   "metadata": {}
  },
  {
   "cell_type": "code",
   "execution_count": null,
   "source": [],
   "outputs": [],
   "metadata": {}
  },
  {
   "cell_type": "markdown",
   "source": [
    "One can also have a `while` clause: for example:"
   ],
   "metadata": {}
  },
  {
   "cell_type": "code",
   "execution_count": null,
   "source": [
    "count = 0\n",
    "while count < 5:\n",
    "    print(count)\n",
    "    count = count+1 "
   ],
   "outputs": [],
   "metadata": {}
  },
  {
   "cell_type": "markdown",
   "source": [
    "This means that while the condition `count<5` is satisfied, we keep executing the command. As soon as it stops being satisfied, we stop."
   ],
   "metadata": {}
  },
  {
   "cell_type": "markdown",
   "source": [
    "These for loops can be very useful to create lists. For example, if we want to create a list with all powers of 2 from 1 to 16, we can do so like this:"
   ],
   "metadata": {}
  },
  {
   "cell_type": "code",
   "execution_count": null,
   "source": [
    "List_powersof2=[]\n",
    "for i in range(0,5):\n",
    "    List_powersof2.append(2**i)\n",
    "\n",
    "print(List_powersof2)"
   ],
   "outputs": [],
   "metadata": {}
  },
  {
   "cell_type": "markdown",
   "source": [
    "Or even more simply:"
   ],
   "metadata": {}
  },
  {
   "cell_type": "code",
   "execution_count": null,
   "source": [
    "List_powersof2=[2**i for i in range(0,5)]\n",
    "print(List_powersof2)"
   ],
   "outputs": [],
   "metadata": {}
  },
  {
   "cell_type": "markdown",
   "source": [
    "We can even add conditions, e.g., if we want to remove 8 from the list."
   ],
   "metadata": {}
  },
  {
   "cell_type": "code",
   "execution_count": null,
   "source": [
    "List_powersof2=[2**i for i in range(0,5) if 2**i!=8]\n",
    "print(List_powersof2)"
   ],
   "outputs": [],
   "metadata": {}
  },
  {
   "cell_type": "markdown",
   "source": [
    "Your turn! Create a list with all the powers of 10 up to 100000 (included), removing 100."
   ],
   "metadata": {}
  },
  {
   "cell_type": "code",
   "execution_count": null,
   "source": [],
   "outputs": [],
   "metadata": {}
  },
  {
   "cell_type": "markdown",
   "source": [
    "# 4. Functions\n",
    "\n",
    "Functions are essentially like recipes for our computer: we only need to define an input, and we get back an output according to the rules of the recipe.\n",
    "\n",
    "Take, for example, the conversion from Fahrenheit to Celsius. Of course, we can look up and type the formula every time that we need to convert a temperature. But why not make our lives easier?\n",
    "\n",
    "Remember that $x^\\circ C \\cdot 9/5+32= y^\\circ F$. How much is are $15^\\circ C$, $25^\\circ C$, and $30^\\circ C$ in Fahrenheit? Lets start by defining a function that converts **any** temperature in Fahrenheit to the correct temperature in Celsius."
   ],
   "metadata": {}
  },
  {
   "cell_type": "code",
   "execution_count": null,
   "source": [
    "def celsius_to_fahrenheit(celsius):\n",
    "    fahrenheit = celsius * 9/5 + 32\n",
    "    return fahrenheit"
   ],
   "outputs": [],
   "metadata": {}
  },
  {
   "cell_type": "markdown",
   "source": [
    "That was easy! We just had to define the input, the recipe itself, and the output. Let's use it now!"
   ],
   "metadata": {}
  },
  {
   "cell_type": "code",
   "execution_count": null,
   "source": [
    "celsius_to_fahrenheit(15)"
   ],
   "outputs": [],
   "metadata": {}
  },
  {
   "cell_type": "markdown",
   "source": [
    "So far, so good. But what if we want to have all the temperatures converted? The key is that we don't have to redefine the formula, we just call it up. Try combining the function with a for-loop."
   ],
   "metadata": {}
  },
  {
   "cell_type": "code",
   "execution_count": null,
   "source": [],
   "outputs": [],
   "metadata": {}
  },
  {
   "cell_type": "markdown",
   "source": [
    "# 5. Data structures\n",
    "\n",
    "Data structures play a key role for us: we start with numpy arrays, then panda dataframes (which we will use heavily in the Machine Learning part of the course), and then dictionaries (which we use in Optimization)."
   ],
   "metadata": {}
  },
  {
   "cell_type": "markdown",
   "source": [
    "## 1. Numpy arrays\n",
    "\n",
    "Numpy arrays are an alternative to Python lists. As indicated by the name, they are part of the Numpy package. The advantages are that they are fast, easy to work with, and give users the opportunity to perform calculations across entire arrays. Note that elements of the array are accessed in exactly the same way as for lists.\n",
    "\n",
    "Generally, to create a numpy array, we first write a list and then specify that it is a numpy array. This of course requires the numpy package to be imported. For example:"
   ],
   "metadata": {}
  },
  {
   "cell_type": "code",
   "execution_count": null,
   "source": [
    "# Create 2 lists height and weight\n",
    "height = [1.67,  1.87, 1.82, 1.60, 1.73, 1.85]\n",
    "weight = [55, 100, 83, 91, 61, 70]\n",
    "\n",
    "# Create 2 numpy arrays from height and weight\n",
    "np_height = np.array(height)\n",
    "np_weight = np.array(weight)"
   ],
   "outputs": [],
   "metadata": {}
  },
  {
   "cell_type": "markdown",
   "source": [
    "Check what the type of `np_height` is."
   ],
   "metadata": {}
  },
  {
   "cell_type": "code",
   "execution_count": null,
   "source": [],
   "outputs": [],
   "metadata": {}
  },
  {
   "cell_type": "markdown",
   "source": [
    "Numpy arrays are useful for many things. First off, it is very easy to do computations with them. For example, if you want to create an array `bmi` that contains the BMI (given by $weight/height^2$) then this can easily be done by acting as if the arrays are just numbers. Try it out!"
   ],
   "metadata": {}
  },
  {
   "cell_type": "code",
   "execution_count": null,
   "source": [],
   "outputs": [],
   "metadata": {}
  },
  {
   "cell_type": "markdown",
   "source": [
    "Another very useful function is the ability to filter the array as needed. For example: healthy BMIs are between 18 and 25. We can select in the bmi list the bmis that match by doing simple conditioning. Note that for sets, and becomes `&` and or becomes `|`. Do not forget the parentheses!"
   ],
   "metadata": {}
  },
  {
   "cell_type": "code",
   "execution_count": null,
   "source": [
    "(bmi>=18) & (bmi<=25)"
   ],
   "outputs": [],
   "metadata": {}
  },
  {
   "cell_type": "markdown",
   "source": [
    "Do the same for all the BMI values that are *not* healthy (i.e., the values that are below 18 or above 25)."
   ],
   "metadata": {}
  },
  {
   "cell_type": "code",
   "execution_count": null,
   "source": [],
   "outputs": [],
   "metadata": {}
  },
  {
   "cell_type": "markdown",
   "source": [
    "This tells us which indexes satisfy (or don't) this condition. We can also get the actual values if we wish by doing the following:"
   ],
   "metadata": {}
  },
  {
   "cell_type": "code",
   "execution_count": null,
   "source": [
    "bmi[(bmi>=18) & (bmi<=25)]"
   ],
   "outputs": [],
   "metadata": {}
  },
  {
   "cell_type": "markdown",
   "source": [
    "These give us the values of the bmi that are healthy.\n",
    "\n",
    "Your turn: the list below corresponds to grades obtained in an MBA course. The students that obtained between 80 and 90 will get a B. Create a numpy array. Find which grades satisfy this condition. How many are there?"
   ],
   "metadata": {}
  },
  {
   "cell_type": "code",
   "execution_count": null,
   "source": [
    "Grades=[12,54,82,100,95,62,87,34,29,98,72,36,85,69,81,96]\n",
    "\n"
   ],
   "outputs": [],
   "metadata": {}
  },
  {
   "cell_type": "markdown",
   "source": [
    "You can easily construct arrays of ones and zeros by using the commands `np.zeros((1,5))` (which would give you an array of size $1\\times 5$ of zeros) and likewise `np.ones((1,5))` (which would give you an array of size $1\\times 5$)."
   ],
   "metadata": {}
  },
  {
   "cell_type": "code",
   "execution_count": null,
   "source": [
    "print(np.zeros((1,5)))\n",
    "print(np.ones((1,5)))"
   ],
   "outputs": [],
   "metadata": {}
  },
  {
   "cell_type": "markdown",
   "source": [
    " You can also construct arrays that contain a range by using `np.arange()`."
   ],
   "metadata": {}
  },
  {
   "cell_type": "code",
   "execution_count": null,
   "source": [
    "np.arange(20)"
   ],
   "outputs": [],
   "metadata": {}
  },
  {
   "cell_type": "markdown",
   "source": [
    "That you can then reshape as needed: say you want an array that has 4 rows and 5 columns, we could simply do the following:"
   ],
   "metadata": {}
  },
  {
   "cell_type": "code",
   "execution_count": null,
   "source": [
    "np.arange(20).reshape((4,5))"
   ],
   "outputs": [],
   "metadata": {}
  },
  {
   "cell_type": "markdown",
   "source": [
    "To obtain the shape of the array above, we use `shape`:"
   ],
   "metadata": {}
  },
  {
   "cell_type": "code",
   "execution_count": null,
   "source": [
    "np.arange(20).reshape((4,5)).shape"
   ],
   "outputs": [],
   "metadata": {}
  },
  {
   "cell_type": "markdown",
   "source": [
    "Your turn! Create a numpy array `A` using `np.arange(12)`. Reshape it so that it is of size (4,3). Then create another numpy area `B` using `np.ones(12)`and reshape it so that it is of size (4,3). Try `A+B`, `A*B`, `A.min()`, `A.min(axis=0)`, `A.min(axis=1)`. What happens everytime?"
   ],
   "metadata": {}
  },
  {
   "cell_type": "code",
   "execution_count": null,
   "source": [],
   "outputs": [],
   "metadata": {}
  },
  {
   "cell_type": "markdown",
   "source": [
    "Other functions such as `.max` `.cumsum`, `.sum` function in a similar fashion.\n",
    "\n",
    "Two important functions that we discuss now is `.all` and `.any`. They are also useful for dataframes. Do you understand what they're doing?"
   ],
   "metadata": {}
  },
  {
   "cell_type": "code",
   "execution_count": null,
   "source": [
    "(B==1).all()"
   ],
   "outputs": [],
   "metadata": {}
  },
  {
   "cell_type": "code",
   "execution_count": null,
   "source": [
    "(A==1).all()"
   ],
   "outputs": [],
   "metadata": {}
  },
  {
   "cell_type": "code",
   "execution_count": null,
   "source": [
    "(A==1).any()"
   ],
   "outputs": [],
   "metadata": {}
  },
  {
   "cell_type": "markdown",
   "source": [
    "## 2. Panda Dataframes\n",
    "\n",
    "This is an incredibly important type of data structure and one we will use almost exclusively in the machine learning lectures. We will most often read a dataframe from a .csv file (similar to those you can open in Excel). This will require us to use e.g., `Dataset=pd.read_csv(\"data.csv\")`. Here, we don't do this but use a pre-existing dataset from the seaborn plotting package as an example."
   ],
   "metadata": {}
  },
  {
   "cell_type": "code",
   "execution_count": null,
   "source": [
    "import seaborn as sns\n",
    "tips=sns.load_dataset(\"tips\")"
   ],
   "outputs": [],
   "metadata": {}
  },
  {
   "cell_type": "markdown",
   "source": [
    "The reason we use dataframes a lot is because they are formatted in a functional way (and so easy to read). What happens if you just type in `tips`?"
   ],
   "metadata": {}
  },
  {
   "cell_type": "code",
   "execution_count": null,
   "source": [],
   "outputs": [],
   "metadata": {}
  },
  {
   "cell_type": "markdown",
   "source": [
    "Take a look at the header of tips using `.head()`."
   ],
   "metadata": {}
  },
  {
   "cell_type": "code",
   "execution_count": null,
   "source": [],
   "outputs": [],
   "metadata": {}
  },
  {
   "cell_type": "markdown",
   "source": [
    "We can also create our own dataframe using a dictionary: we will briefly discuss this when we discuss dictionaries. We will rarely need to do this in our examples.\n",
    "\n",
    "Dataframes do not treat features (i.e., the columns) and observations (i.e., the rows) in the same way. For example to access column data (e.g., total_bill), it is quite easy. Accessing observations is a bit harder.\n",
    "\n",
    "Try `tips['total_bill']` and `tips[['total_bill']]`. What is the difference? It may be useful to use `type` to answer the question. We will use `tips[['total_bill']]` in general as this a datatype we master."
   ],
   "metadata": {}
  },
  {
   "cell_type": "code",
   "execution_count": null,
   "source": [],
   "outputs": [],
   "metadata": {}
  },
  {
   "cell_type": "code",
   "execution_count": null,
   "source": [],
   "outputs": [],
   "metadata": {}
  },
  {
   "cell_type": "code",
   "execution_count": null,
   "source": [],
   "outputs": [],
   "metadata": {}
  },
  {
   "cell_type": "markdown",
   "source": [
    "Try selecting two columns now, say `total_bill` and `smoker`."
   ],
   "metadata": {}
  },
  {
   "cell_type": "code",
   "execution_count": null,
   "source": [],
   "outputs": [],
   "metadata": {}
  },
  {
   "cell_type": "markdown",
   "source": [
    "To access observations, we use square brackets but with integers. For example `tips[0:5]` accesses the first 5 observations. How would you access observations 5 through 10?"
   ],
   "metadata": {}
  },
  {
   "cell_type": "code",
   "execution_count": null,
   "source": [
    "tips[0:5]"
   ],
   "outputs": [],
   "metadata": {}
  },
  {
   "cell_type": "code",
   "execution_count": null,
   "source": [],
   "outputs": [],
   "metadata": {}
  },
  {
   "cell_type": "markdown",
   "source": [
    "Sometimes it can be complicated to understand what the *index* of our dataframe is. We use `.index` for this. What do we get in this case? Do you find this surprising?"
   ],
   "metadata": {}
  },
  {
   "cell_type": "code",
   "execution_count": null,
   "source": [],
   "outputs": [],
   "metadata": {}
  },
  {
   "cell_type": "markdown",
   "source": [
    "Accessing one observation rather than a range (as done above) can be done using `.loc`: for example `tips.loc[[5]]`. This just returns the line indexed by 5. If you want to return the line corresponding to position 5, you would use `tips.iloc[[5]]`. The command `.loc` and `.iloc` can also be used for the columns. See the example below."
   ],
   "metadata": {}
  },
  {
   "cell_type": "code",
   "execution_count": null,
   "source": [
    "tips.loc[[5]]"
   ],
   "outputs": [],
   "metadata": {}
  },
  {
   "cell_type": "code",
   "execution_count": null,
   "source": [
    "tips.iloc[:,1:3]"
   ],
   "outputs": [],
   "metadata": {}
  },
  {
   "cell_type": "markdown",
   "source": [
    "Using `.loc` or `.iloc`, you can also select many different observations that are not necessarily contiguous, for example, try selecting rows indexed by 5 and 8 using a similar strategy to arrays."
   ],
   "metadata": {}
  },
  {
   "cell_type": "code",
   "execution_count": null,
   "source": [],
   "outputs": [],
   "metadata": {}
  },
  {
   "cell_type": "markdown",
   "source": [
    "You can also filter in a similar way as done for arrays: for example, if you only want to consider male tippers you would use:"
   ],
   "metadata": {}
  },
  {
   "cell_type": "code",
   "execution_count": null,
   "source": [
    "tips[tips[\"sex\"]==\"Male\"]"
   ],
   "outputs": [],
   "metadata": {}
  },
  {
   "cell_type": "markdown",
   "source": [
    "Your turn! Select the rows that correspond to the size of the party being larger or equal to 4."
   ],
   "metadata": {}
  },
  {
   "cell_type": "code",
   "execution_count": null,
   "source": [],
   "outputs": [],
   "metadata": {}
  },
  {
   "cell_type": "markdown",
   "source": [
    "Now, try using `tips.where(tips[\"sex\"]==\"Male\")`. What is the difference with the method used above?"
   ],
   "metadata": {}
  },
  {
   "cell_type": "code",
   "execution_count": null,
   "source": [],
   "outputs": [],
   "metadata": {}
  },
  {
   "cell_type": "markdown",
   "source": [
    "An important thing to know how to do is how to drop a column from a dataframe. This is done by using `.drop(columns=[\"name1\",\"name2\"])`. Drop the column \"time\" from the tips dataset."
   ],
   "metadata": {}
  },
  {
   "cell_type": "code",
   "execution_count": null,
   "source": [],
   "outputs": [],
   "metadata": {}
  },
  {
   "cell_type": "code",
   "execution_count": null,
   "source": [
    "tips.mean()"
   ],
   "outputs": [],
   "metadata": {}
  },
  {
   "cell_type": "markdown",
   "source": [
    "There are many, many different functions that can be applied to the dataset: `.describe()` is probably the most useful. We also have things such as `.max`, `.min`, `.median`, etc. Try them out!"
   ],
   "metadata": {}
  },
  {
   "cell_type": "code",
   "execution_count": null,
   "source": [],
   "outputs": [],
   "metadata": {}
  },
  {
   "cell_type": "code",
   "execution_count": null,
   "source": [],
   "outputs": [],
   "metadata": {}
  },
  {
   "cell_type": "code",
   "execution_count": null,
   "source": [],
   "outputs": [],
   "metadata": {}
  },
  {
   "cell_type": "markdown",
   "source": [
    "We review three last functions: `.join`, `.merge`, and `.groupby` which are both very useful. \n",
    "\n",
    "The functions `.join` and `.merge` are quite similar. We first look at `.join`. Run the following example: what is the code doing?"
   ],
   "metadata": {}
  },
  {
   "cell_type": "code",
   "execution_count": null,
   "source": [
    "df1 = pd.DataFrame({'lkey': ['foo', 'bar', 'baz', 'foo'],\n",
    "                    'value1': [1, 2, 3, 5]})\n",
    "df2 = pd.DataFrame({'rkey': ['foo', 'bar', 'baz', 'foo'],\n",
    "                    'value2': [5, 6, 7, 8]})\n",
    "df1.join(df2)\n",
    "#columns should have different names e.g. value1, value2 for join to work: they are joined based on common index.\n",
    "#note that the dataframe obtained has the same size as the two initial datasets"
   ],
   "outputs": [],
   "metadata": {}
  },
  {
   "cell_type": "code",
   "execution_count": null,
   "source": [
    "df1 = pd.DataFrame({'lkey': ['foo', 'bar', 'baz', 'foo'],\n",
    "                    'value': [1, 2, 3, 5]})\n",
    "df2 = pd.DataFrame({'rkey': ['foo', 'bar', 'baz', 'foo'],\n",
    "                    'value': [5, 6, 7, 8]})\n",
    "df1.merge(df2, left_on='lkey', right_on='rkey')\n",
    "#here, the values are merged based on the values of the dataset: as foo appears twice, we have 4 possible options."
   ],
   "outputs": [],
   "metadata": {}
  },
  {
   "cell_type": "markdown",
   "source": [
    "Don't get too caught up in this! Just know that they exist and refer back here if you ever need to use them to determine how you would do so.\n",
    "\n",
    "We now move onto `.groupby`. This enables us to simplify the datasets considerably by grouping together observations that present some similarities and then applying some operation to it."
   ],
   "metadata": {}
  },
  {
   "cell_type": "code",
   "execution_count": null,
   "source": [
    "tips.groupby([\"sex\"]).mean()"
   ],
   "outputs": [],
   "metadata": {}
  },
  {
   "cell_type": "markdown",
   "source": [
    "For example, we observe here that the total bill is generally higher when a man pays than when a woman does. How do the days of the week impact the total bill?"
   ],
   "metadata": {}
  },
  {
   "cell_type": "code",
   "execution_count": null,
   "source": [],
   "outputs": [],
   "metadata": {}
  },
  {
   "cell_type": "markdown",
   "source": [
    "Use `.groupby` and `.count` to find the most observed set-up of size of group and sex in the dataset."
   ],
   "metadata": {}
  },
  {
   "cell_type": "code",
   "execution_count": null,
   "source": [],
   "outputs": [],
   "metadata": {}
  },
  {
   "cell_type": "markdown",
   "source": [
    "## 3. Dictionaries\n",
    "\n",
    "Dictionaries are a default data storage type proposed by Python. They have the advantage of being very flexible with only the information we have present. They are hard to read however. Consider the following dictionary."
   ],
   "metadata": {}
  },
  {
   "cell_type": "code",
   "execution_count": null,
   "source": [
    "scientists={\"marie curie\":[\"radioactivity\",2], \"albert einstein\":[\"relativity\",1], \"isaac newton\":[\"gravity\"]}"
   ],
   "outputs": [],
   "metadata": {}
  },
  {
   "cell_type": "code",
   "execution_count": null,
   "source": [
    "scientists"
   ],
   "outputs": [],
   "metadata": {}
  },
  {
   "cell_type": "markdown",
   "source": [
    "The numbers here are the number of Nobel Prizes (only 4 people have ever received 2). Note that as Isaac Newton was born before Nobel prizes existed, he does not have any. This isn't a problem in dictionaries: we can have as much (or as little) information on one of the entries as possible (i.e., there can be a lot of variability between entries). In a dataframe, for example, this would have to be an empty entry, so we would waste room storing a useless entry.\n",
    "\n",
    "We will see that this is very useful for optimization. Try calling the \"marie curie\" entry in the dictionary. How would your proceed? Note that \"marie curie\", \"albert einstein\", \"isaac newton\" are what are called *keys*. We can call them by typing in `scientists.keys()`."
   ],
   "metadata": {}
  },
  {
   "cell_type": "code",
   "execution_count": null,
   "source": [],
   "outputs": [],
   "metadata": {}
  },
  {
   "cell_type": "code",
   "execution_count": null,
   "source": [],
   "outputs": [],
   "metadata": {}
  },
  {
   "cell_type": "markdown",
   "source": [
    "We can also use dictionaries to construct dataframes. We first construct a dictionary: `dict={'col1':[information], 'col2':[information]}`. We then use `pd.DataFrame(dict)` to obtain the corresponding dataframe.\n",
    "\n",
    "Construct a dictionary with columns \"capital\" and \"continent\" included. Populate these with the information on your favorite countries. Make this into a dataframe with the index being the countries' names."
   ],
   "metadata": {}
  },
  {
   "cell_type": "code",
   "execution_count": null,
   "source": [],
   "outputs": [],
   "metadata": {}
  },
  {
   "cell_type": "markdown",
   "source": [
    "# 6. Exercises *(Time-permitting or Homework)*"
   ],
   "metadata": {}
  },
  {
   "cell_type": "markdown",
   "source": [
    "## Exercise 1: \n",
    "\n",
    "Consider this list `L= [1, 4, 9, 16, 25, 36, 49, 64, 81, 100]`. Write a routine that takes this list and makes a new list that only has even elements of this list in it. (This can be done in one line.)"
   ],
   "metadata": {}
  },
  {
   "cell_type": "code",
   "execution_count": null,
   "source": [],
   "outputs": [],
   "metadata": {}
  },
  {
   "cell_type": "markdown",
   "source": [
    "## Exercise 2:\n",
    "\n",
    "1. Consider these two lists: `L1 = [1, 1, 2, 3, 5, 8, 13, 21, 34, 55, 89]` and `L2 = [1, 2, 3, 4, 5, 6, 7, 8, 9, 10, 11, 12, 13]`. Write a routine that returns a list that contains only the elements that are in common between the lists (possibly with duplicates). This can be done in one line of code. \n",
    "2. Write a routine that removes the duplicates from the list obtained (i.e., instead of `[1, 1, 2, 3, 5, 8, 13]` obtain `[1, 2, 3, 5, 8, 13]`). This can be done in 2 lines of code. *(Hard)*"
   ],
   "metadata": {}
  },
  {
   "cell_type": "code",
   "execution_count": null,
   "source": [],
   "outputs": [],
   "metadata": {}
  },
  {
   "cell_type": "code",
   "execution_count": null,
   "source": [],
   "outputs": [],
   "metadata": {}
  },
  {
   "cell_type": "markdown",
   "source": [
    "## Exercise 3\n",
    "\n",
    "1. Write a routine that takes this array `arr = np.array([0, 1, 2, 3, 4, 5, 6, 7, 8, 9])` as input and modifies it so that all odd numbers have been replaced with -1. This should take a line.\n",
    "2. How would you modify this routine so that you create a *new* array instead of just modifying `arr`? Hint: you may want to use the `np.where()` function which is similar to `.where()` for dataframes. Check out the documentation!"
   ],
   "metadata": {}
  },
  {
   "cell_type": "code",
   "execution_count": null,
   "source": [],
   "outputs": [],
   "metadata": {}
  },
  {
   "cell_type": "code",
   "execution_count": null,
   "source": [],
   "outputs": [],
   "metadata": {}
  },
  {
   "cell_type": "markdown",
   "source": [
    "## Exercise 4\n",
    "\n",
    "1. Given two arrays: `arr1=np.array([1,3,5])` and `arr2=np.array([2,4,5])`, stack them one on top of another to obtain `arr`. Use `.vstack` for this (see documentation).\n",
    "2. How can I call entry 6 in `arr`?"
   ],
   "metadata": {}
  },
  {
   "cell_type": "code",
   "execution_count": null,
   "source": [],
   "outputs": [],
   "metadata": {}
  },
  {
   "cell_type": "code",
   "execution_count": null,
   "source": [],
   "outputs": [],
   "metadata": {}
  },
  {
   "cell_type": "markdown",
   "source": [
    "## Exercise 5\n",
    "\n",
    "1. Using the `tips` dataframe from above, find the largest total tip left.\n",
    "2. Isolate the row/observation which this corresponds to. Hint: This is one of the rare times where we need to use `tips[\"total_bill\"]` rather than `tips[[\"total_bill\"]]`.\n",
    "3. For each day of the week, find the average total bill left."
   ],
   "metadata": {}
  },
  {
   "cell_type": "code",
   "execution_count": null,
   "source": [
    "import seaborn as sns\n",
    "tips=sns.load_dataset(\"tips\")\n"
   ],
   "outputs": [],
   "metadata": {}
  },
  {
   "cell_type": "code",
   "execution_count": null,
   "source": [],
   "outputs": [],
   "metadata": {}
  },
  {
   "cell_type": "code",
   "execution_count": null,
   "source": [],
   "outputs": [],
   "metadata": {}
  },
  {
   "cell_type": "code",
   "execution_count": null,
   "source": [],
   "outputs": [],
   "metadata": {}
  },
  {
   "cell_type": "code",
   "execution_count": null,
   "source": [],
   "outputs": [],
   "metadata": {}
  }
 ],
 "metadata": {
  "kernelspec": {
   "name": "python3",
   "display_name": "Python 3.7.11 64-bit ('smm750': conda)"
  },
  "language_info": {
   "name": "python",
   "version": "3.7.7",
   "mimetype": "text/x-python",
   "codemirror_mode": {
    "name": "ipython",
    "version": 3
   },
   "pygments_lexer": "ipython3",
   "nbconvert_exporter": "python",
   "file_extension": ".py"
  },
  "interpreter": {
   "hash": "f629333e1b46320084e8326c4621ad47c167cfc00211fa80b8c459f615c9621f"
  }
 },
 "nbformat": 4,
 "nbformat_minor": 4
}