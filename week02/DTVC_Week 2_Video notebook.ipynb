{
 "cells": [
  {
   "cell_type": "markdown",
   "id": "737094f2",
   "metadata": {},
   "source": [
    "# Part 1: TCP/IP in Python"
   ]
  },
  {
   "cell_type": "markdown",
   "id": "7282f948",
   "metadata": {},
   "source": [
    "## Connecting to a socket"
   ]
  },
  {
   "cell_type": "markdown",
   "id": "7e3ba374",
   "metadata": {},
   "source": [
    "As always, there is a Python package for what we need:"
   ]
  },
  {
   "cell_type": "code",
   "execution_count": 1,
   "id": "b7f54581",
   "metadata": {},
   "outputs": [],
   "source": [
    "import socket"
   ]
  },
  {
   "cell_type": "markdown",
   "id": "e8960d90",
   "metadata": {},
   "source": [
    "First, we create an endpoint (socket) inside our computer that's ready to connect to another socket (e.g., of a network server)"
   ]
  },
  {
   "cell_type": "code",
   "execution_count": null,
   "id": "b2dc52a4",
   "metadata": {},
   "outputs": [],
   "source": [
    "my_socket = socket.socket(socket.AF_INET, socket.SOCK_STREAM)"
   ]
  },
  {
   "cell_type": "markdown",
   "id": "b331cfc0",
   "metadata": {},
   "source": [
    "Next, we make the actual connection (using the `connect` method from the socket object). This is like dialling the phone, but we are not yet making conversation."
   ]
  },
  {
   "cell_type": "code",
   "execution_count": null,
   "id": "f6e5ea50",
   "metadata": {},
   "outputs": [],
   "source": [
    "my_socket.connect( ('docs.python.org', 80) )"
   ]
  },
  {
   "cell_type": "markdown",
   "id": "f69ed3c8",
   "metadata": {},
   "source": [
    "The input on the left is the \"Host\", the input on the right is the \"Port\".\n",
    "\n",
    "Note: when we are done, we should always close our socket."
   ]
  },
  {
   "cell_type": "code",
   "execution_count": null,
   "id": "645deed1",
   "metadata": {},
   "outputs": [],
   "source": [
    "my_socket.close()"
   ]
  },
  {
   "cell_type": "markdown",
   "id": "cd7b696a",
   "metadata": {},
   "source": [
    "## Making a GET request"
   ]
  },
  {
   "cell_type": "markdown",
   "id": "c6320001",
   "metadata": {},
   "source": [
    "If we were to deal with HTTP, we could simply run the below code (try it out! Note that 512 ensures that at most 512 bytes are received at once)."
   ]
  },
  {
   "cell_type": "code",
   "execution_count": null,
   "id": "c17903c1",
   "metadata": {},
   "outputs": [],
   "source": [
    "my_socket = socket.socket(socket.AF_INET, socket.SOCK_STREAM)\n",
    "my_socket.connect( ('docs.python.org', 80) )\n",
    "cmd = 'GET /3/installing/index.html HTTP/1.1'.encode()\n",
    "my_socket.send(cmd)\n",
    "print(my_socket.recv(512).decode())\n",
    "my_socket.close()"
   ]
  },
  {
   "cell_type": "markdown",
   "id": "9d2611f1",
   "metadata": {},
   "source": [
    "However, since we want to be using HTTPS, we need to do a bit more. But, as always, we don't want to reinvent the wheel. And in Python, a lot of wheels have been invented. So, instead of dealing with all the deatils of an HTTPS request, we make use of the very practical `requests` package (which works just as fine for a HTTP request). The beauty about `requests` is, that we don't even have to worry about the sockets in the first place!"
   ]
  },
  {
   "cell_type": "code",
   "execution_count": null,
   "id": "7f8779a4",
   "metadata": {},
   "outputs": [],
   "source": [
    "import requests\n",
    "\n",
    "url = \"https://docs.python.org/3/installing/index.html\"\n",
    "resp = requests.get(url)\n",
    "\n",
    "print(resp.status_code)"
   ]
  },
  {
   "cell_type": "markdown",
   "id": "18923364",
   "metadata": {},
   "source": [
    "The status code 200 indicates that everything is fine. We can, of course, also look at the header of the response, just as in the inspection module:"
   ]
  },
  {
   "cell_type": "code",
   "execution_count": null,
   "id": "b9e7fd8d",
   "metadata": {},
   "outputs": [],
   "source": [
    "print(resp.headers)"
   ]
  },
  {
   "cell_type": "markdown",
   "id": "662837de",
   "metadata": {},
   "source": [
    "Let's take a look at the actual response in raw form:"
   ]
  },
  {
   "cell_type": "code",
   "execution_count": null,
   "id": "1c69f294",
   "metadata": {},
   "outputs": [],
   "source": [
    "print(resp.content)"
   ]
  },
  {
   "cell_type": "markdown",
   "id": "befb78f1",
   "metadata": {},
   "source": [
    "Luckily, `requests` knows how to deal with this:"
   ]
  },
  {
   "cell_type": "code",
   "execution_count": null,
   "id": "148c656e",
   "metadata": {},
   "outputs": [],
   "source": [
    "print(resp.text)"
   ]
  },
  {
   "cell_type": "markdown",
   "id": "7d6cd46d",
   "metadata": {},
   "source": [
    "# Part 2: Retrieving and parsing web pages"
   ]
  },
  {
   "cell_type": "markdown",
   "id": "a3affe56",
   "metadata": {},
   "source": [
    "## Regular expressions"
   ]
  },
  {
   "cell_type": "markdown",
   "id": "b983334f",
   "metadata": {},
   "source": [
    "Start with a very simple example. Say we have a bunch of strings (e.g., from analyzing an email). We want to find the string corresponding to the the message sender. We can simply match with the keyword \"From\" (note, you can do the same with the `startswith()` method of string)."
   ]
  },
  {
   "cell_type": "code",
   "execution_count": null,
   "id": "a74bd135",
   "metadata": {},
   "outputs": [],
   "source": [
    "import re\n",
    "\n",
    "email = ['From: Philippe','To: Simone','Subject: MSc in BA','Content: Great students this year!']\n",
    "for line in email:\n",
    "    if re.search(\"From\",line):\n",
    "        print(line)"
   ]
  },
  {
   "cell_type": "markdown",
   "id": "bec9765c",
   "metadata": {},
   "source": [
    "Sometimes this is not good enough, however, and we need flexibility in our search. This is where regular expressions kick in: For example, when spellings differe."
   ]
  },
  {
   "cell_type": "code",
   "execution_count": null,
   "id": "c5933e0d",
   "metadata": {},
   "outputs": [],
   "source": [
    "email = ['FRAM: Philippe','To: Simone','Subject: MSc in BA','Content: Great students in 2017!']\n",
    "for line in email:\n",
    "    if re.search('F.+:',line):\n",
    "        print(line)"
   ]
  },
  {
   "cell_type": "markdown",
   "id": "94dbeb93",
   "metadata": {},
   "source": [
    "Another example would be when we are searching for a number, but we don't know the atual content:"
   ]
  },
  {
   "cell_type": "code",
   "execution_count": null,
   "id": "0d5c0fa9",
   "metadata": {},
   "outputs": [],
   "source": [
    "email = ['From: Philippe','To: Simone','Subject: MSc in BA','Content: Great students in 2021!']\n",
    "for line in email:\n",
    "    if re.search('2021',line):\n",
    "        print(line)"
   ]
  },
  {
   "cell_type": "markdown",
   "id": "7e7c4891",
   "metadata": {},
   "source": [
    "But what if we don't know the exact year, we only know that we want to read out the line if a year is mentioned?"
   ]
  },
  {
   "cell_type": "code",
   "execution_count": null,
   "id": "24aa8104",
   "metadata": {},
   "outputs": [],
   "source": [
    "email = ['From: Philippe','To: Simone','Subject: MSc in BA','Content: Great students in 2017!']\n",
    "for line in email:\n",
    "    if re.search('[0-9]+',line):\n",
    "        print(line)"
   ]
  },
  {
   "cell_type": "markdown",
   "id": "3aa22472",
   "metadata": {},
   "source": [
    "`re.search()` tells us whether a string matches with the given expression. `re.findall()` gives us back all occurences  matching to our search pattern:"
   ]
  },
  {
   "cell_type": "code",
   "execution_count": null,
   "id": "585fbcc5",
   "metadata": {},
   "outputs": [],
   "source": [
    "x = \"My 2 favorite numbers are 19 and 42\"\n",
    "y = re.findall('[0-9]+',x)\n",
    "print(y)"
   ]
  },
  {
   "cell_type": "markdown",
   "id": "815b1347",
   "metadata": {},
   "source": [
    "Note: this is a list of strings still!"
   ]
  },
  {
   "cell_type": "code",
   "execution_count": null,
   "id": "4ed66364",
   "metadata": {},
   "outputs": [],
   "source": [
    "y = re.findall('[AEIOU]+',x)\n",
    "print(y)"
   ]
  },
  {
   "cell_type": "markdown",
   "id": "75c0dd7e",
   "metadata": {},
   "source": [
    "This returned nothing, as there are no upper-case Vowels. But there is one upper-case letter:"
   ]
  },
  {
   "cell_type": "code",
   "execution_count": null,
   "id": "1b59f08b",
   "metadata": {},
   "outputs": [],
   "source": [
    "y = re.findall('[A-Z]+',x)\n",
    "print(y)"
   ]
  },
  {
   "cell_type": "markdown",
   "id": "0f511d5c",
   "metadata": {},
   "source": [
    "Let's now take a look at what part of the text we are returning:"
   ]
  },
  {
   "cell_type": "code",
   "execution_count": null,
   "id": "76d732cc",
   "metadata": {},
   "outputs": [],
   "source": [
    "y = re.findall('[0-9]+ and',x)\n",
    "print(y)"
   ]
  },
  {
   "cell_type": "markdown",
   "id": "ab981799",
   "metadata": {},
   "source": [
    "We might not want to actually return the \"and\", just use it as a marker."
   ]
  },
  {
   "cell_type": "code",
   "execution_count": null,
   "id": "a41ca08e",
   "metadata": {},
   "outputs": [],
   "source": [
    "y = re.findall('([0-9]+) and',x)\n",
    "print(y)"
   ]
  },
  {
   "cell_type": "markdown",
   "id": "bc85e722",
   "metadata": {},
   "source": [
    "Note that \"+\" asks for at least one matching character. In contrast, \"\\*\" asks for at least 0 characters."
   ]
  },
  {
   "cell_type": "code",
   "execution_count": null,
   "id": "4cb4e4d1",
   "metadata": {},
   "outputs": [],
   "source": [
    "y = re.findall('[0-9]*',x)\n",
    "print(y)"
   ]
  },
  {
   "cell_type": "markdown",
   "id": "2e0d0d25",
   "metadata": {},
   "source": [
    "An important thing to note about \"+\" and \"\\*\" is that they match in a \"greedy\" manner: they push outward in both directions to match the longest possible string. What do you expect in the next example?"
   ]
  },
  {
   "cell_type": "code",
   "execution_count": null,
   "id": "ed50538e",
   "metadata": {},
   "outputs": [],
   "source": [
    "x = 'From: Using the : character'\n",
    "y = re.findall('^F.+:',x)\n",
    "print(y)"
   ]
  },
  {
   "cell_type": "markdown",
   "id": "f8b1780a",
   "metadata": {},
   "source": [
    "In the above, *^* indicates that the first character should be an F. The last character needs to be *:*. There is two ways to do that - due to greedy matching, we will find the longest possible string! We can \"fix\" this behavior using *?*"
   ]
  },
  {
   "cell_type": "code",
   "execution_count": null,
   "id": "60567afd",
   "metadata": {},
   "outputs": [],
   "source": [
    "x = 'From: Using the : character'\n",
    "y = re.findall('^F.+?:',x)\n",
    "print(y)"
   ]
  },
  {
   "cell_type": "markdown",
   "id": "1001ab63",
   "metadata": {},
   "source": [
    "## Regular expressions to parse a webpage"
   ]
  },
  {
   "cell_type": "markdown",
   "id": "3f49b06c",
   "metadata": {},
   "source": [
    "A first attempt to find the links within all a-tags:"
   ]
  },
  {
   "cell_type": "code",
   "execution_count": null,
   "id": "7abebd5f",
   "metadata": {},
   "outputs": [],
   "source": [
    "import requests\n",
    "import re\n",
    "\n",
    "url = \"https://docs.python.org/3/installing/index.html\"\n",
    "resp = requests.get(url)\n",
    "\n",
    "x = resp.text\n",
    "y = re.findall('<a .+ href=\"(.+)\".*>',x)\n",
    "for s in y:\n",
    "    print(s)"
   ]
  },
  {
   "cell_type": "markdown",
   "id": "322a2bd3",
   "metadata": {},
   "source": [
    "Here we fell for the trap of the greedy matching process. Let's try to avoid this. Also, we don't want to collect links that refer to sections within the same page only (but we are fine with those that refer to sections in other sites)"
   ]
  },
  {
   "cell_type": "code",
   "execution_count": null,
   "id": "7893f7f8",
   "metadata": {},
   "outputs": [],
   "source": [
    "y = re.findall('<a .+ href=\"(.+?)\".*>',x)\n",
    "for s in y:\n",
    "    if not re.search(\"^#\",s):\n",
    "        print(s)"
   ]
  },
  {
   "cell_type": "markdown",
   "id": "4ead7b62",
   "metadata": {},
   "source": [
    "## BeautifulSoup"
   ]
  },
  {
   "cell_type": "markdown",
   "id": "45bda12a",
   "metadata": {},
   "source": [
    "You know the drill!"
   ]
  },
  {
   "cell_type": "code",
   "execution_count": null,
   "id": "d22ff895",
   "metadata": {},
   "outputs": [],
   "source": [
    "from bs4 import BeautifulSoup"
   ]
  },
  {
   "cell_type": "markdown",
   "id": "8d9d4c5e",
   "metadata": {},
   "source": [
    "BeautifulSoup automatically parses the input. We need to specify that we want an HTML parsing, as other options are possible, too."
   ]
  },
  {
   "cell_type": "code",
   "execution_count": null,
   "id": "472a1907",
   "metadata": {},
   "outputs": [],
   "source": [
    "soup = BeautifulSoup(x, 'html.parser')\n",
    "print(soup)"
   ]
  },
  {
   "cell_type": "markdown",
   "id": "3b72c0c3",
   "metadata": {},
   "source": [
    "Now, let's repeat the exercise from before, just that we are using BeautifulSoup:"
   ]
  },
  {
   "cell_type": "code",
   "execution_count": null,
   "id": "a30227d2",
   "metadata": {},
   "outputs": [],
   "source": [
    "tags = soup('a')\n",
    "for tag in tags:\n",
    "    print(tag.get('href'))"
   ]
  },
  {
   "cell_type": "markdown",
   "id": "65d59e34",
   "metadata": {},
   "source": [
    "Nevertheless, regular expressions still have their value, as we can see when eliminating links to setions on the same page:"
   ]
  },
  {
   "cell_type": "code",
   "execution_count": null,
   "id": "4a0262c4",
   "metadata": {},
   "outputs": [],
   "source": [
    "tags = soup('a')\n",
    "for tag in tags:\n",
    "    ref = tag.get('href')\n",
    "    if not re.search(\"^#\",ref):\n",
    "        print(ref)"
   ]
  },
  {
   "cell_type": "markdown",
   "id": "608bfbd2",
   "metadata": {},
   "source": [
    "# Part 3: Data representation on the web"
   ]
  },
  {
   "cell_type": "markdown",
   "id": "9768078d",
   "metadata": {},
   "source": [
    "## XML"
   ]
  },
  {
   "cell_type": "markdown",
   "id": "6a2793ec",
   "metadata": {},
   "source": [
    "There is, no surprises, an xml package. We only need some part of it, though:"
   ]
  },
  {
   "cell_type": "code",
   "execution_count": null,
   "id": "8d53a4de",
   "metadata": {},
   "outputs": [],
   "source": [
    "import xml.etree.ElementTree as ET"
   ]
  },
  {
   "cell_type": "markdown",
   "id": "e787e662",
   "metadata": {},
   "source": [
    "Let's take the example from the slides. We will use the `find()` method from an `ElementTree` object to get different tags.\n",
    "\n",
    "As a side note: ''' allows multi-line strings in Python which also include the linebreak."
   ]
  },
  {
   "cell_type": "code",
   "execution_count": null,
   "id": "01031baf",
   "metadata": {},
   "outputs": [],
   "source": [
    "data = '''<person>\n",
    "            <name>Philippe</name>\n",
    "            <phone type=\"intl\">\n",
    "              +44 736 1924\n",
    "            </phone>\n",
    "            <email hide=\"yes\"/>\n",
    "          </person>'''\n",
    "\n",
    "tree = ET.fromstring(data)\n",
    "print('Name:', tree.find('name').text)\n",
    "print('Attr:', tree.find('email').get('hide'))"
   ]
  },
  {
   "cell_type": "markdown",
   "id": "03910a9b",
   "metadata": {},
   "source": [
    "As we move down the tree, the expressions tend to get longer:"
   ]
  },
  {
   "cell_type": "code",
   "execution_count": null,
   "id": "ee73a3ee",
   "metadata": {},
   "outputs": [],
   "source": [
    "data = '''<teachers>\n",
    "            <teacher class=\"DV\">\n",
    "              <id>002</id>\n",
    "              <name>Simone</name>\n",
    "            </teacher>\n",
    "            <teacher class=\"DTVC\">\n",
    "              <id>005</id>\n",
    "              <name>Philippe</name>\n",
    "            </teacher>\n",
    "          </teachers>'''\n",
    "\n",
    "tree = ET.fromstring(data)\n",
    "teacher_list = tree.findall('teacher')\n",
    "print('Teacher count:', len(teacher_list))"
   ]
  },
  {
   "cell_type": "code",
   "execution_count": null,
   "id": "30722573",
   "metadata": {},
   "outputs": [],
   "source": [
    "for teacher in teacher_list:\n",
    "    print('Name:', teacher.find('name').text)\n",
    "    print('ID:', teacher.find('id').text)\n",
    "    print('Attr:', teacher.get('hide'))"
   ]
  },
  {
   "cell_type": "markdown",
   "id": "a0cb0531",
   "metadata": {},
   "source": [
    "Note here that `get('hide')` gave back `None`, as there is no such attribute."
   ]
  },
  {
   "cell_type": "markdown",
   "id": "4d5f1637",
   "metadata": {},
   "source": [
    "## JSON"
   ]
  },
  {
   "cell_type": "markdown",
   "id": "733a8f0a",
   "metadata": {},
   "source": [
    "By now, you should really expect there to be a `json` package:"
   ]
  },
  {
   "cell_type": "code",
   "execution_count": null,
   "id": "93979e4e",
   "metadata": {},
   "outputs": [],
   "source": [
    "import json"
   ]
  },
  {
   "cell_type": "code",
   "execution_count": null,
   "id": "2a6b0c5d",
   "metadata": {},
   "outputs": [],
   "source": [
    "data = '''\n",
    "{\n",
    "  \"name\" : \"Philippe\",\n",
    "  \"phone\" : {\n",
    "    \"type\" : \"intl\",\n",
    "    \"number\" : \"+44 736 1924\"\n",
    "   },\n",
    "   \"email\" : {\n",
    "     \"hide\" : \"yes\"\n",
    "   }\n",
    "}'''\n",
    "\n",
    "info = json.loads(data)"
   ]
  },
  {
   "cell_type": "markdown",
   "id": "0f9018a3",
   "metadata": {},
   "source": [
    "Note that it looks like Python dictionaries - including the curly brackets!\n",
    "In fact, what we get back really is a Python dictionary (of strings, other dicitionaries, and lists)"
   ]
  },
  {
   "cell_type": "code",
   "execution_count": null,
   "id": "8e0edd91",
   "metadata": {},
   "outputs": [],
   "source": [
    "print('Name:', info[\"name\"])\n",
    "print('Hide:', info[\"email\"][\"hide\"])"
   ]
  },
  {
   "cell_type": "markdown",
   "id": "15783f2c",
   "metadata": {},
   "source": [
    "In the case of a bigger JSON file, we also see the list aspect:"
   ]
  },
  {
   "cell_type": "code",
   "execution_count": null,
   "id": "c681968b",
   "metadata": {},
   "outputs": [],
   "source": [
    "teachers = '''\n",
    "[\n",
    "  { \"class\" : \"DV\",\n",
    "    \"person\" : {\n",
    "        \"id\" : \"002\",\n",
    "        \"name\" : \"Simone\"\n",
    "    }\n",
    "  } ,\n",
    "  { \"class\" : \"DTVC\",\n",
    "    \"person\" : {\n",
    "        \"id\" : \"005\",\n",
    "        \"name\" : \"Philippe\"\n",
    "    }\n",
    "  }\n",
    "]'''\n",
    "\n",
    "teacher_list = json.loads(teachers)\n",
    "print('Teacher count:', len(teacher_list))"
   ]
  },
  {
   "cell_type": "code",
   "execution_count": null,
   "id": "6768c18a",
   "metadata": {},
   "outputs": [],
   "source": [
    "for teacher in teacher_list:\n",
    "    print('Name', teacher['person']['name'])\n",
    "    print('Id', teacher['person']['id'])"
   ]
  },
  {
   "cell_type": "markdown",
   "id": "4e1d04cc",
   "metadata": {},
   "source": [
    "Note that we get the list of teachers directly, we don't have to generate it like in the case of XML."
   ]
  },
  {
   "cell_type": "code",
   "execution_count": null,
   "id": "a780cc72",
   "metadata": {},
   "outputs": [],
   "source": []
  }
 ],
 "metadata": {
  "interpreter": {
   "hash": "40d3a090f54c6569ab1632332b64b2c03c39dcf918b08424e98f38b5ae0af88f"
  },
  "kernelspec": {
   "display_name": "Python 3.8.2 64-bit ('base': conda)",
   "name": "python3"
  },
  "language_info": {
   "codemirror_mode": {
    "name": "ipython",
    "version": 3
   },
   "file_extension": ".py",
   "mimetype": "text/x-python",
   "name": "python",
   "nbconvert_exporter": "python",
   "pygments_lexer": "ipython3",
   "version": "3.8.2"
  }
 },
 "nbformat": 4,
 "nbformat_minor": 5
}
