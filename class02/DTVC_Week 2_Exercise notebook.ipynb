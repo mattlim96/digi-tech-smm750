{
 "cells": [
  {
   "cell_type": "markdown",
   "id": "897d6a28",
   "metadata": {},
   "source": [
    "# 1. Automatically scrape job postings of a competitor\n",
    "\n",
    "We will now see scraping in action. Imagine you are working in HR for a major retailer. Your boss asks you to monitor the strategic hiring decisions of your close competitors. Naturally, you cannot go and call them up - but you could take a look at their job postings to see ($i$) how much they are hiring, ($ii$) what types of positions they are hiring for.\n",
    "\n",
    "Now, you could log onto their website every day, see what job postings there are, compare that with the job postings from before, and save the relevant data. But why go through so much effort if we can just automate the task?"
   ]
  },
  {
   "cell_type": "markdown",
   "id": "3da075fd",
   "metadata": {},
   "source": [
    "## 1.1 A simple case - using BeautifulSoup"
   ]
  },
  {
   "cell_type": "markdown",
   "id": "cf8fb50f",
   "metadata": {},
   "source": [
    "The first example relies purely on what we have learned about BeautifulSoup and Requests (and a bit of Pandas!)."
   ]
  },
  {
   "cell_type": "code",
   "execution_count": 3,
   "id": "8d9ba464",
   "metadata": {},
   "outputs": [],
   "source": [
    "import requests\n",
    "from bs4 import BeautifulSoup\n",
    "import pandas as pd"
   ]
  },
  {
   "cell_type": "markdown",
   "id": "31bd6bf4",
   "metadata": {},
   "source": [
    "We are searching for positions in the head office of Aldi. On the website, we see that there are different types of head office positions, each with their own website. Let's get the links to those sub-sites."
   ]
  },
  {
   "cell_type": "code",
   "execution_count": 4,
   "id": "76ea542a",
   "metadata": {},
   "outputs": [
    {
     "name": "stdout",
     "output_type": "stream",
     "text": [
      "<!DOCTYPE html>\n",
      "\n",
      "<html lang=\"en\">\n",
      "<head>\n",
      "<meta charset=\"utf-8\"/>\n",
      "<meta content=\"IE=edge,chrome=1,IE=8\" http-equiv=\"X-UA-Compatible\"/>\n",
      "<meta content=\"width=device-width, initial-scale=1, maximum-scale=1, user-scalable=no\" name=\"viewport\"/>\n",
      "<meta content=\"yes\" name=\"mobile-web-app-capable\"/>\n",
      "<style>html{visibility: hidden;opacity:0;}</style>\n",
      "<link as=\"style\" href=\"/dist/css/screen.css?v=5\" rel=\"preload\"/>\n",
      "<link as=\"script\" href=\"/dist/js/commons.js?v=5\" rel=\"preload\"/>\n",
      "<link as=\"script\" href=\"/dist/js/main.js?v=5\" rel=\"preload\"/>\n",
      "<link href=\"https://cc.cdn.civiccomputing.com\" rel=\"preconnect\">\n",
      "<link href=\"https://apikeys.civiccomputing.com\" rel=\"preconnect\">\n",
      "<link href=\"https://www.google-analytics.com\" rel=\"preconnect\">\n",
      "<link href=\"https://www.googletagmanager.com\" rel=\"preconnect\"/>\n",
      "<link href=\"/dist/css/screen.css?v=5\" rel=\"stylesheet\" type=\"text/css\"/>\n",
      "<title>Head Office | Aldi Recruitment UK</title>\n",
      "<meta content=\"en_GB\" property=\"og:locale\">\n",
      "<meta content=\"website\" property=\"og:type\">\n",
      "<meta content=\"Head Office\" property=\"og:title\">\n",
      "<meta content=\"Aldi Recruitment UK\" property=\"og:site_name\">\n",
      "<meta content=\"https://www.aldirecruitment.co.uk/media/sgblfs43/aldi-logo.png\" property=\"og:image\"/>\n",
      "<meta content=\"Head Office\" property=\"twitter:title\"/>\n",
      "<!-- Google Tag Manager -->\n",
      "<script>\n",
      "\t(function(w,d,s,l,i){w[l]=w[l]||[];w[l].push({'gtm.start':\n",
      "\tnew Date().getTime(),event:'gtm.js'});var f=d.getElementsByTagName(s)[0],\n",
      "\tj=d.createElement(s),dl=l!='dataLayer'?'&l='+l:'';j.async=true;j.src=\n",
      "\t'https://www.googletagmanager.com/gtm.js?id='+i+dl;f.parentNode.insertBefore(j,f);\n",
      "\t})(window,document,'script','dataLayer','GTM-KLFTLX7');</script>\n",
      "<!-- End Google Tag Manager -->\n",
      "</meta></meta></meta></meta></link></link></link></head>\n",
      "<body>\n",
      "<header class=\"o-header\">\n",
      "<div class=\"c-header__container\">\n",
      "<a class=\"c-menu-open\" id=\"js-open-menu\">\n",
      "<img alt=\"Open menu\" src=\"/dist//images/hamburger.svg?v=5\"/>\n",
      "</a>\n",
      "<a href=\"/\"><img alt=\"Aldi UK\" class=\"c-logo\" src=\"/media/sgblfs43/aldi-logo.png\"/></a>\n",
      "<nav class=\"c-main-nav\" id=\"js-nav\">\n",
      "<a class=\"c-menu-close\" id=\"js-close-menu\">\n",
      "<img alt=\"Close menu\" src=\"/dist//images/close3.svg?v=5\"/>\n",
      "</a>\n",
      "<ul class=\"c-main-nav__menu\">\n",
      "<li class=\"c-main-nav__menu__item\"><a href=\"/\">Home </a></li>\n",
      "<li class=\"c-main-nav__menu__item\"><a href=\"/about-us/\">About Us</a></li>\n",
      "<li class=\"c-main-nav__menu__item c-main-nav__menu__item--subnav\">\n",
      "<a href=\"/stores/\">Stores<img src=\"/dist//images/right-chevron.svg?v=5\"/></a>\n",
      "<ul class=\"c-main-nav__menu__sub-menu\">\n",
      "<li class=\"c-main-nav__menu__sub-item\"><a href=\"/stores/\">About our Stores</a></li>\n",
      "<li class=\"c-main-nav__menu__sub-item\"><a href=\"/stores/store-manager/\">Store Manager</a></li>\n",
      "<li class=\"c-main-nav__menu__sub-item\"><a href=\"/stores/assistant-store-manager/\">Assistant Store Manager</a></li>\n",
      "<li class=\"c-main-nav__menu__sub-item\"><a href=\"/stores/deputy-store-manager/\">Deputy Store Manager</a></li>\n",
      "<li class=\"c-main-nav__menu__sub-item\"><a href=\"/stores/store-assistant/\">Store Assistant</a></li>\n",
      "<li class=\"c-main-nav__menu__sub-item\"><a href=\"/stores/stock-assistant/\">Stock Assistant</a></li>\n",
      "<li class=\"c-main-nav__menu__sub-item\"><a href=\"/stores/caretaker-cleaner/\">Caretaker/Cleaner</a></li>\n",
      "</ul>\n",
      "</li>\n",
      "<li class=\"c-main-nav__menu__item c-main-nav__menu__item--active\"><a href=\"/head-office/\">Head Office</a></li>\n",
      "<li class=\"c-main-nav__menu__item\"><a href=\"/warehouse-transport/\">Warehouse &amp; Transport</a></li>\n",
      "<li class=\"c-main-nav__menu__item c-main-nav__menu__item--subnav\">\n",
      "<a href=\"/area-manager-programme/\">Area Manager Programme<img src=\"/dist//images/right-chevron.svg?v=5\"/></a>\n",
      "<ul class=\"c-main-nav__menu__sub-menu\">\n",
      "<li class=\"c-main-nav__menu__sub-item\"><a href=\"/area-manager-programme/\">About our Area Manager Programme</a></li>\n",
      "<li class=\"c-main-nav__menu__sub-item\"><a href=\"/area-manager-programme/graduate-area-manager-programme/\">Graduate Area Manager Programme</a></li>\n",
      "<li class=\"c-main-nav__menu__sub-item\"><a href=\"/area-manager-programme/career-changers/\">Career Changers</a></li>\n",
      "</ul>\n",
      "</li>\n",
      "<li class=\"c-main-nav__menu__item\"><a href=\"/placement-programmes/\">Placement Programmes</a></li>\n",
      "<li class=\"c-main-nav__menu__item\"><a href=\"/apprenticeships/\">Apprenticeships</a></li>\n",
      "</ul>\n",
      "<div class=\"c-main-nav__mobile-links\" id=\"js-mobile-menu-foot\">\n",
      "<ul class=\"c-main-nav__mobile-links__links\">\n",
      "<li class=\"c-main-nav__mobile-links__item\"><a href=\"/contact-us/#contact-us\">Contact Us</a></li>\n",
      "<li class=\"c-main-nav__mobile-links__item\"><a href=\"/about-us/#equality-and-diversity\">Equal Opportunities</a></li>\n",
      "<li class=\"c-main-nav__mobile-links__item\"><a href=\"/about-us/#right-to-work\">Right to Work</a></li>\n",
      "<li class=\"c-main-nav__mobile-links__item\"><a href=\"https://www.aldi.co.uk/\" target=\"_blank\">Visit Aldi.co.uk</a></li>\n",
      "<li class=\"c-main-nav__mobile-links__item\"><a href=\"/privacy-notice-cookies/\">Privacy notice &amp; cookies</a></li>\n",
      "</ul>\n",
      "<span>Connect with us</span>\n",
      "<ul class=\"c-social\">\n",
      "<li class=\"c-social--icon\">\n",
      "<a href=\"https://www.facebook.com/AldiCareersUK\" rel=\"noopener\" target=\"_blank\">\n",
      "<img alt=\"Facebook\" src=\"/dist//images/facebook.svg?v=5\">\n",
      "</img></a>\n",
      "</li>\n",
      "<li class=\"c-social--icon\">\n",
      "<a href=\"https://www.youtube.com/user/AldiUK\" rel=\"noopener\" target=\"_blank\">\n",
      "<img alt=\"YouTube\" src=\"/dist//images/youtube.svg?v=5\">\n",
      "</img></a>\n",
      "</li>\n",
      "<li class=\"c-social--icon\">\n",
      "<a href=\"https://twitter.com/AldiCareersUK\" rel=\"noopener\" target=\"_blank\">\n",
      "<img alt=\"Twitter\" src=\"/dist//images/twitter.svg?v=5\">\n",
      "</img></a>\n",
      "</li>\n",
      "<li class=\"c-social--icon\">\n",
      "<a href=\"https://www.linkedin.com/company/aldi-uk\" rel=\"noopener\" target=\"_blank\">\n",
      "<img alt=\"LinkedIn\" src=\"/dist//images/linkedin.svg?v=5\">\n",
      "</img></a>\n",
      "</li>\n",
      "<li class=\"c-social--icon\">\n",
      "<a href=\"https://www.instagram.com/aldiCareersuk\" rel=\"noopener\" target=\"_blank\">\n",
      "<img alt=\"Instagram\" src=\"/dist//images/instagram.svg?v=5\">\n",
      "</img></a>\n",
      "</li>\n",
      "</ul>\n",
      "</div>\n",
      "</nav>\n",
      "<a class=\"c-job-search\" href=\"/job-search/\">Job search</a>\n",
      "</div>\n",
      "</header>\n",
      "<div class=\"o-content\">\n",
      "<!-- Google Tag Manager (noscript) -->\n",
      "<noscript>\n",
      "<iframe height=\"0\" src=\"https://www.googletagmanager.com/ns.html?id=GTM-KLFTLX7\" style=\"display:none;visibility:hidden\" width=\"0\"></iframe>\n",
      "</noscript>\n",
      "<!-- End Google Tag Manager (noscript) -->\n",
      "<div class=\"c-breadcrumbs\">\n",
      "<ul class=\"c-breadcrumb\" itemscope=\"\" itemtype=\"http://schema.org/BreadcrumbList\">\n",
      "<li class=\"c-breadcrumb__item\" itemprop=\"itemListElement\" itemscope=\"\" itemtype=\"http://schema.org/ListItem\">\n",
      "<a class=\"breadcrumbs__link\" href=\"/\"><span itemprop=\"name\">Home</span></a>\n",
      "<meta content=\"1\" itemprop=\"position\"/>\n",
      "</li>\n",
      "<li class=\"c-breadcrumb__item\" itemprop=\"itemListElement\" itemscope=\"\" itemtype=\"http://schema.org/ListItem\">\n",
      "<span class=\"breadcrumbs__link breadcrumbs__link--active\" itemprop=\"item\">\n",
      "<span itemprop=\"name\">Head Office</span>\n",
      "</span>\n",
      "<meta content=\"2\" itemprop=\"position\"/>\n",
      "</li>\n",
      "</ul>\n",
      "</div>\n",
      "<div class=\"c-carousel c-carousel--standard c-carousel--hero c-carousel--blue\">\n",
      "<div class=\"c-carousel__track\" data-glide-el=\"track\">\n",
      "<ul class=\"c-carousel__slides glide__slides\">\n",
      "<li class=\"c-carousel__slide c-carousel__slide--hero c-carousel__slide--active\" data-desktop=\"/media/u5ucvs34/desktop-carousels-head-office-2.jpg\" data-mobile=\"/media/u5ucvs34/desktop-carousels-head-office-2.jpg?crop=0.1425925925925926,0,0.58817663817663812,0&amp;cropmode=percentage&amp;width=360&amp;height=520&amp;rnd=132319487184370000\">\n",
      "<div class=\"c-carousel__hero-content c-carousel__hero-content--right\">\n",
      "<h1 class=\"c-carousel__hero-content__heading\">\n",
      "\t\t\t\t\t\t\t\tAldi Head Office\n",
      "\t\t\t\t\t\t\t</h1>\n",
      "<div class=\"c-carousel__hero-content__text-container c-carousel__hero-content__text-container--quote c-carousel__hero-content__text-container--big\">\n",
      "<span class=\"c-carousel__hero-content__text\">Aldi's an extraordinary business.</span>\n",
      "<span class=\"c-carousel__hero-content__text c-carousel__hero-content__text--bold\">You're trusted to think for yourself.</span>\n",
      "<a class=\"c-btn c-btn--primary\" href=\"/job-search/\">Job Search</a>\n",
      "</div>\n",
      "</div>\n",
      "</li>\n",
      "<li class=\"c-carousel__slide c-carousel__slide--hero\" data-desktop=\"/media/xd2h5yxe/desktop-carousels-head-office-3.jpg\" data-mobile=\"/media/xd2h5yxe/desktop-carousels-head-office-3.jpg?crop=0.47358024691358025,0,0.25718898385565048,0&amp;cropmode=percentage&amp;width=360&amp;height=520&amp;rnd=132319487185300000\">\n",
      "<div class=\"c-carousel__hero-content c-carousel__hero-content--left\">\n",
      "<h1 class=\"c-carousel__hero-content__heading\">\n",
      "\t\t\t\t\t\t\t\tAldi Head Office\n",
      "\t\t\t\t\t\t\t</h1>\n",
      "<div class=\"c-carousel__hero-content__text-container c-carousel__hero-content__text-container--quote c-carousel__hero-content__text-container--big\">\n",
      "<span class=\"c-carousel__hero-content__text\">You get to do far more here</span>\n",
      "<span class=\"c-carousel__hero-content__text c-carousel__hero-content__text--bold\">than you would anywhere else.</span>\n",
      "<a class=\"c-btn c-btn--primary\" href=\"/job-search/\">Job Search</a>\n",
      "</div>\n",
      "</div>\n",
      "</li>\n",
      "<li class=\"c-carousel__slide c-carousel__slide--hero\" data-desktop=\"/media/tr5b02hw/desktop-carousels-head-office-1.jpg\" data-mobile=\"/media/tr5b02hw/desktop-carousels-head-office-1.jpg?center=0.41572378797229648,0.68333333333333335&amp;mode=crop&amp;width=360&amp;height=520&amp;rnd=132319487183270000\">\n",
      "<div class=\"c-carousel__hero-content c-carousel__hero-content--left\">\n",
      "<h1 class=\"c-carousel__hero-content__heading\">\n",
      "\t\t\t\t\t\t\t\tAldi Head Office\n",
      "\t\t\t\t\t\t\t</h1>\n",
      "<div class=\"c-carousel__hero-content__text-container c-carousel__hero-content__text-container--quote c-carousel__hero-content__text-container--big\">\n",
      "<span class=\"c-carousel__hero-content__text\">We want to help Aldi grow. </span>\n",
      "<span class=\"c-carousel__hero-content__text c-carousel__hero-content__text--bold\">But make sure we give back.</span>\n",
      "<a class=\"c-btn c-btn--primary\" href=\"/job-search/\">Job Search</a>\n",
      "</div>\n",
      "</div>\n",
      "</li>\n",
      "</ul>\n",
      "</div>\n",
      "<div class=\"c-carousel__arrows\" data-glide-el=\"controls\">\n",
      "<button class=\"c-carousel__arrow c-carousel__arrow--hero c-carousel__arrow--left\" data-glide-dir=\"&lt;\"><svg enable-background=\"new 0 0 185.343 185.343\" version=\"1.1\" viewbox=\"0 0 185.34 185.34\" xml:space=\"preserve\" xmlns=\"http://www.w3.org/2000/svg\"><path d=\"m51.707 185.34c-2.741 0-5.493-1.044-7.593-3.149-4.194-4.194-4.194-10.981 0-15.175l74.352-74.347-74.352-74.352c-4.194-4.194-4.194-10.987 0-15.175 4.194-4.194 10.987-4.194 15.18 0l81.934 81.934c4.194 4.194 4.194 10.987 0 15.175l-81.934 81.939c-2.093 2.1-4.84 3.15-7.587 3.15z\" fill=\"#ffc800\"></path></svg></button>\n",
      "<button class=\"c-carousel__arrow c-carousel__arrow--hero c-carousel__arrow--right\" data-glide-dir=\"&gt;\"><svg enable-background=\"new 0 0 185.343 185.343\" version=\"1.1\" viewbox=\"0 0 185.34 185.34\" xml:space=\"preserve\" xmlns=\"http://www.w3.org/2000/svg\"><path d=\"m51.707 185.34c-2.741 0-5.493-1.044-7.593-3.149-4.194-4.194-4.194-10.981 0-15.175l74.352-74.347-74.352-74.352c-4.194-4.194-4.194-10.987 0-15.175 4.194-4.194 10.987-4.194 15.18 0l81.934 81.934c4.194 4.194 4.194 10.987 0 15.175l-81.934 81.939c-2.093 2.1-4.84 3.15-7.587 3.15z\" fill=\"#ffc800\"></path></svg></button>\n",
      "</div>\n",
      "<div class=\"c-carousel__bullets c-carousel__bullets--hero\" data-glide-el=\"controls[nav]\">\n",
      "<button class=\"c-carousel__bullet c-carousel__bullet--hero\" data-glide-dir=\"=0\">0</button>\n",
      "<button class=\"c-carousel__bullet c-carousel__bullet--hero\" data-glide-dir=\"=1\">1</button>\n",
      "<button class=\"c-carousel__bullet c-carousel__bullet--hero\" data-glide-dir=\"=2\">2</button>\n",
      "</div>\n",
      "</div>\n",
      "<div class=\"c-color-strip\">\n",
      "</div>\n",
      "<div class=\"c-section--white o-section-text\" id=\"all-about-a-career-in-our-head-office\">\n",
      "<div class=\"c-container\">\n",
      "<div class=\"u-title--svg u-title--svg--centered\">\n",
      "<h2>All about a career in our Head Office</h2>\n",
      "</div>\n",
      "<p>Here you’ll find over 1,400 people sharing a fast-moving, dynamic, open plan environment. We call it our ‘engine room’, because everything that happens here drives the Stores and Logistics side of the business. Believe us when we say, everything has to work perfectly. The business depends on the actions and decisions we make. So it’s a place where you’re trusted to think for yourself and take complete ownership over your role. Come with big ideas, and we’ll help you put it into practice.</p>\n",
      "</div>\n",
      "</div>\n",
      "<div class=\"o-section-text c-section--blue c-section-text--dark\" id=\"browse-our-head-office-careers\">\n",
      "<div class=\"c-container\">\n",
      "<div class=\"u-title--svg u-title--svg--centered\">\n",
      "<h2>Browse our Head Office careers</h2>\n",
      "</div>\n",
      "</div>\n",
      "<div class=\"c-container\">\n",
      "<div class=\"o-grid o-browse-careers o-browse-careers--alt\">\n",
      "<div class=\"c-career c-career--alt c-col c-col__fifth\">\n",
      "<a class=\"c-career__content\" href=\"/head-office/national-administration/\">\n",
      "<img src=\"/dist//images/right-chevron.svg?v=5\"/>\n",
      "<p>National Administration</p>\n",
      "</a>\n",
      "</div>\n",
      "<div class=\"c-career c-career--alt c-col c-col__fifth\">\n",
      "<a class=\"c-career__content\" href=\"/head-office/regional-administration/\">\n",
      "<img src=\"/dist//images/right-chevron.svg?v=5\"/>\n",
      "<p>Regional Administration</p>\n",
      "</a>\n",
      "</div>\n",
      "<div class=\"c-career c-career--alt c-col c-col__fifth\">\n",
      "<a class=\"c-career__content\" href=\"/head-office/national-buying/\">\n",
      "<img src=\"/dist//images/right-chevron.svg?v=5\"/>\n",
      "<p>National Buying</p>\n",
      "</a>\n",
      "</div>\n",
      "<div class=\"c-career c-career--alt c-col c-col__fifth\">\n",
      "<a class=\"c-career__content\" href=\"/head-office/corporate-responsibility/\">\n",
      "<img src=\"/dist//images/right-chevron.svg?v=5\"/>\n",
      "<p>Corporate Responsibility</p>\n",
      "</a>\n",
      "</div>\n",
      "<div class=\"c-career c-career--alt c-col c-col__fifth\">\n",
      "<a class=\"c-career__content\" href=\"/head-office/customer-service/\">\n",
      "<img src=\"/dist//images/right-chevron.svg?v=5\"/>\n",
      "<p>Customer Service</p>\n",
      "</a>\n",
      "</div>\n",
      "<div class=\"c-career c-career--alt c-col c-col__fifth\">\n",
      "<a class=\"c-career__content\" href=\"/head-office/ecommerce/\">\n",
      "<img src=\"/dist//images/right-chevron.svg?v=5\"/>\n",
      "<p>eCommerce</p>\n",
      "</a>\n",
      "</div>\n",
      "<div class=\"c-career c-career--alt c-col c-col__fifth\">\n",
      "<a class=\"c-career__content\" href=\"/head-office/global-business-coordination/\">\n",
      "<img src=\"/dist//images/right-chevron.svg?v=5\"/>\n",
      "<p>Global Business Coordination</p>\n",
      "</a>\n",
      "</div>\n",
      "<div class=\"c-career c-career--alt c-col c-col__fifth\">\n",
      "<a class=\"c-career__content\" href=\"/head-office/hr/\">\n",
      "<img src=\"/dist//images/right-chevron.svg?v=5\"/>\n",
      "<p>HR</p>\n",
      "</a>\n",
      "</div>\n",
      "<div class=\"c-career c-career--alt c-col c-col__fifth\">\n",
      "<a class=\"c-career__content\" href=\"/head-office/it/\">\n",
      "<img src=\"/dist//images/right-chevron.svg?v=5\"/>\n",
      "<p>IT</p>\n",
      "</a>\n",
      "</div>\n",
      "<div class=\"c-career c-career--alt c-col c-col__fifth\">\n",
      "<a class=\"c-career__content\" href=\"/head-office/marketing-communications/\">\n",
      "<img src=\"/dist//images/right-chevron.svg?v=5\"/>\n",
      "<p>Marketing &amp; Communications</p>\n",
      "</a>\n",
      "</div>\n",
      "<div class=\"c-career c-career--alt c-col c-col__fifth\">\n",
      "<a class=\"c-career__content\" href=\"/head-office/merchandising-category/\">\n",
      "<img src=\"/dist//images/right-chevron.svg?v=5\"/>\n",
      "<p>Merchandising &amp; Category</p>\n",
      "</a>\n",
      "</div>\n",
      "<div class=\"c-career c-career--alt c-col c-col__fifth\">\n",
      "<a class=\"c-career__content\" href=\"/head-office/national-property/\">\n",
      "<img src=\"/dist//images/right-chevron.svg?v=5\"/>\n",
      "<p>National Property</p>\n",
      "</a>\n",
      "</div>\n",
      "<div class=\"c-career c-career--alt c-col c-col__fifth\">\n",
      "<a class=\"c-career__content\" href=\"/head-office/supply-chain-management/\">\n",
      "<img src=\"/dist//images/right-chevron.svg?v=5\"/>\n",
      "<p>Supply Chain Management</p>\n",
      "</a>\n",
      "</div>\n",
      "<div class=\"c-career c-career--alt c-col c-col__fifth\">\n",
      "<a class=\"c-career__content\" href=\"/head-office/quality-assurance/\">\n",
      "<img src=\"/dist//images/right-chevron.svg?v=5\"/>\n",
      "<p>Quality Assurance</p>\n",
      "</a>\n",
      "</div>\n",
      "<div class=\"c-career c-career--alt c-col c-col__fifth\">\n",
      "<a class=\"c-career__content\" href=\"/head-office/quality-control/\">\n",
      "<img src=\"/dist//images/right-chevron.svg?v=5\"/>\n",
      "<p>Quality Control</p>\n",
      "</a>\n",
      "</div>\n",
      "</div>\n",
      "</div>\n",
      "</div>\n",
      "<div class=\"c-section--yellow c-section-text--light\" id=\"what-you'll-need\">\n",
      "<div class=\"c-container o-benefits o-section-text\">\n",
      "<div class=\"u-title--svg u-title--svg--centered\">\n",
      "<img src=\"/media/4jil2hja/checklist.svg\">\n",
      "<h2>What you'll need </h2>\n",
      "</img></div>\n",
      "<p style=\"text-align: center;\">Depending on the role or area you’re interested in, certain skills might happen to be more useful than others. But, generally, we’re after people who are unphased by a challenge and ready to get stuck in. We want people with an eagle eye and a passion for making things run smoothly. With that energy, you’ll fit right in.<strong>   </strong></p> <div class=\"o-grid\">\n",
      "<div class=\"c-benefit c-benefit c-col c-col__fourth\">\n",
      "<img src=\"/media/lnan5nfe/tick.png\">\n",
      "<div class=\"c-benefit__content\">\n",
      "<h3></h3>\n",
      "<p><p style=\"text-align: center;\"><strong>THE ABILITY </strong></p>\n",
      "<p style=\"text-align: center;\"><strong>TO ADAPT</strong></p></p>\n",
      "</div>\n",
      "</img></div>\n",
      "<div class=\"c-benefit c-benefit c-col c-col__fourth\">\n",
      "<img src=\"/media/lnan5nfe/tick.png\">\n",
      "<div class=\"c-benefit__content\">\n",
      "<h3></h3>\n",
      "<p><p style=\"text-align: center;\"><strong>A PROACTIVE</strong></p>\n",
      "<p style=\"text-align: center;\"><strong>MINDSET</strong></p></p>\n",
      "</div>\n",
      "</img></div>\n",
      "<div class=\"c-benefit c-benefit c-col c-col__fourth\">\n",
      "<img src=\"/media/lnan5nfe/tick.png\">\n",
      "<div class=\"c-benefit__content\">\n",
      "<h3></h3>\n",
      "<p><p style=\"text-align: center;\"><strong>A STRATEGIC</strong></p>\n",
      "<p style=\"text-align: center;\"><strong>APPROACH</strong></p>\n",
      "<p style=\"text-align: center;\"> </p></p>\n",
      "</div>\n",
      "</img></div>\n",
      "<div class=\"c-benefit c-benefit c-col c-col__fourth\">\n",
      "<img src=\"/media/lnan5nfe/tick.png\">\n",
      "<div class=\"c-benefit__content\">\n",
      "<h3></h3>\n",
      "<p><p style=\"text-align: center;\"><strong>A FLAIR FOR LEARNING QUICKLY</strong></p></p>\n",
      "</div>\n",
      "</img></div>\n",
      "</div>\n",
      "</div>\n",
      "</div>\n",
      "<div class=\"o-grid o-video c-section--blue c-section-text--dark c-section-text--img-bg\" id=\"meet-our-head-office-team\" style=\"background-image:linear-gradient(rgba(0,0,60,0.75),rgba(0,0,60,0.75)),url(/media/wwref13k/desktop-carousels-head-office-areas-rec-training.jpg);\">\n",
      "<div class=\"c-carousel c-carousel--video c-container\">\n",
      "<div class=\"c-container\">\n",
      "<div class=\"u-title--svg u-title--svg--centered\">\n",
      "<img src=\"/media/ayphpetl/3people.svg\">\n",
      "<h2>Meet our Head Office team</h2>\n",
      "</img></div>\n",
      "<div class=\"o-section-text\" style=\"padding-top:0;padding-bottom:14px;margin-top: -1.2em;\">\n",
      "<p>When you’re coming into a new business, it’s always helpful to meet some of the people beforehand. Well, think of this as your virtual ‘getting to know people’. And we’re a chatty bunch. You can see how Kate found the application process. Jonathan can tell you what it felt like on day one. You might also like to know about our training so Sam can fill you in. Plus Sireesh can tell you how they’ve changed and grown over time. And why their career’s in safe hands.</p>\n",
      "</div>\n",
      "</div>\n",
      "<div class=\"c-carousel__track\" data-glide-el=\"track\">\n",
      "<div class=\"c-carousel__slides glide__slides\">\n",
      "<div class=\"c-carousel__slide c-carousel__slide--single-col c-video__item\">\n",
      "<div class=\"c-col c-col__half c-video__carousel\">\n",
      "<div class=\"c-carousel__arrows\" data-glide-el-custom=\"controls\">\n",
      "<button class=\"c-carousel__arrow c-carousel__arrow--left\" data-glide-dir=\"&lt;\"><svg enable-background=\"new 0 0 185.343 185.343\" version=\"1.1\" viewbox=\"0 0 185.34 185.34\" xml:space=\"preserve\" xmlns=\"http://www.w3.org/2000/svg\"><path d=\"m51.707 185.34c-2.741 0-5.493-1.044-7.593-3.149-4.194-4.194-4.194-10.981 0-15.175l74.352-74.347-74.352-74.352c-4.194-4.194-4.194-10.987 0-15.175 4.194-4.194 10.987-4.194 15.18 0l81.934 81.934c4.194 4.194 4.194 10.987 0 15.175l-81.934 81.939c-2.093 2.1-4.84 3.15-7.587 3.15z\" fill=\"#ffc800\"></path></svg></button>\n",
      "<button class=\"c-carousel__arrow c-carousel__arrow--right\" data-glide-dir=\"&gt;\"><svg enable-background=\"new 0 0 185.343 185.343\" version=\"1.1\" viewbox=\"0 0 185.34 185.34\" xml:space=\"preserve\" xmlns=\"http://www.w3.org/2000/svg\"><path d=\"m51.707 185.34c-2.741 0-5.493-1.044-7.593-3.149-4.194-4.194-4.194-10.981 0-15.175l74.352-74.347-74.352-74.352c-4.194-4.194-4.194-10.987 0-15.175 4.194-4.194 10.987-4.194 15.18 0l81.934 81.934c4.194 4.194 4.194 10.987 0 15.175l-81.934 81.939c-2.093 2.1-4.84 3.15-7.587 3.15z\" fill=\"#ffc800\"></path></svg></button>\n",
      "</div>\n",
      "<div class=\"embed-container\">\n",
      "<iframe allow=\"autoplay; fullscreen\" allowfullscreen=\"\" data-lazy=\"https://player.vimeo.com/video/148236293?app_id=122963\" frameborder=\"0\" height=\"203\" title=\"Kate Master cut 1\" width=\"360\"></iframe> <div class=\"c-video__carousel__overlay\">\n",
      "<img src=\"/dist//images/play.svg?v=5\"/>\n",
      "</div>\n",
      "</div>\n",
      "<p class=\"c-video__carousel__caption\">Kate - Group Buying Director</p>\n",
      "<div class=\"c-carousel__bullets\" data-glide-el=\"controls[nav]\">\n",
      "<button class=\"c-carousel__bullet\" data-glide-dir=\"=0\"></button>\n",
      "<button class=\"c-carousel__bullet\" data-glide-dir=\"=1\"></button>\n",
      "<button class=\"c-carousel__bullet\" data-glide-dir=\"=2\"></button>\n",
      "<button class=\"c-carousel__bullet\" data-glide-dir=\"=3\"></button>\n",
      "</div>\n",
      "</div>\n",
      "</div>\n",
      "<div class=\"c-carousel__slide c-carousel__slide--single-col c-video__item\">\n",
      "<div class=\"c-col c-col__half c-video__carousel\">\n",
      "<div class=\"c-carousel__arrows\" data-glide-el-custom=\"controls\">\n",
      "<button class=\"c-carousel__arrow c-carousel__arrow--left\" data-glide-dir=\"&lt;\"><svg enable-background=\"new 0 0 185.343 185.343\" version=\"1.1\" viewbox=\"0 0 185.34 185.34\" xml:space=\"preserve\" xmlns=\"http://www.w3.org/2000/svg\"><path d=\"m51.707 185.34c-2.741 0-5.493-1.044-7.593-3.149-4.194-4.194-4.194-10.981 0-15.175l74.352-74.347-74.352-74.352c-4.194-4.194-4.194-10.987 0-15.175 4.194-4.194 10.987-4.194 15.18 0l81.934 81.934c4.194 4.194 4.194 10.987 0 15.175l-81.934 81.939c-2.093 2.1-4.84 3.15-7.587 3.15z\" fill=\"#ffc800\"></path></svg></button>\n",
      "<button class=\"c-carousel__arrow c-carousel__arrow--right\" data-glide-dir=\"&gt;\"><svg enable-background=\"new 0 0 185.343 185.343\" version=\"1.1\" viewbox=\"0 0 185.34 185.34\" xml:space=\"preserve\" xmlns=\"http://www.w3.org/2000/svg\"><path d=\"m51.707 185.34c-2.741 0-5.493-1.044-7.593-3.149-4.194-4.194-4.194-10.981 0-15.175l74.352-74.347-74.352-74.352c-4.194-4.194-4.194-10.987 0-15.175 4.194-4.194 10.987-4.194 15.18 0l81.934 81.934c4.194 4.194 4.194 10.987 0 15.175l-81.934 81.939c-2.093 2.1-4.84 3.15-7.587 3.15z\" fill=\"#ffc800\"></path></svg></button>\n",
      "</div>\n",
      "<div class=\"embed-container\">\n",
      "<iframe allow=\"autoplay; fullscreen\" allowfullscreen=\"\" data-lazy=\"https://player.vimeo.com/video/148334658?app_id=122963\" frameborder=\"0\" height=\"203\" title=\"Jonathan Master cut1\" width=\"360\"></iframe> <div class=\"c-video__carousel__overlay\">\n",
      "<img src=\"/dist//images/play.svg?v=5\"/>\n",
      "</div>\n",
      "</div>\n",
      "<p class=\"c-video__carousel__caption\">Jonathan - National Project Management Director</p>\n",
      "<div class=\"c-carousel__bullets\" data-glide-el=\"controls[nav]\">\n",
      "<button class=\"c-carousel__bullet\" data-glide-dir=\"=0\"></button>\n",
      "<button class=\"c-carousel__bullet\" data-glide-dir=\"=1\"></button>\n",
      "<button class=\"c-carousel__bullet\" data-glide-dir=\"=2\"></button>\n",
      "<button class=\"c-carousel__bullet\" data-glide-dir=\"=3\"></button>\n",
      "</div>\n",
      "</div>\n",
      "</div>\n",
      "<div class=\"c-carousel__slide c-carousel__slide--single-col c-video__item\">\n",
      "<div class=\"c-col c-col__half c-video__carousel\">\n",
      "<div class=\"c-carousel__arrows\" data-glide-el-custom=\"controls\">\n",
      "<button class=\"c-carousel__arrow c-carousel__arrow--left\" data-glide-dir=\"&lt;\"><svg enable-background=\"new 0 0 185.343 185.343\" version=\"1.1\" viewbox=\"0 0 185.34 185.34\" xml:space=\"preserve\" xmlns=\"http://www.w3.org/2000/svg\"><path d=\"m51.707 185.34c-2.741 0-5.493-1.044-7.593-3.149-4.194-4.194-4.194-10.981 0-15.175l74.352-74.347-74.352-74.352c-4.194-4.194-4.194-10.987 0-15.175 4.194-4.194 10.987-4.194 15.18 0l81.934 81.934c4.194 4.194 4.194 10.987 0 15.175l-81.934 81.939c-2.093 2.1-4.84 3.15-7.587 3.15z\" fill=\"#ffc800\"></path></svg></button>\n",
      "<button class=\"c-carousel__arrow c-carousel__arrow--right\" data-glide-dir=\"&gt;\"><svg enable-background=\"new 0 0 185.343 185.343\" version=\"1.1\" viewbox=\"0 0 185.34 185.34\" xml:space=\"preserve\" xmlns=\"http://www.w3.org/2000/svg\"><path d=\"m51.707 185.34c-2.741 0-5.493-1.044-7.593-3.149-4.194-4.194-4.194-10.981 0-15.175l74.352-74.347-74.352-74.352c-4.194-4.194-4.194-10.987 0-15.175 4.194-4.194 10.987-4.194 15.18 0l81.934 81.934c4.194 4.194 4.194 10.987 0 15.175l-81.934 81.939c-2.093 2.1-4.84 3.15-7.587 3.15z\" fill=\"#ffc800\"></path></svg></button>\n",
      "</div>\n",
      "<div class=\"embed-container\">\n",
      "<iframe allow=\"autoplay; fullscreen\" allowfullscreen=\"\" data-lazy=\"https://player.vimeo.com/video/148471686?app_id=122963\" frameborder=\"0\" height=\"203\" title=\"Sam Master cut1\" width=\"360\"></iframe> <div class=\"c-video__carousel__overlay\">\n",
      "<img src=\"/dist//images/play.svg?v=5\"/>\n",
      "</div>\n",
      "</div>\n",
      "<p class=\"c-video__carousel__caption\">Sam - Group eCommerce Director</p>\n",
      "<div class=\"c-carousel__bullets\" data-glide-el=\"controls[nav]\">\n",
      "<button class=\"c-carousel__bullet\" data-glide-dir=\"=0\"></button>\n",
      "<button class=\"c-carousel__bullet\" data-glide-dir=\"=1\"></button>\n",
      "<button class=\"c-carousel__bullet\" data-glide-dir=\"=2\"></button>\n",
      "<button class=\"c-carousel__bullet\" data-glide-dir=\"=3\"></button>\n",
      "</div>\n",
      "</div>\n",
      "</div>\n",
      "<div class=\"c-carousel__slide c-carousel__slide--single-col c-video__item\">\n",
      "<div class=\"c-col c-col__half c-video__carousel\">\n",
      "<div class=\"c-carousel__arrows\" data-glide-el-custom=\"controls\">\n",
      "<button class=\"c-carousel__arrow c-carousel__arrow--left\" data-glide-dir=\"&lt;\"><svg enable-background=\"new 0 0 185.343 185.343\" version=\"1.1\" viewbox=\"0 0 185.34 185.34\" xml:space=\"preserve\" xmlns=\"http://www.w3.org/2000/svg\"><path d=\"m51.707 185.34c-2.741 0-5.493-1.044-7.593-3.149-4.194-4.194-4.194-10.981 0-15.175l74.352-74.347-74.352-74.352c-4.194-4.194-4.194-10.987 0-15.175 4.194-4.194 10.987-4.194 15.18 0l81.934 81.934c4.194 4.194 4.194 10.987 0 15.175l-81.934 81.939c-2.093 2.1-4.84 3.15-7.587 3.15z\" fill=\"#ffc800\"></path></svg></button>\n",
      "<button class=\"c-carousel__arrow c-carousel__arrow--right\" data-glide-dir=\"&gt;\"><svg enable-background=\"new 0 0 185.343 185.343\" version=\"1.1\" viewbox=\"0 0 185.34 185.34\" xml:space=\"preserve\" xmlns=\"http://www.w3.org/2000/svg\"><path d=\"m51.707 185.34c-2.741 0-5.493-1.044-7.593-3.149-4.194-4.194-4.194-10.981 0-15.175l74.352-74.347-74.352-74.352c-4.194-4.194-4.194-10.987 0-15.175 4.194-4.194 10.987-4.194 15.18 0l81.934 81.934c4.194 4.194 4.194 10.987 0 15.175l-81.934 81.939c-2.093 2.1-4.84 3.15-7.587 3.15z\" fill=\"#ffc800\"></path></svg></button>\n",
      "</div>\n",
      "<div class=\"embed-container\">\n",
      "<iframe allow=\"autoplay; fullscreen\" allowfullscreen=\"\" data-lazy=\"https://player.vimeo.com/video/148251807?app_id=122963\" frameborder=\"0\" height=\"203\" title=\"Sireesh MASTER cut1\" width=\"360\"></iframe> <div class=\"c-video__carousel__overlay\">\n",
      "<img src=\"/dist//images/play.svg?v=5\"/>\n",
      "</div>\n",
      "</div>\n",
      "<p class=\"c-video__carousel__caption\">Sireesh - National IT Director</p>\n",
      "<div class=\"c-carousel__bullets\" data-glide-el=\"controls[nav]\">\n",
      "<button class=\"c-carousel__bullet\" data-glide-dir=\"=0\"></button>\n",
      "<button class=\"c-carousel__bullet\" data-glide-dir=\"=1\"></button>\n",
      "<button class=\"c-carousel__bullet\" data-glide-dir=\"=2\"></button>\n",
      "<button class=\"c-carousel__bullet\" data-glide-dir=\"=3\"></button>\n",
      "</div>\n",
      "</div>\n",
      "</div>\n",
      "</div>\n",
      "</div>\n",
      "</div>\n",
      "</div>\n",
      "<div class=\"c-section--lightblue o-section-text c-section-text--light\" id=\"apply-now\">\n",
      "<div class=\"c-container\">\n",
      "<div class=\"u-title--svg u-title--svg--centered\">\n",
      "<img src=\"/media/tbdjmxnr/icon_online.svg\">\n",
      "<h2>Apply now</h2>\n",
      "</img></div>\n",
      "<p>Love the sound of our ‘engine room’? We thought you might. Get started on your application now – we can’t wait for you to be at the heart of things.</p>\n",
      "<a class=\"c-btn c-btn--primary c-btn--chevron\" href=\"https://www.aldirecruitment.co.uk/job-search?tag=head-office\">\n",
      "<span>Apply for a Head Office role</span>\n",
      "<img src=\"/dist//images/right-chevron.svg?v=5\"/>\n",
      "</a>\n",
      "</div>\n",
      "</div>\n",
      "<div class=\"c-section--white o-section-text\" id=\"discover-the-history-of-aldi\">\n",
      "<div class=\"c-container\">\n",
      "<div class=\"u-title--svg u-title--svg--centered\">\n",
      "<img src=\"/media/nkngrlkg/icon_history.svg\">\n",
      "<h2>Discover the history of Aldi</h2>\n",
      "</img></div>\n",
      "<p>Our journey has been incredibly interesting. So, before we explain where we’ll take you, let us tell you where we’ve come from. Discover how Aldi began and the Aldi mindset that’s got us here today.</p>\n",
      "<a class=\"c-btn c-btn--secondary c-btn--chevron\" href=\"https://www.aldirecruitment.co.uk/about-us\">\n",
      "<span>Visit our about us page</span>\n",
      "<img src=\"/dist//images/right-chevron.svg?v=5\"/>\n",
      "</a>\n",
      "</div>\n",
      "</div>\n",
      "</div>\n",
      "<footer class=\"o-footer\">\n",
      "<div class=\"c-container\">\n",
      "<nav class=\"c-footer-nav\">\n",
      "<ul class=\"c-footer-nav__menu\">\n",
      "<li class=\"c-footer-nav__menu__item\">\n",
      "<a class=\"c-link c-link--white\" href=\"/contact-us/#contact-us\">Contact Us</a>\n",
      "</li>\n",
      "<li class=\"c-footer-nav__menu__item\">\n",
      "<a class=\"c-link c-link--white\" href=\"/about-us/#equality-and-diversity\">Equal Opportunities</a>\n",
      "</li>\n",
      "<li class=\"c-footer-nav__menu__item\">\n",
      "<a class=\"c-link c-link--white\" href=\"/about-us/#right-to-work\">Right to Work</a>\n",
      "</li>\n",
      "<li class=\"c-footer-nav__menu__item\">\n",
      "<a class=\"c-link c-link--white\" href=\"https://www.aldi.co.uk/\" target=\"_blank\">Visit Aldi.co.uk</a>\n",
      "</li>\n",
      "<li class=\"c-footer-nav__menu__item\">\n",
      "<a class=\"c-link c-link--white\" href=\"/privacy-notice-cookies/\">Privacy notice &amp; cookies</a>\n",
      "</li>\n",
      "</ul>\n",
      "</nav>\n",
      "<span>Connect with us</span>\n",
      "<ul class=\"c-social\">\n",
      "<li class=\"c-social--icon\">\n",
      "<a href=\"https://www.facebook.com/AldiCareersUK\" rel=\"noopener\" target=\"_blank\"><img alt=\"Facebook\" src=\"/dist/images/facebook.svg\"/></a>\n",
      "</li>\n",
      "<li class=\"c-social--icon\">\n",
      "<a href=\"https://www.youtube.com/user/AldiUK\" rel=\"noopener\" target=\"_blank\"><img alt=\"YouTube\" src=\"/dist/images/youtube.svg\"/></a>\n",
      "</li>\n",
      "<li class=\"c-social--icon\">\n",
      "<a href=\"https://twitter.com/AldiCareersUK\" rel=\"noopener\" target=\"_blank\"><img alt=\"Twitter\" src=\"/dist/images/twitter.svg\"/></a>\n",
      "</li>\n",
      "<li class=\"c-social--icon\">\n",
      "<a href=\"https://www.linkedin.com/company/aldi-uk\" rel=\"noopener\" target=\"_blank\"><img alt=\"LinkedIn\" src=\"/dist/images/linkedin.svg\"/></a>\n",
      "</li>\n",
      "<li class=\"c-social--icon\">\n",
      "<a href=\"https://www.instagram.com/aldiCareersuk\" rel=\"noopener\" target=\"_blank\"><img alt=\"Instagram\" src=\"/dist/images/instagram.svg\"/></a>\n",
      "</li>\n",
      "</ul>\n",
      "</div>\n",
      "</footer>\n",
      "<script src=\"/dist/js/commons.js?v=5\" type=\"text/javascript\"></script>\n",
      "<script src=\"/dist/js/main.js?v=5\" type=\"text/javascript\"></script>\n",
      "</body>\n",
      "</html>\n",
      "\n"
     ]
    }
   ],
   "source": [
    "url = \"https://www.aldirecruitment.co.uk/head-office\"\n",
    "page = requests.get(url)\n",
    "soup = BeautifulSoup(page.content, \"html.parser\")\n",
    "print(soup)"
   ]
  },
  {
   "cell_type": "code",
   "execution_count": 5,
   "id": "7f146c28",
   "metadata": {},
   "outputs": [
    {
     "name": "stdout",
     "output_type": "stream",
     "text": [
      "[None, '/', None, '/', '/about-us/', '/stores/', '/stores/', '/stores/store-manager/', '/stores/assistant-store-manager/', '/stores/deputy-store-manager/', '/stores/store-assistant/', '/stores/stock-assistant/', '/stores/caretaker-cleaner/', '/head-office/', '/warehouse-transport/', '/area-manager-programme/', '/area-manager-programme/', '/area-manager-programme/graduate-area-manager-programme/', '/area-manager-programme/career-changers/', '/placement-programmes/', '/apprenticeships/', '/contact-us/#contact-us', '/about-us/#equality-and-diversity', '/about-us/#right-to-work', 'https://www.aldi.co.uk/', '/privacy-notice-cookies/', 'https://www.facebook.com/AldiCareersUK', 'https://www.youtube.com/user/AldiUK', 'https://twitter.com/AldiCareersUK', 'https://www.linkedin.com/company/aldi-uk', 'https://www.instagram.com/aldiCareersuk', '/job-search/', '/', '/job-search/', '/job-search/', '/job-search/', '/head-office/national-administration/', '/head-office/regional-administration/', '/head-office/national-buying/', '/head-office/corporate-responsibility/', '/head-office/customer-service/', '/head-office/ecommerce/', '/head-office/global-business-coordination/', '/head-office/hr/', '/head-office/it/', '/head-office/marketing-communications/', '/head-office/merchandising-category/', '/head-office/national-property/', '/head-office/supply-chain-management/', '/head-office/quality-assurance/', '/head-office/quality-control/', 'https://www.aldirecruitment.co.uk/job-search?tag=head-office', 'https://www.aldirecruitment.co.uk/about-us', '/contact-us/#contact-us', '/about-us/#equality-and-diversity', '/about-us/#right-to-work', 'https://www.aldi.co.uk/', '/privacy-notice-cookies/', 'https://www.facebook.com/AldiCareersUK', 'https://www.youtube.com/user/AldiUK', 'https://twitter.com/AldiCareersUK', 'https://www.linkedin.com/company/aldi-uk', 'https://www.instagram.com/aldiCareersuk']\n"
     ]
    }
   ],
   "source": [
    "links = []\n",
    "for link in soup.findAll('a'):\n",
    "    links.append(link.get('href'))\n",
    "print(links)"
   ]
  },
  {
   "cell_type": "markdown",
   "id": "bf4cfbfd",
   "metadata": {},
   "source": [
    "We want to get only the links to actual job postings, so we have to clean the results somewhat:"
   ]
  },
  {
   "cell_type": "code",
   "execution_count": 6,
   "id": "6292c026",
   "metadata": {},
   "outputs": [
    {
     "name": "stdout",
     "output_type": "stream",
     "text": [
      "['/head-office/', '/head-office/national-administration/', '/head-office/regional-administration/', '/head-office/national-buying/', '/head-office/corporate-responsibility/', '/head-office/customer-service/', '/head-office/ecommerce/', '/head-office/global-business-coordination/', '/head-office/hr/', '/head-office/it/', '/head-office/marketing-communications/', '/head-office/merchandising-category/', '/head-office/national-property/', '/head-office/supply-chain-management/', '/head-office/quality-assurance/', '/head-office/quality-control/']\n"
     ]
    }
   ],
   "source": [
    "url = \"https://www.aldirecruitment.co.uk/head-office\"\n",
    "page = requests.get(url)\n",
    "soup = BeautifulSoup(page.content, \"html.parser\")\n",
    "links = []\n",
    "for link in soup.findAll('a'):\n",
    "    new_link = link.get('href')\n",
    "    if new_link != None and new_link.startswith('/head-office/'):\n",
    "        links.append(new_link)\n",
    "print(links)"
   ]
  },
  {
   "cell_type": "markdown",
   "id": "60fa80de",
   "metadata": {},
   "source": [
    "As we use \"../head-office\" as our base url, we do not need to repeat it. Accordingly, we make a few final adjustments to the link collection."
   ]
  },
  {
   "cell_type": "code",
   "execution_count": 24,
   "id": "550d4e34",
   "metadata": {},
   "outputs": [
    {
     "name": "stdout",
     "output_type": "stream",
     "text": [
      "['/national-administration/', '/regional-administration/', '/national-buying/', '/corporate-responsibility/', '/customer-service/', '/ecommerce/', '/global-business-coordination/', '/hr/', '/it/', '/marketing-communications/', '/merchandising-category/', '/national-property/', '/supply-chain-management/', '/quality-assurance/', '/quality-control/']\n"
     ]
    }
   ],
   "source": [
    "url = \"https://www.aldirecruitment.co.uk/head-office\"\n",
    "page = requests.get(url)\n",
    "soup = BeautifulSoup(page.content, \"html.parser\")\n",
    "links = []\n",
    "for link in soup.findAll('a'):\n",
    "    new_link = link.get('href')\n",
    "    # links.append(new_link)\n",
    "    if new_link != None and new_link.startswith('/head-office/'):\n",
    "        new_link = new_link.replace('/head-office','')\n",
    "        # links.append(new_link)\n",
    "        if new_link != '/':\n",
    "            links.append(new_link)\n",
    "print(links)"
   ]
  },
  {
   "cell_type": "code",
   "execution_count": 9,
   "metadata": {},
   "outputs": [
    {
     "data": {
      "text/plain": [
       "'https://www.aldirecruitment.co.uk/head-office/national-administration/'"
      ]
     },
     "execution_count": 9,
     "metadata": {},
     "output_type": "execute_result"
    }
   ],
   "source": [
    "url+links[0]"
   ]
  },
  {
   "cell_type": "markdown",
   "id": "fd72effa",
   "metadata": {},
   "source": [
    "Let's see how many postings there are on one of the sub-sites. For this, we have to find the right tags, using their class argument. Again, inspecting the site is very important!"
   ]
  },
  {
   "cell_type": "code",
   "execution_count": 8,
   "id": "c2014535",
   "metadata": {},
   "outputs": [
    {
     "data": {
      "text/plain": [
       "14"
      ]
     },
     "execution_count": 8,
     "metadata": {},
     "output_type": "execute_result"
    }
   ],
   "source": [
    "category_url = url + links[0]\n",
    "page = requests.get(category_url)\n",
    "soup = BeautifulSoup(page.content, \"html.parser\")\n",
    "postings = soup.findAll(\"div\", class_=\"c-career--dropdown\")\n",
    "len(postings)"
   ]
  },
  {
   "cell_type": "markdown",
   "id": "32c6b051",
   "metadata": {},
   "source": [
    "We now extract some information from the actual position: the job title."
   ]
  },
  {
   "cell_type": "code",
   "execution_count": 10,
   "id": "eb2a40a6",
   "metadata": {},
   "outputs": [
    {
     "name": "stdout",
     "output_type": "stream",
     "text": [
      "National Finance & Administration Manager\n"
     ]
    }
   ],
   "source": [
    "title = postings[0].find(\"div\", class_=\"c-career--dropdown__content\").find('h2')\n",
    "print(title.text)"
   ]
  },
  {
   "cell_type": "markdown",
   "id": "15a5bb9e",
   "metadata": {},
   "source": [
    "Aside from the title and the text description (which we will ignore in this example, but which can hold extremely useful information), there are some key details about the job, such as the work time and the salary."
   ]
  },
  {
   "cell_type": "code",
   "execution_count": 11,
   "id": "6210c58f",
   "metadata": {},
   "outputs": [
    {
     "name": "stdout",
     "output_type": "stream",
     "text": [
      "[<div class=\"c-job-details__content\">\n",
      "<img data-replace=\"false\" src=\"/media/xjpjb1m0/market.svg\" width=\"56\">\n",
      "<div>\n",
      "<span class=\"c-job-details__title\">Salary</span>\n",
      "<div class=\"c-job-details__text\"><p>£54,285 rising in increments to £79,040 in year 4.</p></div>\n",
      "</div>\n",
      "</img></div>, <div class=\"c-job-details__content\">\n",
      "<img data-replace=\"false\" src=\"/media/ygxa0wif/island.svg\" width=\"56\"/>\n",
      "<div>\n",
      "<span class=\"c-job-details__title\">Holiday allowance</span>\n",
      "<div class=\"c-job-details__text\"><p>5 weeks’ annual leave plus Bank Holidays.</p></div>\n",
      "</div>\n",
      "</div>, <div class=\"c-job-details__content\">\n",
      "<img data-replace=\"false\" src=\"/media/e4pnj4sn/health.svg\" width=\"56\"/>\n",
      "<div>\n",
      "<span class=\"c-job-details__title\">Hours and benefits</span>\n",
      "<div class=\"c-job-details__text\"><p>You’ll work a 50-hour week, working from Monday – Friday. Plus, you’ll receive a company pension when you start, private employee medical insurance after 6 months, company maternity and adoption leave from commencement as well as company paternity pay after 2 years.</p></div>\n",
      "</div>\n",
      "</div>]\n"
     ]
    }
   ],
   "source": [
    "details = postings[0].findAll(\"div\", class_=\"c-job-details__content\")\n",
    "print(details)"
   ]
  },
  {
   "cell_type": "markdown",
   "id": "ce29c5f7",
   "metadata": {},
   "source": [
    "We definitely want to get the salary information. Sometime, the text gives multiple values, so let's make sure to save the lowest and the highest value (of course, multiple values may be due to changes over time or for different starting requirements - we can adapt our scraper to capture arbitrary complexity later on)."
   ]
  },
  {
   "cell_type": "code",
   "execution_count": 12,
   "id": "42c550ff",
   "metadata": {},
   "outputs": [
    {
     "name": "stdout",
     "output_type": "stream",
     "text": [
      "£54,285 rising in increments to £79,040 in year 4.\n"
     ]
    }
   ],
   "source": [
    "detail = details[0]\n",
    "detail_text = detail.find('div', class_=\"c-job-details__text\").text\n",
    "print(detail_text)"
   ]
  },
  {
   "cell_type": "code",
   "execution_count": 14,
   "metadata": {},
   "outputs": [
    {
     "data": {
      "text/plain": [
       "['£54285', 'rising', 'in', 'increments', 'to', '£79040', 'in', 'year', '4.']"
      ]
     },
     "execution_count": 14,
     "metadata": {},
     "output_type": "execute_result"
    }
   ],
   "source": [
    "temp = detail_text.replace(',','')\n",
    "temp = temp.replace('-','')\n",
    "temp = temp.split()\n",
    "temp"
   ]
  },
  {
   "cell_type": "code",
   "execution_count": 13,
   "id": "c22a12cc",
   "metadata": {},
   "outputs": [
    {
     "name": "stdout",
     "output_type": "stream",
     "text": [
      "79040.0\n",
      "54285.0\n"
     ]
    }
   ],
   "source": [
    "temp = detail_text.replace(',','')\n",
    "temp = temp.replace('-','')\n",
    "temp = temp.split()\n",
    "salary_numbers = [float(s[1:]) for s in temp if s.startswith('£')]\n",
    "ub = max(salary_numbers)\n",
    "lb = min(salary_numbers)\n",
    "print(ub)\n",
    "print(lb)"
   ]
  },
  {
   "cell_type": "markdown",
   "id": "d01972c7",
   "metadata": {},
   "source": [
    "Let's also try to capture the weekly working hours:"
   ]
  },
  {
   "cell_type": "code",
   "execution_count": 18,
   "metadata": {},
   "outputs": [
    {
     "name": "stdout",
     "output_type": "stream",
     "text": [
      "You’ll\n",
      "work\n",
      "a\n",
      "50-hour\n",
      "week,\n",
      "working\n",
      "from\n",
      "Monday\n",
      "–\n",
      "Friday.\n",
      "Plus,\n",
      "you’ll\n",
      "receive\n",
      "a\n",
      "company\n",
      "pension\n",
      "when\n",
      "you\n",
      "start,\n",
      "private\n",
      "employee\n",
      "medical\n",
      "insurance\n",
      "after\n",
      "6\n",
      "months,\n",
      "company\n",
      "maternity\n",
      "and\n",
      "adoption\n",
      "leave\n",
      "from\n",
      "commencement\n",
      "as\n",
      "well\n",
      "as\n",
      "company\n",
      "paternity\n",
      "pay\n",
      "after\n",
      "2\n",
      "years.\n"
     ]
    }
   ],
   "source": [
    "detail = details[2]\n",
    "detail_text = detail.find('div', class_=\"c-job-details__text\").text\n",
    "for s in detail_text.split():\n",
    "    print(s)"
   ]
  },
  {
   "cell_type": "code",
   "execution_count": 16,
   "id": "e0469241",
   "metadata": {},
   "outputs": [
    {
     "name": "stdout",
     "output_type": "stream",
     "text": [
      "50\n"
     ]
    }
   ],
   "source": [
    "detail = details[2]\n",
    "detail_text = detail.find('div', class_=\"c-job-details__text\").text\n",
    "for s in detail_text.split():\n",
    "    if '-hour' in s:\n",
    "        work_time = s\n",
    "        work_time = int(work_time.replace('-hour',''))\n",
    "print(work_time)"
   ]
  },
  {
   "cell_type": "markdown",
   "id": "3d6438d9",
   "metadata": {},
   "source": [
    "The following code combines our extraction of job details:"
   ]
  },
  {
   "cell_type": "code",
   "execution_count": 19,
   "id": "f4fc960a",
   "metadata": {},
   "outputs": [
    {
     "name": "stdout",
     "output_type": "stream",
     "text": [
      "79040.0\n",
      "54285.0\n",
      "50\n"
     ]
    }
   ],
   "source": [
    "details = postings[0].findAll(\"div\", class_=\"c-job-details__content\")\n",
    "for detail in details:\n",
    "    detail_title = detail.find('span', class_=\"c-job-details__title\").text\n",
    "    detail_text = detail.find('div', class_=\"c-job-details__text\").text\n",
    "    if detail_title == 'Salary':\n",
    "        temp = detail_text.replace(',','')\n",
    "        temp = temp.replace('-','')\n",
    "        temp = temp.split()\n",
    "        salary_numbers = [float(s[1:]) for s in temp if s.startswith('£')]\n",
    "        ub = max(salary_numbers)\n",
    "        lb = min(salary_numbers)\n",
    "    elif detail_title == 'Hours and benefits':\n",
    "        for s in detail_text.split():\n",
    "            if '-hour' in s:\n",
    "                work_time = s\n",
    "                work_time = int(work_time.replace('-hour',''))\n",
    "print(ub)\n",
    "print(lb)\n",
    "print(work_time)"
   ]
  },
  {
   "cell_type": "markdown",
   "id": "e069e2dd",
   "metadata": {},
   "source": [
    "Finally, we are putting it all together into a simple-to-call function that returns a data frame of job postings. We have to make a few adjustments to avoid errors. These are marked with comments."
   ]
  },
  {
   "cell_type": "code",
   "execution_count": 20,
   "id": "354b8c97",
   "metadata": {},
   "outputs": [],
   "source": [
    "def scrape_aldi_jobs(starting_page = 'head-office'):\n",
    "    url = \"https://www.aldirecruitment.co.uk/\" + starting_page\n",
    "    page = requests.get(url)\n",
    "    soup = BeautifulSoup(page.content, \"html.parser\")\n",
    "    links = []\n",
    "    for link in soup.findAll('a'):\n",
    "        new_link = link.get('href')\n",
    "        if new_link != None and new_link.startswith('/head-office/'):\n",
    "            new_link = new_link.replace('/head-office','')\n",
    "            if new_link != '/':\n",
    "                links.append(new_link)\n",
    "    \n",
    "    department = []\n",
    "    titles = []\n",
    "    ubs = []\n",
    "    lbs = []\n",
    "    hours = []\n",
    "    for link in links:\n",
    "        category_url = url + link\n",
    "        page = requests.get(category_url)\n",
    "        soup = BeautifulSoup(page.content, \"html.parser\")\n",
    "        postings = soup.findAll(\"div\", class_=\"c-career--dropdown\")\n",
    "        for posting in postings:\n",
    "            ## Also grabbing the department information\n",
    "            dep_name = link.replace('-',' ').replace('/','')\n",
    "            department.append(dep_name)\n",
    "            titles.append(posting.find(\"div\", class_=\"c-career--dropdown__content\").find('h2').text)\n",
    "            details = posting.findAll(\"div\", class_=\"c-job-details__content\")\n",
    "            for detail in details:\n",
    "                detail_title = detail.find('span', class_=\"c-job-details__title\").text\n",
    "                detail_text = detail.find('div', class_=\"c-job-details__text\").text\n",
    "                if detail_title == 'Salary':\n",
    "                    temp = detail_text.replace(',','')\n",
    "                    temp = temp.replace('-','')\n",
    "                    temp = temp.split()\n",
    "                    salary_numbers = [float(s[1:]) for s in temp if s.startswith('£')]\n",
    "                    ## Salary may not be specified\n",
    "                    if len(salary_numbers) > 0:\n",
    "                        ## Salaries are sometimes specified as per week instead of per year\n",
    "                        if 'per' in temp and 'week' in temp:\n",
    "                            salary_numbers = [salary*52 for salary in salary_numbers]\n",
    "                        ubs.append(max(salary_numbers))\n",
    "                        lbs.append(min(salary_numbers))\n",
    "                    else:\n",
    "                        ubs.append(None)\n",
    "                        lbs.append(None)\n",
    "                ## Some postings say \"Benefits\" instead of \"Hours and benefits\", and sometimes the spelling is capitalized differently\n",
    "                elif detail_title.lower() == 'hours and benefits' or detail_title.lower() == 'benefits':\n",
    "                    ## Some postings do not specify a number of hours per week\n",
    "                    work_time = None\n",
    "                    for s in detail_text.split():\n",
    "                        if '-hour' in s:\n",
    "                            work_time = s\n",
    "                            ## Some postings write, e.g., 40-hour per week, some 40-hours per week\n",
    "                            if '-hours' in s:\n",
    "                                work_time = int(work_time.replace('-hours',''))\n",
    "                            else:\n",
    "                                work_time = int(work_time.replace('-hour',''))\n",
    "                    hours.append(work_time)\n",
    "                        \n",
    "    job_data = pd.DataFrame(\n",
    "        {'Department': department,\n",
    "         'Job title': titles,\n",
    "         'Salary lower': lbs,\n",
    "         'Salary upper': ubs,\n",
    "         'Weekly hours': hours\n",
    "        })\n",
    "    return job_data"
   ]
  },
  {
   "cell_type": "markdown",
   "id": "d0e0bb58",
   "metadata": {},
   "source": [
    "Let's try it out:"
   ]
  },
  {
   "cell_type": "code",
   "execution_count": 25,
   "id": "76a24b20",
   "metadata": {},
   "outputs": [
    {
     "data": {
      "text/html": [
       "<div>\n",
       "<style scoped>\n",
       "    .dataframe tbody tr th:only-of-type {\n",
       "        vertical-align: middle;\n",
       "    }\n",
       "\n",
       "    .dataframe tbody tr th {\n",
       "        vertical-align: top;\n",
       "    }\n",
       "\n",
       "    .dataframe thead th {\n",
       "        text-align: right;\n",
       "    }\n",
       "</style>\n",
       "<table border=\"1\" class=\"dataframe\">\n",
       "  <thead>\n",
       "    <tr style=\"text-align: right;\">\n",
       "      <th></th>\n",
       "      <th>Department</th>\n",
       "      <th>Job title</th>\n",
       "      <th>Salary lower</th>\n",
       "      <th>Salary upper</th>\n",
       "      <th>Weekly hours</th>\n",
       "    </tr>\n",
       "  </thead>\n",
       "  <tbody>\n",
       "    <tr>\n",
       "      <th>0</th>\n",
       "      <td>national administration</td>\n",
       "      <td>National Finance &amp; Administration Manager</td>\n",
       "      <td>54285.0</td>\n",
       "      <td>79040.0</td>\n",
       "      <td>50.0</td>\n",
       "    </tr>\n",
       "    <tr>\n",
       "      <th>1</th>\n",
       "      <td>national administration</td>\n",
       "      <td>National Tax Manager</td>\n",
       "      <td>44660.0</td>\n",
       "      <td>93655.0</td>\n",
       "      <td>50.0</td>\n",
       "    </tr>\n",
       "    <tr>\n",
       "      <th>2</th>\n",
       "      <td>national administration</td>\n",
       "      <td>Data Scientist</td>\n",
       "      <td>57.0</td>\n",
       "      <td>74430.0</td>\n",
       "      <td>40.0</td>\n",
       "    </tr>\n",
       "    <tr>\n",
       "      <th>3</th>\n",
       "      <td>national administration</td>\n",
       "      <td>National Finance &amp; Administration Team Leader</td>\n",
       "      <td>47100.0</td>\n",
       "      <td>54255.0</td>\n",
       "      <td>40.0</td>\n",
       "    </tr>\n",
       "    <tr>\n",
       "      <th>4</th>\n",
       "      <td>national administration</td>\n",
       "      <td>Technical Analyst</td>\n",
       "      <td>47100.0</td>\n",
       "      <td>54255.0</td>\n",
       "      <td>40.0</td>\n",
       "    </tr>\n",
       "  </tbody>\n",
       "</table>\n",
       "</div>"
      ],
      "text/plain": [
       "                Department                                      Job title  \\\n",
       "0  national administration      National Finance & Administration Manager   \n",
       "1  national administration                           National Tax Manager   \n",
       "2  national administration                                 Data Scientist   \n",
       "3  national administration  National Finance & Administration Team Leader   \n",
       "4  national administration                              Technical Analyst   \n",
       "\n",
       "   Salary lower  Salary upper  Weekly hours  \n",
       "0       54285.0       79040.0          50.0  \n",
       "1       44660.0       93655.0          50.0  \n",
       "2          57.0       74430.0          40.0  \n",
       "3       47100.0       54255.0          40.0  \n",
       "4       47100.0       54255.0          40.0  "
      ]
     },
     "execution_count": 25,
     "metadata": {},
     "output_type": "execute_result"
    }
   ],
   "source": [
    "aldi_job_data = scrape_aldi_jobs()\n",
    "aldi_job_data.head()"
   ]
  },
  {
   "cell_type": "markdown",
   "id": "e9b86b79",
   "metadata": {},
   "source": [
    "We can now explore the data frame, improve our code if we find issues, and then analyze it. For example, let's have a look at a simple histogram of postings per department."
   ]
  },
  {
   "cell_type": "code",
   "execution_count": 26,
   "id": "45aee99e",
   "metadata": {},
   "outputs": [
    {
     "data": {
      "image/png": "[encoded data removed]",
      "text/plain": [
       "<Figure size 2160x720 with 1 Axes>"
      ]
     },
     "metadata": {
      "needs_background": "light"
     },
     "output_type": "display_data"
    }
   ],
   "source": [
    "import seaborn as sns\n",
    "import matplotlib.pyplot as plt\n",
    "\n",
    "fig, ax = plt.subplots()\n",
    "fig.set_size_inches(30, 10)\n",
    "sns.histplot(data=aldi_job_data, x=\"Department\",ax=ax)\n",
    "plt.show()"
   ]
  },
  {
   "cell_type": "markdown",
   "id": "8e1fc1d9",
   "metadata": {},
   "source": [
    "Finally, save the job postings we found as a CSV:"
   ]
  },
  {
   "cell_type": "code",
   "execution_count": 27,
   "id": "1ce7d36f",
   "metadata": {},
   "outputs": [],
   "source": [
    "aldi_job_data.to_csv('Aldi_postings_2021-10-14.csv', index=False)"
   ]
  },
  {
   "cell_type": "markdown",
   "id": "4499a8ef",
   "metadata": {},
   "source": [
    "## Exercise 1\n",
    "\n",
    "Can you correct the scraping function to avoid issues with the salary or weekly hour number? Define a new function `scrape_aldi_jobs_corrected`, in which you eliminate any issues you come across in the data."
   ]
  },
  {
   "cell_type": "code",
   "execution_count": null,
   "id": "5253d806",
   "metadata": {},
   "outputs": [],
   "source": []
  },
  {
   "cell_type": "code",
   "execution_count": null,
   "id": "60311b30",
   "metadata": {},
   "outputs": [],
   "source": []
  },
  {
   "cell_type": "markdown",
   "id": "69ae57a2",
   "metadata": {},
   "source": [
    "## Exercise 2\n",
    "\n",
    "The idea is that we run our code regularly and observe the current postings. For this, we need to do the following:\n",
    "1. Load an existing csv file with job postings (on Moodle)\n",
    "2. For any job currently found on the website, check whether it was already posted previously (for simplicity, only compare Department and Job title)\n",
    "3. If the job posting is new, add today as the posting date in the data frame. Otherwise, add the date of the previous file"
   ]
  },
  {
   "cell_type": "code",
   "execution_count": null,
   "id": "2e4dd466",
   "metadata": {},
   "outputs": [],
   "source": []
  },
  {
   "cell_type": "code",
   "execution_count": null,
   "id": "a551dc4b",
   "metadata": {},
   "outputs": [],
   "source": []
  },
  {
   "cell_type": "markdown",
   "id": "04e19a87",
   "metadata": {},
   "source": [
    "## 1.2 A more advanced case - using Selenium to enter details"
   ]
  },
  {
   "cell_type": "markdown",
   "id": "43a406a1",
   "metadata": {},
   "source": [
    "Let's get data from a second competitor. We will use Lidle here (I am, of course, not biased in my choices). Check out Lidl's hiring page https://careers.lidl.co.uk/ and start a search. Then look at the link where you landed at - can you see why things are a bit more complex here?\n",
    "\n",
    "Since we cannot just find the right links, we need to act like a browser. This is where Selenium comes in - it will literally run a browser!"
   ]
  },
  {
   "cell_type": "code",
   "execution_count": null,
   "id": "47cdaebb",
   "metadata": {},
   "outputs": [],
   "source": [
    "import requests\n",
    "from bs4 import BeautifulSoup\n",
    "import selenium\n",
    "from selenium import webdriver\n",
    "from selenium.webdriver.support.ui import WebDriverWait\n",
    "from selenium.webdriver.common.keys import Keys\n",
    "import pandas as pd\n",
    "import re\n",
    "import time"
   ]
  },
  {
   "cell_type": "markdown",
   "id": "aff2c8c8",
   "metadata": {},
   "source": [
    "We need to choose the type of browser that Selenium runs - and each comes with its own access and installation requirements. I personally recommend using Chrome. However, to use Chrome, with Selenium, you need to install ChromeDriver. The site https://sites.google.com/chromium.org/driver/downloads gives download files, which should work fine for Windows users. Simply download and unpack the Zip, which gives you a .exe file. Either move it somewhere on your PATH, or add it to your path (https://stackoverflow.com/questions/4822400/register-an-exe-so-you-can-run-it-from-any-command-line-in-windows gives a good description how to).\n",
    "\n",
    "On Mac, you may run into access issues. The easiest way to proceed is to use Homebrew (https://brew.sh/ shows how to use it). Once done, type\n",
    "```\n",
    "brew install chromedriver\n",
    "```\n",
    "into your terminal.\n",
    "Other options can be found here: https://www.kenst.com/2015/03/installing-chromedriver-on-mac-osx/ (note that the syntax can be a bit outdated).\n",
    "\n",
    "Once done, the below code will open a new window in the browser of your choice (here Chrome):"
   ]
  },
  {
   "cell_type": "code",
   "execution_count": null,
   "id": "6e74df31",
   "metadata": {},
   "outputs": [],
   "source": [
    "driver = webdriver.Chrome()\n",
    "driver.get(\"https://careers.lidl.co.uk/jobsearch\")"
   ]
  },
  {
   "cell_type": "markdown",
   "id": "c0817a32",
   "metadata": {},
   "source": [
    "You will notice that this is a completely new Chrome process - so cookies are not yet accepted. To see what's going on, let's start by accepting cookies. How do we do this? We simply find the right button (by insepcting the site, then copying the XPath), and then let Selenium click this button!"
   ]
  },
  {
   "cell_type": "code",
   "execution_count": null,
   "id": "98fcafde",
   "metadata": {},
   "outputs": [],
   "source": [
    "cookie_button = driver.find_element_by_xpath('//*[@id=\"CybotCookiebotDialog\"]/div/div[1]/button')\n",
    "cookie_button.click()"
   ]
  },
  {
   "cell_type": "markdown",
   "id": "d597d6b3",
   "metadata": {},
   "source": [
    "The Lidl jobs site offers the option to select head office positions, just like Aldi. However, the link is relatively complex, so we will simply let Selenium click on the right button again."
   ]
  },
  {
   "cell_type": "code",
   "execution_count": null,
   "id": "11ae110b",
   "metadata": {},
   "outputs": [],
   "source": [
    "head_office_button = driver.find_element_by_xpath('//*[@id=\"react-container\"]/div[3]/div/div/div/div/div[1]/div/a')\n",
    "head_office_button.click()"
   ]
  },
  {
   "cell_type": "markdown",
   "id": "3e12b04d",
   "metadata": {},
   "source": [
    "There are a few positions here. If you click on any of those, you'll notice that the links are relatively simple in structure and don't depend on your website interaction. Hence, the easiest is for us to collect all the posting links"
   ]
  },
  {
   "cell_type": "code",
   "execution_count": null,
   "id": "ff9f39af",
   "metadata": {},
   "outputs": [],
   "source": [
    "posting_urls = []\n",
    "postings = driver.find_elements_by_class_name('jobResult')\n",
    "for posting in postings:\n",
    "    posting_urls.append(posting.get_attribute('href'))"
   ]
  },
  {
   "cell_type": "markdown",
   "id": "a6da6af5",
   "metadata": {},
   "source": [
    "It may be that postings are spread across multiple pages (delete the filters to see this). Luckily, there is a forward button that let's us scroll through the pages. We can easily combine this with our previous code. Note that we only move forward if the next page element actually exists.\n",
    "There can be a problem with identifying the button location. Usually, this can be fixed by maximizing the window in which Selenium runs.\n",
    "\n",
    "\n",
    "Also, we add an implict wait so that the server has time to respond before our clicks."
   ]
  },
  {
   "cell_type": "code",
   "execution_count": null,
   "id": "7818e1b7",
   "metadata": {},
   "outputs": [],
   "source": [
    "stop = False\n",
    "posting_urls = []\n",
    "while not stop:\n",
    "    driver.implicitly_wait(5)\n",
    "    postings = driver.find_elements_by_class_name('jobResult')\n",
    "    print(\"Found \" + str(len(postings)) + \" postings\")\n",
    "    for posting in postings:\n",
    "        posting_urls.append(posting.get_attribute('href'))\n",
    "    next_elements = driver.find_elements_by_class_name('paginationArrow_next')\n",
    "    if len(next_elements) > 0:\n",
    "        element = driver.find_element_by_class_name('paginationArrow_next')\n",
    "        if element.is_enabled():\n",
    "            driver.execute_script(\"arguments[0].click();\", element)\n",
    "            time.sleep(3)\n",
    "        else:\n",
    "            stop = True\n",
    "    else:\n",
    "        stop = True"
   ]
  },
  {
   "cell_type": "markdown",
   "id": "67abf1e8",
   "metadata": {},
   "source": [
    "## Exercise 3 - we will get back to this one during the tutorial\n",
    "\n",
    "Now that we have loaded the urls of the relevant vacancies, can you extract some key information (e.g., title and postcode of location)? This will be similar to what we did for the Aldi vacancies."
   ]
  },
  {
   "cell_type": "code",
   "execution_count": null,
   "id": "d96b532f",
   "metadata": {},
   "outputs": [],
   "source": []
  },
  {
   "cell_type": "code",
   "execution_count": null,
   "id": "739db3fa",
   "metadata": {},
   "outputs": [],
   "source": []
  },
  {
   "cell_type": "markdown",
   "id": "6c420cc1",
   "metadata": {},
   "source": [
    "# 2. Basics of classes"
   ]
  },
  {
   "cell_type": "markdown",
   "id": "7511eab2",
   "metadata": {},
   "source": [
    "Let's start by defining the class `Car`. No matter the car, it will have a make, a model, a number of horsepowers, and a (maximum) speed. So we can use these attributes to define objects of our class:"
   ]
  },
  {
   "cell_type": "code",
   "execution_count": 28,
   "id": "26cfde5c",
   "metadata": {},
   "outputs": [],
   "source": [
    "class Car():\n",
    "    # initialization function\n",
    "    def __init__(self, make, model, hp, speed):\n",
    "        self.make = make\n",
    "        self.model = model\n",
    "        self.hp = hp\n",
    "        self.speed = speed"
   ]
  },
  {
   "cell_type": "markdown",
   "id": "ea4a4e79",
   "metadata": {},
   "source": [
    "We can now define an object, for example, a Toyota Camry with 100 horse power and a maximum speed of 120 (miles/hour)"
   ]
  },
  {
   "cell_type": "code",
   "execution_count": 29,
   "id": "62a990f3",
   "metadata": {},
   "outputs": [],
   "source": [
    "car1 = Car(\"Toyota\",\"Camry\",100,120)"
   ]
  },
  {
   "cell_type": "markdown",
   "id": "6a1aed0b",
   "metadata": {},
   "source": [
    "When coding, we often print out \"things\", at the very least to debug. Let's see what happens when we print out our object:"
   ]
  },
  {
   "cell_type": "code",
   "execution_count": 30,
   "id": "ff77d9b6",
   "metadata": {},
   "outputs": [
    {
     "name": "stdout",
     "output_type": "stream",
     "text": [
      "<__main__.Car object at 0x7fa2db9f4070>\n"
     ]
    }
   ],
   "source": [
    "print(car1)"
   ]
  },
  {
   "cell_type": "markdown",
   "id": "98f0a31f",
   "metadata": {},
   "source": [
    "To adjust how an object is represented as a string, we (re)define the `__str__` method:"
   ]
  },
  {
   "cell_type": "code",
   "execution_count": 31,
   "id": "31ccc88d",
   "metadata": {},
   "outputs": [],
   "source": [
    "class Car():\n",
    "    def __init__(self,make, model, hp, speed):\n",
    "        self.make = make\n",
    "        self.model = model\n",
    "        self.hp = hp\n",
    "        self.speed = speed\n",
    "    def __str__(self):\n",
    "        return \"Make: \" + self.make + \", Model: \" + self.model + \", Horse Power: \" + str(self.hp) + \", Speed: \" + str(self.speed)"
   ]
  },
  {
   "cell_type": "markdown",
   "id": "caf909e8",
   "metadata": {},
   "source": [
    "Now we should get something more descriptive:"
   ]
  },
  {
   "cell_type": "code",
   "execution_count": 32,
   "id": "73dd0112",
   "metadata": {},
   "outputs": [
    {
     "name": "stdout",
     "output_type": "stream",
     "text": [
      "Make: Toyota, Model: Camry, Horse Power: 100, Speed: 120\n"
     ]
    }
   ],
   "source": [
    "car2 = Car(\"Toyota\",\"Camry\",100,120)\n",
    "print(car2)"
   ]
  },
  {
   "cell_type": "markdown",
   "id": "975d12c6",
   "metadata": {},
   "source": [
    "Note that a string method *should* be unique to the specific object. If we have two `Car` objects that are different, they should also return a different string."
   ]
  },
  {
   "cell_type": "markdown",
   "id": "2fb3707e",
   "metadata": {},
   "source": [
    "We can also access the attributes of our `Car` objects:"
   ]
  },
  {
   "cell_type": "code",
   "execution_count": 33,
   "id": "871d7452",
   "metadata": {},
   "outputs": [
    {
     "name": "stdout",
     "output_type": "stream",
     "text": [
      "120\n"
     ]
    }
   ],
   "source": [
    "print(car2.speed)"
   ]
  },
  {
   "cell_type": "markdown",
   "id": "8b3949cb",
   "metadata": {},
   "source": [
    "And, since we can access the attributes, we can also set them to different values:"
   ]
  },
  {
   "cell_type": "code",
   "execution_count": 34,
   "id": "66e032ce",
   "metadata": {},
   "outputs": [],
   "source": [
    "car2.speed = 130"
   ]
  },
  {
   "cell_type": "code",
   "execution_count": 35,
   "id": "05dd09ee",
   "metadata": {},
   "outputs": [
    {
     "name": "stdout",
     "output_type": "stream",
     "text": [
      "130\n"
     ]
    }
   ],
   "source": [
    "print(car2.speed)"
   ]
  },
  {
   "cell_type": "markdown",
   "id": "f9c656c0",
   "metadata": {},
   "source": [
    "However, you should not change objects like this (because you may be changing things that the developer of the class doesn't want you to change, so that the code can continue running smoothly). Commonly, if you can safely change an object's attribute, there will be a \"setter\" method to do so. In this method, the developer may add in some safety checks to ensure your change is valid. Also, you should be using \"getter\" methods to call up attributes."
   ]
  },
  {
   "cell_type": "code",
   "execution_count": 37,
   "id": "b49cebbc",
   "metadata": {},
   "outputs": [],
   "source": [
    "class Car():\n",
    "    def __init__(self,make, model, hp, speed):\n",
    "        self.make = make\n",
    "        self.model = model\n",
    "        self.hp = hp\n",
    "        self.speed = speed\n",
    "    def __str__(self):\n",
    "        return \"Make: \" + self.make + \", Model: \" + self.model + \", Horse Power: \" + str(self.hp) + \", Speed: \" + str(self.speed)\n",
    "    def set_speed(self,speed):\n",
    "        if speed > 0:\n",
    "            self.speed = speed\n",
    "        else:\n",
    "            print(\"invalid speed\")\n",
    "    def get_speed(self):\n",
    "        return self.speed"
   ]
  },
  {
   "cell_type": "markdown",
   "id": "2a6f39dc",
   "metadata": {},
   "source": [
    "Let's create another car"
   ]
  },
  {
   "cell_type": "code",
   "execution_count": 38,
   "id": "e1b497b0",
   "metadata": {},
   "outputs": [],
   "source": [
    "car3 = Car(\"Toyota\",\"Camry\",100,120)"
   ]
  },
  {
   "cell_type": "markdown",
   "id": "2ff7c304",
   "metadata": {},
   "source": [
    "Now, try to set the speed to something invalid: this will not work (rightly so!)"
   ]
  },
  {
   "cell_type": "code",
   "execution_count": 39,
   "id": "cf04be6e",
   "metadata": {},
   "outputs": [
    {
     "name": "stdout",
     "output_type": "stream",
     "text": [
      "invalid speed\n"
     ]
    }
   ],
   "source": [
    "car3.set_speed(-10)"
   ]
  },
  {
   "cell_type": "markdown",
   "id": "b8f56219",
   "metadata": {},
   "source": [
    "We can confirm that nothing changed, by either calling the attribute directly (not recommended), or calling the \"getter\" method (recommended):"
   ]
  },
  {
   "cell_type": "code",
   "execution_count": 40,
   "id": "2de2ffdf",
   "metadata": {},
   "outputs": [
    {
     "data": {
      "text/plain": [
       "120"
      ]
     },
     "execution_count": 40,
     "metadata": {},
     "output_type": "execute_result"
    }
   ],
   "source": [
    "car3.get_speed()"
   ]
  },
  {
   "cell_type": "markdown",
   "id": "687f9e88",
   "metadata": {},
   "source": [
    "By directly accessing the `speed` attribute, however, we can set it to something invalid:"
   ]
  },
  {
   "cell_type": "code",
   "execution_count": 41,
   "id": "65f20eb6",
   "metadata": {},
   "outputs": [],
   "source": [
    "car3.speed = -10"
   ]
  },
  {
   "cell_type": "markdown",
   "id": "3f31c573",
   "metadata": {},
   "source": [
    "In fact, the maximum speed is now negative!"
   ]
  },
  {
   "cell_type": "code",
   "execution_count": 42,
   "id": "2e48e3af",
   "metadata": {},
   "outputs": [
    {
     "name": "stdout",
     "output_type": "stream",
     "text": [
      "-10\n"
     ]
    }
   ],
   "source": [
    "print(car3.get_speed())"
   ]
  },
  {
   "cell_type": "markdown",
   "id": "4a98dbd7",
   "metadata": {},
   "source": [
    "Let's correct this - with the \"setter\" method:"
   ]
  },
  {
   "cell_type": "code",
   "execution_count": 43,
   "id": "05570a3e",
   "metadata": {},
   "outputs": [],
   "source": [
    "car3.set_speed(130)"
   ]
  },
  {
   "cell_type": "markdown",
   "id": "21a13fab",
   "metadata": {},
   "source": [
    "Finally, we check again, using the \"getter\" method:"
   ]
  },
  {
   "cell_type": "code",
   "execution_count": 44,
   "id": "24db9472",
   "metadata": {},
   "outputs": [
    {
     "name": "stdout",
     "output_type": "stream",
     "text": [
      "130\n"
     ]
    }
   ],
   "source": [
    "print(car3.get_speed())"
   ]
  },
  {
   "cell_type": "markdown",
   "id": "cd9e9cbb",
   "metadata": {},
   "source": [
    "We can also use our objects as input to a method. For example, let's see whether our `Car` object is fast:"
   ]
  },
  {
   "cell_type": "code",
   "execution_count": 45,
   "id": "a6932225",
   "metadata": {},
   "outputs": [],
   "source": [
    "def is_car_fast(car):\n",
    "    if car.get_speed() > 130:\n",
    "        return True\n",
    "    else:\n",
    "        return False"
   ]
  },
  {
   "cell_type": "code",
   "execution_count": 46,
   "id": "deebc1de",
   "metadata": {},
   "outputs": [
    {
     "name": "stdout",
     "output_type": "stream",
     "text": [
      "False\n"
     ]
    }
   ],
   "source": [
    "print(is_car_fast(car3))"
   ]
  },
  {
   "cell_type": "markdown",
   "id": "af07f426",
   "metadata": {},
   "source": [
    "An important part of object-oriented programming is the ability to inherit. For example, just as we can make `Car` objects, we can make `Ford` objects. But any `Ford` is also a `Car`! In Python, inheritance is marked by adding another class as parameter to the class we are programming:"
   ]
  },
  {
   "cell_type": "code",
   "execution_count": 47,
   "id": "bd2c5157",
   "metadata": {},
   "outputs": [],
   "source": [
    "class Ford(Car):\n",
    "    def __init__(self, model, hp, speed):\n",
    "        Car.__init__(self, \"Ford\", model, hp, speed)"
   ]
  },
  {
   "cell_type": "markdown",
   "id": "82fbe071",
   "metadata": {},
   "source": [
    "In our case above, when we create a `Ford`, we create a `Car` with `\"Ford\"` as the make. Le'ts try it out:"
   ]
  },
  {
   "cell_type": "code",
   "execution_count": 48,
   "id": "d9f9b580",
   "metadata": {},
   "outputs": [],
   "source": [
    "ford1 = Ford(\"Focus\",80,110)"
   ]
  },
  {
   "cell_type": "code",
   "execution_count": 49,
   "id": "c89b11df",
   "metadata": {},
   "outputs": [
    {
     "name": "stdout",
     "output_type": "stream",
     "text": [
      "Make: Ford, Model: Focus, Horse Power: 80, Speed: 110\n"
     ]
    }
   ],
   "source": [
    "print(ford1)"
   ]
  },
  {
   "cell_type": "code",
   "execution_count": 50,
   "id": "554a3f63",
   "metadata": {},
   "outputs": [
    {
     "name": "stdout",
     "output_type": "stream",
     "text": [
      "<class '__main__.Ford'>\n"
     ]
    }
   ],
   "source": [
    "print(type(ford1))"
   ]
  },
  {
   "cell_type": "markdown",
   "id": "1be07a4a",
   "metadata": {},
   "source": [
    "## Exercise 4"
   ]
  },
  {
   "cell_type": "markdown",
   "id": "53a630de",
   "metadata": {},
   "source": [
    "Define a class `Person`, as follows:\n",
    "1. define an `__init__` method that takes a name and an age as argument and set the corresponding object-attributes\n",
    "2. define a `get_name` method that returns the name of the `Person`-object"
   ]
  },
  {
   "cell_type": "code",
   "execution_count": null,
   "id": "f434cb89",
   "metadata": {},
   "outputs": [],
   "source": []
  },
  {
   "cell_type": "markdown",
   "id": "357045fc",
   "metadata": {},
   "source": [
    "Next, define a class `Organization`:\n",
    "1. the class should have an `__init__` method, in which an empty object-specific list `hires` gets created\n",
    "2. the class should also have a `hire` method that takes a `Person` as an input and adds the person to the list of hires\n",
    "3. finally, the class should have a `__str__` method that returns a string including all the names of the hires"
   ]
  },
  {
   "cell_type": "code",
   "execution_count": null,
   "id": "b5eae085",
   "metadata": {},
   "outputs": [],
   "source": []
  },
  {
   "cell_type": "markdown",
   "id": "8dc67ac7",
   "metadata": {},
   "source": [
    "Create two persons with name and age. Then, create an organization, hire the two person, and run `print` on the organization:"
   ]
  },
  {
   "cell_type": "code",
   "execution_count": null,
   "id": "64f1e310",
   "metadata": {},
   "outputs": [],
   "source": []
  },
  {
   "cell_type": "markdown",
   "id": "62ab8cf7",
   "metadata": {},
   "source": [
    "# 3. Scrapy"
   ]
  },
  {
   "cell_type": "markdown",
   "id": "e42220db",
   "metadata": {},
   "source": [
    "We now turn to `scrapy`. As always, there is a package to import (and install, if you haven't done so already):"
   ]
  },
  {
   "cell_type": "code",
   "execution_count": 52,
   "id": "32b46c8f",
   "metadata": {},
   "outputs": [],
   "source": [
    "import scrapy"
   ]
  },
  {
   "cell_type": "markdown",
   "id": "8d2a1e54",
   "metadata": {},
   "source": [
    "We create a spider (which inherits from the `scrapy.Spider`), which starts with two subpages of http://quotes.toscrape.com/. Every time our spider parses a webpage, it simply saves the entire HTML document locally:"
   ]
  },
  {
   "cell_type": "code",
   "execution_count": 53,
   "id": "74f61643",
   "metadata": {},
   "outputs": [],
   "source": [
    "class QuotesSpider(scrapy.Spider):\n",
    "    name = \"quotes\"\n",
    "\n",
    "    start_urls = [\n",
    "        'http://quotes.toscrape.com/page/1/',\n",
    "        'http://quotes.toscrape.com/page/2/',\n",
    "    ]\n",
    "\n",
    "    def parse(self, response):\n",
    "        page = response.url.split(\"/\")[-2]\n",
    "        filename = f'quotes-page{page}.html'\n",
    "        with open(filename, 'wb') as f:\n",
    "            f.write(response.body)\n",
    "        self.log(f'Saved file {filename}')"
   ]
  },
  {
   "cell_type": "markdown",
   "id": "b500fca7",
   "metadata": {},
   "source": [
    "Usually, we run spiders from the terminal (we will see how to do this later). However, we can run the spider from a Jupyter notebook - once:"
   ]
  },
  {
   "cell_type": "code",
   "execution_count": 54,
   "id": "b48bfbae",
   "metadata": {},
   "outputs": [],
   "source": [
    "from scrapy.crawler import CrawlerProcess"
   ]
  },
  {
   "cell_type": "code",
   "execution_count": 56,
   "id": "8479d77b",
   "metadata": {},
   "outputs": [
    {
     "name": "stderr",
     "output_type": "stream",
     "text": [
      "2021-10-14 12:36:14 [scrapy.utils.log] INFO: Scrapy 2.4.1 started (bot: scrapybot)\n",
      "2021-10-14 12:36:14 [scrapy.utils.log] INFO: Versions: lxml 4.6.3.0, libxml2 2.9.12, cssselect 1.1.0, parsel 1.5.2, w3lib 1.21.0, Twisted 21.2.0, Python 3.8.2 (default, Mar 25 2020, 11:22:43) - [Clang 4.0.1 (tags/RELEASE_401/final)], pyOpenSSL 20.0.1 (OpenSSL 1.1.1l  24 Aug 2021), cryptography 3.4.7, Platform macOS-10.16-x86_64-i386-64bit\n",
      "2021-10-14 12:36:14 [scrapy.utils.log] DEBUG: Using reactor: twisted.internet.selectreactor.SelectReactor\n",
      "2021-10-14 12:36:14 [scrapy.crawler] INFO: Overridden settings:\n",
      "{}\n",
      "2021-10-14 12:36:14 [scrapy.extensions.telnet] INFO: Telnet Password: 6c9f3985730bfb43\n",
      "2021-10-14 12:36:14 [scrapy.middleware] INFO: Enabled extensions:\n",
      "['scrapy.extensions.corestats.CoreStats',\n",
      " 'scrapy.extensions.telnet.TelnetConsole',\n",
      " 'scrapy.extensions.memusage.MemoryUsage',\n",
      " 'scrapy.extensions.logstats.LogStats']\n",
      "2021-10-14 12:36:14 [scrapy.middleware] INFO: Enabled downloader middlewares:\n",
      "['scrapy.downloadermiddlewares.httpauth.HttpAuthMiddleware',\n",
      " 'scrapy.downloadermiddlewares.downloadtimeout.DownloadTimeoutMiddleware',\n",
      " 'scrapy.downloadermiddlewares.defaultheaders.DefaultHeadersMiddleware',\n",
      " 'scrapy.downloadermiddlewares.useragent.UserAgentMiddleware',\n",
      " 'scrapy.downloadermiddlewares.retry.RetryMiddleware',\n",
      " 'scrapy.downloadermiddlewares.redirect.MetaRefreshMiddleware',\n",
      " 'scrapy.downloadermiddlewares.httpcompression.HttpCompressionMiddleware',\n",
      " 'scrapy.downloadermiddlewares.redirect.RedirectMiddleware',\n",
      " 'scrapy.downloadermiddlewares.cookies.CookiesMiddleware',\n",
      " 'scrapy.downloadermiddlewares.httpproxy.HttpProxyMiddleware',\n",
      " 'scrapy.downloadermiddlewares.stats.DownloaderStats']\n",
      "2021-10-14 12:36:14 [scrapy.middleware] INFO: Enabled spider middlewares:\n",
      "['scrapy.spidermiddlewares.httperror.HttpErrorMiddleware',\n",
      " 'scrapy.spidermiddlewares.offsite.OffsiteMiddleware',\n",
      " 'scrapy.spidermiddlewares.referer.RefererMiddleware',\n",
      " 'scrapy.spidermiddlewares.urllength.UrlLengthMiddleware',\n",
      " 'scrapy.spidermiddlewares.depth.DepthMiddleware']\n",
      "2021-10-14 12:36:14 [scrapy.middleware] INFO: Enabled item pipelines:\n",
      "[]\n",
      "2021-10-14 12:36:14 [scrapy.core.engine] INFO: Spider opened\n",
      "2021-10-14 12:36:14 [scrapy.extensions.logstats] INFO: Crawled 0 pages (at 0 pages/min), scraped 0 items (at 0 items/min)\n",
      "2021-10-14 12:36:14 [scrapy.extensions.telnet] INFO: Telnet console listening on 127.0.0.1:6023\n"
     ]
    },
    {
     "ename": "ReactorNotRestartable",
     "evalue": "",
     "output_type": "error",
     "traceback": [
      "\u001b[0;31m---------------------------------------------------------------------------\u001b[0m",
      "\u001b[0;31mReactorNotRestartable\u001b[0m                     Traceback (most recent call last)",
      "\u001b[0;32m/var/folders/fr/m4v_69gx29dghgljd9_f6r4w0000gn/T/ipykernel_8919/1927567328.py\u001b[0m in \u001b[0;36m<module>\u001b[0;34m\u001b[0m\n\u001b[1;32m      1\u001b[0m \u001b[0mprocess\u001b[0m \u001b[0;34m=\u001b[0m \u001b[0mCrawlerProcess\u001b[0m\u001b[0;34m(\u001b[0m\u001b[0;34m)\u001b[0m\u001b[0;34m\u001b[0m\u001b[0;34m\u001b[0m\u001b[0m\n\u001b[1;32m      2\u001b[0m \u001b[0mprocess\u001b[0m\u001b[0;34m.\u001b[0m\u001b[0mcrawl\u001b[0m\u001b[0;34m(\u001b[0m\u001b[0mQuotesSpider\u001b[0m\u001b[0;34m)\u001b[0m\u001b[0;34m\u001b[0m\u001b[0;34m\u001b[0m\u001b[0m\n\u001b[0;32m----> 3\u001b[0;31m \u001b[0mprocess\u001b[0m\u001b[0;34m.\u001b[0m\u001b[0mstart\u001b[0m\u001b[0;34m(\u001b[0m\u001b[0;34m)\u001b[0m\u001b[0;34m\u001b[0m\u001b[0;34m\u001b[0m\u001b[0m\n\u001b[0m",
      "\u001b[0;32m/opt/anaconda3/lib/python3.8/site-packages/scrapy/crawler.py\u001b[0m in \u001b[0;36mstart\u001b[0;34m(self, stop_after_crawl)\u001b[0m\n\u001b[1;32m    325\u001b[0m         \u001b[0mtp\u001b[0m\u001b[0;34m.\u001b[0m\u001b[0madjustPoolsize\u001b[0m\u001b[0;34m(\u001b[0m\u001b[0mmaxthreads\u001b[0m\u001b[0;34m=\u001b[0m\u001b[0mself\u001b[0m\u001b[0;34m.\u001b[0m\u001b[0msettings\u001b[0m\u001b[0;34m.\u001b[0m\u001b[0mgetint\u001b[0m\u001b[0;34m(\u001b[0m\u001b[0;34m'REACTOR_THREADPOOL_MAXSIZE'\u001b[0m\u001b[0;34m)\u001b[0m\u001b[0;34m)\u001b[0m\u001b[0;34m\u001b[0m\u001b[0;34m\u001b[0m\u001b[0m\n\u001b[1;32m    326\u001b[0m         \u001b[0mreactor\u001b[0m\u001b[0;34m.\u001b[0m\u001b[0maddSystemEventTrigger\u001b[0m\u001b[0;34m(\u001b[0m\u001b[0;34m'before'\u001b[0m\u001b[0;34m,\u001b[0m \u001b[0;34m'shutdown'\u001b[0m\u001b[0;34m,\u001b[0m \u001b[0mself\u001b[0m\u001b[0;34m.\u001b[0m\u001b[0mstop\u001b[0m\u001b[0;34m)\u001b[0m\u001b[0;34m\u001b[0m\u001b[0;34m\u001b[0m\u001b[0m\n\u001b[0;32m--> 327\u001b[0;31m         \u001b[0mreactor\u001b[0m\u001b[0;34m.\u001b[0m\u001b[0mrun\u001b[0m\u001b[0;34m(\u001b[0m\u001b[0minstallSignalHandlers\u001b[0m\u001b[0;34m=\u001b[0m\u001b[0;32mFalse\u001b[0m\u001b[0;34m)\u001b[0m  \u001b[0;31m# blocking call\u001b[0m\u001b[0;34m\u001b[0m\u001b[0;34m\u001b[0m\u001b[0m\n\u001b[0m\u001b[1;32m    328\u001b[0m \u001b[0;34m\u001b[0m\u001b[0m\n\u001b[1;32m    329\u001b[0m     \u001b[0;32mdef\u001b[0m \u001b[0m_graceful_stop_reactor\u001b[0m\u001b[0;34m(\u001b[0m\u001b[0mself\u001b[0m\u001b[0;34m)\u001b[0m\u001b[0;34m:\u001b[0m\u001b[0;34m\u001b[0m\u001b[0;34m\u001b[0m\u001b[0m\n",
      "\u001b[0;32m/opt/anaconda3/lib/python3.8/site-packages/twisted/internet/base.py\u001b[0m in \u001b[0;36mrun\u001b[0;34m(self, installSignalHandlers)\u001b[0m\n\u001b[1;32m   1420\u001b[0m \u001b[0;34m\u001b[0m\u001b[0m\n\u001b[1;32m   1421\u001b[0m     \u001b[0;32mdef\u001b[0m \u001b[0mrun\u001b[0m\u001b[0;34m(\u001b[0m\u001b[0mself\u001b[0m\u001b[0;34m,\u001b[0m \u001b[0minstallSignalHandlers\u001b[0m\u001b[0;34m:\u001b[0m \u001b[0mbool\u001b[0m \u001b[0;34m=\u001b[0m \u001b[0;32mTrue\u001b[0m\u001b[0;34m)\u001b[0m \u001b[0;34m->\u001b[0m \u001b[0;32mNone\u001b[0m\u001b[0;34m:\u001b[0m\u001b[0;34m\u001b[0m\u001b[0;34m\u001b[0m\u001b[0m\n\u001b[0;32m-> 1422\u001b[0;31m         \u001b[0mself\u001b[0m\u001b[0;34m.\u001b[0m\u001b[0mstartRunning\u001b[0m\u001b[0;34m(\u001b[0m\u001b[0minstallSignalHandlers\u001b[0m\u001b[0;34m=\u001b[0m\u001b[0minstallSignalHandlers\u001b[0m\u001b[0;34m)\u001b[0m\u001b[0;34m\u001b[0m\u001b[0;34m\u001b[0m\u001b[0m\n\u001b[0m\u001b[1;32m   1423\u001b[0m         \u001b[0mself\u001b[0m\u001b[0;34m.\u001b[0m\u001b[0mmainLoop\u001b[0m\u001b[0;34m(\u001b[0m\u001b[0;34m)\u001b[0m\u001b[0;34m\u001b[0m\u001b[0;34m\u001b[0m\u001b[0m\n\u001b[1;32m   1424\u001b[0m \u001b[0;34m\u001b[0m\u001b[0m\n",
      "\u001b[0;32m/opt/anaconda3/lib/python3.8/site-packages/twisted/internet/base.py\u001b[0m in \u001b[0;36mstartRunning\u001b[0;34m(self, installSignalHandlers)\u001b[0m\n\u001b[1;32m   1402\u001b[0m         \"\"\"\n\u001b[1;32m   1403\u001b[0m         \u001b[0mself\u001b[0m\u001b[0;34m.\u001b[0m\u001b[0m_installSignalHandlers\u001b[0m \u001b[0;34m=\u001b[0m \u001b[0minstallSignalHandlers\u001b[0m\u001b[0;34m\u001b[0m\u001b[0;34m\u001b[0m\u001b[0m\n\u001b[0;32m-> 1404\u001b[0;31m         \u001b[0mReactorBase\u001b[0m\u001b[0;34m.\u001b[0m\u001b[0mstartRunning\u001b[0m\u001b[0;34m(\u001b[0m\u001b[0mcast\u001b[0m\u001b[0;34m(\u001b[0m\u001b[0mReactorBase\u001b[0m\u001b[0;34m,\u001b[0m \u001b[0mself\u001b[0m\u001b[0;34m)\u001b[0m\u001b[0;34m)\u001b[0m\u001b[0;34m\u001b[0m\u001b[0;34m\u001b[0m\u001b[0m\n\u001b[0m\u001b[1;32m   1405\u001b[0m \u001b[0;34m\u001b[0m\u001b[0m\n\u001b[1;32m   1406\u001b[0m     \u001b[0;32mdef\u001b[0m \u001b[0m_reallyStartRunning\u001b[0m\u001b[0;34m(\u001b[0m\u001b[0mself\u001b[0m\u001b[0;34m)\u001b[0m \u001b[0;34m->\u001b[0m \u001b[0;32mNone\u001b[0m\u001b[0;34m:\u001b[0m\u001b[0;34m\u001b[0m\u001b[0;34m\u001b[0m\u001b[0m\n",
      "\u001b[0;32m/opt/anaconda3/lib/python3.8/site-packages/twisted/internet/base.py\u001b[0m in \u001b[0;36mstartRunning\u001b[0;34m(self)\u001b[0m\n\u001b[1;32m    841\u001b[0m             \u001b[0;32mraise\u001b[0m \u001b[0merror\u001b[0m\u001b[0;34m.\u001b[0m\u001b[0mReactorAlreadyRunning\u001b[0m\u001b[0;34m(\u001b[0m\u001b[0;34m)\u001b[0m\u001b[0;34m\u001b[0m\u001b[0;34m\u001b[0m\u001b[0m\n\u001b[1;32m    842\u001b[0m         \u001b[0;32mif\u001b[0m \u001b[0mself\u001b[0m\u001b[0;34m.\u001b[0m\u001b[0m_startedBefore\u001b[0m\u001b[0;34m:\u001b[0m\u001b[0;34m\u001b[0m\u001b[0;34m\u001b[0m\u001b[0m\n\u001b[0;32m--> 843\u001b[0;31m             \u001b[0;32mraise\u001b[0m \u001b[0merror\u001b[0m\u001b[0;34m.\u001b[0m\u001b[0mReactorNotRestartable\u001b[0m\u001b[0;34m(\u001b[0m\u001b[0;34m)\u001b[0m\u001b[0;34m\u001b[0m\u001b[0;34m\u001b[0m\u001b[0m\n\u001b[0m\u001b[1;32m    844\u001b[0m         \u001b[0mself\u001b[0m\u001b[0;34m.\u001b[0m\u001b[0m_started\u001b[0m \u001b[0;34m=\u001b[0m \u001b[0;32mTrue\u001b[0m\u001b[0;34m\u001b[0m\u001b[0;34m\u001b[0m\u001b[0m\n\u001b[1;32m    845\u001b[0m         \u001b[0mself\u001b[0m\u001b[0;34m.\u001b[0m\u001b[0m_stopped\u001b[0m \u001b[0;34m=\u001b[0m \u001b[0;32mFalse\u001b[0m\u001b[0;34m\u001b[0m\u001b[0;34m\u001b[0m\u001b[0m\n",
      "\u001b[0;31mReactorNotRestartable\u001b[0m: "
     ]
    }
   ],
   "source": [
    "process = CrawlerProcess()\n",
    "process.crawl(QuotesSpider)\n",
    "process.start()"
   ]
  },
  {
   "cell_type": "markdown",
   "id": "a3c39cd4",
   "metadata": {},
   "source": [
    "But try doing this again (without restarting the kernel), and you are likely to run into problems. There are, in principle, ways around this, but they are quite tedious. So let's take a look at running `scrapy` from the terminal."
   ]
  }
 ],
 "metadata": {
  "interpreter": {
   "hash": "40d3a090f54c6569ab1632332b64b2c03c39dcf918b08424e98f38b5ae0af88f"
  },
  "kernelspec": {
   "display_name": "Python 3.8.2 64-bit ('base': conda)",
   "name": "python3"
  },
  "language_info": {
   "codemirror_mode": {
    "name": "ipython",
    "version": 3
   },
   "file_extension": ".py",
   "mimetype": "text/x-python",
   "name": "python",
   "nbconvert_exporter": "python",
   "pygments_lexer": "ipython3",
   "version": "3.8.2"
  }
 },
 "nbformat": 4,
 "nbformat_minor": 5
}
