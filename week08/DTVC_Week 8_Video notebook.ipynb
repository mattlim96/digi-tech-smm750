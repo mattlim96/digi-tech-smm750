{
 "cells": [
  {
   "cell_type": "code",
   "execution_count": 9,
   "metadata": {},
   "outputs": [],
   "source": [
    "import pandas as pd\n",
    "import numpy as np\n",
    "import matplotlib as mp\n",
    "import matplotlib.pyplot as plt\n",
    "import seaborn as sns\n",
    "import graphviz as gp\n",
    "import statsmodels.api as sm\n",
    "from sklearn.tree import DecisionTreeClassifier\n",
    "from sklearn.model_selection import train_test_split\n",
    "from sklearn.metrics import mean_squared_error\n",
    "from sklearn.tree import DecisionTreeRegressor\n",
    "from sklearn.ensemble import RandomForestRegressor\n",
    "from sklearn.ensemble import GradientBoostingRegressor\n",
    "from sklearn.tree import export_graphviz\n",
    "from sklearn.metrics import accuracy_score"
   ]
  },
  {
   "cell_type": "markdown",
   "metadata": {},
   "source": [
    "# Part 1: Running CART on the Titanic dataset\n",
    "\n",
    "The goal here is to run CART on the full Titanic dataset (we take the training dataset provided by Kaggle and split it three ways into testing, training, validation - the testing set provided by Kaggle does not have the \"Survived\" category making it impossible for us to measure the quality of our model). This dataset has already been fully pre-processed --- note that this data prepreprocessing has been carried separately on each dataset to avoid train-test contamination."
   ]
  },
  {
   "cell_type": "code",
   "execution_count": 10,
   "metadata": {},
   "outputs": [],
   "source": [
    "Titanic_train=pd.read_csv(\"Titanic_train_cleaned.csv\")\n",
    "Titanic_test=pd.read_csv(\"Titanic_test_cleaned.csv\")\n",
    "Titanic_validation=pd.read_csv(\"Titanic_val_cleaned.csv\")"
   ]
  },
  {
   "cell_type": "code",
   "execution_count": 11,
   "metadata": {},
   "outputs": [],
   "source": [
    "ytrain=Titanic_train[[\"Survived\"]]\n",
    "Xtrain=Titanic_train.drop(columns=\"Survived\")"
   ]
  },
  {
   "cell_type": "code",
   "execution_count": 12,
   "metadata": {},
   "outputs": [],
   "source": [
    "yvalidation=Titanic_validation[[\"Survived\"]]\n",
    "Xvalidation=Titanic_validation.drop(columns=\"Survived\")"
   ]
  },
  {
   "cell_type": "code",
   "execution_count": 13,
   "metadata": {},
   "outputs": [],
   "source": [
    "ytest=Titanic_test[[\"Survived\"]]\n",
    "Xtest=Titanic_test.drop(columns=\"Survived\")"
   ]
  },
  {
   "cell_type": "code",
   "execution_count": 14,
   "metadata": {},
   "outputs": [
    {
     "data": {
      "text/html": [
       "<div>\n",
       "<style scoped>\n",
       "    .dataframe tbody tr th:only-of-type {\n",
       "        vertical-align: middle;\n",
       "    }\n",
       "\n",
       "    .dataframe tbody tr th {\n",
       "        vertical-align: top;\n",
       "    }\n",
       "\n",
       "    .dataframe thead th {\n",
       "        text-align: right;\n",
       "    }\n",
       "</style>\n",
       "<table border=\"1\" class=\"dataframe\">\n",
       "  <thead>\n",
       "    <tr style=\"text-align: right;\">\n",
       "      <th></th>\n",
       "      <th>Pclass</th>\n",
       "      <th>Age</th>\n",
       "      <th>Fare</th>\n",
       "      <th>Family_Presence</th>\n",
       "      <th>Sex_male</th>\n",
       "      <th>Embarked_Q</th>\n",
       "      <th>Embarked_S</th>\n",
       "    </tr>\n",
       "  </thead>\n",
       "  <tbody>\n",
       "    <tr>\n",
       "      <th>0</th>\n",
       "      <td>3</td>\n",
       "      <td>1.000000</td>\n",
       "      <td>11.1333</td>\n",
       "      <td>1</td>\n",
       "      <td>0</td>\n",
       "      <td>0</td>\n",
       "      <td>1</td>\n",
       "    </tr>\n",
       "    <tr>\n",
       "      <th>1</th>\n",
       "      <td>2</td>\n",
       "      <td>41.000000</td>\n",
       "      <td>19.5000</td>\n",
       "      <td>1</td>\n",
       "      <td>0</td>\n",
       "      <td>0</td>\n",
       "      <td>1</td>\n",
       "    </tr>\n",
       "    <tr>\n",
       "      <th>2</th>\n",
       "      <td>3</td>\n",
       "      <td>17.000000</td>\n",
       "      <td>8.6625</td>\n",
       "      <td>0</td>\n",
       "      <td>1</td>\n",
       "      <td>0</td>\n",
       "      <td>1</td>\n",
       "    </tr>\n",
       "    <tr>\n",
       "      <th>3</th>\n",
       "      <td>2</td>\n",
       "      <td>42.000000</td>\n",
       "      <td>26.0000</td>\n",
       "      <td>1</td>\n",
       "      <td>0</td>\n",
       "      <td>0</td>\n",
       "      <td>1</td>\n",
       "    </tr>\n",
       "    <tr>\n",
       "      <th>4</th>\n",
       "      <td>3</td>\n",
       "      <td>30.378347</td>\n",
       "      <td>23.2500</td>\n",
       "      <td>1</td>\n",
       "      <td>0</td>\n",
       "      <td>1</td>\n",
       "      <td>0</td>\n",
       "    </tr>\n",
       "    <tr>\n",
       "      <th>...</th>\n",
       "      <td>...</td>\n",
       "      <td>...</td>\n",
       "      <td>...</td>\n",
       "      <td>...</td>\n",
       "      <td>...</td>\n",
       "      <td>...</td>\n",
       "      <td>...</td>\n",
       "    </tr>\n",
       "    <tr>\n",
       "      <th>440</th>\n",
       "      <td>2</td>\n",
       "      <td>42.000000</td>\n",
       "      <td>27.0000</td>\n",
       "      <td>1</td>\n",
       "      <td>1</td>\n",
       "      <td>0</td>\n",
       "      <td>1</td>\n",
       "    </tr>\n",
       "    <tr>\n",
       "      <th>441</th>\n",
       "      <td>1</td>\n",
       "      <td>38.000000</td>\n",
       "      <td>80.0000</td>\n",
       "      <td>0</td>\n",
       "      <td>0</td>\n",
       "      <td>0</td>\n",
       "      <td>1</td>\n",
       "    </tr>\n",
       "    <tr>\n",
       "      <th>442</th>\n",
       "      <td>1</td>\n",
       "      <td>33.000000</td>\n",
       "      <td>53.1000</td>\n",
       "      <td>1</td>\n",
       "      <td>0</td>\n",
       "      <td>0</td>\n",
       "      <td>1</td>\n",
       "    </tr>\n",
       "    <tr>\n",
       "      <th>443</th>\n",
       "      <td>2</td>\n",
       "      <td>30.378347</td>\n",
       "      <td>13.8625</td>\n",
       "      <td>0</td>\n",
       "      <td>1</td>\n",
       "      <td>0</td>\n",
       "      <td>0</td>\n",
       "    </tr>\n",
       "    <tr>\n",
       "      <th>444</th>\n",
       "      <td>3</td>\n",
       "      <td>9.000000</td>\n",
       "      <td>31.3875</td>\n",
       "      <td>1</td>\n",
       "      <td>1</td>\n",
       "      <td>0</td>\n",
       "      <td>1</td>\n",
       "    </tr>\n",
       "  </tbody>\n",
       "</table>\n",
       "<p>445 rows × 7 columns</p>\n",
       "</div>"
      ],
      "text/plain": [
       "     Pclass        Age     Fare  Family_Presence  Sex_male  Embarked_Q  \\\n",
       "0         3   1.000000  11.1333                1         0           0   \n",
       "1         2  41.000000  19.5000                1         0           0   \n",
       "2         3  17.000000   8.6625                0         1           0   \n",
       "3         2  42.000000  26.0000                1         0           0   \n",
       "4         3  30.378347  23.2500                1         0           1   \n",
       "..      ...        ...      ...              ...       ...         ...   \n",
       "440       2  42.000000  27.0000                1         1           0   \n",
       "441       1  38.000000  80.0000                0         0           0   \n",
       "442       1  33.000000  53.1000                1         0           0   \n",
       "443       2  30.378347  13.8625                0         1           0   \n",
       "444       3   9.000000  31.3875                1         1           0   \n",
       "\n",
       "     Embarked_S  \n",
       "0             1  \n",
       "1             1  \n",
       "2             1  \n",
       "3             1  \n",
       "4             0  \n",
       "..          ...  \n",
       "440           1  \n",
       "441           1  \n",
       "442           1  \n",
       "443           0  \n",
       "444           1  \n",
       "\n",
       "[445 rows x 7 columns]"
      ]
     },
     "execution_count": 14,
     "metadata": {},
     "output_type": "execute_result"
    }
   ],
   "source": [
    "Xtrain"
   ]
  },
  {
   "cell_type": "code",
   "execution_count": 15,
   "metadata": {},
   "outputs": [
    {
     "data": {
      "text/html": [
       "<div>\n",
       "<style scoped>\n",
       "    .dataframe tbody tr th:only-of-type {\n",
       "        vertical-align: middle;\n",
       "    }\n",
       "\n",
       "    .dataframe tbody tr th {\n",
       "        vertical-align: top;\n",
       "    }\n",
       "\n",
       "    .dataframe thead th {\n",
       "        text-align: right;\n",
       "    }\n",
       "</style>\n",
       "<table border=\"1\" class=\"dataframe\">\n",
       "  <thead>\n",
       "    <tr style=\"text-align: right;\">\n",
       "      <th></th>\n",
       "      <th>Survived</th>\n",
       "    </tr>\n",
       "  </thead>\n",
       "  <tbody>\n",
       "    <tr>\n",
       "      <th>0</th>\n",
       "      <td>1</td>\n",
       "    </tr>\n",
       "    <tr>\n",
       "      <th>1</th>\n",
       "      <td>1</td>\n",
       "    </tr>\n",
       "    <tr>\n",
       "      <th>2</th>\n",
       "      <td>0</td>\n",
       "    </tr>\n",
       "    <tr>\n",
       "      <th>3</th>\n",
       "      <td>1</td>\n",
       "    </tr>\n",
       "    <tr>\n",
       "      <th>4</th>\n",
       "      <td>1</td>\n",
       "    </tr>\n",
       "    <tr>\n",
       "      <th>...</th>\n",
       "      <td>...</td>\n",
       "    </tr>\n",
       "    <tr>\n",
       "      <th>440</th>\n",
       "      <td>0</td>\n",
       "    </tr>\n",
       "    <tr>\n",
       "      <th>441</th>\n",
       "      <td>1</td>\n",
       "    </tr>\n",
       "    <tr>\n",
       "      <th>442</th>\n",
       "      <td>1</td>\n",
       "    </tr>\n",
       "    <tr>\n",
       "      <th>443</th>\n",
       "      <td>1</td>\n",
       "    </tr>\n",
       "    <tr>\n",
       "      <th>444</th>\n",
       "      <td>0</td>\n",
       "    </tr>\n",
       "  </tbody>\n",
       "</table>\n",
       "<p>445 rows × 1 columns</p>\n",
       "</div>"
      ],
      "text/plain": [
       "     Survived\n",
       "0           1\n",
       "1           1\n",
       "2           0\n",
       "3           1\n",
       "4           1\n",
       "..        ...\n",
       "440         0\n",
       "441         1\n",
       "442         1\n",
       "443         1\n",
       "444         0\n",
       "\n",
       "[445 rows x 1 columns]"
      ]
     },
     "execution_count": 15,
     "metadata": {},
     "output_type": "execute_result"
    }
   ],
   "source": [
    "ytrain"
   ]
  },
  {
   "cell_type": "markdown",
   "metadata": {},
   "source": [
    "1. For a number of maximum leaves equal to 6, use the following snippet of code to fit a CART to the training dataset"
   ]
  },
  {
   "cell_type": "code",
   "execution_count": 16,
   "metadata": {},
   "outputs": [
    {
     "data": {
      "text/plain": [
       "DecisionTreeClassifier(max_leaf_nodes=6)"
      ]
     },
     "execution_count": 16,
     "metadata": {},
     "output_type": "execute_result"
    }
   ],
   "source": [
    "from sklearn.tree import DecisionTreeClassifier\n",
    "classifier_DT = DecisionTreeClassifier(max_leaf_nodes = 6)\n",
    "classifier_DT.fit(Xtrain, ytrain)"
   ]
  },
  {
   "cell_type": "markdown",
   "metadata": {},
   "source": [
    "2. Graph the decision tree using the code below."
   ]
  },
  {
   "cell_type": "code",
   "execution_count": 17,
   "metadata": {},
   "outputs": [
    {
     "data": {
      "image/svg+xml": "<?xml version=\"1.0\" encoding=\"UTF-8\" standalone=\"no\"?>\n<!DOCTYPE svg PUBLIC \"-//W3C//DTD SVG 1.1//EN\"\n \"http://www.w3.org/Graphics/SVG/1.1/DTD/svg11.dtd\">\n<!-- Generated by graphviz version 2.49.3 (0)\n -->\n<!-- Title: Tree Pages: 1 -->\n<svg width=\"600pt\" height=\"433pt\"\n viewBox=\"0.00 0.00 599.50 433.00\" xmlns=\"http://www.w3.org/2000/svg\" xmlns:xlink=\"http://www.w3.org/1999/xlink\">\n<g id=\"graph0\" class=\"graph\" transform=\"scale(1 1) rotate(0) translate(4 429)\">\n<title>Tree</title>\n<polygon fill=\"white\" stroke=\"transparent\" points=\"-4,4 -4,-429 595.5,-429 595.5,4 -4,4\"/>\n<!-- 0 -->\n<g id=\"node1\" class=\"node\">\n<title>0</title>\n<path fill=\"#f5d0b5\" stroke=\"black\" d=\"M313.5,-425C313.5,-425 209.5,-425 209.5,-425 203.5,-425 197.5,-419 197.5,-413 197.5,-413 197.5,-354 197.5,-354 197.5,-348 203.5,-342 209.5,-342 209.5,-342 313.5,-342 313.5,-342 319.5,-342 325.5,-348 325.5,-354 325.5,-354 325.5,-413 325.5,-413 325.5,-419 319.5,-425 313.5,-425\"/>\n<text text-anchor=\"middle\" x=\"261.5\" y=\"-409.8\" font-family=\"Helvetica,sans-Serif\" font-size=\"14.00\">Sex_male &lt;= 0.5</text>\n<text text-anchor=\"middle\" x=\"261.5\" y=\"-394.8\" font-family=\"Helvetica,sans-Serif\" font-size=\"14.00\">gini = 0.473</text>\n<text text-anchor=\"middle\" x=\"261.5\" y=\"-379.8\" font-family=\"Helvetica,sans-Serif\" font-size=\"14.00\">samples = 445</text>\n<text text-anchor=\"middle\" x=\"261.5\" y=\"-364.8\" font-family=\"Helvetica,sans-Serif\" font-size=\"14.00\">value = [274, 171]</text>\n<text text-anchor=\"middle\" x=\"261.5\" y=\"-349.8\" font-family=\"Helvetica,sans-Serif\" font-size=\"14.00\">class = Died</text>\n</g>\n<!-- 1 -->\n<g id=\"node2\" class=\"node\">\n<title>1</title>\n<path fill=\"#7dbfee\" stroke=\"black\" d=\"M240,-306C240,-306 145,-306 145,-306 139,-306 133,-300 133,-294 133,-294 133,-235 133,-235 133,-229 139,-223 145,-223 145,-223 240,-223 240,-223 246,-223 252,-229 252,-235 252,-235 252,-294 252,-294 252,-300 246,-306 240,-306\"/>\n<text text-anchor=\"middle\" x=\"192.5\" y=\"-290.8\" font-family=\"Helvetica,sans-Serif\" font-size=\"14.00\">Pclass &lt;= 2.5</text>\n<text text-anchor=\"middle\" x=\"192.5\" y=\"-275.8\" font-family=\"Helvetica,sans-Serif\" font-size=\"14.00\">gini = 0.381</text>\n<text text-anchor=\"middle\" x=\"192.5\" y=\"-260.8\" font-family=\"Helvetica,sans-Serif\" font-size=\"14.00\">samples = 160</text>\n<text text-anchor=\"middle\" x=\"192.5\" y=\"-245.8\" font-family=\"Helvetica,sans-Serif\" font-size=\"14.00\">value = [41, 119]</text>\n<text text-anchor=\"middle\" x=\"192.5\" y=\"-230.8\" font-family=\"Helvetica,sans-Serif\" font-size=\"14.00\">class = Survived</text>\n</g>\n<!-- 0&#45;&gt;1 -->\n<g id=\"edge1\" class=\"edge\">\n<title>0&#45;&gt;1</title>\n<path fill=\"none\" stroke=\"black\" d=\"M237.56,-341.91C232.42,-333.2 226.94,-323.9 221.63,-314.89\"/>\n<polygon fill=\"black\" stroke=\"black\" points=\"224.49,-312.86 216.4,-306.02 218.46,-316.41 224.49,-312.86\"/>\n<text text-anchor=\"middle\" x=\"210.15\" y=\"-326.53\" font-family=\"Helvetica,sans-Serif\" font-size=\"14.00\">True</text>\n</g>\n<!-- 2 -->\n<g id=\"node7\" class=\"node\">\n<title>2</title>\n<path fill=\"#eb9d65\" stroke=\"black\" d=\"M378.5,-306C378.5,-306 282.5,-306 282.5,-306 276.5,-306 270.5,-300 270.5,-294 270.5,-294 270.5,-235 270.5,-235 270.5,-229 276.5,-223 282.5,-223 282.5,-223 378.5,-223 378.5,-223 384.5,-223 390.5,-229 390.5,-235 390.5,-235 390.5,-294 390.5,-294 390.5,-300 384.5,-306 378.5,-306\"/>\n<text text-anchor=\"middle\" x=\"330.5\" y=\"-290.8\" font-family=\"Helvetica,sans-Serif\" font-size=\"14.00\">Age &lt;= 3.5</text>\n<text text-anchor=\"middle\" x=\"330.5\" y=\"-275.8\" font-family=\"Helvetica,sans-Serif\" font-size=\"14.00\">gini = 0.298</text>\n<text text-anchor=\"middle\" x=\"330.5\" y=\"-260.8\" font-family=\"Helvetica,sans-Serif\" font-size=\"14.00\">samples = 285</text>\n<text text-anchor=\"middle\" x=\"330.5\" y=\"-245.8\" font-family=\"Helvetica,sans-Serif\" font-size=\"14.00\">value = [233, 52]</text>\n<text text-anchor=\"middle\" x=\"330.5\" y=\"-230.8\" font-family=\"Helvetica,sans-Serif\" font-size=\"14.00\">class = Died</text>\n</g>\n<!-- 0&#45;&gt;2 -->\n<g id=\"edge6\" class=\"edge\">\n<title>0&#45;&gt;2</title>\n<path fill=\"none\" stroke=\"black\" d=\"M285.44,-341.91C290.58,-333.2 296.06,-323.9 301.37,-314.89\"/>\n<polygon fill=\"black\" stroke=\"black\" points=\"304.54,-316.41 306.6,-306.02 298.51,-312.86 304.54,-316.41\"/>\n<text text-anchor=\"middle\" x=\"312.85\" y=\"-326.53\" font-family=\"Helvetica,sans-Serif\" font-size=\"14.00\">False</text>\n</g>\n<!-- 3 -->\n<g id=\"node3\" class=\"node\">\n<title>3</title>\n<path fill=\"#42a2e6\" stroke=\"black\" d=\"M107,-179.5C107,-179.5 12,-179.5 12,-179.5 6,-179.5 0,-173.5 0,-167.5 0,-167.5 0,-123.5 0,-123.5 0,-117.5 6,-111.5 12,-111.5 12,-111.5 107,-111.5 107,-111.5 113,-111.5 119,-117.5 119,-123.5 119,-123.5 119,-167.5 119,-167.5 119,-173.5 113,-179.5 107,-179.5\"/>\n<text text-anchor=\"middle\" x=\"59.5\" y=\"-164.3\" font-family=\"Helvetica,sans-Serif\" font-size=\"14.00\">gini = 0.084</text>\n<text text-anchor=\"middle\" x=\"59.5\" y=\"-149.3\" font-family=\"Helvetica,sans-Serif\" font-size=\"14.00\">samples = 91</text>\n<text text-anchor=\"middle\" x=\"59.5\" y=\"-134.3\" font-family=\"Helvetica,sans-Serif\" font-size=\"14.00\">value = [4, 87]</text>\n<text text-anchor=\"middle\" x=\"59.5\" y=\"-119.3\" font-family=\"Helvetica,sans-Serif\" font-size=\"14.00\">class = Survived</text>\n</g>\n<!-- 1&#45;&gt;3 -->\n<g id=\"edge2\" class=\"edge\">\n<title>1&#45;&gt;3</title>\n<path fill=\"none\" stroke=\"black\" d=\"M146.36,-222.91C132.93,-211.1 118.29,-198.22 104.91,-186.45\"/>\n<polygon fill=\"black\" stroke=\"black\" points=\"107.02,-183.64 97.2,-179.67 102.4,-188.9 107.02,-183.64\"/>\n</g>\n<!-- 4 -->\n<g id=\"node4\" class=\"node\">\n<title>4</title>\n<path fill=\"#fbeee4\" stroke=\"black\" d=\"M238,-187C238,-187 149,-187 149,-187 143,-187 137,-181 137,-175 137,-175 137,-116 137,-116 137,-110 143,-104 149,-104 149,-104 238,-104 238,-104 244,-104 250,-110 250,-116 250,-116 250,-175 250,-175 250,-181 244,-187 238,-187\"/>\n<text text-anchor=\"middle\" x=\"193.5\" y=\"-171.8\" font-family=\"Helvetica,sans-Serif\" font-size=\"14.00\">Age &lt;= 6.5</text>\n<text text-anchor=\"middle\" x=\"193.5\" y=\"-156.8\" font-family=\"Helvetica,sans-Serif\" font-size=\"14.00\">gini = 0.497</text>\n<text text-anchor=\"middle\" x=\"193.5\" y=\"-141.8\" font-family=\"Helvetica,sans-Serif\" font-size=\"14.00\">samples = 69</text>\n<text text-anchor=\"middle\" x=\"193.5\" y=\"-126.8\" font-family=\"Helvetica,sans-Serif\" font-size=\"14.00\">value = [37, 32]</text>\n<text text-anchor=\"middle\" x=\"193.5\" y=\"-111.8\" font-family=\"Helvetica,sans-Serif\" font-size=\"14.00\">class = Died</text>\n</g>\n<!-- 1&#45;&gt;4 -->\n<g id=\"edge3\" class=\"edge\">\n<title>1&#45;&gt;4</title>\n<path fill=\"none\" stroke=\"black\" d=\"M192.85,-222.91C192.92,-214.65 192.99,-205.86 193.07,-197.3\"/>\n<polygon fill=\"black\" stroke=\"black\" points=\"196.57,-197.05 193.15,-187.02 189.57,-196.99 196.57,-197.05\"/>\n</g>\n<!-- 9 -->\n<g id=\"node5\" class=\"node\">\n<title>9</title>\n<path fill=\"#52a9e8\" stroke=\"black\" d=\"M176,-68C176,-68 81,-68 81,-68 75,-68 69,-62 69,-56 69,-56 69,-12 69,-12 69,-6 75,0 81,0 81,0 176,0 176,0 182,0 188,-6 188,-12 188,-12 188,-56 188,-56 188,-62 182,-68 176,-68\"/>\n<text text-anchor=\"middle\" x=\"128.5\" y=\"-52.8\" font-family=\"Helvetica,sans-Serif\" font-size=\"14.00\">gini = 0.198</text>\n<text text-anchor=\"middle\" x=\"128.5\" y=\"-37.8\" font-family=\"Helvetica,sans-Serif\" font-size=\"14.00\">samples = 9</text>\n<text text-anchor=\"middle\" x=\"128.5\" y=\"-22.8\" font-family=\"Helvetica,sans-Serif\" font-size=\"14.00\">value = [1, 8]</text>\n<text text-anchor=\"middle\" x=\"128.5\" y=\"-7.8\" font-family=\"Helvetica,sans-Serif\" font-size=\"14.00\">class = Survived</text>\n</g>\n<!-- 4&#45;&gt;9 -->\n<g id=\"edge4\" class=\"edge\">\n<title>4&#45;&gt;9</title>\n<path fill=\"none\" stroke=\"black\" d=\"M169.3,-103.73C164.1,-94.97 158.6,-85.7 153.38,-76.91\"/>\n<polygon fill=\"black\" stroke=\"black\" points=\"156.38,-75.11 148.27,-68.3 150.36,-78.69 156.38,-75.11\"/>\n</g>\n<!-- 10 -->\n<g id=\"node6\" class=\"node\">\n<title>10</title>\n<path fill=\"#f6d5bd\" stroke=\"black\" d=\"M307,-68C307,-68 218,-68 218,-68 212,-68 206,-62 206,-56 206,-56 206,-12 206,-12 206,-6 212,0 218,0 218,0 307,0 307,0 313,0 319,-6 319,-12 319,-12 319,-56 319,-56 319,-62 313,-68 307,-68\"/>\n<text text-anchor=\"middle\" x=\"262.5\" y=\"-52.8\" font-family=\"Helvetica,sans-Serif\" font-size=\"14.00\">gini = 0.48</text>\n<text text-anchor=\"middle\" x=\"262.5\" y=\"-37.8\" font-family=\"Helvetica,sans-Serif\" font-size=\"14.00\">samples = 60</text>\n<text text-anchor=\"middle\" x=\"262.5\" y=\"-22.8\" font-family=\"Helvetica,sans-Serif\" font-size=\"14.00\">value = [36, 24]</text>\n<text text-anchor=\"middle\" x=\"262.5\" y=\"-7.8\" font-family=\"Helvetica,sans-Serif\" font-size=\"14.00\">class = Died</text>\n</g>\n<!-- 4&#45;&gt;10 -->\n<g id=\"edge5\" class=\"edge\">\n<title>4&#45;&gt;10</title>\n<path fill=\"none\" stroke=\"black\" d=\"M219.19,-103.73C224.71,-94.97 230.55,-85.7 236.09,-76.91\"/>\n<polygon fill=\"black\" stroke=\"black\" points=\"239.15,-78.63 241.52,-68.3 233.22,-74.89 239.15,-78.63\"/>\n</g>\n<!-- 5 -->\n<g id=\"node8\" class=\"node\">\n<title>5</title>\n<path fill=\"#65b3eb\" stroke=\"black\" d=\"M377,-179.5C377,-179.5 282,-179.5 282,-179.5 276,-179.5 270,-173.5 270,-167.5 270,-167.5 270,-123.5 270,-123.5 270,-117.5 276,-111.5 282,-111.5 282,-111.5 377,-111.5 377,-111.5 383,-111.5 389,-117.5 389,-123.5 389,-123.5 389,-167.5 389,-167.5 389,-173.5 383,-179.5 377,-179.5\"/>\n<text text-anchor=\"middle\" x=\"329.5\" y=\"-164.3\" font-family=\"Helvetica,sans-Serif\" font-size=\"14.00\">gini = 0.298</text>\n<text text-anchor=\"middle\" x=\"329.5\" y=\"-149.3\" font-family=\"Helvetica,sans-Serif\" font-size=\"14.00\">samples = 11</text>\n<text text-anchor=\"middle\" x=\"329.5\" y=\"-134.3\" font-family=\"Helvetica,sans-Serif\" font-size=\"14.00\">value = [2, 9]</text>\n<text text-anchor=\"middle\" x=\"329.5\" y=\"-119.3\" font-family=\"Helvetica,sans-Serif\" font-size=\"14.00\">class = Survived</text>\n</g>\n<!-- 2&#45;&gt;5 -->\n<g id=\"edge7\" class=\"edge\">\n<title>2&#45;&gt;5</title>\n<path fill=\"none\" stroke=\"black\" d=\"M330.15,-222.91C330.06,-212.2 329.96,-200.62 329.87,-189.78\"/>\n<polygon fill=\"black\" stroke=\"black\" points=\"333.37,-189.64 329.78,-179.67 326.37,-189.7 333.37,-189.64\"/>\n</g>\n<!-- 6 -->\n<g id=\"node9\" class=\"node\">\n<title>6</title>\n<path fill=\"#ea985e\" stroke=\"black\" d=\"M515.5,-187C515.5,-187 419.5,-187 419.5,-187 413.5,-187 407.5,-181 407.5,-175 407.5,-175 407.5,-116 407.5,-116 407.5,-110 413.5,-104 419.5,-104 419.5,-104 515.5,-104 515.5,-104 521.5,-104 527.5,-110 527.5,-116 527.5,-116 527.5,-175 527.5,-175 527.5,-181 521.5,-187 515.5,-187\"/>\n<text text-anchor=\"middle\" x=\"467.5\" y=\"-171.8\" font-family=\"Helvetica,sans-Serif\" font-size=\"14.00\">Pclass &lt;= 1.5</text>\n<text text-anchor=\"middle\" x=\"467.5\" y=\"-156.8\" font-family=\"Helvetica,sans-Serif\" font-size=\"14.00\">gini = 0.265</text>\n<text text-anchor=\"middle\" x=\"467.5\" y=\"-141.8\" font-family=\"Helvetica,sans-Serif\" font-size=\"14.00\">samples = 274</text>\n<text text-anchor=\"middle\" x=\"467.5\" y=\"-126.8\" font-family=\"Helvetica,sans-Serif\" font-size=\"14.00\">value = [231, 43]</text>\n<text text-anchor=\"middle\" x=\"467.5\" y=\"-111.8\" font-family=\"Helvetica,sans-Serif\" font-size=\"14.00\">class = Died</text>\n</g>\n<!-- 2&#45;&gt;6 -->\n<g id=\"edge8\" class=\"edge\">\n<title>2&#45;&gt;6</title>\n<path fill=\"none\" stroke=\"black\" d=\"M378.03,-222.91C389.08,-213.47 400.94,-203.34 412.29,-193.65\"/>\n<polygon fill=\"black\" stroke=\"black\" points=\"414.72,-196.18 420.05,-187.02 410.18,-190.85 414.72,-196.18\"/>\n</g>\n<!-- 7 -->\n<g id=\"node10\" class=\"node\">\n<title>7</title>\n<path fill=\"#f3c4a3\" stroke=\"black\" d=\"M441,-68C441,-68 352,-68 352,-68 346,-68 340,-62 340,-56 340,-56 340,-12 340,-12 340,-6 346,0 352,0 352,0 441,0 441,0 447,0 453,-6 453,-12 453,-12 453,-56 453,-56 453,-62 447,-68 441,-68\"/>\n<text text-anchor=\"middle\" x=\"396.5\" y=\"-52.8\" font-family=\"Helvetica,sans-Serif\" font-size=\"14.00\">gini = 0.454</text>\n<text text-anchor=\"middle\" x=\"396.5\" y=\"-37.8\" font-family=\"Helvetica,sans-Serif\" font-size=\"14.00\">samples = 66</text>\n<text text-anchor=\"middle\" x=\"396.5\" y=\"-22.8\" font-family=\"Helvetica,sans-Serif\" font-size=\"14.00\">value = [43, 23]</text>\n<text text-anchor=\"middle\" x=\"396.5\" y=\"-7.8\" font-family=\"Helvetica,sans-Serif\" font-size=\"14.00\">class = Died</text>\n</g>\n<!-- 6&#45;&gt;7 -->\n<g id=\"edge9\" class=\"edge\">\n<title>6&#45;&gt;7</title>\n<path fill=\"none\" stroke=\"black\" d=\"M441.06,-103.73C435.38,-94.97 429.38,-85.7 423.67,-76.91\"/>\n<polygon fill=\"black\" stroke=\"black\" points=\"426.47,-74.79 418.09,-68.3 420.6,-78.59 426.47,-74.79\"/>\n</g>\n<!-- 8 -->\n<g id=\"node11\" class=\"node\">\n<title>8</title>\n<path fill=\"#e88e4e\" stroke=\"black\" d=\"M579.5,-68C579.5,-68 483.5,-68 483.5,-68 477.5,-68 471.5,-62 471.5,-56 471.5,-56 471.5,-12 471.5,-12 471.5,-6 477.5,0 483.5,0 483.5,0 579.5,0 579.5,0 585.5,0 591.5,-6 591.5,-12 591.5,-12 591.5,-56 591.5,-56 591.5,-62 585.5,-68 579.5,-68\"/>\n<text text-anchor=\"middle\" x=\"531.5\" y=\"-52.8\" font-family=\"Helvetica,sans-Serif\" font-size=\"14.00\">gini = 0.174</text>\n<text text-anchor=\"middle\" x=\"531.5\" y=\"-37.8\" font-family=\"Helvetica,sans-Serif\" font-size=\"14.00\">samples = 208</text>\n<text text-anchor=\"middle\" x=\"531.5\" y=\"-22.8\" font-family=\"Helvetica,sans-Serif\" font-size=\"14.00\">value = [188, 20]</text>\n<text text-anchor=\"middle\" x=\"531.5\" y=\"-7.8\" font-family=\"Helvetica,sans-Serif\" font-size=\"14.00\">class = Died</text>\n</g>\n<!-- 6&#45;&gt;8 -->\n<g id=\"edge10\" class=\"edge\">\n<title>6&#45;&gt;8</title>\n<path fill=\"none\" stroke=\"black\" d=\"M491.33,-103.73C496.4,-95.06 501.75,-85.9 506.85,-77.18\"/>\n<polygon fill=\"black\" stroke=\"black\" points=\"510.01,-78.7 512.04,-68.3 503.97,-75.17 510.01,-78.7\"/>\n</g>\n</g>\n</svg>\n",
      "text/plain": [
       "<graphviz.sources.Source at 0x1aa31211820>"
      ]
     },
     "execution_count": 17,
     "metadata": {},
     "output_type": "execute_result"
    }
   ],
   "source": [
    "from sklearn.tree import export_graphviz\n",
    "dot_data = export_graphviz(classifier_DT, feature_names = Xtrain.columns, filled = True, rounded = True, class_names=[\"Died\",\"Survived\"])\n",
    "graph = gp.Source(dot_data)\n",
    "graph"
   ]
  },
  {
   "cell_type": "markdown",
   "metadata": {},
   "source": [
    "3. How accurate is this decision tree on the validation data? Generate the predicted values using the code below and then compute the acccuracy of the model."
   ]
  },
  {
   "cell_type": "code",
   "execution_count": 18,
   "metadata": {},
   "outputs": [
    {
     "data": {
      "text/plain": [
       "0.7354260089686099"
      ]
     },
     "execution_count": 18,
     "metadata": {},
     "output_type": "execute_result"
    }
   ],
   "source": [
    "y_pred = classifier_DT.predict(Xvalidation)\n",
    "\n",
    "from sklearn.metrics import accuracy_score\n",
    "score=accuracy_score(yvalidation,y_pred)\n",
    "score"
   ]
  },
  {
   "cell_type": "markdown",
   "metadata": {},
   "source": [
    "4. We are now going to use the validation set to optimize how many leaves we should have in our tree. The goal here is to use a for loop to iterate over possible values of the maximum number of leaves, fit the model each time on the *training set* and obtain the `accuracy_score` on the *validation set*. Use the snippet of data below to get started. For comparison, also find the `accuracy_score` on the *training set*."
   ]
  },
  {
   "cell_type": "code",
   "execution_count": 19,
   "metadata": {},
   "outputs": [],
   "source": [
    "n_max_leaf_nodes = range(2,60) # Lets train the models with 2, 3, 4, ... 60 leafs\n",
    "train_array = []\n",
    "validation_array = []\n",
    "\n",
    "for n in n_max_leaf_nodes:\n",
    "    \n",
    "    classifier_DT = DecisionTreeClassifier(max_leaf_nodes = n)\n",
    "    classifier_DT = classifier_DT.fit(Xtrain, ytrain)\n",
    "    \n",
    "    y_train_pred = classifier_DT.predict(Xtrain)\n",
    "    y_validation_pred = classifier_DT.predict(Xvalidation)\n",
    "    \n",
    "    train_score = accuracy_score(ytrain,y_train_pred)\n",
    "    validation_score = accuracy_score(yvalidation,y_validation_pred)\n",
    "\n",
    "    train_array.append([n,train_score])\n",
    "    validation_array.append([n,validation_score])"
   ]
  },
  {
   "cell_type": "markdown",
   "metadata": {},
   "source": [
    "5. We can now plot both accuracy levels over the chosen number of nodes. Which number of max_leaf_nodes would you feel comfortable picking?"
   ]
  },
  {
   "cell_type": "code",
   "execution_count": 20,
   "metadata": {},
   "outputs": [
    {
     "data": {
      "image/png": "[encoded data removed]",
      "text/plain": [
       "<Figure size 432x288 with 1 Axes>"
      ]
     },
     "metadata": {
      "needs_background": "light"
     },
     "output_type": "display_data"
    }
   ],
   "source": [
    "array = pd.DataFrame(validation_array)\n",
    "plt.scatter(array[0],array[1])\n",
    "\n",
    "array_train = pd.DataFrame(train_array)\n",
    "plt.scatter(array_train[0],array_train[1])\n",
    "plt.legend(['Validation set','Training set'])\n",
    "plt.xlabel(\"Number of leaves\",fontsize=15)\n",
    "plt.ylabel(\"Accuracy\",fontsize=15)\n",
    "plt.show()"
   ]
  },
  {
   "cell_type": "markdown",
   "metadata": {},
   "source": [
    "The graph suggests number of leaves around 10. We now fit the model on a dataset consisting of both training and validation data. Finally, we test the model on our testing set."
   ]
  },
  {
   "cell_type": "markdown",
   "metadata": {},
   "source": [
    "6. Retrain your model using this max_leaf_nodes on the full training and validation set. Plot the corresponding tree."
   ]
  },
  {
   "cell_type": "code",
   "execution_count": 21,
   "metadata": {},
   "outputs": [],
   "source": [
    "Xtrainval=Xtrain.append(Xvalidation)\n",
    "ytrainval=ytrain.append(yvalidation)"
   ]
  },
  {
   "cell_type": "code",
   "execution_count": 22,
   "metadata": {},
   "outputs": [
    {
     "data": {
      "text/plain": [
       "DecisionTreeClassifier(max_leaf_nodes=10)"
      ]
     },
     "execution_count": 22,
     "metadata": {},
     "output_type": "execute_result"
    }
   ],
   "source": [
    "classifier_DT = DecisionTreeClassifier(max_leaf_nodes = 10)\n",
    "classifier_DT.fit(Xtrainval, ytrainval)"
   ]
  },
  {
   "cell_type": "code",
   "execution_count": 23,
   "metadata": {},
   "outputs": [
    {
     "data": {
      "image/svg+xml": "<?xml version=\"1.0\" encoding=\"UTF-8\" standalone=\"no\"?>\n<!DOCTYPE svg PUBLIC \"-//W3C//DTD SVG 1.1//EN\"\n \"http://www.w3.org/Graphics/SVG/1.1/DTD/svg11.dtd\">\n<!-- Generated by graphviz version 2.49.3 (0)\n -->\n<!-- Title: Tree Pages: 1 -->\n<svg width=\"603pt\" height=\"790pt\"\n viewBox=\"0.00 0.00 602.50 790.00\" xmlns=\"http://www.w3.org/2000/svg\" xmlns:xlink=\"http://www.w3.org/1999/xlink\">\n<g id=\"graph0\" class=\"graph\" transform=\"scale(1 1) rotate(0) translate(4 786)\">\n<title>Tree</title>\n<polygon fill=\"white\" stroke=\"transparent\" points=\"-4,4 -4,-786 598.5,-786 598.5,4 -4,4\"/>\n<!-- 0 -->\n<g id=\"node1\" class=\"node\">\n<title>0</title>\n<path fill=\"#f6d1b7\" stroke=\"black\" d=\"M316.5,-782C316.5,-782 212.5,-782 212.5,-782 206.5,-782 200.5,-776 200.5,-770 200.5,-770 200.5,-711 200.5,-711 200.5,-705 206.5,-699 212.5,-699 212.5,-699 316.5,-699 316.5,-699 322.5,-699 328.5,-705 328.5,-711 328.5,-711 328.5,-770 328.5,-770 328.5,-776 322.5,-782 316.5,-782\"/>\n<text text-anchor=\"middle\" x=\"264.5\" y=\"-766.8\" font-family=\"Helvetica,sans-Serif\" font-size=\"14.00\">Sex_male &lt;= 0.5</text>\n<text text-anchor=\"middle\" x=\"264.5\" y=\"-751.8\" font-family=\"Helvetica,sans-Serif\" font-size=\"14.00\">gini = 0.475</text>\n<text text-anchor=\"middle\" x=\"264.5\" y=\"-736.8\" font-family=\"Helvetica,sans-Serif\" font-size=\"14.00\">samples = 668</text>\n<text text-anchor=\"middle\" x=\"264.5\" y=\"-721.8\" font-family=\"Helvetica,sans-Serif\" font-size=\"14.00\">value = [408, 260]</text>\n<text text-anchor=\"middle\" x=\"264.5\" y=\"-706.8\" font-family=\"Helvetica,sans-Serif\" font-size=\"14.00\">class = Died</text>\n</g>\n<!-- 1 -->\n<g id=\"node2\" class=\"node\">\n<title>1</title>\n<path fill=\"#80c0ee\" stroke=\"black\" d=\"M243.5,-663C243.5,-663 147.5,-663 147.5,-663 141.5,-663 135.5,-657 135.5,-651 135.5,-651 135.5,-592 135.5,-592 135.5,-586 141.5,-580 147.5,-580 147.5,-580 243.5,-580 243.5,-580 249.5,-580 255.5,-586 255.5,-592 255.5,-592 255.5,-651 255.5,-651 255.5,-657 249.5,-663 243.5,-663\"/>\n<text text-anchor=\"middle\" x=\"195.5\" y=\"-647.8\" font-family=\"Helvetica,sans-Serif\" font-size=\"14.00\">Pclass &lt;= 2.5</text>\n<text text-anchor=\"middle\" x=\"195.5\" y=\"-632.8\" font-family=\"Helvetica,sans-Serif\" font-size=\"14.00\">gini = 0.388</text>\n<text text-anchor=\"middle\" x=\"195.5\" y=\"-617.8\" font-family=\"Helvetica,sans-Serif\" font-size=\"14.00\">samples = 239</text>\n<text text-anchor=\"middle\" x=\"195.5\" y=\"-602.8\" font-family=\"Helvetica,sans-Serif\" font-size=\"14.00\">value = [63, 176]</text>\n<text text-anchor=\"middle\" x=\"195.5\" y=\"-587.8\" font-family=\"Helvetica,sans-Serif\" font-size=\"14.00\">class = Survived</text>\n</g>\n<!-- 0&#45;&gt;1 -->\n<g id=\"edge1\" class=\"edge\">\n<title>0&#45;&gt;1</title>\n<path fill=\"none\" stroke=\"black\" d=\"M240.56,-698.91C235.42,-690.2 229.94,-680.9 224.63,-671.89\"/>\n<polygon fill=\"black\" stroke=\"black\" points=\"227.49,-669.86 219.4,-663.02 221.46,-673.41 227.49,-669.86\"/>\n<text text-anchor=\"middle\" x=\"213.15\" y=\"-683.53\" font-family=\"Helvetica,sans-Serif\" font-size=\"14.00\">True</text>\n</g>\n<!-- 2 -->\n<g id=\"node9\" class=\"node\">\n<title>2</title>\n<path fill=\"#eba069\" stroke=\"black\" d=\"M381.5,-663C381.5,-663 285.5,-663 285.5,-663 279.5,-663 273.5,-657 273.5,-651 273.5,-651 273.5,-592 273.5,-592 273.5,-586 279.5,-580 285.5,-580 285.5,-580 381.5,-580 381.5,-580 387.5,-580 393.5,-586 393.5,-592 393.5,-592 393.5,-651 393.5,-651 393.5,-657 387.5,-663 381.5,-663\"/>\n<text text-anchor=\"middle\" x=\"333.5\" y=\"-647.8\" font-family=\"Helvetica,sans-Serif\" font-size=\"14.00\">Age &lt;= 3.5</text>\n<text text-anchor=\"middle\" x=\"333.5\" y=\"-632.8\" font-family=\"Helvetica,sans-Serif\" font-size=\"14.00\">gini = 0.315</text>\n<text text-anchor=\"middle\" x=\"333.5\" y=\"-617.8\" font-family=\"Helvetica,sans-Serif\" font-size=\"14.00\">samples = 429</text>\n<text text-anchor=\"middle\" x=\"333.5\" y=\"-602.8\" font-family=\"Helvetica,sans-Serif\" font-size=\"14.00\">value = [345, 84]</text>\n<text text-anchor=\"middle\" x=\"333.5\" y=\"-587.8\" font-family=\"Helvetica,sans-Serif\" font-size=\"14.00\">class = Died</text>\n</g>\n<!-- 0&#45;&gt;2 -->\n<g id=\"edge8\" class=\"edge\">\n<title>0&#45;&gt;2</title>\n<path fill=\"none\" stroke=\"black\" d=\"M288.44,-698.91C293.58,-690.2 299.06,-680.9 304.37,-671.89\"/>\n<polygon fill=\"black\" stroke=\"black\" points=\"307.54,-673.41 309.6,-663.02 301.51,-669.86 307.54,-673.41\"/>\n<text text-anchor=\"middle\" x=\"315.85\" y=\"-683.53\" font-family=\"Helvetica,sans-Serif\" font-size=\"14.00\">False</text>\n</g>\n<!-- 3 -->\n<g id=\"node3\" class=\"node\">\n<title>3</title>\n<path fill=\"#46a4e7\" stroke=\"black\" d=\"M107,-536.5C107,-536.5 12,-536.5 12,-536.5 6,-536.5 0,-530.5 0,-524.5 0,-524.5 0,-480.5 0,-480.5 0,-474.5 6,-468.5 12,-468.5 12,-468.5 107,-468.5 107,-468.5 113,-468.5 119,-474.5 119,-480.5 119,-480.5 119,-524.5 119,-524.5 119,-530.5 113,-536.5 107,-536.5\"/>\n<text text-anchor=\"middle\" x=\"59.5\" y=\"-521.3\" font-family=\"Helvetica,sans-Serif\" font-size=\"14.00\">gini = 0.117</text>\n<text text-anchor=\"middle\" x=\"59.5\" y=\"-506.3\" font-family=\"Helvetica,sans-Serif\" font-size=\"14.00\">samples = 128</text>\n<text text-anchor=\"middle\" x=\"59.5\" y=\"-491.3\" font-family=\"Helvetica,sans-Serif\" font-size=\"14.00\">value = [8, 120]</text>\n<text text-anchor=\"middle\" x=\"59.5\" y=\"-476.3\" font-family=\"Helvetica,sans-Serif\" font-size=\"14.00\">class = Survived</text>\n</g>\n<!-- 1&#45;&gt;3 -->\n<g id=\"edge2\" class=\"edge\">\n<title>1&#45;&gt;3</title>\n<path fill=\"none\" stroke=\"black\" d=\"M148.32,-579.91C134.59,-568.1 119.61,-555.22 105.94,-543.45\"/>\n<polygon fill=\"black\" stroke=\"black\" points=\"107.92,-540.54 98.05,-536.67 103.35,-545.84 107.92,-540.54\"/>\n</g>\n<!-- 4 -->\n<g id=\"node4\" class=\"node\">\n<title>4</title>\n<path fill=\"#fbfdff\" stroke=\"black\" d=\"M244,-544C244,-544 149,-544 149,-544 143,-544 137,-538 137,-532 137,-532 137,-473 137,-473 137,-467 143,-461 149,-461 149,-461 244,-461 244,-461 250,-461 256,-467 256,-473 256,-473 256,-532 256,-532 256,-538 250,-544 244,-544\"/>\n<text text-anchor=\"middle\" x=\"196.5\" y=\"-528.8\" font-family=\"Helvetica,sans-Serif\" font-size=\"14.00\">Fare &lt;= 23.7</text>\n<text text-anchor=\"middle\" x=\"196.5\" y=\"-513.8\" font-family=\"Helvetica,sans-Serif\" font-size=\"14.00\">gini = 0.5</text>\n<text text-anchor=\"middle\" x=\"196.5\" y=\"-498.8\" font-family=\"Helvetica,sans-Serif\" font-size=\"14.00\">samples = 111</text>\n<text text-anchor=\"middle\" x=\"196.5\" y=\"-483.8\" font-family=\"Helvetica,sans-Serif\" font-size=\"14.00\">value = [55, 56]</text>\n<text text-anchor=\"middle\" x=\"196.5\" y=\"-468.8\" font-family=\"Helvetica,sans-Serif\" font-size=\"14.00\">class = Survived</text>\n</g>\n<!-- 1&#45;&gt;4 -->\n<g id=\"edge3\" class=\"edge\">\n<title>1&#45;&gt;4</title>\n<path fill=\"none\" stroke=\"black\" d=\"M195.85,-579.91C195.92,-571.65 195.99,-562.86 196.07,-554.3\"/>\n<polygon fill=\"black\" stroke=\"black\" points=\"199.57,-554.05 196.15,-544.02 192.57,-553.99 199.57,-554.05\"/>\n</g>\n<!-- 9 -->\n<g id=\"node5\" class=\"node\">\n<title>9</title>\n<path fill=\"#bfe0f7\" stroke=\"black\" d=\"M181,-425C181,-425 86,-425 86,-425 80,-425 74,-419 74,-413 74,-413 74,-354 74,-354 74,-348 80,-342 86,-342 86,-342 181,-342 181,-342 187,-342 193,-348 193,-354 193,-354 193,-413 193,-413 193,-419 187,-425 181,-425\"/>\n<text text-anchor=\"middle\" x=\"133.5\" y=\"-409.8\" font-family=\"Helvetica,sans-Serif\" font-size=\"14.00\">Age &lt;= 36.5</text>\n<text text-anchor=\"middle\" x=\"133.5\" y=\"-394.8\" font-family=\"Helvetica,sans-Serif\" font-size=\"14.00\">gini = 0.482</text>\n<text text-anchor=\"middle\" x=\"133.5\" y=\"-379.8\" font-family=\"Helvetica,sans-Serif\" font-size=\"14.00\">samples = 89</text>\n<text text-anchor=\"middle\" x=\"133.5\" y=\"-364.8\" font-family=\"Helvetica,sans-Serif\" font-size=\"14.00\">value = [36, 53]</text>\n<text text-anchor=\"middle\" x=\"133.5\" y=\"-349.8\" font-family=\"Helvetica,sans-Serif\" font-size=\"14.00\">class = Survived</text>\n</g>\n<!-- 4&#45;&gt;9 -->\n<g id=\"edge4\" class=\"edge\">\n<title>4&#45;&gt;9</title>\n<path fill=\"none\" stroke=\"black\" d=\"M174.64,-460.91C169.95,-452.2 164.94,-442.9 160.1,-433.89\"/>\n<polygon fill=\"black\" stroke=\"black\" points=\"163.14,-432.17 155.32,-425.02 156.98,-435.48 163.14,-432.17\"/>\n</g>\n<!-- 10 -->\n<g id=\"node8\" class=\"node\">\n<title>10</title>\n<path fill=\"#e99558\" stroke=\"black\" d=\"M304,-417.5C304,-417.5 223,-417.5 223,-417.5 217,-417.5 211,-411.5 211,-405.5 211,-405.5 211,-361.5 211,-361.5 211,-355.5 217,-349.5 223,-349.5 223,-349.5 304,-349.5 304,-349.5 310,-349.5 316,-355.5 316,-361.5 316,-361.5 316,-405.5 316,-405.5 316,-411.5 310,-417.5 304,-417.5\"/>\n<text text-anchor=\"middle\" x=\"263.5\" y=\"-402.3\" font-family=\"Helvetica,sans-Serif\" font-size=\"14.00\">gini = 0.236</text>\n<text text-anchor=\"middle\" x=\"263.5\" y=\"-387.3\" font-family=\"Helvetica,sans-Serif\" font-size=\"14.00\">samples = 22</text>\n<text text-anchor=\"middle\" x=\"263.5\" y=\"-372.3\" font-family=\"Helvetica,sans-Serif\" font-size=\"14.00\">value = [19, 3]</text>\n<text text-anchor=\"middle\" x=\"263.5\" y=\"-357.3\" font-family=\"Helvetica,sans-Serif\" font-size=\"14.00\">class = Died</text>\n</g>\n<!-- 4&#45;&gt;10 -->\n<g id=\"edge7\" class=\"edge\">\n<title>4&#45;&gt;10</title>\n<path fill=\"none\" stroke=\"black\" d=\"M219.75,-460.91C226.13,-449.76 233.06,-437.66 239.48,-426.44\"/>\n<polygon fill=\"black\" stroke=\"black\" points=\"242.57,-428.08 244.51,-417.67 236.5,-424.61 242.57,-428.08\"/>\n</g>\n<!-- 11 -->\n<g id=\"node6\" class=\"node\">\n<title>11</title>\n<path fill=\"#add6f4\" stroke=\"black\" d=\"M128,-298.5C128,-298.5 33,-298.5 33,-298.5 27,-298.5 21,-292.5 21,-286.5 21,-286.5 21,-242.5 21,-242.5 21,-236.5 27,-230.5 33,-230.5 33,-230.5 128,-230.5 128,-230.5 134,-230.5 140,-236.5 140,-242.5 140,-242.5 140,-286.5 140,-286.5 140,-292.5 134,-298.5 128,-298.5\"/>\n<text text-anchor=\"middle\" x=\"80.5\" y=\"-283.3\" font-family=\"Helvetica,sans-Serif\" font-size=\"14.00\">gini = 0.466</text>\n<text text-anchor=\"middle\" x=\"80.5\" y=\"-268.3\" font-family=\"Helvetica,sans-Serif\" font-size=\"14.00\">samples = 84</text>\n<text text-anchor=\"middle\" x=\"80.5\" y=\"-253.3\" font-family=\"Helvetica,sans-Serif\" font-size=\"14.00\">value = [31, 53]</text>\n<text text-anchor=\"middle\" x=\"80.5\" y=\"-238.3\" font-family=\"Helvetica,sans-Serif\" font-size=\"14.00\">class = Survived</text>\n</g>\n<!-- 9&#45;&gt;11 -->\n<g id=\"edge5\" class=\"edge\">\n<title>9&#45;&gt;11</title>\n<path fill=\"none\" stroke=\"black\" d=\"M115.11,-341.91C110.16,-330.98 104.8,-319.14 99.8,-308.11\"/>\n<polygon fill=\"black\" stroke=\"black\" points=\"102.84,-306.33 95.52,-298.67 96.46,-309.22 102.84,-306.33\"/>\n</g>\n<!-- 12 -->\n<g id=\"node7\" class=\"node\">\n<title>12</title>\n<path fill=\"#e58139\" stroke=\"black\" d=\"M243,-298.5C243,-298.5 170,-298.5 170,-298.5 164,-298.5 158,-292.5 158,-286.5 158,-286.5 158,-242.5 158,-242.5 158,-236.5 164,-230.5 170,-230.5 170,-230.5 243,-230.5 243,-230.5 249,-230.5 255,-236.5 255,-242.5 255,-242.5 255,-286.5 255,-286.5 255,-292.5 249,-298.5 243,-298.5\"/>\n<text text-anchor=\"middle\" x=\"206.5\" y=\"-283.3\" font-family=\"Helvetica,sans-Serif\" font-size=\"14.00\">gini = 0.0</text>\n<text text-anchor=\"middle\" x=\"206.5\" y=\"-268.3\" font-family=\"Helvetica,sans-Serif\" font-size=\"14.00\">samples = 5</text>\n<text text-anchor=\"middle\" x=\"206.5\" y=\"-253.3\" font-family=\"Helvetica,sans-Serif\" font-size=\"14.00\">value = [5, 0]</text>\n<text text-anchor=\"middle\" x=\"206.5\" y=\"-238.3\" font-family=\"Helvetica,sans-Serif\" font-size=\"14.00\">class = Died</text>\n</g>\n<!-- 9&#45;&gt;12 -->\n<g id=\"edge6\" class=\"edge\">\n<title>9&#45;&gt;12</title>\n<path fill=\"none\" stroke=\"black\" d=\"M158.83,-341.91C165.78,-330.76 173.33,-318.66 180.33,-307.44\"/>\n<polygon fill=\"black\" stroke=\"black\" points=\"183.48,-309 185.81,-298.67 177.54,-305.3 183.48,-309\"/>\n</g>\n<!-- 5 -->\n<g id=\"node10\" class=\"node\">\n<title>5</title>\n<path fill=\"#6fb8ec\" stroke=\"black\" d=\"M381,-536.5C381,-536.5 286,-536.5 286,-536.5 280,-536.5 274,-530.5 274,-524.5 274,-524.5 274,-480.5 274,-480.5 274,-474.5 280,-468.5 286,-468.5 286,-468.5 381,-468.5 381,-468.5 387,-468.5 393,-474.5 393,-480.5 393,-480.5 393,-524.5 393,-524.5 393,-530.5 387,-536.5 381,-536.5\"/>\n<text text-anchor=\"middle\" x=\"333.5\" y=\"-521.3\" font-family=\"Helvetica,sans-Serif\" font-size=\"14.00\">gini = 0.337</text>\n<text text-anchor=\"middle\" x=\"333.5\" y=\"-506.3\" font-family=\"Helvetica,sans-Serif\" font-size=\"14.00\">samples = 14</text>\n<text text-anchor=\"middle\" x=\"333.5\" y=\"-491.3\" font-family=\"Helvetica,sans-Serif\" font-size=\"14.00\">value = [3, 11]</text>\n<text text-anchor=\"middle\" x=\"333.5\" y=\"-476.3\" font-family=\"Helvetica,sans-Serif\" font-size=\"14.00\">class = Survived</text>\n</g>\n<!-- 2&#45;&gt;5 -->\n<g id=\"edge9\" class=\"edge\">\n<title>2&#45;&gt;5</title>\n<path fill=\"none\" stroke=\"black\" d=\"M333.5,-579.91C333.5,-569.2 333.5,-557.62 333.5,-546.78\"/>\n<polygon fill=\"black\" stroke=\"black\" points=\"337,-546.67 333.5,-536.67 330,-546.67 337,-546.67\"/>\n</g>\n<!-- 6 -->\n<g id=\"node11\" class=\"node\">\n<title>6</title>\n<path fill=\"#eb9c63\" stroke=\"black\" d=\"M519.5,-544C519.5,-544 423.5,-544 423.5,-544 417.5,-544 411.5,-538 411.5,-532 411.5,-532 411.5,-473 411.5,-473 411.5,-467 417.5,-461 423.5,-461 423.5,-461 519.5,-461 519.5,-461 525.5,-461 531.5,-467 531.5,-473 531.5,-473 531.5,-532 531.5,-532 531.5,-538 525.5,-544 519.5,-544\"/>\n<text text-anchor=\"middle\" x=\"471.5\" y=\"-528.8\" font-family=\"Helvetica,sans-Serif\" font-size=\"14.00\">Pclass &lt;= 1.5</text>\n<text text-anchor=\"middle\" x=\"471.5\" y=\"-513.8\" font-family=\"Helvetica,sans-Serif\" font-size=\"14.00\">gini = 0.29</text>\n<text text-anchor=\"middle\" x=\"471.5\" y=\"-498.8\" font-family=\"Helvetica,sans-Serif\" font-size=\"14.00\">samples = 415</text>\n<text text-anchor=\"middle\" x=\"471.5\" y=\"-483.8\" font-family=\"Helvetica,sans-Serif\" font-size=\"14.00\">value = [342, 73]</text>\n<text text-anchor=\"middle\" x=\"471.5\" y=\"-468.8\" font-family=\"Helvetica,sans-Serif\" font-size=\"14.00\">class = Died</text>\n</g>\n<!-- 2&#45;&gt;6 -->\n<g id=\"edge10\" class=\"edge\">\n<title>2&#45;&gt;6</title>\n<path fill=\"none\" stroke=\"black\" d=\"M381.38,-579.91C392.51,-570.47 404.45,-560.34 415.89,-550.65\"/>\n<polygon fill=\"black\" stroke=\"black\" points=\"418.34,-553.16 423.71,-544.02 413.82,-547.82 418.34,-553.16\"/>\n</g>\n<!-- 7 -->\n<g id=\"node12\" class=\"node\">\n<title>7</title>\n<path fill=\"#f5ceb3\" stroke=\"black\" d=\"M444,-425C444,-425 355,-425 355,-425 349,-425 343,-419 343,-413 343,-413 343,-354 343,-354 343,-348 349,-342 355,-342 355,-342 444,-342 444,-342 450,-342 456,-348 456,-354 456,-354 456,-413 456,-413 456,-419 450,-425 444,-425\"/>\n<text text-anchor=\"middle\" x=\"399.5\" y=\"-409.8\" font-family=\"Helvetica,sans-Serif\" font-size=\"14.00\">Fare &lt;= 26.144</text>\n<text text-anchor=\"middle\" x=\"399.5\" y=\"-394.8\" font-family=\"Helvetica,sans-Serif\" font-size=\"14.00\">gini = 0.471</text>\n<text text-anchor=\"middle\" x=\"399.5\" y=\"-379.8\" font-family=\"Helvetica,sans-Serif\" font-size=\"14.00\">samples = 92</text>\n<text text-anchor=\"middle\" x=\"399.5\" y=\"-364.8\" font-family=\"Helvetica,sans-Serif\" font-size=\"14.00\">value = [57, 35]</text>\n<text text-anchor=\"middle\" x=\"399.5\" y=\"-349.8\" font-family=\"Helvetica,sans-Serif\" font-size=\"14.00\">class = Died</text>\n</g>\n<!-- 6&#45;&gt;7 -->\n<g id=\"edge11\" class=\"edge\">\n<title>6&#45;&gt;7</title>\n<path fill=\"none\" stroke=\"black\" d=\"M446.52,-460.91C441.1,-452.1 435.32,-442.7 429.72,-433.61\"/>\n<polygon fill=\"black\" stroke=\"black\" points=\"432.66,-431.7 424.44,-425.02 426.7,-435.37 432.66,-431.7\"/>\n</g>\n<!-- 8 -->\n<g id=\"node19\" class=\"node\">\n<title>8</title>\n<path fill=\"#e89253\" stroke=\"black\" d=\"M582.5,-417.5C582.5,-417.5 486.5,-417.5 486.5,-417.5 480.5,-417.5 474.5,-411.5 474.5,-405.5 474.5,-405.5 474.5,-361.5 474.5,-361.5 474.5,-355.5 480.5,-349.5 486.5,-349.5 486.5,-349.5 582.5,-349.5 582.5,-349.5 588.5,-349.5 594.5,-355.5 594.5,-361.5 594.5,-361.5 594.5,-405.5 594.5,-405.5 594.5,-411.5 588.5,-417.5 582.5,-417.5\"/>\n<text text-anchor=\"middle\" x=\"534.5\" y=\"-402.3\" font-family=\"Helvetica,sans-Serif\" font-size=\"14.00\">gini = 0.208</text>\n<text text-anchor=\"middle\" x=\"534.5\" y=\"-387.3\" font-family=\"Helvetica,sans-Serif\" font-size=\"14.00\">samples = 323</text>\n<text text-anchor=\"middle\" x=\"534.5\" y=\"-372.3\" font-family=\"Helvetica,sans-Serif\" font-size=\"14.00\">value = [285, 38]</text>\n<text text-anchor=\"middle\" x=\"534.5\" y=\"-357.3\" font-family=\"Helvetica,sans-Serif\" font-size=\"14.00\">class = Died</text>\n</g>\n<!-- 6&#45;&gt;8 -->\n<g id=\"edge18\" class=\"edge\">\n<title>6&#45;&gt;8</title>\n<path fill=\"none\" stroke=\"black\" d=\"M493.36,-460.91C499.3,-449.87 505.75,-437.9 511.74,-426.77\"/>\n<polygon fill=\"black\" stroke=\"black\" points=\"514.98,-428.13 516.64,-417.67 508.82,-424.81 514.98,-428.13\"/>\n</g>\n<!-- 13 -->\n<g id=\"node13\" class=\"node\">\n<title>13</title>\n<path fill=\"#e58139\" stroke=\"black\" d=\"M392,-298.5C392,-298.5 319,-298.5 319,-298.5 313,-298.5 307,-292.5 307,-286.5 307,-286.5 307,-242.5 307,-242.5 307,-236.5 313,-230.5 319,-230.5 319,-230.5 392,-230.5 392,-230.5 398,-230.5 404,-236.5 404,-242.5 404,-242.5 404,-286.5 404,-286.5 404,-292.5 398,-298.5 392,-298.5\"/>\n<text text-anchor=\"middle\" x=\"355.5\" y=\"-283.3\" font-family=\"Helvetica,sans-Serif\" font-size=\"14.00\">gini = 0.0</text>\n<text text-anchor=\"middle\" x=\"355.5\" y=\"-268.3\" font-family=\"Helvetica,sans-Serif\" font-size=\"14.00\">samples = 9</text>\n<text text-anchor=\"middle\" x=\"355.5\" y=\"-253.3\" font-family=\"Helvetica,sans-Serif\" font-size=\"14.00\">value = [9, 0]</text>\n<text text-anchor=\"middle\" x=\"355.5\" y=\"-238.3\" font-family=\"Helvetica,sans-Serif\" font-size=\"14.00\">class = Died</text>\n</g>\n<!-- 7&#45;&gt;13 -->\n<g id=\"edge12\" class=\"edge\">\n<title>7&#45;&gt;13</title>\n<path fill=\"none\" stroke=\"black\" d=\"M384.23,-341.91C380.13,-330.98 375.67,-319.14 371.52,-308.11\"/>\n<polygon fill=\"black\" stroke=\"black\" points=\"374.77,-306.79 367.97,-298.67 368.22,-309.26 374.77,-306.79\"/>\n</g>\n<!-- 14 -->\n<g id=\"node14\" class=\"node\">\n<title>14</title>\n<path fill=\"#f8ddc9\" stroke=\"black\" d=\"M523,-306C523,-306 434,-306 434,-306 428,-306 422,-300 422,-294 422,-294 422,-235 422,-235 422,-229 428,-223 434,-223 434,-223 523,-223 523,-223 529,-223 535,-229 535,-235 535,-235 535,-294 535,-294 535,-300 529,-306 523,-306\"/>\n<text text-anchor=\"middle\" x=\"478.5\" y=\"-290.8\" font-family=\"Helvetica,sans-Serif\" font-size=\"14.00\">Age &lt;= 53.0</text>\n<text text-anchor=\"middle\" x=\"478.5\" y=\"-275.8\" font-family=\"Helvetica,sans-Serif\" font-size=\"14.00\">gini = 0.488</text>\n<text text-anchor=\"middle\" x=\"478.5\" y=\"-260.8\" font-family=\"Helvetica,sans-Serif\" font-size=\"14.00\">samples = 83</text>\n<text text-anchor=\"middle\" x=\"478.5\" y=\"-245.8\" font-family=\"Helvetica,sans-Serif\" font-size=\"14.00\">value = [48, 35]</text>\n<text text-anchor=\"middle\" x=\"478.5\" y=\"-230.8\" font-family=\"Helvetica,sans-Serif\" font-size=\"14.00\">class = Died</text>\n</g>\n<!-- 7&#45;&gt;14 -->\n<g id=\"edge13\" class=\"edge\">\n<title>7&#45;&gt;14</title>\n<path fill=\"none\" stroke=\"black\" d=\"M426.91,-341.91C432.91,-333.01 439.33,-323.51 445.53,-314.33\"/>\n<polygon fill=\"black\" stroke=\"black\" points=\"448.44,-316.27 451.14,-306.02 442.64,-312.35 448.44,-316.27\"/>\n</g>\n<!-- 15 -->\n<g id=\"node15\" class=\"node\">\n<title>15</title>\n<path fill=\"#fefbf9\" stroke=\"black\" d=\"M459,-187C459,-187 370,-187 370,-187 364,-187 358,-181 358,-175 358,-175 358,-116 358,-116 358,-110 364,-104 370,-104 370,-104 459,-104 459,-104 465,-104 471,-110 471,-116 471,-116 471,-175 471,-175 471,-181 465,-187 459,-187\"/>\n<text text-anchor=\"middle\" x=\"414.5\" y=\"-171.8\" font-family=\"Helvetica,sans-Serif\" font-size=\"14.00\">Fare &lt;= 30.75</text>\n<text text-anchor=\"middle\" x=\"414.5\" y=\"-156.8\" font-family=\"Helvetica,sans-Serif\" font-size=\"14.00\">gini = 0.5</text>\n<text text-anchor=\"middle\" x=\"414.5\" y=\"-141.8\" font-family=\"Helvetica,sans-Serif\" font-size=\"14.00\">samples = 65</text>\n<text text-anchor=\"middle\" x=\"414.5\" y=\"-126.8\" font-family=\"Helvetica,sans-Serif\" font-size=\"14.00\">value = [33, 32]</text>\n<text text-anchor=\"middle\" x=\"414.5\" y=\"-111.8\" font-family=\"Helvetica,sans-Serif\" font-size=\"14.00\">class = Died</text>\n</g>\n<!-- 14&#45;&gt;15 -->\n<g id=\"edge14\" class=\"edge\">\n<title>14&#45;&gt;15</title>\n<path fill=\"none\" stroke=\"black\" d=\"M456.3,-222.91C451.53,-214.2 446.44,-204.9 441.52,-195.89\"/>\n<polygon fill=\"black\" stroke=\"black\" points=\"444.53,-194.11 436.67,-187.02 438.39,-197.47 444.53,-194.11\"/>\n</g>\n<!-- 16 -->\n<g id=\"node18\" class=\"node\">\n<title>16</title>\n<path fill=\"#ea9a61\" stroke=\"black\" d=\"M582,-179.5C582,-179.5 501,-179.5 501,-179.5 495,-179.5 489,-173.5 489,-167.5 489,-167.5 489,-123.5 489,-123.5 489,-117.5 495,-111.5 501,-111.5 501,-111.5 582,-111.5 582,-111.5 588,-111.5 594,-117.5 594,-123.5 594,-123.5 594,-167.5 594,-167.5 594,-173.5 588,-179.5 582,-179.5\"/>\n<text text-anchor=\"middle\" x=\"541.5\" y=\"-164.3\" font-family=\"Helvetica,sans-Serif\" font-size=\"14.00\">gini = 0.278</text>\n<text text-anchor=\"middle\" x=\"541.5\" y=\"-149.3\" font-family=\"Helvetica,sans-Serif\" font-size=\"14.00\">samples = 18</text>\n<text text-anchor=\"middle\" x=\"541.5\" y=\"-134.3\" font-family=\"Helvetica,sans-Serif\" font-size=\"14.00\">value = [15, 3]</text>\n<text text-anchor=\"middle\" x=\"541.5\" y=\"-119.3\" font-family=\"Helvetica,sans-Serif\" font-size=\"14.00\">class = Died</text>\n</g>\n<!-- 14&#45;&gt;16 -->\n<g id=\"edge17\" class=\"edge\">\n<title>14&#45;&gt;16</title>\n<path fill=\"none\" stroke=\"black\" d=\"M500.36,-222.91C506.3,-211.87 512.75,-199.9 518.74,-188.77\"/>\n<polygon fill=\"black\" stroke=\"black\" points=\"521.98,-190.13 523.64,-179.67 515.82,-186.81 521.98,-190.13\"/>\n</g>\n<!-- 17 -->\n<g id=\"node16\" class=\"node\">\n<title>17</title>\n<path fill=\"#90c8f0\" stroke=\"black\" d=\"M395,-68C395,-68 300,-68 300,-68 294,-68 288,-62 288,-56 288,-56 288,-12 288,-12 288,-6 294,0 300,0 300,0 395,0 395,0 401,0 407,-6 407,-12 407,-12 407,-56 407,-56 407,-62 401,-68 395,-68\"/>\n<text text-anchor=\"middle\" x=\"347.5\" y=\"-52.8\" font-family=\"Helvetica,sans-Serif\" font-size=\"14.00\">gini = 0.423</text>\n<text text-anchor=\"middle\" x=\"347.5\" y=\"-37.8\" font-family=\"Helvetica,sans-Serif\" font-size=\"14.00\">samples = 23</text>\n<text text-anchor=\"middle\" x=\"347.5\" y=\"-22.8\" font-family=\"Helvetica,sans-Serif\" font-size=\"14.00\">value = [7, 16]</text>\n<text text-anchor=\"middle\" x=\"347.5\" y=\"-7.8\" font-family=\"Helvetica,sans-Serif\" font-size=\"14.00\">class = Survived</text>\n</g>\n<!-- 15&#45;&gt;17 -->\n<g id=\"edge15\" class=\"edge\">\n<title>15&#45;&gt;17</title>\n<path fill=\"none\" stroke=\"black\" d=\"M389.55,-103.73C384.19,-94.97 378.52,-85.7 373.14,-76.91\"/>\n<polygon fill=\"black\" stroke=\"black\" points=\"376.08,-75 367.88,-68.3 370.11,-78.66 376.08,-75\"/>\n</g>\n<!-- 18 -->\n<g id=\"node17\" class=\"node\">\n<title>18</title>\n<path fill=\"#f5cfb3\" stroke=\"black\" d=\"M526,-68C526,-68 437,-68 437,-68 431,-68 425,-62 425,-56 425,-56 425,-12 425,-12 425,-6 431,0 437,0 437,0 526,0 526,0 532,0 538,-6 538,-12 538,-12 538,-56 538,-56 538,-62 532,-68 526,-68\"/>\n<text text-anchor=\"middle\" x=\"481.5\" y=\"-52.8\" font-family=\"Helvetica,sans-Serif\" font-size=\"14.00\">gini = 0.472</text>\n<text text-anchor=\"middle\" x=\"481.5\" y=\"-37.8\" font-family=\"Helvetica,sans-Serif\" font-size=\"14.00\">samples = 42</text>\n<text text-anchor=\"middle\" x=\"481.5\" y=\"-22.8\" font-family=\"Helvetica,sans-Serif\" font-size=\"14.00\">value = [26, 16]</text>\n<text text-anchor=\"middle\" x=\"481.5\" y=\"-7.8\" font-family=\"Helvetica,sans-Serif\" font-size=\"14.00\">class = Died</text>\n</g>\n<!-- 15&#45;&gt;18 -->\n<g id=\"edge16\" class=\"edge\">\n<title>15&#45;&gt;18</title>\n<path fill=\"none\" stroke=\"black\" d=\"M439.45,-103.73C444.81,-94.97 450.48,-85.7 455.86,-76.91\"/>\n<polygon fill=\"black\" stroke=\"black\" points=\"458.89,-78.66 461.12,-68.3 452.92,-75 458.89,-78.66\"/>\n</g>\n</g>\n</svg>\n",
      "text/plain": [
       "<graphviz.sources.Source at 0x1aa312f0850>"
      ]
     },
     "execution_count": 23,
     "metadata": {},
     "output_type": "execute_result"
    }
   ],
   "source": [
    "dot_data = export_graphviz(classifier_DT, feature_names = Xtrain.columns, filled = True, rounded = True, class_names=[\"Died\",\"Survived\"])\n",
    "graph = gp.Source(dot_data)\n",
    "graph"
   ]
  },
  {
   "cell_type": "markdown",
   "metadata": {},
   "source": [
    "7. What is the accuracy_score on the testing set?"
   ]
  },
  {
   "cell_type": "code",
   "execution_count": 24,
   "metadata": {},
   "outputs": [
    {
     "data": {
      "text/plain": [
       "0.820627802690583"
      ]
     },
     "execution_count": 24,
     "metadata": {},
     "output_type": "execute_result"
    }
   ],
   "source": [
    "y_test_pred = classifier_DT.predict(Xtest)\n",
    "    \n",
    "accuracy_score(ytest,y_test_pred)"
   ]
  },
  {
   "cell_type": "markdown",
   "metadata": {},
   "source": [
    "8. Pulling up the Titanic Movie dataset, what do you predict for Rose and Jack in terms of survival? If you have seen the movie, does it agree with the outcomes they meet there?"
   ]
  },
  {
   "cell_type": "code",
   "execution_count": 25,
   "metadata": {},
   "outputs": [
    {
     "ename": "FileNotFoundError",
     "evalue": "[Errno 2] No such file or directory: 'Titanic_movie.csv'",
     "output_type": "error",
     "traceback": [
      "\u001b[1;31m---------------------------------------------------------------------------\u001b[0m",
      "\u001b[1;31mFileNotFoundError\u001b[0m                         Traceback (most recent call last)",
      "\u001b[1;32m<ipython-input-25-2b2f519c9855>\u001b[0m in \u001b[0;36m<module>\u001b[1;34m\u001b[0m\n\u001b[1;32m----> 1\u001b[1;33m \u001b[0mTitanic_movie\u001b[0m\u001b[1;33m=\u001b[0m\u001b[0mpd\u001b[0m\u001b[1;33m.\u001b[0m\u001b[0mread_csv\u001b[0m\u001b[1;33m(\u001b[0m\u001b[1;34m\"Titanic_movie.csv\"\u001b[0m\u001b[1;33m)\u001b[0m\u001b[1;33m\u001b[0m\u001b[1;33m\u001b[0m\u001b[0m\n\u001b[0m\u001b[0;32m      2\u001b[0m \u001b[0mTitanic_movie\u001b[0m\u001b[1;33m\u001b[0m\u001b[1;33m\u001b[0m\u001b[0m\n",
      "\u001b[1;32m~\\anaconda3\\envs\\smm750\\lib\\site-packages\\pandas\\util\\_decorators.py\u001b[0m in \u001b[0;36mwrapper\u001b[1;34m(*args, **kwargs)\u001b[0m\n\u001b[0;32m    309\u001b[0m                     \u001b[0mstacklevel\u001b[0m\u001b[1;33m=\u001b[0m\u001b[0mstacklevel\u001b[0m\u001b[1;33m,\u001b[0m\u001b[1;33m\u001b[0m\u001b[1;33m\u001b[0m\u001b[0m\n\u001b[0;32m    310\u001b[0m                 )\n\u001b[1;32m--> 311\u001b[1;33m             \u001b[1;32mreturn\u001b[0m \u001b[0mfunc\u001b[0m\u001b[1;33m(\u001b[0m\u001b[1;33m*\u001b[0m\u001b[0margs\u001b[0m\u001b[1;33m,\u001b[0m \u001b[1;33m**\u001b[0m\u001b[0mkwargs\u001b[0m\u001b[1;33m)\u001b[0m\u001b[1;33m\u001b[0m\u001b[1;33m\u001b[0m\u001b[0m\n\u001b[0m\u001b[0;32m    312\u001b[0m \u001b[1;33m\u001b[0m\u001b[0m\n\u001b[0;32m    313\u001b[0m         \u001b[1;32mreturn\u001b[0m \u001b[0mwrapper\u001b[0m\u001b[1;33m\u001b[0m\u001b[1;33m\u001b[0m\u001b[0m\n",
      "\u001b[1;32m~\\anaconda3\\envs\\smm750\\lib\\site-packages\\pandas\\io\\parsers\\readers.py\u001b[0m in \u001b[0;36mread_csv\u001b[1;34m(filepath_or_buffer, sep, delimiter, header, names, index_col, usecols, squeeze, prefix, mangle_dupe_cols, dtype, engine, converters, true_values, false_values, skipinitialspace, skiprows, skipfooter, nrows, na_values, keep_default_na, na_filter, verbose, skip_blank_lines, parse_dates, infer_datetime_format, keep_date_col, date_parser, dayfirst, cache_dates, iterator, chunksize, compression, thousands, decimal, lineterminator, quotechar, quoting, doublequote, escapechar, comment, encoding, encoding_errors, dialect, error_bad_lines, warn_bad_lines, on_bad_lines, delim_whitespace, low_memory, memory_map, float_precision, storage_options)\u001b[0m\n\u001b[0;32m    584\u001b[0m     \u001b[0mkwds\u001b[0m\u001b[1;33m.\u001b[0m\u001b[0mupdate\u001b[0m\u001b[1;33m(\u001b[0m\u001b[0mkwds_defaults\u001b[0m\u001b[1;33m)\u001b[0m\u001b[1;33m\u001b[0m\u001b[1;33m\u001b[0m\u001b[0m\n\u001b[0;32m    585\u001b[0m \u001b[1;33m\u001b[0m\u001b[0m\n\u001b[1;32m--> 586\u001b[1;33m     \u001b[1;32mreturn\u001b[0m \u001b[0m_read\u001b[0m\u001b[1;33m(\u001b[0m\u001b[0mfilepath_or_buffer\u001b[0m\u001b[1;33m,\u001b[0m \u001b[0mkwds\u001b[0m\u001b[1;33m)\u001b[0m\u001b[1;33m\u001b[0m\u001b[1;33m\u001b[0m\u001b[0m\n\u001b[0m\u001b[0;32m    587\u001b[0m \u001b[1;33m\u001b[0m\u001b[0m\n\u001b[0;32m    588\u001b[0m \u001b[1;33m\u001b[0m\u001b[0m\n",
      "\u001b[1;32m~\\anaconda3\\envs\\smm750\\lib\\site-packages\\pandas\\io\\parsers\\readers.py\u001b[0m in \u001b[0;36m_read\u001b[1;34m(filepath_or_buffer, kwds)\u001b[0m\n\u001b[0;32m    480\u001b[0m \u001b[1;33m\u001b[0m\u001b[0m\n\u001b[0;32m    481\u001b[0m     \u001b[1;31m# Create the parser.\u001b[0m\u001b[1;33m\u001b[0m\u001b[1;33m\u001b[0m\u001b[1;33m\u001b[0m\u001b[0m\n\u001b[1;32m--> 482\u001b[1;33m     \u001b[0mparser\u001b[0m \u001b[1;33m=\u001b[0m \u001b[0mTextFileReader\u001b[0m\u001b[1;33m(\u001b[0m\u001b[0mfilepath_or_buffer\u001b[0m\u001b[1;33m,\u001b[0m \u001b[1;33m**\u001b[0m\u001b[0mkwds\u001b[0m\u001b[1;33m)\u001b[0m\u001b[1;33m\u001b[0m\u001b[1;33m\u001b[0m\u001b[0m\n\u001b[0m\u001b[0;32m    483\u001b[0m \u001b[1;33m\u001b[0m\u001b[0m\n\u001b[0;32m    484\u001b[0m     \u001b[1;32mif\u001b[0m \u001b[0mchunksize\u001b[0m \u001b[1;32mor\u001b[0m \u001b[0miterator\u001b[0m\u001b[1;33m:\u001b[0m\u001b[1;33m\u001b[0m\u001b[1;33m\u001b[0m\u001b[0m\n",
      "\u001b[1;32m~\\anaconda3\\envs\\smm750\\lib\\site-packages\\pandas\\io\\parsers\\readers.py\u001b[0m in \u001b[0;36m__init__\u001b[1;34m(self, f, engine, **kwds)\u001b[0m\n\u001b[0;32m    809\u001b[0m             \u001b[0mself\u001b[0m\u001b[1;33m.\u001b[0m\u001b[0moptions\u001b[0m\u001b[1;33m[\u001b[0m\u001b[1;34m\"has_index_names\"\u001b[0m\u001b[1;33m]\u001b[0m \u001b[1;33m=\u001b[0m \u001b[0mkwds\u001b[0m\u001b[1;33m[\u001b[0m\u001b[1;34m\"has_index_names\"\u001b[0m\u001b[1;33m]\u001b[0m\u001b[1;33m\u001b[0m\u001b[1;33m\u001b[0m\u001b[0m\n\u001b[0;32m    810\u001b[0m \u001b[1;33m\u001b[0m\u001b[0m\n\u001b[1;32m--> 811\u001b[1;33m         \u001b[0mself\u001b[0m\u001b[1;33m.\u001b[0m\u001b[0m_engine\u001b[0m \u001b[1;33m=\u001b[0m \u001b[0mself\u001b[0m\u001b[1;33m.\u001b[0m\u001b[0m_make_engine\u001b[0m\u001b[1;33m(\u001b[0m\u001b[0mself\u001b[0m\u001b[1;33m.\u001b[0m\u001b[0mengine\u001b[0m\u001b[1;33m)\u001b[0m\u001b[1;33m\u001b[0m\u001b[1;33m\u001b[0m\u001b[0m\n\u001b[0m\u001b[0;32m    812\u001b[0m \u001b[1;33m\u001b[0m\u001b[0m\n\u001b[0;32m    813\u001b[0m     \u001b[1;32mdef\u001b[0m \u001b[0mclose\u001b[0m\u001b[1;33m(\u001b[0m\u001b[0mself\u001b[0m\u001b[1;33m)\u001b[0m\u001b[1;33m:\u001b[0m\u001b[1;33m\u001b[0m\u001b[1;33m\u001b[0m\u001b[0m\n",
      "\u001b[1;32m~\\anaconda3\\envs\\smm750\\lib\\site-packages\\pandas\\io\\parsers\\readers.py\u001b[0m in \u001b[0;36m_make_engine\u001b[1;34m(self, engine)\u001b[0m\n\u001b[0;32m   1038\u001b[0m             )\n\u001b[0;32m   1039\u001b[0m         \u001b[1;31m# error: Too many arguments for \"ParserBase\"\u001b[0m\u001b[1;33m\u001b[0m\u001b[1;33m\u001b[0m\u001b[1;33m\u001b[0m\u001b[0m\n\u001b[1;32m-> 1040\u001b[1;33m         \u001b[1;32mreturn\u001b[0m \u001b[0mmapping\u001b[0m\u001b[1;33m[\u001b[0m\u001b[0mengine\u001b[0m\u001b[1;33m]\u001b[0m\u001b[1;33m(\u001b[0m\u001b[0mself\u001b[0m\u001b[1;33m.\u001b[0m\u001b[0mf\u001b[0m\u001b[1;33m,\u001b[0m \u001b[1;33m**\u001b[0m\u001b[0mself\u001b[0m\u001b[1;33m.\u001b[0m\u001b[0moptions\u001b[0m\u001b[1;33m)\u001b[0m  \u001b[1;31m# type: ignore[call-arg]\u001b[0m\u001b[1;33m\u001b[0m\u001b[1;33m\u001b[0m\u001b[0m\n\u001b[0m\u001b[0;32m   1041\u001b[0m \u001b[1;33m\u001b[0m\u001b[0m\n\u001b[0;32m   1042\u001b[0m     \u001b[1;32mdef\u001b[0m \u001b[0m_failover_to_python\u001b[0m\u001b[1;33m(\u001b[0m\u001b[0mself\u001b[0m\u001b[1;33m)\u001b[0m\u001b[1;33m:\u001b[0m\u001b[1;33m\u001b[0m\u001b[1;33m\u001b[0m\u001b[0m\n",
      "\u001b[1;32m~\\anaconda3\\envs\\smm750\\lib\\site-packages\\pandas\\io\\parsers\\c_parser_wrapper.py\u001b[0m in \u001b[0;36m__init__\u001b[1;34m(self, src, **kwds)\u001b[0m\n\u001b[0;32m     49\u001b[0m \u001b[1;33m\u001b[0m\u001b[0m\n\u001b[0;32m     50\u001b[0m         \u001b[1;31m# open handles\u001b[0m\u001b[1;33m\u001b[0m\u001b[1;33m\u001b[0m\u001b[1;33m\u001b[0m\u001b[0m\n\u001b[1;32m---> 51\u001b[1;33m         \u001b[0mself\u001b[0m\u001b[1;33m.\u001b[0m\u001b[0m_open_handles\u001b[0m\u001b[1;33m(\u001b[0m\u001b[0msrc\u001b[0m\u001b[1;33m,\u001b[0m \u001b[0mkwds\u001b[0m\u001b[1;33m)\u001b[0m\u001b[1;33m\u001b[0m\u001b[1;33m\u001b[0m\u001b[0m\n\u001b[0m\u001b[0;32m     52\u001b[0m         \u001b[1;32massert\u001b[0m \u001b[0mself\u001b[0m\u001b[1;33m.\u001b[0m\u001b[0mhandles\u001b[0m \u001b[1;32mis\u001b[0m \u001b[1;32mnot\u001b[0m \u001b[1;32mNone\u001b[0m\u001b[1;33m\u001b[0m\u001b[1;33m\u001b[0m\u001b[0m\n\u001b[0;32m     53\u001b[0m \u001b[1;33m\u001b[0m\u001b[0m\n",
      "\u001b[1;32m~\\anaconda3\\envs\\smm750\\lib\\site-packages\\pandas\\io\\parsers\\base_parser.py\u001b[0m in \u001b[0;36m_open_handles\u001b[1;34m(self, src, kwds)\u001b[0m\n\u001b[0;32m    220\u001b[0m         \u001b[0mLet\u001b[0m \u001b[0mthe\u001b[0m \u001b[0mreaders\u001b[0m \u001b[0mopen\u001b[0m \u001b[0mIOHandles\u001b[0m \u001b[0mafter\u001b[0m \u001b[0mthey\u001b[0m \u001b[0mare\u001b[0m \u001b[0mdone\u001b[0m \u001b[1;32mwith\u001b[0m \u001b[0mtheir\u001b[0m \u001b[0mpotential\u001b[0m \u001b[0mraises\u001b[0m\u001b[1;33m.\u001b[0m\u001b[1;33m\u001b[0m\u001b[1;33m\u001b[0m\u001b[0m\n\u001b[0;32m    221\u001b[0m         \"\"\"\n\u001b[1;32m--> 222\u001b[1;33m         self.handles = get_handle(\n\u001b[0m\u001b[0;32m    223\u001b[0m             \u001b[0msrc\u001b[0m\u001b[1;33m,\u001b[0m\u001b[1;33m\u001b[0m\u001b[1;33m\u001b[0m\u001b[0m\n\u001b[0;32m    224\u001b[0m             \u001b[1;34m\"r\"\u001b[0m\u001b[1;33m,\u001b[0m\u001b[1;33m\u001b[0m\u001b[1;33m\u001b[0m\u001b[0m\n",
      "\u001b[1;32m~\\anaconda3\\envs\\smm750\\lib\\site-packages\\pandas\\io\\common.py\u001b[0m in \u001b[0;36mget_handle\u001b[1;34m(path_or_buf, mode, encoding, compression, memory_map, is_text, errors, storage_options)\u001b[0m\n\u001b[0;32m    700\u001b[0m         \u001b[1;32mif\u001b[0m \u001b[0mioargs\u001b[0m\u001b[1;33m.\u001b[0m\u001b[0mencoding\u001b[0m \u001b[1;32mand\u001b[0m \u001b[1;34m\"b\"\u001b[0m \u001b[1;32mnot\u001b[0m \u001b[1;32min\u001b[0m \u001b[0mioargs\u001b[0m\u001b[1;33m.\u001b[0m\u001b[0mmode\u001b[0m\u001b[1;33m:\u001b[0m\u001b[1;33m\u001b[0m\u001b[1;33m\u001b[0m\u001b[0m\n\u001b[0;32m    701\u001b[0m             \u001b[1;31m# Encoding\u001b[0m\u001b[1;33m\u001b[0m\u001b[1;33m\u001b[0m\u001b[1;33m\u001b[0m\u001b[0m\n\u001b[1;32m--> 702\u001b[1;33m             handle = open(\n\u001b[0m\u001b[0;32m    703\u001b[0m                 \u001b[0mhandle\u001b[0m\u001b[1;33m,\u001b[0m\u001b[1;33m\u001b[0m\u001b[1;33m\u001b[0m\u001b[0m\n\u001b[0;32m    704\u001b[0m                 \u001b[0mioargs\u001b[0m\u001b[1;33m.\u001b[0m\u001b[0mmode\u001b[0m\u001b[1;33m,\u001b[0m\u001b[1;33m\u001b[0m\u001b[1;33m\u001b[0m\u001b[0m\n",
      "\u001b[1;31mFileNotFoundError\u001b[0m: [Errno 2] No such file or directory: 'Titanic_movie.csv'"
     ]
    }
   ],
   "source": [
    "Titanic_movie=pd.read_csv(\"Titanic_movie.csv\")\n",
    "Titanic_movie"
   ]
  },
  {
   "cell_type": "code",
   "execution_count": null,
   "metadata": {},
   "outputs": [],
   "source": [
    "classifier_DT.predict(Titanic_movie.drop(columns=\"Name\"))"
   ]
  },
  {
   "cell_type": "markdown",
   "metadata": {},
   "source": [
    "# Part 2: The Boston houseprices dataset - CART and more advanced tools for regression (optional)"
   ]
  },
  {
   "cell_type": "markdown",
   "metadata": {},
   "source": [
    "In this question, we use the Boston crime dataset from, e.g., http://lib.stat.cmu.edu/datasets/boston ."
   ]
  },
  {
   "cell_type": "code",
   "execution_count": 26,
   "metadata": {},
   "outputs": [],
   "source": [
    "boston=sm.datasets.get_rdataset(\"Boston\",\"MASS\")"
   ]
  },
  {
   "cell_type": "code",
   "execution_count": 27,
   "metadata": {},
   "outputs": [],
   "source": [
    "boston_data=boston.data"
   ]
  },
  {
   "cell_type": "markdown",
   "metadata": {},
   "source": [
    "## A. Regression Trees"
   ]
  },
  {
   "cell_type": "markdown",
   "metadata": {},
   "source": [
    "1. As usual, take a look at the header of the dataset and make sure you understand the features before you begin. Are there any duplicates? Any empty values?"
   ]
  },
  {
   "cell_type": "code",
   "execution_count": 28,
   "metadata": {},
   "outputs": [
    {
     "data": {
      "text/html": [
       "<div>\n",
       "<style scoped>\n",
       "    .dataframe tbody tr th:only-of-type {\n",
       "        vertical-align: middle;\n",
       "    }\n",
       "\n",
       "    .dataframe tbody tr th {\n",
       "        vertical-align: top;\n",
       "    }\n",
       "\n",
       "    .dataframe thead th {\n",
       "        text-align: right;\n",
       "    }\n",
       "</style>\n",
       "<table border=\"1\" class=\"dataframe\">\n",
       "  <thead>\n",
       "    <tr style=\"text-align: right;\">\n",
       "      <th></th>\n",
       "      <th>crim</th>\n",
       "      <th>zn</th>\n",
       "      <th>indus</th>\n",
       "      <th>chas</th>\n",
       "      <th>nox</th>\n",
       "      <th>rm</th>\n",
       "      <th>age</th>\n",
       "      <th>dis</th>\n",
       "      <th>rad</th>\n",
       "      <th>tax</th>\n",
       "      <th>ptratio</th>\n",
       "      <th>black</th>\n",
       "      <th>lstat</th>\n",
       "      <th>medv</th>\n",
       "    </tr>\n",
       "  </thead>\n",
       "  <tbody>\n",
       "    <tr>\n",
       "      <th>0</th>\n",
       "      <td>0.00632</td>\n",
       "      <td>18.0</td>\n",
       "      <td>2.31</td>\n",
       "      <td>0</td>\n",
       "      <td>0.538</td>\n",
       "      <td>6.575</td>\n",
       "      <td>65.2</td>\n",
       "      <td>4.0900</td>\n",
       "      <td>1</td>\n",
       "      <td>296</td>\n",
       "      <td>15.3</td>\n",
       "      <td>396.90</td>\n",
       "      <td>4.98</td>\n",
       "      <td>24.0</td>\n",
       "    </tr>\n",
       "    <tr>\n",
       "      <th>1</th>\n",
       "      <td>0.02731</td>\n",
       "      <td>0.0</td>\n",
       "      <td>7.07</td>\n",
       "      <td>0</td>\n",
       "      <td>0.469</td>\n",
       "      <td>6.421</td>\n",
       "      <td>78.9</td>\n",
       "      <td>4.9671</td>\n",
       "      <td>2</td>\n",
       "      <td>242</td>\n",
       "      <td>17.8</td>\n",
       "      <td>396.90</td>\n",
       "      <td>9.14</td>\n",
       "      <td>21.6</td>\n",
       "    </tr>\n",
       "    <tr>\n",
       "      <th>2</th>\n",
       "      <td>0.02729</td>\n",
       "      <td>0.0</td>\n",
       "      <td>7.07</td>\n",
       "      <td>0</td>\n",
       "      <td>0.469</td>\n",
       "      <td>7.185</td>\n",
       "      <td>61.1</td>\n",
       "      <td>4.9671</td>\n",
       "      <td>2</td>\n",
       "      <td>242</td>\n",
       "      <td>17.8</td>\n",
       "      <td>392.83</td>\n",
       "      <td>4.03</td>\n",
       "      <td>34.7</td>\n",
       "    </tr>\n",
       "    <tr>\n",
       "      <th>3</th>\n",
       "      <td>0.03237</td>\n",
       "      <td>0.0</td>\n",
       "      <td>2.18</td>\n",
       "      <td>0</td>\n",
       "      <td>0.458</td>\n",
       "      <td>6.998</td>\n",
       "      <td>45.8</td>\n",
       "      <td>6.0622</td>\n",
       "      <td>3</td>\n",
       "      <td>222</td>\n",
       "      <td>18.7</td>\n",
       "      <td>394.63</td>\n",
       "      <td>2.94</td>\n",
       "      <td>33.4</td>\n",
       "    </tr>\n",
       "    <tr>\n",
       "      <th>4</th>\n",
       "      <td>0.06905</td>\n",
       "      <td>0.0</td>\n",
       "      <td>2.18</td>\n",
       "      <td>0</td>\n",
       "      <td>0.458</td>\n",
       "      <td>7.147</td>\n",
       "      <td>54.2</td>\n",
       "      <td>6.0622</td>\n",
       "      <td>3</td>\n",
       "      <td>222</td>\n",
       "      <td>18.7</td>\n",
       "      <td>396.90</td>\n",
       "      <td>5.33</td>\n",
       "      <td>36.2</td>\n",
       "    </tr>\n",
       "    <tr>\n",
       "      <th>...</th>\n",
       "      <td>...</td>\n",
       "      <td>...</td>\n",
       "      <td>...</td>\n",
       "      <td>...</td>\n",
       "      <td>...</td>\n",
       "      <td>...</td>\n",
       "      <td>...</td>\n",
       "      <td>...</td>\n",
       "      <td>...</td>\n",
       "      <td>...</td>\n",
       "      <td>...</td>\n",
       "      <td>...</td>\n",
       "      <td>...</td>\n",
       "      <td>...</td>\n",
       "    </tr>\n",
       "    <tr>\n",
       "      <th>501</th>\n",
       "      <td>0.06263</td>\n",
       "      <td>0.0</td>\n",
       "      <td>11.93</td>\n",
       "      <td>0</td>\n",
       "      <td>0.573</td>\n",
       "      <td>6.593</td>\n",
       "      <td>69.1</td>\n",
       "      <td>2.4786</td>\n",
       "      <td>1</td>\n",
       "      <td>273</td>\n",
       "      <td>21.0</td>\n",
       "      <td>391.99</td>\n",
       "      <td>9.67</td>\n",
       "      <td>22.4</td>\n",
       "    </tr>\n",
       "    <tr>\n",
       "      <th>502</th>\n",
       "      <td>0.04527</td>\n",
       "      <td>0.0</td>\n",
       "      <td>11.93</td>\n",
       "      <td>0</td>\n",
       "      <td>0.573</td>\n",
       "      <td>6.120</td>\n",
       "      <td>76.7</td>\n",
       "      <td>2.2875</td>\n",
       "      <td>1</td>\n",
       "      <td>273</td>\n",
       "      <td>21.0</td>\n",
       "      <td>396.90</td>\n",
       "      <td>9.08</td>\n",
       "      <td>20.6</td>\n",
       "    </tr>\n",
       "    <tr>\n",
       "      <th>503</th>\n",
       "      <td>0.06076</td>\n",
       "      <td>0.0</td>\n",
       "      <td>11.93</td>\n",
       "      <td>0</td>\n",
       "      <td>0.573</td>\n",
       "      <td>6.976</td>\n",
       "      <td>91.0</td>\n",
       "      <td>2.1675</td>\n",
       "      <td>1</td>\n",
       "      <td>273</td>\n",
       "      <td>21.0</td>\n",
       "      <td>396.90</td>\n",
       "      <td>5.64</td>\n",
       "      <td>23.9</td>\n",
       "    </tr>\n",
       "    <tr>\n",
       "      <th>504</th>\n",
       "      <td>0.10959</td>\n",
       "      <td>0.0</td>\n",
       "      <td>11.93</td>\n",
       "      <td>0</td>\n",
       "      <td>0.573</td>\n",
       "      <td>6.794</td>\n",
       "      <td>89.3</td>\n",
       "      <td>2.3889</td>\n",
       "      <td>1</td>\n",
       "      <td>273</td>\n",
       "      <td>21.0</td>\n",
       "      <td>393.45</td>\n",
       "      <td>6.48</td>\n",
       "      <td>22.0</td>\n",
       "    </tr>\n",
       "    <tr>\n",
       "      <th>505</th>\n",
       "      <td>0.04741</td>\n",
       "      <td>0.0</td>\n",
       "      <td>11.93</td>\n",
       "      <td>0</td>\n",
       "      <td>0.573</td>\n",
       "      <td>6.030</td>\n",
       "      <td>80.8</td>\n",
       "      <td>2.5050</td>\n",
       "      <td>1</td>\n",
       "      <td>273</td>\n",
       "      <td>21.0</td>\n",
       "      <td>396.90</td>\n",
       "      <td>7.88</td>\n",
       "      <td>11.9</td>\n",
       "    </tr>\n",
       "  </tbody>\n",
       "</table>\n",
       "<p>506 rows × 14 columns</p>\n",
       "</div>"
      ],
      "text/plain": [
       "        crim    zn  indus  chas    nox     rm   age     dis  rad  tax  \\\n",
       "0    0.00632  18.0   2.31     0  0.538  6.575  65.2  4.0900    1  296   \n",
       "1    0.02731   0.0   7.07     0  0.469  6.421  78.9  4.9671    2  242   \n",
       "2    0.02729   0.0   7.07     0  0.469  7.185  61.1  4.9671    2  242   \n",
       "3    0.03237   0.0   2.18     0  0.458  6.998  45.8  6.0622    3  222   \n",
       "4    0.06905   0.0   2.18     0  0.458  7.147  54.2  6.0622    3  222   \n",
       "..       ...   ...    ...   ...    ...    ...   ...     ...  ...  ...   \n",
       "501  0.06263   0.0  11.93     0  0.573  6.593  69.1  2.4786    1  273   \n",
       "502  0.04527   0.0  11.93     0  0.573  6.120  76.7  2.2875    1  273   \n",
       "503  0.06076   0.0  11.93     0  0.573  6.976  91.0  2.1675    1  273   \n",
       "504  0.10959   0.0  11.93     0  0.573  6.794  89.3  2.3889    1  273   \n",
       "505  0.04741   0.0  11.93     0  0.573  6.030  80.8  2.5050    1  273   \n",
       "\n",
       "     ptratio   black  lstat  medv  \n",
       "0       15.3  396.90   4.98  24.0  \n",
       "1       17.8  396.90   9.14  21.6  \n",
       "2       17.8  392.83   4.03  34.7  \n",
       "3       18.7  394.63   2.94  33.4  \n",
       "4       18.7  396.90   5.33  36.2  \n",
       "..       ...     ...    ...   ...  \n",
       "501     21.0  391.99   9.67  22.4  \n",
       "502     21.0  396.90   9.08  20.6  \n",
       "503     21.0  396.90   5.64  23.9  \n",
       "504     21.0  393.45   6.48  22.0  \n",
       "505     21.0  396.90   7.88  11.9  \n",
       "\n",
       "[506 rows x 14 columns]"
      ]
     },
     "execution_count": 28,
     "metadata": {},
     "output_type": "execute_result"
    }
   ],
   "source": [
    "boston_data"
   ]
  },
  {
   "cell_type": "code",
   "execution_count": 29,
   "metadata": {},
   "outputs": [
    {
     "data": {
      "text/plain": [
       "crim       False\n",
       "zn         False\n",
       "indus      False\n",
       "chas       False\n",
       "nox        False\n",
       "rm         False\n",
       "age        False\n",
       "dis        False\n",
       "rad        False\n",
       "tax        False\n",
       "ptratio    False\n",
       "black      False\n",
       "lstat      False\n",
       "medv       False\n",
       "dtype: bool"
      ]
     },
     "execution_count": 29,
     "metadata": {},
     "output_type": "execute_result"
    }
   ],
   "source": [
    "boston_data.isna().any()"
   ]
  },
  {
   "cell_type": "code",
   "execution_count": 30,
   "metadata": {},
   "outputs": [
    {
     "data": {
      "text/plain": [
       "False"
      ]
     },
     "execution_count": 30,
     "metadata": {},
     "output_type": "execute_result"
    }
   ],
   "source": [
    "boston_data.duplicated().any()"
   ]
  },
  {
   "cell_type": "markdown",
   "metadata": {},
   "source": [
    "2. We will be attempting to predict the median value of the houses based on the other features using CART. In class, we saw how to use decision trees to *classify*, now our goal is to perform *regression*. To do this create the appropriate feature dataset `X` and the appropriate labels `y`. Then separate these into train/validation/test in proportions of 50/25/25 using `test_train_split`."
   ]
  },
  {
   "cell_type": "code",
   "execution_count": 31,
   "metadata": {},
   "outputs": [],
   "source": [
    "y=boston_data[[\"medv\"]]\n",
    "X=boston_data.drop(columns=[\"medv\"])"
   ]
  },
  {
   "cell_type": "code",
   "execution_count": 32,
   "metadata": {},
   "outputs": [],
   "source": [
    "Xtrain, Xother, ytrain, yother=train_test_split(X,y,test_size=0.5)"
   ]
  },
  {
   "cell_type": "code",
   "execution_count": 33,
   "metadata": {},
   "outputs": [],
   "source": [
    "Xvalidation, Xtest, yvalidation, ytest=train_test_split(Xother,yother,test_size=0.5)"
   ]
  },
  {
   "cell_type": "code",
   "execution_count": 34,
   "metadata": {},
   "outputs": [
    {
     "data": {
      "text/html": [
       "<div>\n",
       "<style scoped>\n",
       "    .dataframe tbody tr th:only-of-type {\n",
       "        vertical-align: middle;\n",
       "    }\n",
       "\n",
       "    .dataframe tbody tr th {\n",
       "        vertical-align: top;\n",
       "    }\n",
       "\n",
       "    .dataframe thead th {\n",
       "        text-align: right;\n",
       "    }\n",
       "</style>\n",
       "<table border=\"1\" class=\"dataframe\">\n",
       "  <thead>\n",
       "    <tr style=\"text-align: right;\">\n",
       "      <th></th>\n",
       "      <th>crim</th>\n",
       "      <th>zn</th>\n",
       "      <th>indus</th>\n",
       "      <th>chas</th>\n",
       "      <th>nox</th>\n",
       "      <th>rm</th>\n",
       "      <th>age</th>\n",
       "      <th>dis</th>\n",
       "      <th>rad</th>\n",
       "      <th>tax</th>\n",
       "      <th>ptratio</th>\n",
       "      <th>black</th>\n",
       "      <th>lstat</th>\n",
       "    </tr>\n",
       "  </thead>\n",
       "  <tbody>\n",
       "    <tr>\n",
       "      <th>249</th>\n",
       "      <td>0.19073</td>\n",
       "      <td>22.0</td>\n",
       "      <td>5.86</td>\n",
       "      <td>0</td>\n",
       "      <td>0.431</td>\n",
       "      <td>6.718</td>\n",
       "      <td>17.5</td>\n",
       "      <td>7.8265</td>\n",
       "      <td>7</td>\n",
       "      <td>330</td>\n",
       "      <td>19.1</td>\n",
       "      <td>393.74</td>\n",
       "      <td>6.56</td>\n",
       "    </tr>\n",
       "    <tr>\n",
       "      <th>97</th>\n",
       "      <td>0.12083</td>\n",
       "      <td>0.0</td>\n",
       "      <td>2.89</td>\n",
       "      <td>0</td>\n",
       "      <td>0.445</td>\n",
       "      <td>8.069</td>\n",
       "      <td>76.0</td>\n",
       "      <td>3.4952</td>\n",
       "      <td>2</td>\n",
       "      <td>276</td>\n",
       "      <td>18.0</td>\n",
       "      <td>396.90</td>\n",
       "      <td>4.21</td>\n",
       "    </tr>\n",
       "    <tr>\n",
       "      <th>304</th>\n",
       "      <td>0.05515</td>\n",
       "      <td>33.0</td>\n",
       "      <td>2.18</td>\n",
       "      <td>0</td>\n",
       "      <td>0.472</td>\n",
       "      <td>7.236</td>\n",
       "      <td>41.1</td>\n",
       "      <td>4.0220</td>\n",
       "      <td>7</td>\n",
       "      <td>222</td>\n",
       "      <td>18.4</td>\n",
       "      <td>393.68</td>\n",
       "      <td>6.93</td>\n",
       "    </tr>\n",
       "    <tr>\n",
       "      <th>479</th>\n",
       "      <td>14.33370</td>\n",
       "      <td>0.0</td>\n",
       "      <td>18.10</td>\n",
       "      <td>0</td>\n",
       "      <td>0.614</td>\n",
       "      <td>6.229</td>\n",
       "      <td>88.0</td>\n",
       "      <td>1.9512</td>\n",
       "      <td>24</td>\n",
       "      <td>666</td>\n",
       "      <td>20.2</td>\n",
       "      <td>383.32</td>\n",
       "      <td>13.11</td>\n",
       "    </tr>\n",
       "    <tr>\n",
       "      <th>395</th>\n",
       "      <td>8.71675</td>\n",
       "      <td>0.0</td>\n",
       "      <td>18.10</td>\n",
       "      <td>0</td>\n",
       "      <td>0.693</td>\n",
       "      <td>6.471</td>\n",
       "      <td>98.8</td>\n",
       "      <td>1.7257</td>\n",
       "      <td>24</td>\n",
       "      <td>666</td>\n",
       "      <td>20.2</td>\n",
       "      <td>391.98</td>\n",
       "      <td>17.12</td>\n",
       "    </tr>\n",
       "    <tr>\n",
       "      <th>...</th>\n",
       "      <td>...</td>\n",
       "      <td>...</td>\n",
       "      <td>...</td>\n",
       "      <td>...</td>\n",
       "      <td>...</td>\n",
       "      <td>...</td>\n",
       "      <td>...</td>\n",
       "      <td>...</td>\n",
       "      <td>...</td>\n",
       "      <td>...</td>\n",
       "      <td>...</td>\n",
       "      <td>...</td>\n",
       "      <td>...</td>\n",
       "    </tr>\n",
       "    <tr>\n",
       "      <th>254</th>\n",
       "      <td>0.04819</td>\n",
       "      <td>80.0</td>\n",
       "      <td>3.64</td>\n",
       "      <td>0</td>\n",
       "      <td>0.392</td>\n",
       "      <td>6.108</td>\n",
       "      <td>32.0</td>\n",
       "      <td>9.2203</td>\n",
       "      <td>1</td>\n",
       "      <td>315</td>\n",
       "      <td>16.4</td>\n",
       "      <td>392.89</td>\n",
       "      <td>6.57</td>\n",
       "    </tr>\n",
       "    <tr>\n",
       "      <th>191</th>\n",
       "      <td>0.06911</td>\n",
       "      <td>45.0</td>\n",
       "      <td>3.44</td>\n",
       "      <td>0</td>\n",
       "      <td>0.437</td>\n",
       "      <td>6.739</td>\n",
       "      <td>30.8</td>\n",
       "      <td>6.4798</td>\n",
       "      <td>5</td>\n",
       "      <td>398</td>\n",
       "      <td>15.2</td>\n",
       "      <td>389.71</td>\n",
       "      <td>4.69</td>\n",
       "    </tr>\n",
       "    <tr>\n",
       "      <th>402</th>\n",
       "      <td>9.59571</td>\n",
       "      <td>0.0</td>\n",
       "      <td>18.10</td>\n",
       "      <td>0</td>\n",
       "      <td>0.693</td>\n",
       "      <td>6.404</td>\n",
       "      <td>100.0</td>\n",
       "      <td>1.6390</td>\n",
       "      <td>24</td>\n",
       "      <td>666</td>\n",
       "      <td>20.2</td>\n",
       "      <td>376.11</td>\n",
       "      <td>20.31</td>\n",
       "    </tr>\n",
       "    <tr>\n",
       "      <th>328</th>\n",
       "      <td>0.06617</td>\n",
       "      <td>0.0</td>\n",
       "      <td>3.24</td>\n",
       "      <td>0</td>\n",
       "      <td>0.460</td>\n",
       "      <td>5.868</td>\n",
       "      <td>25.8</td>\n",
       "      <td>5.2146</td>\n",
       "      <td>4</td>\n",
       "      <td>430</td>\n",
       "      <td>16.9</td>\n",
       "      <td>382.44</td>\n",
       "      <td>9.97</td>\n",
       "    </tr>\n",
       "    <tr>\n",
       "      <th>157</th>\n",
       "      <td>1.22358</td>\n",
       "      <td>0.0</td>\n",
       "      <td>19.58</td>\n",
       "      <td>0</td>\n",
       "      <td>0.605</td>\n",
       "      <td>6.943</td>\n",
       "      <td>97.4</td>\n",
       "      <td>1.8773</td>\n",
       "      <td>5</td>\n",
       "      <td>403</td>\n",
       "      <td>14.7</td>\n",
       "      <td>363.43</td>\n",
       "      <td>4.59</td>\n",
       "    </tr>\n",
       "  </tbody>\n",
       "</table>\n",
       "<p>253 rows × 13 columns</p>\n",
       "</div>"
      ],
      "text/plain": [
       "         crim    zn  indus  chas    nox     rm    age     dis  rad  tax  \\\n",
       "249   0.19073  22.0   5.86     0  0.431  6.718   17.5  7.8265    7  330   \n",
       "97    0.12083   0.0   2.89     0  0.445  8.069   76.0  3.4952    2  276   \n",
       "304   0.05515  33.0   2.18     0  0.472  7.236   41.1  4.0220    7  222   \n",
       "479  14.33370   0.0  18.10     0  0.614  6.229   88.0  1.9512   24  666   \n",
       "395   8.71675   0.0  18.10     0  0.693  6.471   98.8  1.7257   24  666   \n",
       "..        ...   ...    ...   ...    ...    ...    ...     ...  ...  ...   \n",
       "254   0.04819  80.0   3.64     0  0.392  6.108   32.0  9.2203    1  315   \n",
       "191   0.06911  45.0   3.44     0  0.437  6.739   30.8  6.4798    5  398   \n",
       "402   9.59571   0.0  18.10     0  0.693  6.404  100.0  1.6390   24  666   \n",
       "328   0.06617   0.0   3.24     0  0.460  5.868   25.8  5.2146    4  430   \n",
       "157   1.22358   0.0  19.58     0  0.605  6.943   97.4  1.8773    5  403   \n",
       "\n",
       "     ptratio   black  lstat  \n",
       "249     19.1  393.74   6.56  \n",
       "97      18.0  396.90   4.21  \n",
       "304     18.4  393.68   6.93  \n",
       "479     20.2  383.32  13.11  \n",
       "395     20.2  391.98  17.12  \n",
       "..       ...     ...    ...  \n",
       "254     16.4  392.89   6.57  \n",
       "191     15.2  389.71   4.69  \n",
       "402     20.2  376.11  20.31  \n",
       "328     16.9  382.44   9.97  \n",
       "157     14.7  363.43   4.59  \n",
       "\n",
       "[253 rows x 13 columns]"
      ]
     },
     "execution_count": 34,
     "metadata": {},
     "output_type": "execute_result"
    }
   ],
   "source": [
    "Xtrain"
   ]
  },
  {
   "cell_type": "markdown",
   "metadata": {},
   "source": [
    "3. Using `DecisionTreeRegressor` which works very similarly to `DecisionTreeClassifier`, plot a decision tree for this problem based with `max_leaf_nodes=8`. Try and interpret the tree: which variables seem to condition the value of property? What information is given for each node of the tree?"
   ]
  },
  {
   "cell_type": "code",
   "execution_count": 35,
   "metadata": {},
   "outputs": [
    {
     "data": {
      "text/plain": [
       "DecisionTreeRegressor(max_leaf_nodes=8)"
      ]
     },
     "execution_count": 35,
     "metadata": {},
     "output_type": "execute_result"
    }
   ],
   "source": [
    "regressor_DT = DecisionTreeRegressor(max_leaf_nodes=8)\n",
    "regressor_DT.fit(Xtrain, ytrain)"
   ]
  },
  {
   "cell_type": "code",
   "execution_count": 36,
   "metadata": {},
   "outputs": [
    {
     "data": {
      "image/svg+xml": "<?xml version=\"1.0\" encoding=\"UTF-8\" standalone=\"no\"?>\n<!DOCTYPE svg PUBLIC \"-//W3C//DTD SVG 1.1//EN\"\n \"http://www.w3.org/Graphics/SVG/1.1/DTD/svg11.dtd\">\n<!-- Generated by graphviz version 2.49.3 (0)\n -->\n<!-- Title: Tree Pages: 1 -->\n<svg width=\"1056pt\" height=\"477pt\"\n viewBox=\"0.00 0.00 1056.00 477.00\" xmlns=\"http://www.w3.org/2000/svg\" xmlns:xlink=\"http://www.w3.org/1999/xlink\">\n<g id=\"graph0\" class=\"graph\" transform=\"scale(1 1) rotate(0) translate(4 473)\">\n<title>Tree</title>\n<polygon fill=\"white\" stroke=\"transparent\" points=\"-4,4 -4,-473 1052,-473 1052,4 -4,4\"/>\n<!-- 0 -->\n<g id=\"node1\" class=\"node\">\n<title>0</title>\n<path fill=\"#f9e0cf\" stroke=\"black\" d=\"M764,-469C764,-469 625,-469 625,-469 619,-469 613,-463 613,-457 613,-457 613,-413 613,-413 613,-407 619,-401 625,-401 625,-401 764,-401 764,-401 770,-401 776,-407 776,-413 776,-413 776,-457 776,-457 776,-463 770,-469 764,-469\"/>\n<text text-anchor=\"middle\" x=\"694.5\" y=\"-453.8\" font-family=\"Helvetica,sans-Serif\" font-size=\"14.00\">lstat &lt;= 7.3</text>\n<text text-anchor=\"middle\" x=\"694.5\" y=\"-438.8\" font-family=\"Helvetica,sans-Serif\" font-size=\"14.00\">squared_error = 84.625</text>\n<text text-anchor=\"middle\" x=\"694.5\" y=\"-423.8\" font-family=\"Helvetica,sans-Serif\" font-size=\"14.00\">samples = 253</text>\n<text text-anchor=\"middle\" x=\"694.5\" y=\"-408.8\" font-family=\"Helvetica,sans-Serif\" font-size=\"14.00\">value = 22.693</text>\n</g>\n<!-- 1 -->\n<g id=\"node2\" class=\"node\">\n<title>1</title>\n<path fill=\"#f1b992\" stroke=\"black\" d=\"M589,-365C589,-365 450,-365 450,-365 444,-365 438,-359 438,-353 438,-353 438,-309 438,-309 438,-303 444,-297 450,-297 450,-297 589,-297 589,-297 595,-297 601,-303 601,-309 601,-309 601,-353 601,-353 601,-359 595,-365 589,-365\"/>\n<text text-anchor=\"middle\" x=\"519.5\" y=\"-349.8\" font-family=\"Helvetica,sans-Serif\" font-size=\"14.00\">lstat &lt;= 4.66</text>\n<text text-anchor=\"middle\" x=\"519.5\" y=\"-334.8\" font-family=\"Helvetica,sans-Serif\" font-size=\"14.00\">squared_error = 83.572</text>\n<text text-anchor=\"middle\" x=\"519.5\" y=\"-319.8\" font-family=\"Helvetica,sans-Serif\" font-size=\"14.00\">samples = 68</text>\n<text text-anchor=\"middle\" x=\"519.5\" y=\"-304.8\" font-family=\"Helvetica,sans-Serif\" font-size=\"14.00\">value = 33.175</text>\n</g>\n<!-- 0&#45;&gt;1 -->\n<g id=\"edge1\" class=\"edge\">\n<title>0&#45;&gt;1</title>\n<path fill=\"none\" stroke=\"black\" d=\"M637.68,-400.88C620.94,-391.12 602.48,-380.37 585.23,-370.31\"/>\n<polygon fill=\"black\" stroke=\"black\" points=\"586.73,-367.14 576.33,-365.12 583.21,-373.18 586.73,-367.14\"/>\n<text text-anchor=\"middle\" x=\"582.7\" y=\"-385.6\" font-family=\"Helvetica,sans-Serif\" font-size=\"14.00\">True</text>\n</g>\n<!-- 2 -->\n<g id=\"node11\" class=\"node\">\n<title>2</title>\n<path fill=\"#fceee5\" stroke=\"black\" d=\"M855,-365C855,-365 716,-365 716,-365 710,-365 704,-359 704,-353 704,-353 704,-309 704,-309 704,-303 710,-297 716,-297 716,-297 855,-297 855,-297 861,-297 867,-303 867,-309 867,-309 867,-353 867,-353 867,-359 861,-365 855,-365\"/>\n<text text-anchor=\"middle\" x=\"785.5\" y=\"-349.8\" font-family=\"Helvetica,sans-Serif\" font-size=\"14.00\">lstat &lt;= 16.275</text>\n<text text-anchor=\"middle\" x=\"785.5\" y=\"-334.8\" font-family=\"Helvetica,sans-Serif\" font-size=\"14.00\">squared_error = 29.781</text>\n<text text-anchor=\"middle\" x=\"785.5\" y=\"-319.8\" font-family=\"Helvetica,sans-Serif\" font-size=\"14.00\">samples = 185</text>\n<text text-anchor=\"middle\" x=\"785.5\" y=\"-304.8\" font-family=\"Helvetica,sans-Serif\" font-size=\"14.00\">value = 18.84</text>\n</g>\n<!-- 0&#45;&gt;2 -->\n<g id=\"edge10\" class=\"edge\">\n<title>0&#45;&gt;2</title>\n<path fill=\"none\" stroke=\"black\" d=\"M724.05,-400.88C731.99,-391.98 740.68,-382.24 748.96,-372.96\"/>\n<polygon fill=\"black\" stroke=\"black\" points=\"751.75,-375.09 755.79,-365.3 746.52,-370.43 751.75,-375.09\"/>\n<text text-anchor=\"middle\" x=\"757.21\" y=\"-386.56\" font-family=\"Helvetica,sans-Serif\" font-size=\"14.00\">False</text>\n</g>\n<!-- 5 -->\n<g id=\"node3\" class=\"node\">\n<title>5</title>\n<path fill=\"#eb9f68\" stroke=\"black\" d=\"M324,-261C324,-261 185,-261 185,-261 179,-261 173,-255 173,-249 173,-249 173,-205 173,-205 173,-199 179,-193 185,-193 185,-193 324,-193 324,-193 330,-193 336,-199 336,-205 336,-205 336,-249 336,-249 336,-255 330,-261 324,-261\"/>\n<text text-anchor=\"middle\" x=\"254.5\" y=\"-245.8\" font-family=\"Helvetica,sans-Serif\" font-size=\"14.00\">dis &lt;= 3.207</text>\n<text text-anchor=\"middle\" x=\"254.5\" y=\"-230.8\" font-family=\"Helvetica,sans-Serif\" font-size=\"14.00\">squared_error = 64.288</text>\n<text text-anchor=\"middle\" x=\"254.5\" y=\"-215.8\" font-family=\"Helvetica,sans-Serif\" font-size=\"14.00\">samples = 27</text>\n<text text-anchor=\"middle\" x=\"254.5\" y=\"-200.8\" font-family=\"Helvetica,sans-Serif\" font-size=\"14.00\">value = 40.363</text>\n</g>\n<!-- 1&#45;&gt;5 -->\n<g id=\"edge2\" class=\"edge\">\n<title>1&#45;&gt;5</title>\n<path fill=\"none\" stroke=\"black\" d=\"M437.83,-298.56C408.74,-287.37 375.79,-274.69 345.93,-263.19\"/>\n<polygon fill=\"black\" stroke=\"black\" points=\"346.95,-259.83 336.36,-259.51 344.43,-266.37 346.95,-259.83\"/>\n</g>\n<!-- 6 -->\n<g id=\"node8\" class=\"node\">\n<title>6</title>\n<path fill=\"#f4cbad\" stroke=\"black\" d=\"M589,-261C589,-261 450,-261 450,-261 444,-261 438,-255 438,-249 438,-249 438,-205 438,-205 438,-199 444,-193 450,-193 450,-193 589,-193 589,-193 595,-193 601,-199 601,-205 601,-205 601,-249 601,-249 601,-255 595,-261 589,-261\"/>\n<text text-anchor=\"middle\" x=\"519.5\" y=\"-245.8\" font-family=\"Helvetica,sans-Serif\" font-size=\"14.00\">rm &lt;= 6.776</text>\n<text text-anchor=\"middle\" x=\"519.5\" y=\"-230.8\" font-family=\"Helvetica,sans-Serif\" font-size=\"14.00\">squared_error = 39.841</text>\n<text text-anchor=\"middle\" x=\"519.5\" y=\"-215.8\" font-family=\"Helvetica,sans-Serif\" font-size=\"14.00\">samples = 41</text>\n<text text-anchor=\"middle\" x=\"519.5\" y=\"-200.8\" font-family=\"Helvetica,sans-Serif\" font-size=\"14.00\">value = 28.441</text>\n</g>\n<!-- 1&#45;&gt;6 -->\n<g id=\"edge7\" class=\"edge\">\n<title>1&#45;&gt;6</title>\n<path fill=\"none\" stroke=\"black\" d=\"M519.5,-296.88C519.5,-288.78 519.5,-279.98 519.5,-271.47\"/>\n<polygon fill=\"black\" stroke=\"black\" points=\"523,-271.3 519.5,-261.3 516,-271.3 523,-271.3\"/>\n</g>\n<!-- 7 -->\n<g id=\"node4\" class=\"node\">\n<title>7</title>\n<path fill=\"#e58139\" stroke=\"black\" d=\"M143,-149.5C143,-149.5 12,-149.5 12,-149.5 6,-149.5 0,-143.5 0,-137.5 0,-137.5 0,-108.5 0,-108.5 0,-102.5 6,-96.5 12,-96.5 12,-96.5 143,-96.5 143,-96.5 149,-96.5 155,-102.5 155,-108.5 155,-108.5 155,-137.5 155,-137.5 155,-143.5 149,-149.5 143,-149.5\"/>\n<text text-anchor=\"middle\" x=\"77.5\" y=\"-134.3\" font-family=\"Helvetica,sans-Serif\" font-size=\"14.00\">squared_error = 9.029</text>\n<text text-anchor=\"middle\" x=\"77.5\" y=\"-119.3\" font-family=\"Helvetica,sans-Serif\" font-size=\"14.00\">samples = 9</text>\n<text text-anchor=\"middle\" x=\"77.5\" y=\"-104.3\" font-family=\"Helvetica,sans-Serif\" font-size=\"14.00\">value = 48.456</text>\n</g>\n<!-- 5&#45;&gt;7 -->\n<g id=\"edge3\" class=\"edge\">\n<title>5&#45;&gt;7</title>\n<path fill=\"none\" stroke=\"black\" d=\"M197.03,-192.88C175.66,-180.57 151.52,-166.65 130.56,-154.57\"/>\n<polygon fill=\"black\" stroke=\"black\" points=\"132.2,-151.48 121.78,-149.52 128.7,-157.55 132.2,-151.48\"/>\n</g>\n<!-- 8 -->\n<g id=\"node5\" class=\"node\">\n<title>8</title>\n<path fill=\"#eeae7f\" stroke=\"black\" d=\"M324,-157C324,-157 185,-157 185,-157 179,-157 173,-151 173,-145 173,-145 173,-101 173,-101 173,-95 179,-89 185,-89 185,-89 324,-89 324,-89 330,-89 336,-95 336,-101 336,-101 336,-145 336,-145 336,-151 330,-157 324,-157\"/>\n<text text-anchor=\"middle\" x=\"254.5\" y=\"-141.8\" font-family=\"Helvetica,sans-Serif\" font-size=\"14.00\">rm &lt;= 7.371</text>\n<text text-anchor=\"middle\" x=\"254.5\" y=\"-126.8\" font-family=\"Helvetica,sans-Serif\" font-size=\"14.00\">squared_error = 42.799</text>\n<text text-anchor=\"middle\" x=\"254.5\" y=\"-111.8\" font-family=\"Helvetica,sans-Serif\" font-size=\"14.00\">samples = 18</text>\n<text text-anchor=\"middle\" x=\"254.5\" y=\"-96.8\" font-family=\"Helvetica,sans-Serif\" font-size=\"14.00\">value = 36.317</text>\n</g>\n<!-- 5&#45;&gt;8 -->\n<g id=\"edge4\" class=\"edge\">\n<title>5&#45;&gt;8</title>\n<path fill=\"none\" stroke=\"black\" d=\"M254.5,-192.88C254.5,-184.78 254.5,-175.98 254.5,-167.47\"/>\n<polygon fill=\"black\" stroke=\"black\" points=\"258,-167.3 254.5,-157.3 251,-167.3 258,-167.3\"/>\n</g>\n<!-- 13 -->\n<g id=\"node6\" class=\"node\">\n<title>13</title>\n<path fill=\"#f2be99\" stroke=\"black\" d=\"M233.5,-53C233.5,-53 95.5,-53 95.5,-53 89.5,-53 83.5,-47 83.5,-41 83.5,-41 83.5,-12 83.5,-12 83.5,-6 89.5,0 95.5,0 95.5,0 233.5,0 233.5,0 239.5,0 245.5,-6 245.5,-12 245.5,-12 245.5,-41 245.5,-41 245.5,-47 239.5,-53 233.5,-53\"/>\n<text text-anchor=\"middle\" x=\"164.5\" y=\"-37.8\" font-family=\"Helvetica,sans-Serif\" font-size=\"14.00\">squared_error = 11.461</text>\n<text text-anchor=\"middle\" x=\"164.5\" y=\"-22.8\" font-family=\"Helvetica,sans-Serif\" font-size=\"14.00\">samples = 11</text>\n<text text-anchor=\"middle\" x=\"164.5\" y=\"-7.8\" font-family=\"Helvetica,sans-Serif\" font-size=\"14.00\">value = 31.945</text>\n</g>\n<!-- 8&#45;&gt;13 -->\n<g id=\"edge5\" class=\"edge\">\n<title>8&#45;&gt;13</title>\n<path fill=\"none\" stroke=\"black\" d=\"M223.02,-88.95C214.31,-79.8 204.85,-69.87 196.13,-60.71\"/>\n<polygon fill=\"black\" stroke=\"black\" points=\"198.44,-58.06 189.01,-53.24 193.37,-62.89 198.44,-58.06\"/>\n</g>\n<!-- 14 -->\n<g id=\"node7\" class=\"node\">\n<title>14</title>\n<path fill=\"#e99458\" stroke=\"black\" d=\"M415,-53C415,-53 276,-53 276,-53 270,-53 264,-47 264,-41 264,-41 264,-12 264,-12 264,-6 270,0 276,0 276,0 415,0 415,0 421,0 427,-6 427,-12 427,-12 427,-41 427,-41 427,-47 421,-53 415,-53\"/>\n<text text-anchor=\"middle\" x=\"345.5\" y=\"-37.8\" font-family=\"Helvetica,sans-Serif\" font-size=\"14.00\">squared_error = 14.836</text>\n<text text-anchor=\"middle\" x=\"345.5\" y=\"-22.8\" font-family=\"Helvetica,sans-Serif\" font-size=\"14.00\">samples = 7</text>\n<text text-anchor=\"middle\" x=\"345.5\" y=\"-7.8\" font-family=\"Helvetica,sans-Serif\" font-size=\"14.00\">value = 43.186</text>\n</g>\n<!-- 8&#45;&gt;14 -->\n<g id=\"edge6\" class=\"edge\">\n<title>8&#45;&gt;14</title>\n<path fill=\"none\" stroke=\"black\" d=\"M286.33,-88.95C295.14,-79.8 304.7,-69.87 313.52,-60.71\"/>\n<polygon fill=\"black\" stroke=\"black\" points=\"316.3,-62.87 320.72,-53.24 311.26,-58.01 316.3,-62.87\"/>\n</g>\n<!-- 9 -->\n<g id=\"node9\" class=\"node\">\n<title>9</title>\n<path fill=\"#f7d9c3\" stroke=\"black\" d=\"M497,-149.5C497,-149.5 366,-149.5 366,-149.5 360,-149.5 354,-143.5 354,-137.5 354,-137.5 354,-108.5 354,-108.5 354,-102.5 360,-96.5 366,-96.5 366,-96.5 497,-96.5 497,-96.5 503,-96.5 509,-102.5 509,-108.5 509,-108.5 509,-137.5 509,-137.5 509,-143.5 503,-149.5 497,-149.5\"/>\n<text text-anchor=\"middle\" x=\"431.5\" y=\"-134.3\" font-family=\"Helvetica,sans-Serif\" font-size=\"14.00\">squared_error = 6.958</text>\n<text text-anchor=\"middle\" x=\"431.5\" y=\"-119.3\" font-family=\"Helvetica,sans-Serif\" font-size=\"14.00\">samples = 23</text>\n<text text-anchor=\"middle\" x=\"431.5\" y=\"-104.3\" font-family=\"Helvetica,sans-Serif\" font-size=\"14.00\">value = 24.765</text>\n</g>\n<!-- 6&#45;&gt;9 -->\n<g id=\"edge8\" class=\"edge\">\n<title>6&#45;&gt;9</title>\n<path fill=\"none\" stroke=\"black\" d=\"M490.93,-192.88C481.06,-181.45 470.01,-168.63 460.13,-157.19\"/>\n<polygon fill=\"black\" stroke=\"black\" points=\"462.7,-154.81 453.52,-149.52 457.4,-159.38 462.7,-154.81\"/>\n</g>\n<!-- 10 -->\n<g id=\"node10\" class=\"node\">\n<title>10</title>\n<path fill=\"#f1ba92\" stroke=\"black\" d=\"M678,-149.5C678,-149.5 539,-149.5 539,-149.5 533,-149.5 527,-143.5 527,-137.5 527,-137.5 527,-108.5 527,-108.5 527,-102.5 533,-96.5 539,-96.5 539,-96.5 678,-96.5 678,-96.5 684,-96.5 690,-102.5 690,-108.5 690,-108.5 690,-137.5 690,-137.5 690,-143.5 684,-149.5 678,-149.5\"/>\n<text text-anchor=\"middle\" x=\"608.5\" y=\"-134.3\" font-family=\"Helvetica,sans-Serif\" font-size=\"14.00\">squared_error = 42.525</text>\n<text text-anchor=\"middle\" x=\"608.5\" y=\"-119.3\" font-family=\"Helvetica,sans-Serif\" font-size=\"14.00\">samples = 18</text>\n<text text-anchor=\"middle\" x=\"608.5\" y=\"-104.3\" font-family=\"Helvetica,sans-Serif\" font-size=\"14.00\">value = 33.139</text>\n</g>\n<!-- 6&#45;&gt;10 -->\n<g id=\"edge9\" class=\"edge\">\n<title>6&#45;&gt;10</title>\n<path fill=\"none\" stroke=\"black\" d=\"M548.4,-192.88C558.38,-181.45 569.55,-168.63 579.54,-157.19\"/>\n<polygon fill=\"black\" stroke=\"black\" points=\"582.3,-159.36 586.23,-149.52 577.02,-154.75 582.3,-159.36\"/>\n</g>\n<!-- 3 -->\n<g id=\"node12\" class=\"node\">\n<title>3</title>\n<path fill=\"#f9e4d4\" stroke=\"black\" d=\"M855,-261C855,-261 716,-261 716,-261 710,-261 704,-255 704,-249 704,-249 704,-205 704,-205 704,-199 710,-193 716,-193 716,-193 855,-193 855,-193 861,-193 867,-199 867,-205 867,-205 867,-249 867,-249 867,-255 861,-261 855,-261\"/>\n<text text-anchor=\"middle\" x=\"785.5\" y=\"-245.8\" font-family=\"Helvetica,sans-Serif\" font-size=\"14.00\">rm &lt;= 6.531</text>\n<text text-anchor=\"middle\" x=\"785.5\" y=\"-230.8\" font-family=\"Helvetica,sans-Serif\" font-size=\"14.00\">squared_error = 15.399</text>\n<text text-anchor=\"middle\" x=\"785.5\" y=\"-215.8\" font-family=\"Helvetica,sans-Serif\" font-size=\"14.00\">samples = 112</text>\n<text text-anchor=\"middle\" x=\"785.5\" y=\"-200.8\" font-family=\"Helvetica,sans-Serif\" font-size=\"14.00\">value = 21.769</text>\n</g>\n<!-- 2&#45;&gt;3 -->\n<g id=\"edge11\" class=\"edge\">\n<title>2&#45;&gt;3</title>\n<path fill=\"none\" stroke=\"black\" d=\"M785.5,-296.88C785.5,-288.78 785.5,-279.98 785.5,-271.47\"/>\n<polygon fill=\"black\" stroke=\"black\" points=\"789,-271.3 785.5,-261.3 782,-271.3 789,-271.3\"/>\n</g>\n<!-- 4 -->\n<g id=\"node15\" class=\"node\">\n<title>4</title>\n<path fill=\"#ffffff\" stroke=\"black\" d=\"M1036,-253.5C1036,-253.5 897,-253.5 897,-253.5 891,-253.5 885,-247.5 885,-241.5 885,-241.5 885,-212.5 885,-212.5 885,-206.5 891,-200.5 897,-200.5 897,-200.5 1036,-200.5 1036,-200.5 1042,-200.5 1048,-206.5 1048,-212.5 1048,-212.5 1048,-241.5 1048,-241.5 1048,-247.5 1042,-253.5 1036,-253.5\"/>\n<text text-anchor=\"middle\" x=\"966.5\" y=\"-238.3\" font-family=\"Helvetica,sans-Serif\" font-size=\"14.00\">squared_error = 18.496</text>\n<text text-anchor=\"middle\" x=\"966.5\" y=\"-223.3\" font-family=\"Helvetica,sans-Serif\" font-size=\"14.00\">samples = 73</text>\n<text text-anchor=\"middle\" x=\"966.5\" y=\"-208.3\" font-family=\"Helvetica,sans-Serif\" font-size=\"14.00\">value = 14.347</text>\n</g>\n<!-- 2&#45;&gt;4 -->\n<g id=\"edge14\" class=\"edge\">\n<title>2&#45;&gt;4</title>\n<path fill=\"none\" stroke=\"black\" d=\"M844.27,-296.88C866.12,-284.57 890.81,-270.65 912.24,-258.57\"/>\n<polygon fill=\"black\" stroke=\"black\" points=\"914.22,-261.48 921.21,-253.52 910.78,-255.38 914.22,-261.48\"/>\n</g>\n<!-- 11 -->\n<g id=\"node13\" class=\"node\">\n<title>11</title>\n<path fill=\"#fae7da\" stroke=\"black\" d=\"M851,-149.5C851,-149.5 720,-149.5 720,-149.5 714,-149.5 708,-143.5 708,-137.5 708,-137.5 708,-108.5 708,-108.5 708,-102.5 714,-96.5 720,-96.5 720,-96.5 851,-96.5 851,-96.5 857,-96.5 863,-102.5 863,-108.5 863,-108.5 863,-137.5 863,-137.5 863,-143.5 857,-149.5 851,-149.5\"/>\n<text text-anchor=\"middle\" x=\"785.5\" y=\"-134.3\" font-family=\"Helvetica,sans-Serif\" font-size=\"14.00\">squared_error = 8.527</text>\n<text text-anchor=\"middle\" x=\"785.5\" y=\"-119.3\" font-family=\"Helvetica,sans-Serif\" font-size=\"14.00\">samples = 95</text>\n<text text-anchor=\"middle\" x=\"785.5\" y=\"-104.3\" font-family=\"Helvetica,sans-Serif\" font-size=\"14.00\">value = 20.802</text>\n</g>\n<!-- 3&#45;&gt;11 -->\n<g id=\"edge12\" class=\"edge\">\n<title>3&#45;&gt;11</title>\n<path fill=\"none\" stroke=\"black\" d=\"M785.5,-192.88C785.5,-182.33 785.5,-170.6 785.5,-159.85\"/>\n<polygon fill=\"black\" stroke=\"black\" points=\"789,-159.52 785.5,-149.52 782,-159.52 789,-159.52\"/>\n</g>\n<!-- 12 -->\n<g id=\"node14\" class=\"node\">\n<title>12</title>\n<path fill=\"#f5d0b5\" stroke=\"black\" d=\"M1032,-149.5C1032,-149.5 893,-149.5 893,-149.5 887,-149.5 881,-143.5 881,-137.5 881,-137.5 881,-108.5 881,-108.5 881,-102.5 887,-96.5 893,-96.5 893,-96.5 1032,-96.5 1032,-96.5 1038,-96.5 1044,-102.5 1044,-108.5 1044,-108.5 1044,-137.5 1044,-137.5 1044,-143.5 1038,-149.5 1032,-149.5\"/>\n<text text-anchor=\"middle\" x=\"962.5\" y=\"-134.3\" font-family=\"Helvetica,sans-Serif\" font-size=\"14.00\">squared_error = 19.399</text>\n<text text-anchor=\"middle\" x=\"962.5\" y=\"-119.3\" font-family=\"Helvetica,sans-Serif\" font-size=\"14.00\">samples = 17</text>\n<text text-anchor=\"middle\" x=\"962.5\" y=\"-104.3\" font-family=\"Helvetica,sans-Serif\" font-size=\"14.00\">value = 27.171</text>\n</g>\n<!-- 3&#45;&gt;12 -->\n<g id=\"edge13\" class=\"edge\">\n<title>3&#45;&gt;12</title>\n<path fill=\"none\" stroke=\"black\" d=\"M842.97,-192.88C864.34,-180.57 888.48,-166.65 909.44,-154.57\"/>\n<polygon fill=\"black\" stroke=\"black\" points=\"911.3,-157.55 918.22,-149.52 907.8,-151.48 911.3,-157.55\"/>\n</g>\n</g>\n</svg>\n",
      "text/plain": [
       "<graphviz.sources.Source at 0x1aa311f4a90>"
      ]
     },
     "execution_count": 36,
     "metadata": {},
     "output_type": "execute_result"
    }
   ],
   "source": [
    "dot_data = export_graphviz(regressor_DT, feature_names = Xtrain.columns, filled = True, rounded = True)\n",
    "graph = gp.Source(dot_data)\n",
    "graph"
   ]
  },
  {
   "cell_type": "markdown",
   "metadata": {},
   "source": [
    "4. Fit the decision tree obtained to `Xvalidation` to obtain `ypredict`. Compute the MSE between `ypredict` and `yvalidation` using `mean_squared_error`. Take a look at its square root. What do you think?"
   ]
  },
  {
   "cell_type": "code",
   "execution_count": 37,
   "metadata": {},
   "outputs": [
    {
     "data": {
      "text/plain": [
       "5.980151441120015"
      ]
     },
     "execution_count": 37,
     "metadata": {},
     "output_type": "execute_result"
    }
   ],
   "source": [
    "ypredict = regressor_DT.predict(Xvalidation)\n",
    "\n",
    "score=mean_squared_error(yvalidation,ypredict)\n",
    "score**(1/2)"
   ]
  },
  {
   "cell_type": "markdown",
   "metadata": {},
   "source": [
    "5. Similarly to what was done in lecture, (1) train this model for many different values of `max_leaf_nodes`, (2) predict the values taken on the validation set, (3) compute the MSE between predicted values and real values, (4) append this value to the `array` variable."
   ]
  },
  {
   "cell_type": "code",
   "execution_count": 38,
   "metadata": {},
   "outputs": [],
   "source": [
    "n_max_leaf_nodes = range(2,40) # Lets train the models with 2, 3, 4, ... 40 leaves\n",
    "\n",
    "array = []\n",
    "\n",
    "for n in n_max_leaf_nodes:\n",
    "    \n",
    "    #insert here the code to train the regressor on the dataset for varying levels of max_leaf_nodes\n",
    "    regressor_DT = DecisionTreeRegressor(max_leaf_nodes=n)\n",
    "    regressor_DT.fit(Xtrain, ytrain)   \n",
    "    \n",
    "    #insert here the code that gives us the accuracy of the model on the validation set \n",
    "    ypredict = regressor_DT.predict(Xvalidation)\n",
    "    score=mean_squared_error(yvalidation,ypredict)\n",
    "    \n",
    "    array.append([n,score])"
   ]
  },
  {
   "cell_type": "markdown",
   "metadata": {},
   "source": [
    "6. Let's contrast this with the accuracy when evaluated on the training set. Obtain a second set `array_train` with the `accuracy_score` for each `max_leaf_nodes` parameter."
   ]
  },
  {
   "cell_type": "code",
   "execution_count": 39,
   "metadata": {},
   "outputs": [],
   "source": [
    "n_max_leaf_nodes = range(2,40) # Lets train the models with 2, 3, 4, ... 40 leafs\n",
    "array_train= []\n",
    "\n",
    "for n in n_max_leaf_nodes:\n",
    "    \n",
    "    #insert here the code to train the regressor on the dataset for varying levels of max_leaf_nodes\n",
    "    regressor_DT = DecisionTreeRegressor(max_leaf_nodes=n)\n",
    "    regressor_DT.fit(Xtrain, ytrain)   \n",
    "    \n",
    "    #insert here the code that gives us the accuracy of the model on the training set \n",
    "    ypredict = regressor_DT.predict(Xtrain)\n",
    "    score=mean_squared_error(ytrain,ypredict)\n",
    "    \n",
    "    array_train.append([n,score])"
   ]
  },
  {
   "cell_type": "markdown",
   "metadata": {},
   "source": [
    "7. Plot the predicted scores on the training set and validation set as a function of the number of leaves. What do you observe? Does that make sense? How many leaves would you feel comfortable picking?"
   ]
  },
  {
   "cell_type": "code",
   "execution_count": 40,
   "metadata": {},
   "outputs": [
    {
     "data": {
      "image/png": "[encoded data removed]",
      "text/plain": [
       "<Figure size 432x288 with 1 Axes>"
      ]
     },
     "metadata": {
      "needs_background": "light"
     },
     "output_type": "display_data"
    }
   ],
   "source": [
    "array = pd.DataFrame(array)\n",
    "plt.scatter(array[0],array[1])\n",
    "\n",
    "array_train = pd.DataFrame(array_train)\n",
    "plt.scatter(array_train[0],array_train[1])\n",
    "plt.legend(['Validation set','Training set'])\n",
    "plt.xlabel(\"number of leaves\",fontsize=15)\n",
    "plt.ylabel(\"MSE\",fontsize=15)\n",
    "plt.show()"
   ]
  },
  {
   "cell_type": "markdown",
   "metadata": {},
   "source": [
    "I would choose approx 13 leaves (corresponds to a dip in the MSE but not too high)."
   ]
  },
  {
   "cell_type": "markdown",
   "metadata": {},
   "source": [
    "8. Retrain the model on the training and validation sets with 13 leaves. What is the value of the square root of the MSE on the testing set? Denote this value by `RMSE_DT`."
   ]
  },
  {
   "cell_type": "code",
   "execution_count": 41,
   "metadata": {},
   "outputs": [],
   "source": [
    "Xtrainval=Xtrain.append(Xvalidation)\n",
    "ytrainval=ytrain.append(yvalidation)"
   ]
  },
  {
   "cell_type": "code",
   "execution_count": 42,
   "metadata": {},
   "outputs": [
    {
     "data": {
      "text/plain": [
       "DecisionTreeRegressor(max_leaf_nodes=13)"
      ]
     },
     "execution_count": 42,
     "metadata": {},
     "output_type": "execute_result"
    }
   ],
   "source": [
    "regressor_DT = DecisionTreeRegressor(max_leaf_nodes=13)\n",
    "regressor_DT.fit(Xtrainval, ytrainval)   "
   ]
  },
  {
   "cell_type": "code",
   "execution_count": 43,
   "metadata": {},
   "outputs": [
    {
     "data": {
      "image/svg+xml": "<?xml version=\"1.0\" encoding=\"UTF-8\" standalone=\"no\"?>\n<!DOCTYPE svg PUBLIC \"-//W3C//DTD SVG 1.1//EN\"\n \"http://www.w3.org/Graphics/SVG/1.1/DTD/svg11.dtd\">\n<!-- Generated by graphviz version 2.49.3 (0)\n -->\n<!-- Title: Tree Pages: 1 -->\n<svg width=\"1568pt\" height=\"581pt\"\n viewBox=\"0.00 0.00 1568.00 581.00\" xmlns=\"http://www.w3.org/2000/svg\" xmlns:xlink=\"http://www.w3.org/1999/xlink\">\n<g id=\"graph0\" class=\"graph\" transform=\"scale(1 1) rotate(0) translate(4 577)\">\n<title>Tree</title>\n<polygon fill=\"white\" stroke=\"transparent\" points=\"-4,4 -4,-577 1564,-577 1564,4 -4,4\"/>\n<!-- 0 -->\n<g id=\"node1\" class=\"node\">\n<title>0</title>\n<path fill=\"#f7d8c2\" stroke=\"black\" d=\"M845,-573C845,-573 706,-573 706,-573 700,-573 694,-567 694,-561 694,-561 694,-517 694,-517 694,-511 700,-505 706,-505 706,-505 845,-505 845,-505 851,-505 857,-511 857,-517 857,-517 857,-561 857,-561 857,-567 851,-573 845,-573\"/>\n<text text-anchor=\"middle\" x=\"775.5\" y=\"-557.8\" font-family=\"Helvetica,sans-Serif\" font-size=\"14.00\">lstat &lt;= 9.725</text>\n<text text-anchor=\"middle\" x=\"775.5\" y=\"-542.8\" font-family=\"Helvetica,sans-Serif\" font-size=\"14.00\">squared_error = 88.525</text>\n<text text-anchor=\"middle\" x=\"775.5\" y=\"-527.8\" font-family=\"Helvetica,sans-Serif\" font-size=\"14.00\">samples = 379</text>\n<text text-anchor=\"middle\" x=\"775.5\" y=\"-512.8\" font-family=\"Helvetica,sans-Serif\" font-size=\"14.00\">value = 22.441</text>\n</g>\n<!-- 1 -->\n<g id=\"node2\" class=\"node\">\n<title>1</title>\n<path fill=\"#f2c09c\" stroke=\"black\" d=\"M584,-469C584,-469 445,-469 445,-469 439,-469 433,-463 433,-457 433,-457 433,-413 433,-413 433,-407 439,-401 445,-401 445,-401 584,-401 584,-401 590,-401 596,-407 596,-413 596,-413 596,-457 596,-457 596,-463 590,-469 584,-469\"/>\n<text text-anchor=\"middle\" x=\"514.5\" y=\"-453.8\" font-family=\"Helvetica,sans-Serif\" font-size=\"14.00\">rm &lt;= 7.141</text>\n<text text-anchor=\"middle\" x=\"514.5\" y=\"-438.8\" font-family=\"Helvetica,sans-Serif\" font-size=\"14.00\">squared_error = 82.957</text>\n<text text-anchor=\"middle\" x=\"514.5\" y=\"-423.8\" font-family=\"Helvetica,sans-Serif\" font-size=\"14.00\">samples = 153</text>\n<text text-anchor=\"middle\" x=\"514.5\" y=\"-408.8\" font-family=\"Helvetica,sans-Serif\" font-size=\"14.00\">value = 30.142</text>\n</g>\n<!-- 0&#45;&gt;1 -->\n<g id=\"edge1\" class=\"edge\">\n<title>0&#45;&gt;1</title>\n<path fill=\"none\" stroke=\"black\" d=\"M693.99,-506.15C666.04,-495.22 634.58,-482.93 605.9,-471.72\"/>\n<polygon fill=\"black\" stroke=\"black\" points=\"606.88,-468.34 596.29,-467.96 604.33,-474.86 606.88,-468.34\"/>\n<text text-anchor=\"middle\" x=\"606.32\" y=\"-487.16\" font-family=\"Helvetica,sans-Serif\" font-size=\"14.00\">True</text>\n</g>\n<!-- 2 -->\n<g id=\"node15\" class=\"node\">\n<title>2</title>\n<path fill=\"#fae9dc\" stroke=\"black\" d=\"M1109,-469C1109,-469 970,-469 970,-469 964,-469 958,-463 958,-457 958,-457 958,-413 958,-413 958,-407 964,-401 970,-401 970,-401 1109,-401 1109,-401 1115,-401 1121,-407 1121,-413 1121,-413 1121,-457 1121,-457 1121,-463 1115,-469 1109,-469\"/>\n<text text-anchor=\"middle\" x=\"1039.5\" y=\"-453.8\" font-family=\"Helvetica,sans-Serif\" font-size=\"14.00\">lstat &lt;= 19.83</text>\n<text text-anchor=\"middle\" x=\"1039.5\" y=\"-438.8\" font-family=\"Helvetica,sans-Serif\" font-size=\"14.00\">squared_error = 24.955</text>\n<text text-anchor=\"middle\" x=\"1039.5\" y=\"-423.8\" font-family=\"Helvetica,sans-Serif\" font-size=\"14.00\">samples = 226</text>\n<text text-anchor=\"middle\" x=\"1039.5\" y=\"-408.8\" font-family=\"Helvetica,sans-Serif\" font-size=\"14.00\">value = 17.227</text>\n</g>\n<!-- 0&#45;&gt;2 -->\n<g id=\"edge14\" class=\"edge\">\n<title>0&#45;&gt;2</title>\n<path fill=\"none\" stroke=\"black\" d=\"M857.22,-506.43C886.06,-495.29 918.65,-482.69 948.22,-471.27\"/>\n<polygon fill=\"black\" stroke=\"black\" points=\"949.64,-474.47 957.71,-467.6 947.12,-467.94 949.64,-474.47\"/>\n<text text-anchor=\"middle\" x=\"947.59\" y=\"-486.76\" font-family=\"Helvetica,sans-Serif\" font-size=\"14.00\">False</text>\n</g>\n<!-- 3 -->\n<g id=\"node3\" class=\"node\">\n<title>3</title>\n<path fill=\"#f4cbae\" stroke=\"black\" d=\"M317,-365C317,-365 178,-365 178,-365 172,-365 166,-359 166,-353 166,-353 166,-309 166,-309 166,-303 172,-297 178,-297 178,-297 317,-297 317,-297 323,-297 329,-303 329,-309 329,-309 329,-353 329,-353 329,-359 323,-365 317,-365\"/>\n<text text-anchor=\"middle\" x=\"247.5\" y=\"-349.8\" font-family=\"Helvetica,sans-Serif\" font-size=\"14.00\">dis &lt;= 1.485</text>\n<text text-anchor=\"middle\" x=\"247.5\" y=\"-334.8\" font-family=\"Helvetica,sans-Serif\" font-size=\"14.00\">squared_error = 43.902</text>\n<text text-anchor=\"middle\" x=\"247.5\" y=\"-319.8\" font-family=\"Helvetica,sans-Serif\" font-size=\"14.00\">samples = 115</text>\n<text text-anchor=\"middle\" x=\"247.5\" y=\"-304.8\" font-family=\"Helvetica,sans-Serif\" font-size=\"14.00\">value = 26.628</text>\n</g>\n<!-- 1&#45;&gt;3 -->\n<g id=\"edge2\" class=\"edge\">\n<title>1&#45;&gt;3</title>\n<path fill=\"none\" stroke=\"black\" d=\"M432.94,-402.84C403.06,-391.43 369.07,-378.44 338.42,-366.73\"/>\n<polygon fill=\"black\" stroke=\"black\" points=\"339.61,-363.44 329.02,-363.14 337.11,-369.98 339.61,-363.44\"/>\n</g>\n<!-- 4 -->\n<g id=\"node10\" class=\"node\">\n<title>4</title>\n<path fill=\"#eb9e67\" stroke=\"black\" d=\"M584,-365C584,-365 445,-365 445,-365 439,-365 433,-359 433,-353 433,-353 433,-309 433,-309 433,-303 439,-297 445,-297 445,-297 584,-297 584,-297 590,-297 596,-303 596,-309 596,-309 596,-353 596,-353 596,-359 590,-365 584,-365\"/>\n<text text-anchor=\"middle\" x=\"514.5\" y=\"-349.8\" font-family=\"Helvetica,sans-Serif\" font-size=\"14.00\">rm &lt;= 7.437</text>\n<text text-anchor=\"middle\" x=\"514.5\" y=\"-334.8\" font-family=\"Helvetica,sans-Serif\" font-size=\"14.00\">squared_error = 50.632</text>\n<text text-anchor=\"middle\" x=\"514.5\" y=\"-319.8\" font-family=\"Helvetica,sans-Serif\" font-size=\"14.00\">samples = 38</text>\n<text text-anchor=\"middle\" x=\"514.5\" y=\"-304.8\" font-family=\"Helvetica,sans-Serif\" font-size=\"14.00\">value = 40.779</text>\n</g>\n<!-- 1&#45;&gt;4 -->\n<g id=\"edge9\" class=\"edge\">\n<title>1&#45;&gt;4</title>\n<path fill=\"none\" stroke=\"black\" d=\"M514.5,-400.88C514.5,-392.78 514.5,-383.98 514.5,-375.47\"/>\n<polygon fill=\"black\" stroke=\"black\" points=\"518,-375.3 514.5,-365.3 511,-375.3 518,-375.3\"/>\n</g>\n<!-- 5 -->\n<g id=\"node4\" class=\"node\">\n<title>5</title>\n<path fill=\"#e58139\" stroke=\"black\" d=\"M135.5,-253.5C135.5,-253.5 19.5,-253.5 19.5,-253.5 13.5,-253.5 7.5,-247.5 7.5,-241.5 7.5,-241.5 7.5,-212.5 7.5,-212.5 7.5,-206.5 13.5,-200.5 19.5,-200.5 19.5,-200.5 135.5,-200.5 135.5,-200.5 141.5,-200.5 147.5,-206.5 147.5,-212.5 147.5,-212.5 147.5,-241.5 147.5,-241.5 147.5,-247.5 141.5,-253.5 135.5,-253.5\"/>\n<text text-anchor=\"middle\" x=\"77.5\" y=\"-238.3\" font-family=\"Helvetica,sans-Serif\" font-size=\"14.00\">squared_error = 0.0</text>\n<text text-anchor=\"middle\" x=\"77.5\" y=\"-223.3\" font-family=\"Helvetica,sans-Serif\" font-size=\"14.00\">samples = 5</text>\n<text text-anchor=\"middle\" x=\"77.5\" y=\"-208.3\" font-family=\"Helvetica,sans-Serif\" font-size=\"14.00\">value = 50.0</text>\n</g>\n<!-- 3&#45;&gt;5 -->\n<g id=\"edge3\" class=\"edge\">\n<title>3&#45;&gt;5</title>\n<path fill=\"none\" stroke=\"black\" d=\"M192.31,-296.88C171.87,-284.62 148.8,-270.78 128.73,-258.74\"/>\n<polygon fill=\"black\" stroke=\"black\" points=\"130.41,-255.66 120.03,-253.52 126.81,-261.67 130.41,-255.66\"/>\n</g>\n<!-- 6 -->\n<g id=\"node5\" class=\"node\">\n<title>6</title>\n<path fill=\"#f5cfb3\" stroke=\"black\" d=\"M317,-261C317,-261 178,-261 178,-261 172,-261 166,-255 166,-249 166,-249 166,-205 166,-205 166,-199 172,-193 178,-193 178,-193 317,-193 317,-193 323,-193 329,-199 329,-205 329,-205 329,-249 329,-249 329,-255 323,-261 317,-261\"/>\n<text text-anchor=\"middle\" x=\"247.5\" y=\"-245.8\" font-family=\"Helvetica,sans-Serif\" font-size=\"14.00\">rm &lt;= 6.529</text>\n<text text-anchor=\"middle\" x=\"247.5\" y=\"-230.8\" font-family=\"Helvetica,sans-Serif\" font-size=\"14.00\">squared_error = 19.939</text>\n<text text-anchor=\"middle\" x=\"247.5\" y=\"-215.8\" font-family=\"Helvetica,sans-Serif\" font-size=\"14.00\">samples = 110</text>\n<text text-anchor=\"middle\" x=\"247.5\" y=\"-200.8\" font-family=\"Helvetica,sans-Serif\" font-size=\"14.00\">value = 25.565</text>\n</g>\n<!-- 3&#45;&gt;6 -->\n<g id=\"edge4\" class=\"edge\">\n<title>3&#45;&gt;6</title>\n<path fill=\"none\" stroke=\"black\" d=\"M247.5,-296.88C247.5,-288.78 247.5,-279.98 247.5,-271.47\"/>\n<polygon fill=\"black\" stroke=\"black\" points=\"251,-271.3 247.5,-261.3 244,-271.3 251,-271.3\"/>\n</g>\n<!-- 11 -->\n<g id=\"node6\" class=\"node\">\n<title>11</title>\n<path fill=\"#f7d6bf\" stroke=\"black\" d=\"M143,-149.5C143,-149.5 12,-149.5 12,-149.5 6,-149.5 0,-143.5 0,-137.5 0,-137.5 0,-108.5 0,-108.5 0,-102.5 6,-96.5 12,-96.5 12,-96.5 143,-96.5 143,-96.5 149,-96.5 155,-102.5 155,-108.5 155,-108.5 155,-137.5 155,-137.5 155,-143.5 149,-149.5 143,-149.5\"/>\n<text text-anchor=\"middle\" x=\"77.5\" y=\"-134.3\" font-family=\"Helvetica,sans-Serif\" font-size=\"14.00\">squared_error = 9.494</text>\n<text text-anchor=\"middle\" x=\"77.5\" y=\"-119.3\" font-family=\"Helvetica,sans-Serif\" font-size=\"14.00\">samples = 61</text>\n<text text-anchor=\"middle\" x=\"77.5\" y=\"-104.3\" font-family=\"Helvetica,sans-Serif\" font-size=\"14.00\">value = 23.1</text>\n</g>\n<!-- 6&#45;&gt;11 -->\n<g id=\"edge5\" class=\"edge\">\n<title>6&#45;&gt;11</title>\n<path fill=\"none\" stroke=\"black\" d=\"M192.31,-192.88C171.87,-180.62 148.8,-166.78 128.73,-154.74\"/>\n<polygon fill=\"black\" stroke=\"black\" points=\"130.41,-151.66 120.03,-149.52 126.81,-157.67 130.41,-151.66\"/>\n</g>\n<!-- 12 -->\n<g id=\"node7\" class=\"node\">\n<title>12</title>\n<path fill=\"#f3c5a4\" stroke=\"black\" d=\"M324,-157C324,-157 185,-157 185,-157 179,-157 173,-151 173,-145 173,-145 173,-101 173,-101 173,-95 179,-89 185,-89 185,-89 324,-89 324,-89 330,-89 336,-95 336,-101 336,-101 336,-145 336,-145 336,-151 330,-157 324,-157\"/>\n<text text-anchor=\"middle\" x=\"254.5\" y=\"-141.8\" font-family=\"Helvetica,sans-Serif\" font-size=\"14.00\">lstat &lt;= 5.195</text>\n<text text-anchor=\"middle\" x=\"254.5\" y=\"-126.8\" font-family=\"Helvetica,sans-Serif\" font-size=\"14.00\">squared_error = 15.955</text>\n<text text-anchor=\"middle\" x=\"254.5\" y=\"-111.8\" font-family=\"Helvetica,sans-Serif\" font-size=\"14.00\">samples = 49</text>\n<text text-anchor=\"middle\" x=\"254.5\" y=\"-96.8\" font-family=\"Helvetica,sans-Serif\" font-size=\"14.00\">value = 28.635</text>\n</g>\n<!-- 6&#45;&gt;12 -->\n<g id=\"edge6\" class=\"edge\">\n<title>6&#45;&gt;12</title>\n<path fill=\"none\" stroke=\"black\" d=\"M249.77,-192.88C250.33,-184.78 250.93,-175.98 251.52,-167.47\"/>\n<polygon fill=\"black\" stroke=\"black\" points=\"255.02,-167.52 252.21,-157.3 248.04,-167.04 255.02,-167.52\"/>\n</g>\n<!-- 21 -->\n<g id=\"node8\" class=\"node\">\n<title>21</title>\n<path fill=\"#f1bc95\" stroke=\"black\" d=\"M236,-53C236,-53 97,-53 97,-53 91,-53 85,-47 85,-41 85,-41 85,-12 85,-12 85,-6 91,0 97,0 97,0 236,0 236,0 242,0 248,-6 248,-12 248,-12 248,-41 248,-41 248,-47 242,-53 236,-53\"/>\n<text text-anchor=\"middle\" x=\"166.5\" y=\"-37.8\" font-family=\"Helvetica,sans-Serif\" font-size=\"14.00\">squared_error = 15.487</text>\n<text text-anchor=\"middle\" x=\"166.5\" y=\"-22.8\" font-family=\"Helvetica,sans-Serif\" font-size=\"14.00\">samples = 19</text>\n<text text-anchor=\"middle\" x=\"166.5\" y=\"-7.8\" font-family=\"Helvetica,sans-Serif\" font-size=\"14.00\">value = 31.484</text>\n</g>\n<!-- 12&#45;&gt;21 -->\n<g id=\"edge7\" class=\"edge\">\n<title>12&#45;&gt;21</title>\n<path fill=\"none\" stroke=\"black\" d=\"M223.72,-88.95C215.2,-79.8 205.96,-69.87 197.43,-60.71\"/>\n<polygon fill=\"black\" stroke=\"black\" points=\"199.84,-58.17 190.47,-53.24 194.72,-62.94 199.84,-58.17\"/>\n</g>\n<!-- 22 -->\n<g id=\"node9\" class=\"node\">\n<title>22</title>\n<path fill=\"#f4cbad\" stroke=\"black\" d=\"M409,-53C409,-53 278,-53 278,-53 272,-53 266,-47 266,-41 266,-41 266,-12 266,-12 266,-6 272,0 278,0 278,0 409,0 409,0 415,0 421,-6 421,-12 421,-12 421,-41 421,-41 421,-47 415,-53 409,-53\"/>\n<text text-anchor=\"middle\" x=\"343.5\" y=\"-37.8\" font-family=\"Helvetica,sans-Serif\" font-size=\"14.00\">squared_error = 7.853</text>\n<text text-anchor=\"middle\" x=\"343.5\" y=\"-22.8\" font-family=\"Helvetica,sans-Serif\" font-size=\"14.00\">samples = 30</text>\n<text text-anchor=\"middle\" x=\"343.5\" y=\"-7.8\" font-family=\"Helvetica,sans-Serif\" font-size=\"14.00\">value = 26.83</text>\n</g>\n<!-- 12&#45;&gt;22 -->\n<g id=\"edge8\" class=\"edge\">\n<title>12&#45;&gt;22</title>\n<path fill=\"none\" stroke=\"black\" d=\"M285.63,-88.95C294.24,-79.8 303.6,-69.87 312.22,-60.71\"/>\n<polygon fill=\"black\" stroke=\"black\" points=\"314.95,-62.92 319.26,-53.24 309.86,-58.12 314.95,-62.92\"/>\n</g>\n<!-- 9 -->\n<g id=\"node11\" class=\"node\">\n<title>9</title>\n<path fill=\"#efb185\" stroke=\"black\" d=\"M490,-253.5C490,-253.5 359,-253.5 359,-253.5 353,-253.5 347,-247.5 347,-241.5 347,-241.5 347,-212.5 347,-212.5 347,-206.5 353,-200.5 359,-200.5 359,-200.5 490,-200.5 490,-200.5 496,-200.5 502,-206.5 502,-212.5 502,-212.5 502,-241.5 502,-241.5 502,-247.5 496,-253.5 490,-253.5\"/>\n<text text-anchor=\"middle\" x=\"424.5\" y=\"-238.3\" font-family=\"Helvetica,sans-Serif\" font-size=\"14.00\">squared_error = 3.855</text>\n<text text-anchor=\"middle\" x=\"424.5\" y=\"-223.3\" font-family=\"Helvetica,sans-Serif\" font-size=\"14.00\">samples = 15</text>\n<text text-anchor=\"middle\" x=\"424.5\" y=\"-208.3\" font-family=\"Helvetica,sans-Serif\" font-size=\"14.00\">value = 34.82</text>\n</g>\n<!-- 4&#45;&gt;9 -->\n<g id=\"edge10\" class=\"edge\">\n<title>4&#45;&gt;9</title>\n<path fill=\"none\" stroke=\"black\" d=\"M485.28,-296.88C475.19,-285.45 463.88,-272.63 453.79,-261.19\"/>\n<polygon fill=\"black\" stroke=\"black\" points=\"456.26,-258.7 447.02,-253.52 451.01,-263.33 456.26,-258.7\"/>\n</g>\n<!-- 10 -->\n<g id=\"node12\" class=\"node\">\n<title>10</title>\n<path fill=\"#e89254\" stroke=\"black\" d=\"M671,-261C671,-261 532,-261 532,-261 526,-261 520,-255 520,-249 520,-249 520,-205 520,-205 520,-199 526,-193 532,-193 532,-193 671,-193 671,-193 677,-193 683,-199 683,-205 683,-205 683,-249 683,-249 683,-255 677,-261 671,-261\"/>\n<text text-anchor=\"middle\" x=\"601.5\" y=\"-245.8\" font-family=\"Helvetica,sans-Serif\" font-size=\"14.00\">dis &lt;= 1.938</text>\n<text text-anchor=\"middle\" x=\"601.5\" y=\"-230.8\" font-family=\"Helvetica,sans-Serif\" font-size=\"14.00\">squared_error = 42.878</text>\n<text text-anchor=\"middle\" x=\"601.5\" y=\"-215.8\" font-family=\"Helvetica,sans-Serif\" font-size=\"14.00\">samples = 23</text>\n<text text-anchor=\"middle\" x=\"601.5\" y=\"-200.8\" font-family=\"Helvetica,sans-Serif\" font-size=\"14.00\">value = 44.665</text>\n</g>\n<!-- 4&#45;&gt;10 -->\n<g id=\"edge11\" class=\"edge\">\n<title>4&#45;&gt;10</title>\n<path fill=\"none\" stroke=\"black\" d=\"M542.75,-296.88C550.34,-287.98 558.65,-278.24 566.57,-268.96\"/>\n<polygon fill=\"black\" stroke=\"black\" points=\"569.27,-271.18 573.1,-261.3 563.95,-266.64 569.27,-271.18\"/>\n</g>\n<!-- 15 -->\n<g id=\"node13\" class=\"node\">\n<title>15</title>\n<path fill=\"#f7dac5\" stroke=\"black\" d=\"M489.5,-149.5C489.5,-149.5 373.5,-149.5 373.5,-149.5 367.5,-149.5 361.5,-143.5 361.5,-137.5 361.5,-137.5 361.5,-108.5 361.5,-108.5 361.5,-102.5 367.5,-96.5 373.5,-96.5 373.5,-96.5 489.5,-96.5 489.5,-96.5 495.5,-96.5 501.5,-102.5 501.5,-108.5 501.5,-108.5 501.5,-137.5 501.5,-137.5 501.5,-143.5 495.5,-149.5 489.5,-149.5\"/>\n<text text-anchor=\"middle\" x=\"431.5\" y=\"-134.3\" font-family=\"Helvetica,sans-Serif\" font-size=\"14.00\">squared_error = 0.0</text>\n<text text-anchor=\"middle\" x=\"431.5\" y=\"-119.3\" font-family=\"Helvetica,sans-Serif\" font-size=\"14.00\">samples = 1</text>\n<text text-anchor=\"middle\" x=\"431.5\" y=\"-104.3\" font-family=\"Helvetica,sans-Serif\" font-size=\"14.00\">value = 21.9</text>\n</g>\n<!-- 10&#45;&gt;15 -->\n<g id=\"edge12\" class=\"edge\">\n<title>10&#45;&gt;15</title>\n<path fill=\"none\" stroke=\"black\" d=\"M546.31,-192.88C525.87,-180.62 502.8,-166.78 482.73,-154.74\"/>\n<polygon fill=\"black\" stroke=\"black\" points=\"484.41,-151.66 474.03,-149.52 480.81,-157.67 484.41,-151.66\"/>\n</g>\n<!-- 16 -->\n<g id=\"node14\" class=\"node\">\n<title>16</title>\n<path fill=\"#e88f4e\" stroke=\"black\" d=\"M671,-149.5C671,-149.5 532,-149.5 532,-149.5 526,-149.5 520,-143.5 520,-137.5 520,-137.5 520,-108.5 520,-108.5 520,-102.5 526,-96.5 532,-96.5 532,-96.5 671,-96.5 671,-96.5 677,-96.5 683,-102.5 683,-108.5 683,-108.5 683,-137.5 683,-137.5 683,-143.5 677,-149.5 671,-149.5\"/>\n<text text-anchor=\"middle\" x=\"601.5\" y=\"-134.3\" font-family=\"Helvetica,sans-Serif\" font-size=\"14.00\">squared_error = 20.199</text>\n<text text-anchor=\"middle\" x=\"601.5\" y=\"-119.3\" font-family=\"Helvetica,sans-Serif\" font-size=\"14.00\">samples = 22</text>\n<text text-anchor=\"middle\" x=\"601.5\" y=\"-104.3\" font-family=\"Helvetica,sans-Serif\" font-size=\"14.00\">value = 45.7</text>\n</g>\n<!-- 10&#45;&gt;16 -->\n<g id=\"edge13\" class=\"edge\">\n<title>10&#45;&gt;16</title>\n<path fill=\"none\" stroke=\"black\" d=\"M601.5,-192.88C601.5,-182.33 601.5,-170.6 601.5,-159.85\"/>\n<polygon fill=\"black\" stroke=\"black\" points=\"605,-159.52 601.5,-149.52 598,-159.52 605,-159.52\"/>\n</g>\n<!-- 7 -->\n<g id=\"node16\" class=\"node\">\n<title>7</title>\n<path fill=\"#f9e3d3\" stroke=\"black\" d=\"M1109,-365C1109,-365 970,-365 970,-365 964,-365 958,-359 958,-353 958,-353 958,-309 958,-309 958,-303 964,-297 970,-297 970,-297 1109,-297 1109,-297 1115,-297 1121,-303 1121,-309 1121,-309 1121,-353 1121,-353 1121,-359 1115,-365 1109,-365\"/>\n<text text-anchor=\"middle\" x=\"1039.5\" y=\"-349.8\" font-family=\"Helvetica,sans-Serif\" font-size=\"14.00\">lstat &lt;= 14.805</text>\n<text text-anchor=\"middle\" x=\"1039.5\" y=\"-334.8\" font-family=\"Helvetica,sans-Serif\" font-size=\"14.00\">squared_error = 14.913</text>\n<text text-anchor=\"middle\" x=\"1039.5\" y=\"-319.8\" font-family=\"Helvetica,sans-Serif\" font-size=\"14.00\">samples = 167</text>\n<text text-anchor=\"middle\" x=\"1039.5\" y=\"-304.8\" font-family=\"Helvetica,sans-Serif\" font-size=\"14.00\">value = 19.063</text>\n</g>\n<!-- 2&#45;&gt;7 -->\n<g id=\"edge15\" class=\"edge\">\n<title>2&#45;&gt;7</title>\n<path fill=\"none\" stroke=\"black\" d=\"M1039.5,-400.88C1039.5,-392.78 1039.5,-383.98 1039.5,-375.47\"/>\n<polygon fill=\"black\" stroke=\"black\" points=\"1043,-375.3 1039.5,-365.3 1036,-375.3 1043,-375.3\"/>\n</g>\n<!-- 8 -->\n<g id=\"node23\" class=\"node\">\n<title>8</title>\n<path fill=\"#fefaf6\" stroke=\"black\" d=\"M1379,-365C1379,-365 1240,-365 1240,-365 1234,-365 1228,-359 1228,-353 1228,-353 1228,-309 1228,-309 1228,-303 1234,-297 1240,-297 1240,-297 1379,-297 1379,-297 1385,-297 1391,-303 1391,-309 1391,-309 1391,-353 1391,-353 1391,-359 1385,-365 1379,-365\"/>\n<text text-anchor=\"middle\" x=\"1309.5\" y=\"-349.8\" font-family=\"Helvetica,sans-Serif\" font-size=\"14.00\">nox &lt;= 0.603</text>\n<text text-anchor=\"middle\" x=\"1309.5\" y=\"-334.8\" font-family=\"Helvetica,sans-Serif\" font-size=\"14.00\">squared_error = 16.835</text>\n<text text-anchor=\"middle\" x=\"1309.5\" y=\"-319.8\" font-family=\"Helvetica,sans-Serif\" font-size=\"14.00\">samples = 59</text>\n<text text-anchor=\"middle\" x=\"1309.5\" y=\"-304.8\" font-family=\"Helvetica,sans-Serif\" font-size=\"14.00\">value = 12.031</text>\n</g>\n<!-- 2&#45;&gt;8 -->\n<g id=\"edge22\" class=\"edge\">\n<title>2&#45;&gt;8</title>\n<path fill=\"none\" stroke=\"black\" d=\"M1121.24,-403.12C1151.76,-391.59 1186.61,-378.42 1217.96,-366.58\"/>\n<polygon fill=\"black\" stroke=\"black\" points=\"1219.45,-369.76 1227.57,-362.95 1216.98,-363.21 1219.45,-369.76\"/>\n</g>\n<!-- 13 -->\n<g id=\"node17\" class=\"node\">\n<title>13</title>\n<path fill=\"#f8decc\" stroke=\"black\" d=\"M1021,-261C1021,-261 882,-261 882,-261 876,-261 870,-255 870,-249 870,-249 870,-205 870,-205 870,-199 876,-193 882,-193 882,-193 1021,-193 1021,-193 1027,-193 1033,-199 1033,-205 1033,-205 1033,-249 1033,-249 1033,-255 1027,-261 1021,-261\"/>\n<text text-anchor=\"middle\" x=\"951.5\" y=\"-245.8\" font-family=\"Helvetica,sans-Serif\" font-size=\"14.00\">rm &lt;= 6.776</text>\n<text text-anchor=\"middle\" x=\"951.5\" y=\"-230.8\" font-family=\"Helvetica,sans-Serif\" font-size=\"14.00\">squared_error = 10.173</text>\n<text text-anchor=\"middle\" x=\"951.5\" y=\"-215.8\" font-family=\"Helvetica,sans-Serif\" font-size=\"14.00\">samples = 100</text>\n<text text-anchor=\"middle\" x=\"951.5\" y=\"-200.8\" font-family=\"Helvetica,sans-Serif\" font-size=\"14.00\">value = 20.597</text>\n</g>\n<!-- 7&#45;&gt;13 -->\n<g id=\"edge16\" class=\"edge\">\n<title>7&#45;&gt;13</title>\n<path fill=\"none\" stroke=\"black\" d=\"M1010.93,-296.88C1003.24,-287.98 994.84,-278.24 986.84,-268.96\"/>\n<polygon fill=\"black\" stroke=\"black\" points=\"989.41,-266.58 980.23,-261.3 984.11,-271.16 989.41,-266.58\"/>\n</g>\n<!-- 14 -->\n<g id=\"node20\" class=\"node\">\n<title>14</title>\n<path fill=\"#fbeadf\" stroke=\"black\" d=\"M1202,-261C1202,-261 1063,-261 1063,-261 1057,-261 1051,-255 1051,-249 1051,-249 1051,-205 1051,-205 1051,-199 1057,-193 1063,-193 1063,-193 1202,-193 1202,-193 1208,-193 1214,-199 1214,-205 1214,-205 1214,-249 1214,-249 1214,-255 1208,-261 1202,-261\"/>\n<text text-anchor=\"middle\" x=\"1132.5\" y=\"-245.8\" font-family=\"Helvetica,sans-Serif\" font-size=\"14.00\">crim &lt;= 0.256</text>\n<text text-anchor=\"middle\" x=\"1132.5\" y=\"-230.8\" font-family=\"Helvetica,sans-Serif\" font-size=\"14.00\">squared_error = 13.232</text>\n<text text-anchor=\"middle\" x=\"1132.5\" y=\"-215.8\" font-family=\"Helvetica,sans-Serif\" font-size=\"14.00\">samples = 67</text>\n<text text-anchor=\"middle\" x=\"1132.5\" y=\"-200.8\" font-family=\"Helvetica,sans-Serif\" font-size=\"14.00\">value = 16.773</text>\n</g>\n<!-- 7&#45;&gt;14 -->\n<g id=\"edge19\" class=\"edge\">\n<title>7&#45;&gt;14</title>\n<path fill=\"none\" stroke=\"black\" d=\"M1069.69,-296.88C1077.82,-287.98 1086.7,-278.24 1095.16,-268.96\"/>\n<polygon fill=\"black\" stroke=\"black\" points=\"1097.99,-271.05 1102.14,-261.3 1092.81,-266.33 1097.99,-271.05\"/>\n</g>\n<!-- 23 -->\n<g id=\"node18\" class=\"node\">\n<title>23</title>\n<path fill=\"#f8dfcd\" stroke=\"black\" d=\"M844,-149.5C844,-149.5 713,-149.5 713,-149.5 707,-149.5 701,-143.5 701,-137.5 701,-137.5 701,-108.5 701,-108.5 701,-102.5 707,-96.5 713,-96.5 713,-96.5 844,-96.5 844,-96.5 850,-96.5 856,-102.5 856,-108.5 856,-108.5 856,-137.5 856,-137.5 856,-143.5 850,-149.5 844,-149.5\"/>\n<text text-anchor=\"middle\" x=\"778.5\" y=\"-134.3\" font-family=\"Helvetica,sans-Serif\" font-size=\"14.00\">squared_error = 6.665</text>\n<text text-anchor=\"middle\" x=\"778.5\" y=\"-119.3\" font-family=\"Helvetica,sans-Serif\" font-size=\"14.00\">samples = 95</text>\n<text text-anchor=\"middle\" x=\"778.5\" y=\"-104.3\" font-family=\"Helvetica,sans-Serif\" font-size=\"14.00\">value = 20.271</text>\n</g>\n<!-- 13&#45;&gt;23 -->\n<g id=\"edge17\" class=\"edge\">\n<title>13&#45;&gt;23</title>\n<path fill=\"none\" stroke=\"black\" d=\"M895.33,-192.88C874.53,-180.62 851.06,-166.78 830.63,-154.74\"/>\n<polygon fill=\"black\" stroke=\"black\" points=\"832.18,-151.58 821.78,-149.52 828.62,-157.61 832.18,-151.58\"/>\n</g>\n<!-- 24 -->\n<g id=\"node19\" class=\"node\">\n<title>24</title>\n<path fill=\"#f4cbad\" stroke=\"black\" d=\"M1025,-149.5C1025,-149.5 886,-149.5 886,-149.5 880,-149.5 874,-143.5 874,-137.5 874,-137.5 874,-108.5 874,-108.5 874,-102.5 880,-96.5 886,-96.5 886,-96.5 1025,-96.5 1025,-96.5 1031,-96.5 1037,-102.5 1037,-108.5 1037,-108.5 1037,-137.5 1037,-137.5 1037,-143.5 1031,-149.5 1025,-149.5\"/>\n<text text-anchor=\"middle\" x=\"955.5\" y=\"-134.3\" font-family=\"Helvetica,sans-Serif\" font-size=\"14.00\">squared_error = 36.316</text>\n<text text-anchor=\"middle\" x=\"955.5\" y=\"-119.3\" font-family=\"Helvetica,sans-Serif\" font-size=\"14.00\">samples = 5</text>\n<text text-anchor=\"middle\" x=\"955.5\" y=\"-104.3\" font-family=\"Helvetica,sans-Serif\" font-size=\"14.00\">value = 26.8</text>\n</g>\n<!-- 13&#45;&gt;24 -->\n<g id=\"edge18\" class=\"edge\">\n<title>13&#45;&gt;24</title>\n<path fill=\"none\" stroke=\"black\" d=\"M952.8,-192.88C953.22,-182.22 953.68,-170.35 954.11,-159.52\"/>\n<polygon fill=\"black\" stroke=\"black\" points=\"957.6,-159.65 954.5,-149.52 950.61,-159.38 957.6,-159.65\"/>\n</g>\n<!-- 19 -->\n<g id=\"node21\" class=\"node\">\n<title>19</title>\n<path fill=\"#f8dfcd\" stroke=\"black\" d=\"M1198,-149.5C1198,-149.5 1067,-149.5 1067,-149.5 1061,-149.5 1055,-143.5 1055,-137.5 1055,-137.5 1055,-108.5 1055,-108.5 1055,-102.5 1061,-96.5 1067,-96.5 1067,-96.5 1198,-96.5 1198,-96.5 1204,-96.5 1210,-102.5 1210,-108.5 1210,-108.5 1210,-137.5 1210,-137.5 1210,-143.5 1204,-149.5 1198,-149.5\"/>\n<text text-anchor=\"middle\" x=\"1132.5\" y=\"-134.3\" font-family=\"Helvetica,sans-Serif\" font-size=\"14.00\">squared_error = 8.012</text>\n<text text-anchor=\"middle\" x=\"1132.5\" y=\"-119.3\" font-family=\"Helvetica,sans-Serif\" font-size=\"14.00\">samples = 17</text>\n<text text-anchor=\"middle\" x=\"1132.5\" y=\"-104.3\" font-family=\"Helvetica,sans-Serif\" font-size=\"14.00\">value = 20.241</text>\n</g>\n<!-- 14&#45;&gt;19 -->\n<g id=\"edge20\" class=\"edge\">\n<title>14&#45;&gt;19</title>\n<path fill=\"none\" stroke=\"black\" d=\"M1132.5,-192.88C1132.5,-182.33 1132.5,-170.6 1132.5,-159.85\"/>\n<polygon fill=\"black\" stroke=\"black\" points=\"1136,-159.52 1132.5,-149.52 1129,-159.52 1136,-159.52\"/>\n</g>\n<!-- 20 -->\n<g id=\"node22\" class=\"node\">\n<title>20</title>\n<path fill=\"#fceee5\" stroke=\"black\" d=\"M1371,-149.5C1371,-149.5 1240,-149.5 1240,-149.5 1234,-149.5 1228,-143.5 1228,-137.5 1228,-137.5 1228,-108.5 1228,-108.5 1228,-102.5 1234,-96.5 1240,-96.5 1240,-96.5 1371,-96.5 1371,-96.5 1377,-96.5 1383,-102.5 1383,-108.5 1383,-108.5 1383,-137.5 1383,-137.5 1383,-143.5 1377,-149.5 1371,-149.5\"/>\n<text text-anchor=\"middle\" x=\"1305.5\" y=\"-134.3\" font-family=\"Helvetica,sans-Serif\" font-size=\"14.00\">squared_error = 9.527</text>\n<text text-anchor=\"middle\" x=\"1305.5\" y=\"-119.3\" font-family=\"Helvetica,sans-Serif\" font-size=\"14.00\">samples = 50</text>\n<text text-anchor=\"middle\" x=\"1305.5\" y=\"-104.3\" font-family=\"Helvetica,sans-Serif\" font-size=\"14.00\">value = 15.594</text>\n</g>\n<!-- 14&#45;&gt;20 -->\n<g id=\"edge21\" class=\"edge\">\n<title>14&#45;&gt;20</title>\n<path fill=\"none\" stroke=\"black\" d=\"M1188.67,-192.88C1209.47,-180.62 1232.94,-166.78 1253.37,-154.74\"/>\n<polygon fill=\"black\" stroke=\"black\" points=\"1255.38,-157.61 1262.22,-149.52 1251.82,-151.58 1255.38,-157.61\"/>\n</g>\n<!-- 17 -->\n<g id=\"node24\" class=\"node\">\n<title>17</title>\n<path fill=\"#fbebdf\" stroke=\"black\" d=\"M1375,-253.5C1375,-253.5 1244,-253.5 1244,-253.5 1238,-253.5 1232,-247.5 1232,-241.5 1232,-241.5 1232,-212.5 1232,-212.5 1232,-206.5 1238,-200.5 1244,-200.5 1244,-200.5 1375,-200.5 1375,-200.5 1381,-200.5 1387,-206.5 1387,-212.5 1387,-212.5 1387,-241.5 1387,-241.5 1387,-247.5 1381,-253.5 1375,-253.5\"/>\n<text text-anchor=\"middle\" x=\"1309.5\" y=\"-238.3\" font-family=\"Helvetica,sans-Serif\" font-size=\"14.00\">squared_error = 9.344</text>\n<text text-anchor=\"middle\" x=\"1309.5\" y=\"-223.3\" font-family=\"Helvetica,sans-Serif\" font-size=\"14.00\">samples = 16</text>\n<text text-anchor=\"middle\" x=\"1309.5\" y=\"-208.3\" font-family=\"Helvetica,sans-Serif\" font-size=\"14.00\">value = 16.656</text>\n</g>\n<!-- 8&#45;&gt;17 -->\n<g id=\"edge23\" class=\"edge\">\n<title>8&#45;&gt;17</title>\n<path fill=\"none\" stroke=\"black\" d=\"M1309.5,-296.88C1309.5,-286.33 1309.5,-274.6 1309.5,-263.85\"/>\n<polygon fill=\"black\" stroke=\"black\" points=\"1313,-263.52 1309.5,-253.52 1306,-263.52 1313,-263.52\"/>\n</g>\n<!-- 18 -->\n<g id=\"node25\" class=\"node\">\n<title>18</title>\n<path fill=\"#ffffff\" stroke=\"black\" d=\"M1548,-253.5C1548,-253.5 1417,-253.5 1417,-253.5 1411,-253.5 1405,-247.5 1405,-241.5 1405,-241.5 1405,-212.5 1405,-212.5 1405,-206.5 1411,-200.5 1417,-200.5 1417,-200.5 1548,-200.5 1548,-200.5 1554,-200.5 1560,-206.5 1560,-212.5 1560,-212.5 1560,-241.5 1560,-241.5 1560,-247.5 1554,-253.5 1548,-253.5\"/>\n<text text-anchor=\"middle\" x=\"1482.5\" y=\"-238.3\" font-family=\"Helvetica,sans-Serif\" font-size=\"14.00\">squared_error = 8.698</text>\n<text text-anchor=\"middle\" x=\"1482.5\" y=\"-223.3\" font-family=\"Helvetica,sans-Serif\" font-size=\"14.00\">samples = 43</text>\n<text text-anchor=\"middle\" x=\"1482.5\" y=\"-208.3\" font-family=\"Helvetica,sans-Serif\" font-size=\"14.00\">value = 10.309</text>\n</g>\n<!-- 8&#45;&gt;18 -->\n<g id=\"edge24\" class=\"edge\">\n<title>8&#45;&gt;18</title>\n<path fill=\"none\" stroke=\"black\" d=\"M1365.67,-296.88C1386.47,-284.62 1409.94,-270.78 1430.37,-258.74\"/>\n<polygon fill=\"black\" stroke=\"black\" points=\"1432.38,-261.61 1439.22,-253.52 1428.82,-255.58 1432.38,-261.61\"/>\n</g>\n</g>\n</svg>\n",
      "text/plain": [
       "<graphviz.sources.Source at 0x1aa31635370>"
      ]
     },
     "execution_count": 43,
     "metadata": {},
     "output_type": "execute_result"
    }
   ],
   "source": [
    "from sklearn.tree import export_graphviz\n",
    "dot_data = export_graphviz(regressor_DT, feature_names = Xtrain.columns, filled = True, rounded = True)\n",
    "graph = gp.Source(dot_data)\n",
    "graph"
   ]
  },
  {
   "cell_type": "code",
   "execution_count": 44,
   "metadata": {},
   "outputs": [
    {
     "data": {
      "text/plain": [
       "3.9533623352198988"
      ]
     },
     "execution_count": 44,
     "metadata": {},
     "output_type": "execute_result"
    }
   ],
   "source": [
    "ypredict = regressor_DT.predict(Xtest)\n",
    "score_RT=mean_squared_error(ytest,ypredict)\n",
    "score_RT**(1/2)"
   ]
  },
  {
   "cell_type": "markdown",
   "metadata": {},
   "source": [
    "10. When you look at this tree, what features play a large role in determining house prices?"
   ]
  },
  {
   "cell_type": "markdown",
   "metadata": {},
   "source": [
    "There are basically 4 (ordered from maybe most important to least): lstat (% lower status population), rm (average number of rooms per dwelling), dis (weighted distance to employment centers), nox (air quality), tax (full-property tax rate). Note that e.g. higher taxes lead to a lower price for example."
   ]
  },
  {
   "cell_type": "markdown",
   "metadata": {},
   "source": [
    "## B. Bagging / Random Forests / Gradient Boosting [optional]\n",
    "\n",
    "In this part, we contrast bagging/random forests/gradient boosting and see which one does the best. It stands to reason that these three methods should at least improve on what we have seen so far. \n",
    "\n",
    "We will throughout use the fact that max_leaf_nodes=13 and train our models on `Xtrainval, ytrainval`.\n",
    "\n",
    "We start first with Bagging/Random Forests and then move onto Gradient Boosting."
   ]
  },
  {
   "cell_type": "markdown",
   "metadata": {},
   "source": [
    "1. We use `RandomForestRegressor` for both, tweaking only the parameter `max_features`. Explain why this can be done and what we should set `max_features` to for it to be bagging, and what it should be set equal to for it to be random forests."
   ]
  },
  {
   "cell_type": "markdown",
   "metadata": {},
   "source": [
    "The only difference between bagging and random forest is that random forest constrains the number of features the tree can use at each iteration to \"split\" on. (This is to avoid the same features being used and the trees produced being identical copies of one another). Hence to do bagging, we use `RandomForestRegressor` with `max_features=13`. In the case of Random Forests, we use the rule a rule of thumb according to which we should pick (for regression) the number of features divided by 3. This works out to approximately 5 (=13/3)."
   ]
  },
  {
   "cell_type": "markdown",
   "metadata": {},
   "source": [
    "2. Let's start with Bagging. Use `RandomForestRegressor` in exactly the same way as `DecisionTreeRegressor` to fit the model on `Xtrainval,ytrainval` with `max_leaf_nodes=13` and `max_features` appropriately set.\n",
    "\n",
    "Hint: you may want to use `ytrainval[\"medv\"]` instead of `ytrain` to avoid the error message you may be getting."
   ]
  },
  {
   "cell_type": "code",
   "execution_count": 45,
   "metadata": {},
   "outputs": [
    {
     "data": {
      "text/plain": [
       "RandomForestRegressor(max_features=13, max_leaf_nodes=13)"
      ]
     },
     "execution_count": 45,
     "metadata": {},
     "output_type": "execute_result"
    }
   ],
   "source": [
    "regressor_Bagging = RandomForestRegressor(max_leaf_nodes=13, max_features=13)\n",
    "regressor_Bagging.fit(Xtrainval, ytrainval[\"medv\"])"
   ]
  },
  {
   "cell_type": "markdown",
   "metadata": {},
   "source": [
    "3. Use the model you've just obtained to predict the values on `Xtest`. Then, compute the MSE between the predicted values and `ytest`. What is its square root? Denote this by `RMSE_Bagging`. Does it improve on `RMSE_DT`?"
   ]
  },
  {
   "cell_type": "code",
   "execution_count": 46,
   "metadata": {},
   "outputs": [
    {
     "data": {
      "text/plain": [
       "2.7699216475243604"
      ]
     },
     "execution_count": 46,
     "metadata": {},
     "output_type": "execute_result"
    }
   ],
   "source": [
    "ypredict = regressor_Bagging.predict(Xtest)\n",
    "score_Bagging=mean_squared_error(ytest,ypredict)\n",
    "score_Bagging**(1/2)"
   ]
  },
  {
   "cell_type": "markdown",
   "metadata": {},
   "source": [
    "4. Let's move onto random forests. Use `RandomForestRegressor` in exactly the same way as `DecisionTreeRegressor` to fit the model on `Xtrainval,ytrainval` with `max_leaf_nodes=13` and `max_features` appropriately set.\n",
    "\n",
    "Hint: you may want to use `ytrainval[\"medv\"]` instead of `ytrain` to avoid the error message you may be getting."
   ]
  },
  {
   "cell_type": "code",
   "execution_count": 47,
   "metadata": {},
   "outputs": [
    {
     "data": {
      "text/plain": [
       "RandomForestRegressor(max_features=6, max_leaf_nodes=13)"
      ]
     },
     "execution_count": 47,
     "metadata": {},
     "output_type": "execute_result"
    }
   ],
   "source": [
    "regressor_RF = RandomForestRegressor(max_leaf_nodes=13, max_features=6)\n",
    "regressor_RF.fit(Xtrainval, ytrainval[\"medv\"])"
   ]
  },
  {
   "cell_type": "markdown",
   "metadata": {},
   "source": [
    "5. Use the model you've just obtained to predict the values on `Xtest`. Then, compute the MSE between the predicted values and `ytest`. What is its square root? Denote this by `RMSE_RF`. Does it improve on `RMSE_DT`? on `RMSE_Bagging`?"
   ]
  },
  {
   "cell_type": "code",
   "execution_count": 48,
   "metadata": {},
   "outputs": [
    {
     "data": {
      "text/plain": [
       "2.6969081515367823"
      ]
     },
     "execution_count": 48,
     "metadata": {},
     "output_type": "execute_result"
    }
   ],
   "source": [
    "ypredict = regressor_RF.predict(Xtest)\n",
    "score_RF=mean_squared_error(ytest,ypredict)\n",
    "score_RF**(1/2)"
   ]
  },
  {
   "cell_type": "markdown",
   "metadata": {},
   "source": [
    "6. Finally, for gradient boosting, use `GradientBoostingRegressor` (which again has a very similar syntax to `DecisionTreeRegressor`) to fit the model on `Xtrainval,ytrainval` with `max_leaf_nodes=13`."
   ]
  },
  {
   "cell_type": "code",
   "execution_count": 49,
   "metadata": {},
   "outputs": [
    {
     "data": {
      "text/plain": [
       "GradientBoostingRegressor(max_leaf_nodes=13)"
      ]
     },
     "execution_count": 49,
     "metadata": {},
     "output_type": "execute_result"
    }
   ],
   "source": [
    "regressor_Boost= GradientBoostingRegressor(max_leaf_nodes=13)\n",
    "regressor_Boost.fit(Xtrainval, ytrainval[\"medv\"])"
   ]
  },
  {
   "cell_type": "markdown",
   "metadata": {},
   "source": [
    "7. Use the model you've just obtained to predict the values on `Xtest`. Then, compute the MSE between the predicted values and `ytest`. What is its square root? Denote this by `RMSE_Boost`. Does it improve on `RMSE_DT`? on `RMSE_Bagging`? on `RMSE_RF`? What do you think is the best model?"
   ]
  },
  {
   "cell_type": "code",
   "execution_count": 50,
   "metadata": {},
   "outputs": [
    {
     "data": {
      "text/plain": [
       "2.6210123306160265"
      ]
     },
     "execution_count": 50,
     "metadata": {},
     "output_type": "execute_result"
    }
   ],
   "source": [
    "ypredict = regressor_Boost.predict(Xtest)\n",
    "score_Boost=mean_squared_error(ytest,ypredict)\n",
    "score_Boost**(1/2)"
   ]
  },
  {
   "cell_type": "code",
   "execution_count": null,
   "metadata": {},
   "outputs": [],
   "source": []
  }
 ],
 "metadata": {
  "interpreter": {
   "hash": "df4e212b3ca48d28190f7fa319070b735bf716a22d4b5700005d4436fb499095"
  },
  "kernelspec": {
   "display_name": "dtvc_env",
   "language": "python",
   "name": "python3"
  },
  "language_info": {
   "codemirror_mode": {
    "name": "ipython",
    "version": 3
   },
   "file_extension": ".py",
   "mimetype": "text/x-python",
   "name": "python",
   "nbconvert_exporter": "python",
   "pygments_lexer": "ipython3",
   "version": "3.8.8"
  }
 },
 "nbformat": 4,
 "nbformat_minor": 4
}
