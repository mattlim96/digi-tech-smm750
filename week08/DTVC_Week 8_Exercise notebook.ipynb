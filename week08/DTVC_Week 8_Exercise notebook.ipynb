{
 "cells": [
  {
   "cell_type": "code",
   "execution_count": 1,
   "metadata": {},
   "outputs": [],
   "source": [
    "import pandas as pd\n",
    "import numpy as np\n",
    "import matplotlib as mp\n",
    "import matplotlib.pyplot as plt\n",
    "import seaborn as sns\n",
    "import graphviz as gp\n",
    "from sklearn import decomposition as dcp"
   ]
  },
  {
   "cell_type": "markdown",
   "metadata": {},
   "source": [
    "# Part 1: How does PCA work?\n",
    "\n",
    "We use here a subset of the McDonald's dataset seen in class: we have retained only three of the features [Vitamin C, Total Fat, Cholesterol] to better understand how PCA works.\n"
   ]
  },
  {
   "cell_type": "code",
   "execution_count": 2,
   "metadata": {},
   "outputs": [],
   "source": [
    "menu=pd.read_csv(\"McDonaldsMenu.csv\")"
   ]
  },
  {
   "cell_type": "markdown",
   "metadata": {},
   "source": [
    "1. Visualize the header of the dataframe and make sure there are no empty values."
   ]
  },
  {
   "cell_type": "code",
   "execution_count": 3,
   "metadata": {},
   "outputs": [
    {
     "data": {
      "text/html": [
       "<div>\n",
       "<style scoped>\n",
       "    .dataframe tbody tr th:only-of-type {\n",
       "        vertical-align: middle;\n",
       "    }\n",
       "\n",
       "    .dataframe tbody tr th {\n",
       "        vertical-align: top;\n",
       "    }\n",
       "\n",
       "    .dataframe thead th {\n",
       "        text-align: right;\n",
       "    }\n",
       "</style>\n",
       "<table border=\"1\" class=\"dataframe\">\n",
       "  <thead>\n",
       "    <tr style=\"text-align: right;\">\n",
       "      <th></th>\n",
       "      <th>0</th>\n",
       "      <th>1</th>\n",
       "      <th>2</th>\n",
       "      <th>3</th>\n",
       "      <th>4</th>\n",
       "    </tr>\n",
       "  </thead>\n",
       "  <tbody>\n",
       "    <tr>\n",
       "      <th>Category</th>\n",
       "      <td>Breakfast</td>\n",
       "      <td>Breakfast</td>\n",
       "      <td>Breakfast</td>\n",
       "      <td>Breakfast</td>\n",
       "      <td>Breakfast</td>\n",
       "    </tr>\n",
       "    <tr>\n",
       "      <th>Item</th>\n",
       "      <td>Egg McMuffin</td>\n",
       "      <td>Egg White Delight</td>\n",
       "      <td>Sausage McMuffin</td>\n",
       "      <td>Sausage McMuffin with Egg</td>\n",
       "      <td>Sausage McMuffin with Egg Whites</td>\n",
       "    </tr>\n",
       "    <tr>\n",
       "      <th>Vitamin C</th>\n",
       "      <td>0</td>\n",
       "      <td>0</td>\n",
       "      <td>0</td>\n",
       "      <td>0</td>\n",
       "      <td>0</td>\n",
       "    </tr>\n",
       "    <tr>\n",
       "      <th>Total Fat</th>\n",
       "      <td>20</td>\n",
       "      <td>12</td>\n",
       "      <td>35</td>\n",
       "      <td>43</td>\n",
       "      <td>35</td>\n",
       "    </tr>\n",
       "    <tr>\n",
       "      <th>Cholesterol</th>\n",
       "      <td>87</td>\n",
       "      <td>8</td>\n",
       "      <td>15</td>\n",
       "      <td>95</td>\n",
       "      <td>16</td>\n",
       "    </tr>\n",
       "  </tbody>\n",
       "</table>\n",
       "</div>"
      ],
      "text/plain": [
       "                        0                  1                 2  \\\n",
       "Category        Breakfast          Breakfast         Breakfast   \n",
       "Item         Egg McMuffin  Egg White Delight  Sausage McMuffin   \n",
       "Vitamin C               0                  0                 0   \n",
       "Total Fat              20                 12                35   \n",
       "Cholesterol            87                  8                15   \n",
       "\n",
       "                                     3                                 4  \n",
       "Category                     Breakfast                         Breakfast  \n",
       "Item         Sausage McMuffin with Egg  Sausage McMuffin with Egg Whites  \n",
       "Vitamin C                            0                                 0  \n",
       "Total Fat                           43                                35  \n",
       "Cholesterol                         95                                16  "
      ]
     },
     "execution_count": 3,
     "metadata": {},
     "output_type": "execute_result"
    }
   ],
   "source": [
    "menu.head().T"
   ]
  },
  {
   "cell_type": "code",
   "execution_count": 4,
   "metadata": {},
   "outputs": [
    {
     "data": {
      "text/plain": [
       "Category       0\n",
       "Item           0\n",
       "Vitamin C      0\n",
       "Total Fat      0\n",
       "Cholesterol    0\n",
       "dtype: int64"
      ]
     },
     "execution_count": 4,
     "metadata": {},
     "output_type": "execute_result"
    }
   ],
   "source": [
    "menu.isnull().sum()"
   ]
  },
  {
   "cell_type": "code",
   "execution_count": 33,
   "metadata": {},
   "outputs": [
    {
     "name": "stdout",
     "output_type": "stream",
     "text": [
      "<class 'pandas.core.frame.DataFrame'>\n",
      "RangeIndex: 260 entries, 0 to 259\n",
      "Data columns (total 5 columns):\n",
      " #   Column       Non-Null Count  Dtype \n",
      "---  ------       --------------  ----- \n",
      " 0   Category     260 non-null    object\n",
      " 1   Item         260 non-null    object\n",
      " 2   Vitamin C    260 non-null    int64 \n",
      " 3   Total Fat    260 non-null    int64 \n",
      " 4   Cholesterol  260 non-null    int64 \n",
      "dtypes: int64(3), object(2)\n",
      "memory usage: 10.3+ KB\n"
     ]
    }
   ],
   "source": [
    "menu.info()"
   ]
  },
  {
   "cell_type": "markdown",
   "metadata": {},
   "source": [
    "2. What is the variance of each feature? Use `menu.cov()` to find this. Which variable has highest variance? Which variable has lowest variance?\n",
    "\n",
    "- highest var = cholesterol\n",
    "- lowest var = total fat"
   ]
  },
  {
   "cell_type": "code",
   "execution_count": 5,
   "metadata": {},
   "outputs": [
    {
     "data": {
      "text/html": [
       "<div>\n",
       "<style scoped>\n",
       "    .dataframe tbody tr th:only-of-type {\n",
       "        vertical-align: middle;\n",
       "    }\n",
       "\n",
       "    .dataframe tbody tr th {\n",
       "        vertical-align: top;\n",
       "    }\n",
       "\n",
       "    .dataframe thead th {\n",
       "        text-align: right;\n",
       "    }\n",
       "</style>\n",
       "<table border=\"1\" class=\"dataframe\">\n",
       "  <thead>\n",
       "    <tr style=\"text-align: right;\">\n",
       "      <th></th>\n",
       "      <th>Vitamin C</th>\n",
       "      <th>Total Fat</th>\n",
       "      <th>Cholesterol</th>\n",
       "    </tr>\n",
       "  </thead>\n",
       "  <tbody>\n",
       "    <tr>\n",
       "      <th>Vitamin C</th>\n",
       "      <td>694.087600</td>\n",
       "      <td>-51.518681</td>\n",
       "      <td>-63.855331</td>\n",
       "    </tr>\n",
       "    <tr>\n",
       "      <th>Total Fat</th>\n",
       "      <td>-51.518681</td>\n",
       "      <td>478.961925</td>\n",
       "      <td>433.180814</td>\n",
       "    </tr>\n",
       "    <tr>\n",
       "      <th>Cholesterol</th>\n",
       "      <td>-63.855331</td>\n",
       "      <td>433.180814</td>\n",
       "      <td>846.324265</td>\n",
       "    </tr>\n",
       "  </tbody>\n",
       "</table>\n",
       "</div>"
      ],
      "text/plain": [
       "              Vitamin C   Total Fat  Cholesterol\n",
       "Vitamin C    694.087600  -51.518681   -63.855331\n",
       "Total Fat    -51.518681  478.961925   433.180814\n",
       "Cholesterol  -63.855331  433.180814   846.324265"
      ]
     },
     "execution_count": 5,
     "metadata": {},
     "output_type": "execute_result"
    }
   ],
   "source": [
    "menu.cov()"
   ]
  },
  {
   "cell_type": "markdown",
   "metadata": {},
   "source": [
    "3. If we add the variance of each feature, how much do we get? What is the ratio variance/total dataset variance for each feature? How low does this go?"
   ]
  },
  {
   "cell_type": "code",
   "execution_count": 22,
   "metadata": {},
   "outputs": [
    {
     "name": "stderr",
     "output_type": "stream",
     "text": [
      "/opt/anaconda3/envs/smm750/lib/python3.7/site-packages/ipykernel_launcher.py:1: FutureWarning: Dropping of nuisance columns in DataFrame reductions (with 'numeric_only=None') is deprecated; in a future version this will raise TypeError.  Select only valid columns before calling the reduction.\n",
      "  \"\"\"Entry point for launching an IPython kernel.\n"
     ]
    },
    {
     "data": {
      "text/plain": [
       "Vitamin C      694.087600\n",
       "Total Fat      478.961925\n",
       "Cholesterol    846.324265\n",
       "dtype: float64"
      ]
     },
     "execution_count": 22,
     "metadata": {},
     "output_type": "execute_result"
    }
   ],
   "source": [
    "menu.var()"
   ]
  },
  {
   "cell_type": "code",
   "execution_count": 14,
   "metadata": {},
   "outputs": [
    {
     "name": "stderr",
     "output_type": "stream",
     "text": [
      "/opt/anaconda3/envs/smm750/lib/python3.7/site-packages/ipykernel_launcher.py:1: FutureWarning: Dropping of nuisance columns in DataFrame reductions (with 'numeric_only=None') is deprecated; in a future version this will raise TypeError.  Select only valid columns before calling the reduction.\n",
      "  \"\"\"Entry point for launching an IPython kernel.\n"
     ]
    },
    {
     "data": {
      "text/plain": [
       "2019.3737897237966"
      ]
     },
     "execution_count": 14,
     "metadata": {},
     "output_type": "execute_result"
    }
   ],
   "source": [
    "menu.var().sum()"
   ]
  },
  {
   "cell_type": "code",
   "execution_count": 15,
   "metadata": {},
   "outputs": [
    {
     "name": "stderr",
     "output_type": "stream",
     "text": [
      "/opt/anaconda3/envs/smm750/lib/python3.7/site-packages/ipykernel_launcher.py:1: FutureWarning: Dropping of nuisance columns in DataFrame reductions (with 'numeric_only=None') is deprecated; in a future version this will raise TypeError.  Select only valid columns before calling the reduction.\n",
      "  \"\"\"Entry point for launching an IPython kernel.\n"
     ]
    },
    {
     "data": {
      "text/plain": [
       "Vitamin C      0.343714\n",
       "Total Fat      0.237183\n",
       "Cholesterol    0.419102\n",
       "dtype: float64"
      ]
     },
     "execution_count": 15,
     "metadata": {},
     "output_type": "execute_result"
    }
   ],
   "source": [
    "menu.var()/menu.var().sum()"
   ]
  },
  {
   "cell_type": "code",
   "execution_count": 16,
   "metadata": {},
   "outputs": [
    {
     "name": "stderr",
     "output_type": "stream",
     "text": [
      "/opt/anaconda3/envs/smm750/lib/python3.7/site-packages/ipykernel_launcher.py:1: FutureWarning: Dropping of nuisance columns in DataFrame reductions (with 'numeric_only=None') is deprecated; in a future version this will raise TypeError.  Select only valid columns before calling the reduction.\n",
      "  \"\"\"Entry point for launching an IPython kernel.\n"
     ]
    },
    {
     "data": {
      "text/plain": [
       "0.23718339170255173"
      ]
     },
     "execution_count": 16,
     "metadata": {},
     "output_type": "execute_result"
    }
   ],
   "source": [
    "min(menu.var()/menu.var().sum())"
   ]
  },
  {
   "cell_type": "markdown",
   "metadata": {},
   "source": [
    "4. We now consider a linear transformation of the variables that we give below. We obtain a new dataframe with three features `z1`, `z2`, and `z3`. Visualize the header of this matrix and obtain its covariance matrix. What is the variance of each feature? What is the sum of all three variances?"
   ]
  },
  {
   "cell_type": "code",
   "execution_count": 17,
   "metadata": {},
   "outputs": [],
   "source": [
    "df=pd.DataFrame()\n",
    "\n",
    "#creating centered variables\n",
    "Vit_C_centered=menu[\"Vitamin C\"]-menu[\"Vitamin C\"].mean()\n",
    "Total_Fat_centered=menu[\"Total Fat\"]-menu[\"Total Fat\"].mean()\n",
    "Cholesterol_centered=menu[\"Cholesterol\"]-menu[\"Cholesterol\"].mean()\n",
    "\n",
    "df[\"Category\"]=menu[\"Category\"]\n",
    "df[\"Item\"]=menu[\"Item\"]\n",
    "df[\"z1\"]=-0.17718634*Vit_C_centered+0.54454878*Total_Fat_centered+0.81979975*Cholesterol_centered\n",
    "df[\"z2\"]=0.98405437*Vit_C_centered+0.08485918*Total_Fat_centered+0.15631992*Cholesterol_centered\n",
    "df[\"z3\"]=0.01555629*Vit_C_centered+0.83442528*Total_Fat_centered-0.5509149*Cholesterol_centered"
   ]
  },
  {
   "cell_type": "code",
   "execution_count": 19,
   "metadata": {},
   "outputs": [
    {
     "data": {
      "text/html": [
       "<div>\n",
       "<style scoped>\n",
       "    .dataframe tbody tr th:only-of-type {\n",
       "        vertical-align: middle;\n",
       "    }\n",
       "\n",
       "    .dataframe tbody tr th {\n",
       "        vertical-align: top;\n",
       "    }\n",
       "\n",
       "    .dataframe thead th {\n",
       "        text-align: right;\n",
       "    }\n",
       "</style>\n",
       "<table border=\"1\" class=\"dataframe\">\n",
       "  <thead>\n",
       "    <tr style=\"text-align: right;\">\n",
       "      <th></th>\n",
       "      <th>z1</th>\n",
       "      <th>z2</th>\n",
       "      <th>z3</th>\n",
       "    </tr>\n",
       "  </thead>\n",
       "  <tbody>\n",
       "    <tr>\n",
       "      <th>z1</th>\n",
       "      <td>1.147864e+03</td>\n",
       "      <td>7.440345e-07</td>\n",
       "      <td>-0.012614</td>\n",
       "    </tr>\n",
       "    <tr>\n",
       "      <th>z2</th>\n",
       "      <td>7.440345e-07</td>\n",
       "      <td>6.795013e+02</td>\n",
       "      <td>-0.001424</td>\n",
       "    </tr>\n",
       "    <tr>\n",
       "      <th>z3</th>\n",
       "      <td>-1.261391e-02</td>\n",
       "      <td>-1.424010e-03</td>\n",
       "      <td>192.011090</td>\n",
       "    </tr>\n",
       "  </tbody>\n",
       "</table>\n",
       "</div>"
      ],
      "text/plain": [
       "              z1            z2          z3\n",
       "z1  1.147864e+03  7.440345e-07   -0.012614\n",
       "z2  7.440345e-07  6.795013e+02   -0.001424\n",
       "z3 -1.261391e-02 -1.424010e-03  192.011090"
      ]
     },
     "execution_count": 19,
     "metadata": {},
     "output_type": "execute_result"
    }
   ],
   "source": [
    "df.cov()"
   ]
  },
  {
   "cell_type": "code",
   "execution_count": 20,
   "metadata": {},
   "outputs": [
    {
     "name": "stderr",
     "output_type": "stream",
     "text": [
      "/opt/anaconda3/envs/smm750/lib/python3.7/site-packages/ipykernel_launcher.py:1: FutureWarning: Dropping of nuisance columns in DataFrame reductions (with 'numeric_only=None') is deprecated; in a future version this will raise TypeError.  Select only valid columns before calling the reduction.\n",
      "  \"\"\"Entry point for launching an IPython kernel.\n"
     ]
    },
    {
     "data": {
      "text/plain": [
       "z1    1147.864221\n",
       "z2     679.501320\n",
       "z3     192.011090\n",
       "dtype: float64"
      ]
     },
     "execution_count": 20,
     "metadata": {},
     "output_type": "execute_result"
    }
   ],
   "source": [
    "df.var()"
   ]
  },
  {
   "cell_type": "code",
   "execution_count": 21,
   "metadata": {},
   "outputs": [
    {
     "name": "stderr",
     "output_type": "stream",
     "text": [
      "/opt/anaconda3/envs/smm750/lib/python3.7/site-packages/ipykernel_launcher.py:1: FutureWarning: Dropping of nuisance columns in DataFrame reductions (with 'numeric_only=None') is deprecated; in a future version this will raise TypeError.  Select only valid columns before calling the reduction.\n",
      "  \"\"\"Entry point for launching an IPython kernel.\n"
     ]
    },
    {
     "data": {
      "text/plain": [
       "2019.3766304577252"
      ]
     },
     "execution_count": 21,
     "metadata": {},
     "output_type": "execute_result"
    }
   ],
   "source": [
    "df.var().sum()"
   ]
  },
  {
   "cell_type": "markdown",
   "metadata": {},
   "source": [
    "5. What is the variance of `z3` relative to the total variance? Would you feel comfortable dropping `z3`?"
   ]
  },
  {
   "cell_type": "code",
   "execution_count": 23,
   "metadata": {},
   "outputs": [
    {
     "name": "stderr",
     "output_type": "stream",
     "text": [
      "/opt/anaconda3/envs/smm750/lib/python3.7/site-packages/ipykernel_launcher.py:1: FutureWarning: Dropping of nuisance columns in DataFrame reductions (with 'numeric_only=None') is deprecated; in a future version this will raise TypeError.  Select only valid columns before calling the reduction.\n",
      "  \"\"\"Entry point for launching an IPython kernel.\n"
     ]
    },
    {
     "data": {
      "text/plain": [
       "z1    0.568425\n",
       "z2    0.336491\n",
       "z3    0.095084\n",
       "dtype: float64"
      ]
     },
     "execution_count": 23,
     "metadata": {},
     "output_type": "execute_result"
    }
   ],
   "source": [
    "df.var()/df.var().sum()"
   ]
  },
  {
   "cell_type": "markdown",
   "metadata": {},
   "source": [
    "# Part 2: Understanding what Python outputs when using PCA\n",
    "\n",
    "We are going to see what commands lead to what output in Python. We use the scikit-learn decomposition library for PCA."
   ]
  },
  {
   "cell_type": "code",
   "execution_count": 24,
   "metadata": {},
   "outputs": [],
   "source": [
    "from sklearn import decomposition as dcp"
   ]
  },
  {
   "cell_type": "markdown",
   "metadata": {},
   "source": [
    "We then also have to drop the Item column of menu as PCA only works on numerical data."
   ]
  },
  {
   "cell_type": "code",
   "execution_count": 25,
   "metadata": {},
   "outputs": [],
   "source": [
    "menu=pd.read_csv(\"McDonaldsMenu.csv\")\n",
    "menu_num=menu.drop(columns=[\"Item\", \"Category\"])"
   ]
  },
  {
   "cell_type": "markdown",
   "metadata": {},
   "source": [
    "We now fit the PCA transform to the data. Note that we have 3 \"old\" variables. Here, we are specifying that we want 3 new variables from the three old ones."
   ]
  },
  {
   "cell_type": "code",
   "execution_count": 26,
   "metadata": {},
   "outputs": [
    {
     "data": {
      "text/plain": [
       "PCA(n_components=3)"
      ]
     },
     "execution_count": 26,
     "metadata": {},
     "output_type": "execute_result"
    }
   ],
   "source": [
    "pca=dcp.PCA(n_components=3)\n",
    "pca.fit(menu_num)"
   ]
  },
  {
   "cell_type": "markdown",
   "metadata": {},
   "source": [
    "1. Run the code below. Do you recognize its output? Where have you seen these numbers before during this class?"
   ]
  },
  {
   "cell_type": "code",
   "execution_count": 27,
   "metadata": {},
   "outputs": [
    {
     "data": {
      "text/plain": [
       "array([[-0.17718634,  0.54454878,  0.81979975],\n",
       "       [ 0.98405437,  0.08485918,  0.15631992],\n",
       "       [ 0.01555629,  0.83442528, -0.55090149]])"
      ]
     },
     "execution_count": 27,
     "metadata": {},
     "output_type": "execute_result"
    }
   ],
   "source": [
    "pca.components_"
   ]
  },
  {
   "cell_type": "markdown",
   "metadata": {},
   "source": [
    "2. Run the code below. Again, do you recognize its output?"
   ]
  },
  {
   "cell_type": "code",
   "execution_count": 28,
   "metadata": {},
   "outputs": [
    {
     "data": {
      "text/plain": [
       "array([1147.86421744,  679.5013194 ,  192.00825288])"
      ]
     },
     "execution_count": 28,
     "metadata": {},
     "output_type": "execute_result"
    }
   ],
   "source": [
    "pca.explained_variance_"
   ]
  },
  {
   "cell_type": "markdown",
   "metadata": {},
   "source": [
    "3. Run the code below. Again, do you recognize its output? What does it correspond to?"
   ]
  },
  {
   "cell_type": "code",
   "execution_count": 29,
   "metadata": {},
   "outputs": [
    {
     "data": {
      "text/plain": [
       "array([0.56842583, 0.33649111, 0.09508307])"
      ]
     },
     "execution_count": 29,
     "metadata": {},
     "output_type": "execute_result"
    }
   ],
   "source": [
    "pca.explained_variance_ratio_"
   ]
  },
  {
   "cell_type": "code",
   "execution_count": 30,
   "metadata": {},
   "outputs": [
    {
     "data": {
      "text/plain": [
       "1.0"
      ]
     },
     "execution_count": 30,
     "metadata": {},
     "output_type": "execute_result"
    }
   ],
   "source": [
    "pca.explained_variance_ratio_.sum()"
   ]
  },
  {
   "cell_type": "markdown",
   "metadata": {},
   "source": [
    "4. Run the code below. What do you obtain here?"
   ]
  },
  {
   "cell_type": "code",
   "execution_count": 31,
   "metadata": {},
   "outputs": [
    {
     "data": {
      "text/plain": [
       "array([[ 5.67682206e+01,  2.17217159e+00, -3.94436500e+01],\n",
       "       [-1.23523497e+01, -1.08559758e+01, -2.59783416e+00],\n",
       "       [ 5.91087054e+00, -7.80997522e+00,  1.27376368e+01],\n",
       "       [ 7.58512405e+01,  5.37449206e+00, -2.46590806e+01],\n",
       "       [ 6.73067029e+00, -7.65365530e+00,  1.21867353e+01],\n",
       "       [ 7.57840251e+01,  7.53018617e+00, -3.32234524e+01],\n",
       "       [ 6.29625065e+01,  1.11165104e+01, -2.04270881e+01],\n",
       "       [ 6.67743479e+01,  1.17105246e+01, -1.45861112e+01],\n",
       "       [-4.19465537e-01, -8.17397491e-01,  1.25624173e+01],\n",
       "       [ 2.84782715e+00, -3.08242426e-01,  1.75689689e+01],\n",
       "       [ 5.62371327e+00, -7.99756059e+00,  2.13331212e+01],\n",
       "       [ 8.89100596e+00, -7.48840553e+00,  2.63396729e+01],\n",
       "       [ 6.98254850e+01,  4.09266722e+00, -1.22072857e+01],\n",
       "       [ 7.36373265e+01,  4.68668147e+00, -6.36630873e+00],\n",
       "       [ 6.44351302e+00, -7.84124067e+00,  2.07822197e+01],\n",
       "       [ 1.02553545e+01, -7.24722643e+00,  2.66231967e+01],\n",
       "       [-7.20696005e-01, -6.96290281e+00,  1.21855557e+01],\n",
       "       [ 2.54659668e+00, -6.45374774e+00,  1.71921074e+01],\n",
       "       [ 7.71245610e+01,  7.53911602e+00, -1.85196133e+01],\n",
       "       [ 5.90715433e+01,  1.25620656e+01, -2.76222793e+01],\n",
       "       [-5.13022847e+00,  4.71837827e-01,  5.91812761e+00],\n",
       "       [ 2.08712277e+00, -8.52011409e+00,  1.41068175e+01],\n",
       "       [ 7.36551860e+01,  4.86086841e+00, -1.71815452e+01],\n",
       "       [ 1.02732139e+01, -7.07303949e+00,  1.58079602e+01],\n",
       "       [ 7.34567900e+01,  2.00906437e+01, -1.86009053e+01],\n",
       "       [ 9.53026925e+00,  8.07187665e+00,  1.35541748e+01],\n",
       "       [ 8.38671820e+01,  1.07845810e+01, -1.84562086e+01],\n",
       "       [ 1.65615308e+02,  2.39571692e+01, -4.91763441e+01],\n",
       "       [ 1.69427150e+02,  2.45511835e+01, -4.33353672e+01],\n",
       "       [ 1.50771718e+01, -4.44392434e+00,  3.27788100e+01],\n",
       "       [ 1.83444645e+01, -3.93476928e+00,  3.77853616e+01],\n",
       "       [ 1.78977590e+02,  2.62394372e+01, -4.13507007e+01],\n",
       "       [ 1.82244882e+02,  2.67485922e+01, -3.63441490e+01],\n",
       "       [ 2.78949042e+01, -2.24651557e+00,  3.97700281e+01],\n",
       "       [ 3.17067456e+01, -1.65250133e+00,  4.56110051e+01],\n",
       "       [-1.26276006e+01, -1.09274365e+01, -1.21250739e+00],\n",
       "       [ 8.63956759e+00, -7.32761702e+00,  1.33046843e+01],\n",
       "       [ 1.89664042e+01, -3.09510002e+00, -8.24623780e+00],\n",
       "       [-1.81760228e+01, -9.96870806e+00,  3.50934093e+00],\n",
       "       [-5.00987083e+00, -9.79747034e+00,  1.40745253e+01],\n",
       "       [-4.35726654e+01,  1.15624018e+02, -2.27665899e+00],\n",
       "       [-4.35726654e+01,  1.15624018e+02, -2.27665899e+00],\n",
       "       [ 2.00257360e+01, -3.21569324e+00,  1.14480069e+01],\n",
       "       [ 2.19405865e+01, -2.83159264e+00,  8.96087712e+00],\n",
       "       [ 2.42747584e+01,  1.07695106e+01,  1.08481055e+01],\n",
       "       [ 2.58422728e+01,  1.61006799e+01,  1.28782613e+01],\n",
       "       [ 1.89626180e+01,  2.68863298e+00,  1.15413446e+01],\n",
       "       [ 5.35899004e+01,  2.72892511e+00,  1.77016762e+01],\n",
       "       [-1.10671228e+01, -8.57522718e+00, -3.66852457e+00],\n",
       "       [-3.70083142e+00, -7.28447250e+00, -1.41648037e+00],\n",
       "       [ 1.62198477e+01, -3.75164516e+00,  2.00195110e+00],\n",
       "       [ 3.50394232e+01,  2.26779400e+01,  2.29852922e+01],\n",
       "       [ 8.85355629e+00, -5.04239985e+00, -2.50093092e-01],\n",
       "       [ 1.58914545e+01,  4.29050814e+00,  3.79525199e+00],\n",
       "       [ 1.43309768e+01,  1.93829881e+00,  6.25126917e+00],\n",
       "       [ 1.48755255e+01,  2.02315799e+00,  7.08569445e+00],\n",
       "       [ 1.48376397e+01, -4.16701121e+00,  1.25336638e+01],\n",
       "       [ 4.57845466e+00, -1.91904744e+00,  1.06112225e+01],\n",
       "       [-1.74809516e+00, -7.10202709e-01, -9.35157948e+00],\n",
       "       [ 2.25571206e+01,  1.54173379e+01,  1.86869461e+01],\n",
       "       [ 1.65849435e+01,  1.46580739e+01, -1.30696840e+00],\n",
       "       [ 1.41017316e+01,  1.39568649e+01,  1.47660514e+01],\n",
       "       [ 8.12955451e+00,  1.31976009e+01, -5.22786315e+00],\n",
       "       [ 2.76671787e+01,  2.13291230e+01,  2.43383268e+01],\n",
       "       [ 2.08090698e+01,  2.54901309e+01,  4.42219375e+00],\n",
       "       [ 1.46940542e+00, -6.50734147e+00,  8.31309918e+00],\n",
       "       [-3.16818894e+00, -7.31573795e+00,  6.62810255e+00],\n",
       "       [ 1.06914519e+01,  3.22306555e+00,  1.20910666e+01],\n",
       "       [ 4.14496026e+00,  2.08863079e+00,  9.28812087e+00],\n",
       "       [-3.16818894e+00, -7.31573795e+00,  6.62810255e+00],\n",
       "       [ 1.90086238e+01,  1.47786598e+01,  1.86708001e+01],\n",
       "       [ 1.16059662e+01,  1.88548085e+01, -2.07975830e+00],\n",
       "       [ 1.47064592e+01,  8.90706999e+00,  1.96786755e+01],\n",
       "       [ 8.73428210e+00,  8.14780598e+00, -3.15239015e-01],\n",
       "       [ 1.68846544e+01,  9.24650670e+00,  2.30163766e+01],\n",
       "       [ 1.09124772e+01,  8.48724269e+00,  3.02246210e+00],\n",
       "       [ 4.07287514e+00,  7.10716024e+00,  1.24200797e+01],\n",
       "       [-1.89930200e+00,  6.34789623e+00, -7.57383488e+00],\n",
       "       [-8.61962991e+00, -8.22239204e+00,  1.88892859e+00],\n",
       "       [-4.39491889e-01, -6.83337975e+00,  7.19515012e+00],\n",
       "       [ 1.63862112e+01, -1.93092650e+00,  1.72878043e+01],\n",
       "       [ 5.87623042e+01,  9.34785145e+00,  4.36137593e+01],\n",
       "       [ 1.43966927e+02,  3.09928137e+01,  9.48647865e+01],\n",
       "       [ 1.82377811e+00, -8.47545021e+00,  8.28198660e+00],\n",
       "       [-1.73926890e+01,  1.87371161e+01, -3.51647219e+00],\n",
       "       [ 6.95051237e+00,  1.78722250e+01,  7.05048155e+00],\n",
       "       [ 9.24035165e-02,  2.20332329e+01, -1.28656515e+01],\n",
       "       [-2.36037509e+01,  1.25394880e+01, -3.62654580e+00],\n",
       "       [ 1.14578218e+00,  2.18545773e+01,  1.04336720e+01],\n",
       "       [-4.82639496e+00,  2.10953133e+01, -9.56024256e+00],\n",
       "       [-3.90291382e+00, -9.45356504e+00,  4.92813941e+00],\n",
       "       [-7.24337508e+00, -7.86508831e+00, -5.03770527e+00],\n",
       "       [-3.90291382e+00, -9.45356504e+00,  4.92813941e+00],\n",
       "       [-7.24337508e+00, -7.86508831e+00, -5.03770527e+00],\n",
       "       [ 1.54852714e+00, -8.54691095e+00,  9.66731337e+00],\n",
       "       [-1.79193412e+00, -6.95843422e+00, -2.98531311e-01],\n",
       "       [-2.15035940e+01,  1.78393918e+01,  6.44819293e+00],\n",
       "       [-2.03495477e+01,  3.31942216e+01,  1.25225142e+01],\n",
       "       [-1.77000721e+01,  5.88987501e+01,  2.37589501e+01],\n",
       "       [-2.37467379e+01,  2.31484368e+00, -1.29497895e+00],\n",
       "       [-2.98749916e+01,  1.14765139e+01, -7.81481826e+00],\n",
       "       [-5.37951479e+01,  1.44323854e+02, -5.71471892e+00],\n",
       "       [-2.48298823e+01,  2.20318764e+00, -6.56890833e+00],\n",
       "       [-1.95285647e+01,  1.30888383e+01,  8.03926203e+00],\n",
       "       [-1.64513484e+01, -1.16375754e+01,  1.56673309e-01],\n",
       "       [-1.80849947e+01, -1.18921529e+01, -2.34660253e+00],\n",
       "       [-2.27166359e+01, -1.26424871e+01, -7.63667798e+00],\n",
       "       [-1.12632521e+01, -1.06862574e+01, -9.28983607e-01],\n",
       "       [-1.07127502e+01, -1.05433359e+01, -3.69963715e+00],\n",
       "       [-1.41501926e+01, -7.08947664e+00, -4.20445955e+00],\n",
       "       [-2.54453330e+01, -1.31248453e+01, -8.20372555e+00],\n",
       "       [-2.54453330e+01, -1.31248453e+01, -8.20372555e+00],\n",
       "       [-2.54453330e+01, -1.31248453e+01, -8.20372555e+00],\n",
       "       [-2.54453330e+01, -1.31248453e+01, -8.20372555e+00],\n",
       "       [-2.54453330e+01, -1.31248453e+01, -8.20372555e+00],\n",
       "       [-2.54453330e+01, -1.31248453e+01, -8.20372555e+00],\n",
       "       [-2.54453330e+01, -1.31248453e+01, -8.20372555e+00],\n",
       "       [-2.54453330e+01, -1.31248453e+01, -8.20372555e+00],\n",
       "       [-2.54453330e+01, -1.31248453e+01, -8.20372555e+00],\n",
       "       [-2.54453330e+01, -1.31248453e+01, -8.20372555e+00],\n",
       "       [-2.54453330e+01, -1.31248453e+01, -8.20372555e+00],\n",
       "       [-2.54453330e+01, -1.31248453e+01, -8.20372555e+00],\n",
       "       [-2.54453330e+01, -1.31248453e+01, -8.20372555e+00],\n",
       "       [-2.54453330e+01, -1.31248453e+01, -8.20372555e+00],\n",
       "       [-2.54453330e+01, -1.31248453e+01, -8.20372555e+00],\n",
       "       [-2.54453330e+01, -1.31248453e+01, -8.20372555e+00],\n",
       "       [-2.54453330e+01, -1.31248453e+01, -8.20372555e+00],\n",
       "       [-2.54453330e+01, -1.31248453e+01, -8.20372555e+00],\n",
       "       [-2.54453330e+01, -1.31248453e+01, -8.20372555e+00],\n",
       "       [-2.54453330e+01, -1.31248453e+01, -8.20372555e+00],\n",
       "       [-2.15164840e+01, -8.38023132e+00, -6.45650375e+00],\n",
       "       [-2.38057335e+01, -1.28122054e+01, -9.30552854e+00],\n",
       "       [-4.31639673e+01,  8.52805916e+01, -6.64809641e+00],\n",
       "       [-4.84795576e+01,  1.14802223e+02, -6.18140767e+00],\n",
       "       [-5.37951479e+01,  1.44323854e+02, -5.71471892e+00],\n",
       "       [-6.79700554e+01,  2.23048203e+02, -4.47021561e+00],\n",
       "       [-2.54453330e+01, -1.31248453e+01, -8.20372555e+00],\n",
       "       [-2.54453330e+01, -1.31248453e+01, -8.20372555e+00],\n",
       "       [-2.54453330e+01, -1.31248453e+01, -8.20372555e+00],\n",
       "       [-2.54453330e+01, -1.31248453e+01, -8.20372555e+00],\n",
       "       [-2.54453330e+01, -1.31248453e+01, -8.20372555e+00],\n",
       "       [-2.54453330e+01, -1.31248453e+01, -8.20372555e+00],\n",
       "       [-2.54453330e+01, -1.31248453e+01, -8.20372555e+00],\n",
       "       [-2.54453330e+01, -1.31248453e+01, -8.20372555e+00],\n",
       "       [-2.54453330e+01, -1.31248453e+01, -8.20372555e+00],\n",
       "       [-2.54453330e+01, -1.31248453e+01, -8.20372555e+00],\n",
       "       [-2.54453330e+01, -1.31248453e+01, -8.20372555e+00],\n",
       "       [-2.54453330e+01, -1.31248453e+01, -8.20372555e+00],\n",
       "       [-1.09880011e+01, -1.06147967e+01, -2.31431038e+00],\n",
       "       [-7.71475529e+00, -1.00475793e+01, -9.12837534e-01],\n",
       "       [-2.53261214e+00, -9.15432363e+00,  1.60658437e+00],\n",
       "       [-1.09880011e+01, -1.06147967e+01, -2.31431038e+00],\n",
       "       [-7.71475529e+00, -1.00475793e+01, -9.12837534e-01],\n",
       "       [-2.53261214e+00, -9.15432363e+00,  1.60658437e+00],\n",
       "       [-1.09880011e+01, -1.06147967e+01, -2.31431038e+00],\n",
       "       [-7.71475529e+00, -1.00475793e+01, -9.12837534e-01],\n",
       "       [-2.53261214e+00, -9.15432363e+00,  1.60658437e+00],\n",
       "       [-1.09880011e+01, -1.06147967e+01, -2.31431038e+00],\n",
       "       [-7.71475529e+00, -1.00475793e+01, -9.12837534e-01],\n",
       "       [-2.53261214e+00, -9.15432363e+00,  1.60658437e+00],\n",
       "       [-1.09880011e+01, -1.06147967e+01, -2.31431038e+00],\n",
       "       [-7.71475529e+00, -1.00475793e+01, -9.12837534e-01],\n",
       "       [-2.53261214e+00, -9.15432363e+00,  1.60658437e+00],\n",
       "       [-2.38057335e+01, -1.28122054e+01, -9.30552854e+00],\n",
       "       [-2.38057335e+01, -1.28122054e+01, -9.30552854e+00],\n",
       "       [-2.24413850e+01, -1.25710263e+01, -9.02200475e+00],\n",
       "       [-2.38057335e+01, -1.28122054e+01, -9.30552854e+00],\n",
       "       [-2.38057335e+01, -1.28122054e+01, -9.30552854e+00],\n",
       "       [-2.24413850e+01, -1.25710263e+01, -9.02200475e+00],\n",
       "       [-2.38057335e+01, -1.28122054e+01, -9.30552854e+00],\n",
       "       [-2.38057335e+01, -1.28122054e+01, -9.30552854e+00],\n",
       "       [-2.24413850e+01, -1.25710263e+01, -9.02200475e+00],\n",
       "       [-2.38057335e+01, -1.28122054e+01, -9.30552854e+00],\n",
       "       [-2.38057335e+01, -1.28122054e+01, -9.30552854e+00],\n",
       "       [-2.24413850e+01, -1.25710263e+01, -9.02200475e+00],\n",
       "       [-2.38057335e+01, -1.28122054e+01, -9.30552854e+00],\n",
       "       [-2.38057335e+01, -1.28122054e+01, -9.30552854e+00],\n",
       "       [-2.24413850e+01, -1.25710263e+01, -9.02200475e+00],\n",
       "       [-5.80585798e+00, -9.72154101e+00,  2.05111528e-01],\n",
       "       [-2.53261214e+00, -9.15432363e+00,  1.60658437e+00],\n",
       "       [ 2.64953100e+00, -8.26106797e+00,  4.12600628e+00],\n",
       "       [-1.86235904e+01, -1.19189498e+01, -6.78610663e+00],\n",
       "       [-1.80790416e+01, -1.18340906e+01, -5.95168135e+00],\n",
       "       [-1.72592418e+01, -1.16777707e+01, -6.50258284e+00],\n",
       "       [-6.35040676e+00, -9.80640018e+00, -6.29313750e-01],\n",
       "       [-2.53261214e+00, -9.15432363e+00,  1.60658437e+00],\n",
       "       [ 2.64953100e+00, -8.26106797e+00,  4.12600628e+00],\n",
       "       [-1.86235904e+01, -1.19189498e+01, -6.78610663e+00],\n",
       "       [-1.86235904e+01, -1.19189498e+01, -6.78610663e+00],\n",
       "       [-1.72592418e+01, -1.16777707e+01, -6.50258284e+00],\n",
       "       [-2.53261214e+00, -9.15432363e+00,  1.60658437e+00],\n",
       "       [ 1.28518248e+00, -8.50224707e+00,  3.84248250e+00],\n",
       "       [ 7.83167415e+00, -7.36781231e+00,  6.64542819e+00],\n",
       "       [-1.86235904e+01, -1.19189498e+01, -6.78610663e+00],\n",
       "       [-1.78037906e+01, -1.17626299e+01, -7.33700812e+00],\n",
       "       [-1.64394421e+01, -1.15214508e+01, -7.05348434e+00],\n",
       "       [-1.67146931e+01, -1.15929115e+01, -5.66815757e+00],\n",
       "       [-1.20770987e+01, -1.07845150e+01, -3.98316094e+00],\n",
       "       [-7.98405310e+00, -1.00609777e+01, -3.13258959e+00],\n",
       "       [-1.67146931e+01, -1.15929115e+01, -5.66815757e+00],\n",
       "       [-1.20770987e+01, -1.07845150e+01, -3.98316094e+00],\n",
       "       [-7.98405310e+00, -1.00609777e+01, -3.13258959e+00],\n",
       "       [-1.67146931e+01, -1.15929115e+01, -5.66815757e+00],\n",
       "       [-1.20770987e+01, -1.07845150e+01, -3.98316094e+00],\n",
       "       [-7.98405310e+00, -1.00609777e+01, -3.13258959e+00],\n",
       "       [-1.67146931e+01, -1.15929115e+01, -5.66815757e+00],\n",
       "       [-1.20770987e+01, -1.07845150e+01, -3.98316094e+00],\n",
       "       [-7.98405310e+00, -1.00609777e+01, -3.13258959e+00],\n",
       "       [-1.67146931e+01, -1.15929115e+01, -5.66815757e+00],\n",
       "       [-1.20770987e+01, -1.07845150e+01, -3.98316094e+00],\n",
       "       [-7.98405310e+00, -1.00609777e+01, -3.13258959e+00],\n",
       "       [-6.35040676e+00, -9.80640018e+00, -6.29313750e-01],\n",
       "       [-4.44150945e+00, -9.48036191e+00,  4.88635312e-01],\n",
       "       [ 2.10498222e+00, -8.34592715e+00,  3.29158100e+00],\n",
       "       [-1.53503445e+01, -1.13517324e+01, -5.38463378e+00],\n",
       "       [-1.53503445e+01, -1.13517324e+01, -5.38463378e+00],\n",
       "       [-1.39859960e+01, -1.11105533e+01, -5.10111000e+00],\n",
       "       [-6.35040676e+00, -9.80640018e+00, -6.29313750e-01],\n",
       "       [-4.44150945e+00, -9.48036191e+00,  4.88635312e-01],\n",
       "       [ 2.10498222e+00, -8.34592715e+00,  3.29158100e+00],\n",
       "       [-1.53503445e+01, -1.13517324e+01, -5.38463378e+00],\n",
       "       [-1.53503445e+01, -1.13517324e+01, -5.38463378e+00],\n",
       "       [-1.45305448e+01, -1.11954125e+01, -5.93553528e+00],\n",
       "       [ 7.01782755e+00, -7.46606992e+00,  3.59125086e+00],\n",
       "       [ 1.35643192e+01, -6.33163516e+00,  6.39419655e+00],\n",
       "       [ 2.14751594e+01, -4.95602131e+00,  9.48066603e+00],\n",
       "       [ 8.38217608e+00, -7.22489082e+00,  3.87477464e+00],\n",
       "       [ 1.57484675e+01, -5.93413614e+00,  6.12681884e+00],\n",
       "       [ 2.36593077e+01, -4.55852228e+00,  9.21328832e+00],\n",
       "       [ 1.16494688e+01, -6.71573576e+00,  8.88132631e+00],\n",
       "       [ 1.81959604e+01, -5.58130100e+00,  1.16842720e+01],\n",
       "       [ 2.69266004e+01, -4.04936722e+00,  1.42198400e+01],\n",
       "       [-2.44353572e+01, -1.09155574e+01, -7.88908918e+00],\n",
       "       [-2.47897298e+01, -8.94744870e+00, -7.85797660e+00],\n",
       "       [-2.34253813e+01, -8.70626960e+00, -7.57445281e+00],\n",
       "       [-2.93965748e+01,  1.66379649e+01, -7.45351302e+00],\n",
       "       [-3.02825065e+01,  2.15582367e+01, -7.37573156e+00],\n",
       "       [-3.06900214e+01,  3.16399595e+01, -6.93664487e+00],\n",
       "       [-2.76247113e+01,  6.79742120e+00, -7.60907593e+00],\n",
       "       [-2.85106431e+01,  1.17176930e+01, -7.53129448e+00],\n",
       "       [-2.80322262e+01,  1.68791440e+01, -7.16998924e+00],\n",
       "       [ 4.01983268e+00, -7.96182656e+00,  8.04451241e-01],\n",
       "       [ 1.00217756e+01, -6.91225098e+00,  2.77297165e+00],\n",
       "       [ 1.73880670e+01, -5.62149629e+00,  5.02501585e+00],\n",
       "       [ 5.38418121e+00, -7.72064746e+00,  1.08797503e+00],\n",
       "       [ 1.13861241e+01, -6.67107187e+00,  3.05649544e+00],\n",
       "       [ 1.87524155e+01, -5.38031719e+00,  5.30853964e+00],\n",
       "       [ 4.56438146e+00, -7.87696738e+00,  1.63887652e+00],\n",
       "       [ 1.05663244e+01, -6.82739180e+00,  3.60739693e+00],\n",
       "       [ 1.79326158e+01, -5.53663712e+00,  5.85944113e+00],\n",
       "       [ 1.00217756e+01, -6.91225098e+00,  2.77297165e+00],\n",
       "       [ 1.73880670e+01, -5.62149629e+00,  5.02501585e+00],\n",
       "       [ 7.55047003e+00, -7.49733537e+00,  1.16358338e+01],\n",
       "       [ 2.22770997e+01, -4.97388832e+00,  1.97450010e+01],\n",
       "       [-3.35836504e+00, -9.36870587e+00,  5.76256469e+00],\n",
       "       [ 1.90131763e-01, -8.73002774e+00,  5.77871077e+00],\n",
       "       [ 9.19006953e+00, -7.18469553e+00,  1.05340308e+01],\n",
       "       [-8.80980600e+00, -1.02753600e+01,  1.02339073e+00],\n",
       "       [ 1.81781010e+01, -5.75548794e+00,  2.24995085e+01],\n",
       "       [-3.63361601e+00, -9.44016661e+00,  7.14789147e+00]])"
      ]
     },
     "execution_count": 31,
     "metadata": {},
     "output_type": "execute_result"
    }
   ],
   "source": [
    "data_pca = pca.fit_transform(menu_num)\n",
    "data_pca"
   ]
  },
  {
   "cell_type": "code",
   "execution_count": 34,
   "metadata": {},
   "outputs": [
    {
     "data": {
      "text/plain": [
       "260"
      ]
     },
     "execution_count": 34,
     "metadata": {},
     "output_type": "execute_result"
    }
   ],
   "source": [
    "len(data_pca)"
   ]
  },
  {
   "cell_type": "markdown",
   "metadata": {},
   "source": [
    "# Part 3: Considering a much larger dataset with more features\n",
    "\n",
    "This dataset is the dataset from above with additional features added: all of these correspond to quantity of an element present in the item as a percentage of the daily intake."
   ]
  },
  {
   "cell_type": "code",
   "execution_count": 35,
   "metadata": {},
   "outputs": [
    {
     "data": {
      "text/html": [
       "<div>\n",
       "<style scoped>\n",
       "    .dataframe tbody tr th:only-of-type {\n",
       "        vertical-align: middle;\n",
       "    }\n",
       "\n",
       "    .dataframe tbody tr th {\n",
       "        vertical-align: top;\n",
       "    }\n",
       "\n",
       "    .dataframe thead th {\n",
       "        text-align: right;\n",
       "    }\n",
       "</style>\n",
       "<table border=\"1\" class=\"dataframe\">\n",
       "  <thead>\n",
       "    <tr style=\"text-align: right;\">\n",
       "      <th></th>\n",
       "      <th>Category</th>\n",
       "      <th>Item</th>\n",
       "      <th>Total Fat</th>\n",
       "      <th>Saturated Fat</th>\n",
       "      <th>Cholesterol</th>\n",
       "      <th>Sodium</th>\n",
       "      <th>Carbohydrates</th>\n",
       "      <th>Dietary Fiber</th>\n",
       "      <th>Vitamin A</th>\n",
       "      <th>Calcium</th>\n",
       "      <th>Iron</th>\n",
       "      <th>Vitamin C</th>\n",
       "    </tr>\n",
       "  </thead>\n",
       "  <tbody>\n",
       "    <tr>\n",
       "      <th>0</th>\n",
       "      <td>Breakfast</td>\n",
       "      <td>Egg McMuffin</td>\n",
       "      <td>20</td>\n",
       "      <td>25</td>\n",
       "      <td>87</td>\n",
       "      <td>31</td>\n",
       "      <td>10</td>\n",
       "      <td>17</td>\n",
       "      <td>10</td>\n",
       "      <td>25</td>\n",
       "      <td>15</td>\n",
       "      <td>0</td>\n",
       "    </tr>\n",
       "    <tr>\n",
       "      <th>1</th>\n",
       "      <td>Breakfast</td>\n",
       "      <td>Egg White Delight</td>\n",
       "      <td>12</td>\n",
       "      <td>15</td>\n",
       "      <td>8</td>\n",
       "      <td>32</td>\n",
       "      <td>10</td>\n",
       "      <td>17</td>\n",
       "      <td>6</td>\n",
       "      <td>25</td>\n",
       "      <td>8</td>\n",
       "      <td>0</td>\n",
       "    </tr>\n",
       "    <tr>\n",
       "      <th>2</th>\n",
       "      <td>Breakfast</td>\n",
       "      <td>Sausage McMuffin</td>\n",
       "      <td>35</td>\n",
       "      <td>42</td>\n",
       "      <td>15</td>\n",
       "      <td>33</td>\n",
       "      <td>10</td>\n",
       "      <td>17</td>\n",
       "      <td>8</td>\n",
       "      <td>25</td>\n",
       "      <td>10</td>\n",
       "      <td>0</td>\n",
       "    </tr>\n",
       "    <tr>\n",
       "      <th>3</th>\n",
       "      <td>Breakfast</td>\n",
       "      <td>Sausage McMuffin with Egg</td>\n",
       "      <td>43</td>\n",
       "      <td>52</td>\n",
       "      <td>95</td>\n",
       "      <td>36</td>\n",
       "      <td>10</td>\n",
       "      <td>17</td>\n",
       "      <td>15</td>\n",
       "      <td>30</td>\n",
       "      <td>15</td>\n",
       "      <td>0</td>\n",
       "    </tr>\n",
       "    <tr>\n",
       "      <th>4</th>\n",
       "      <td>Breakfast</td>\n",
       "      <td>Sausage McMuffin with Egg Whites</td>\n",
       "      <td>35</td>\n",
       "      <td>42</td>\n",
       "      <td>16</td>\n",
       "      <td>37</td>\n",
       "      <td>10</td>\n",
       "      <td>17</td>\n",
       "      <td>6</td>\n",
       "      <td>25</td>\n",
       "      <td>10</td>\n",
       "      <td>0</td>\n",
       "    </tr>\n",
       "  </tbody>\n",
       "</table>\n",
       "</div>"
      ],
      "text/plain": [
       "    Category                              Item  Total Fat  Saturated Fat  \\\n",
       "0  Breakfast                      Egg McMuffin         20             25   \n",
       "1  Breakfast                 Egg White Delight         12             15   \n",
       "2  Breakfast                  Sausage McMuffin         35             42   \n",
       "3  Breakfast         Sausage McMuffin with Egg         43             52   \n",
       "4  Breakfast  Sausage McMuffin with Egg Whites         35             42   \n",
       "\n",
       "   Cholesterol  Sodium  Carbohydrates  Dietary Fiber  Vitamin A  Calcium  \\\n",
       "0           87      31             10             17         10       25   \n",
       "1            8      32             10             17          6       25   \n",
       "2           15      33             10             17          8       25   \n",
       "3           95      36             10             17         15       30   \n",
       "4           16      37             10             17          6       25   \n",
       "\n",
       "   Iron  Vitamin C  \n",
       "0    15          0  \n",
       "1     8          0  \n",
       "2    10          0  \n",
       "3    15          0  \n",
       "4    10          0  "
      ]
     },
     "execution_count": 35,
     "metadata": {},
     "output_type": "execute_result"
    }
   ],
   "source": [
    "menu=pd.read_csv(\"McDonaldsMenu_morefeatures.csv\")\n",
    "menu.head()"
   ]
  },
  {
   "cell_type": "markdown",
   "metadata": {},
   "source": [
    "1. Drop the columns \"Item\" and \"Category\" using `.drop(columns=[\"Item\",\"Category\"]` to obtain a purely numerical dataset."
   ]
  },
  {
   "cell_type": "code",
   "execution_count": 38,
   "metadata": {},
   "outputs": [],
   "source": [
    "menu_num = menu.drop(columns=[\"Item\", \"Category\"])"
   ]
  },
  {
   "cell_type": "code",
   "execution_count": null,
   "metadata": {},
   "outputs": [],
   "source": []
  },
  {
   "cell_type": "markdown",
   "metadata": {},
   "source": [
    "2. Similarly to above, run pca on the dataset obtained with `n_components=10`"
   ]
  },
  {
   "cell_type": "code",
   "execution_count": 39,
   "metadata": {},
   "outputs": [
    {
     "data": {
      "text/plain": [
       "PCA(n_components=10)"
      ]
     },
     "execution_count": 39,
     "metadata": {},
     "output_type": "execute_result"
    }
   ],
   "source": [
    "from sklearn import decomposition as dcp\n",
    "pca=dcp.PCA(n_components=10) #number of components we keep: here we have three features and we are asking for three new variables out of the old variables\n",
    "pca.fit(menu_num)"
   ]
  },
  {
   "cell_type": "markdown",
   "metadata": {},
   "source": [
    "3. What are the explained variance ratios?"
   ]
  },
  {
   "cell_type": "code",
   "execution_count": 40,
   "metadata": {},
   "outputs": [
    {
     "data": {
      "text/plain": [
       "array([0.46846089, 0.17496823, 0.14112873, 0.09299599, 0.06924932,\n",
       "       0.03351428, 0.00917541, 0.00442827, 0.00427006, 0.00180882])"
      ]
     },
     "execution_count": 40,
     "metadata": {},
     "output_type": "execute_result"
    }
   ],
   "source": [
    "pca.explained_variance_ratio_"
   ]
  },
  {
   "cell_type": "markdown",
   "metadata": {},
   "source": [
    "4. Using the code below, plot the **cumulative** explained variance ratio. One rule of thumb is to take enough components such that 50% of the variance is explained:"
   ]
  },
  {
   "cell_type": "code",
   "execution_count": 41,
   "metadata": {},
   "outputs": [
    {
     "data": {
      "text/plain": [
       "array([0.46846089, 0.64342912, 0.78455785, 0.87755384, 0.94680317,\n",
       "       0.98031744, 0.98949285, 0.99392112, 0.99819118, 1.        ])"
      ]
     },
     "execution_count": 41,
     "metadata": {},
     "output_type": "execute_result"
    }
   ],
   "source": [
    "explained_variance_ratio_cumul_sum=np.cumsum(pca.explained_variance_ratio_) #compute the cumulative sum\n",
    "explained_variance_ratio_cumul_sum"
   ]
  },
  {
   "cell_type": "code",
   "execution_count": 42,
   "metadata": {},
   "outputs": [
    {
     "data": {
      "image/png": "[encoded data removed]",
      "text/plain": [
       "<Figure size 432x288 with 1 Axes>"
      ]
     },
     "metadata": {
      "needs_background": "light"
     },
     "output_type": "display_data"
    }
   ],
   "source": [
    "plt.title(\"Explained Variance Ratio by Component\")\n",
    "plt.plot(np.arange(1,11),explained_variance_ratio_cumul_sum) #so that the first component is at 1, not 0\n",
    "plt.plot([1,10],[0.5,0.5])\n",
    "plt.xlabel(\"Component\")\n",
    "plt.ylabel(\"Variance Ratio\")\n",
    "plt.show()"
   ]
  },
  {
   "cell_type": "markdown",
   "metadata": {},
   "source": [
    "5. How many components would you use based on this?"
   ]
  },
  {
   "cell_type": "markdown",
   "metadata": {},
   "source": [
    "depending on the cumulative variance"
   ]
  },
  {
   "cell_type": "markdown",
   "metadata": {},
   "source": [
    "6. Look at the explained variance using `.explained_variance_`. Is there a large drop at some point? This can also be a good rule of thumb for picking a good number of features (if the data is normalized, a variance cut-off of 1 would be a more precise rule of thumb)"
   ]
  },
  {
   "cell_type": "code",
   "execution_count": 43,
   "metadata": {},
   "outputs": [
    {
     "data": {
      "text/plain": [
       "array([1968.39225676,  735.18647385,  592.99870603,  390.75320765,\n",
       "        290.97377369,  140.82124285,   38.55348857,   18.60681895,\n",
       "         17.94206417,    7.60034734])"
      ]
     },
     "execution_count": 43,
     "metadata": {},
     "output_type": "execute_result"
    }
   ],
   "source": [
    "pca.explained_variance_"
   ]
  },
  {
   "cell_type": "markdown",
   "metadata": {},
   "source": [
    "There is a large drop between one component and two, as well as between 5 components and 6."
   ]
  },
  {
   "cell_type": "markdown",
   "metadata": {},
   "source": [
    "7. Use the code below to draw an \"elbow plot\". This allows the task above to be done more systematically: the idea of the plot is to show you directly how much you still gain by adding more components. If there is a significant kink, that gives you an idea that you want to stop adding components."
   ]
  },
  {
   "cell_type": "code",
   "execution_count": 44,
   "metadata": {},
   "outputs": [
    {
     "data": {
      "image/png": "[encoded data removed]",
      "text/plain": [
       "<Figure size 432x288 with 1 Axes>"
      ]
     },
     "metadata": {
      "needs_background": "light"
     },
     "output_type": "display_data"
    }
   ],
   "source": [
    "plt.plot(np.arange(1,11),pca.explained_variance_)\n",
    "plt.xlabel(\"Number of components\")\n",
    "plt.ylabel(\"Explained variance\")\n",
    "plt.show()"
   ]
  },
  {
   "cell_type": "markdown",
   "metadata": {},
   "source": [
    "8. We use 2 components moving forward (i.e., we are going to replace the 10 factors by simply 2). Use the code below to look at the loadings for the five new variables. Is it easy to interpret?"
   ]
  },
  {
   "cell_type": "code",
   "execution_count": 45,
   "metadata": {},
   "outputs": [
    {
     "data": {
      "text/html": [
       "<div>\n",
       "<style scoped>\n",
       "    .dataframe tbody tr th:only-of-type {\n",
       "        vertical-align: middle;\n",
       "    }\n",
       "\n",
       "    .dataframe tbody tr th {\n",
       "        vertical-align: top;\n",
       "    }\n",
       "\n",
       "    .dataframe thead th {\n",
       "        text-align: right;\n",
       "    }\n",
       "</style>\n",
       "<table border=\"1\" class=\"dataframe\">\n",
       "  <thead>\n",
       "    <tr style=\"text-align: right;\">\n",
       "      <th></th>\n",
       "      <th>z1</th>\n",
       "      <th>z2</th>\n",
       "    </tr>\n",
       "  </thead>\n",
       "  <tbody>\n",
       "    <tr>\n",
       "      <th>Total Fat</th>\n",
       "      <td>0.414338</td>\n",
       "      <td>0.033307</td>\n",
       "    </tr>\n",
       "    <tr>\n",
       "      <th>Saturated Fat</th>\n",
       "      <td>0.525428</td>\n",
       "      <td>-0.105464</td>\n",
       "    </tr>\n",
       "    <tr>\n",
       "      <th>Cholesterol</th>\n",
       "      <td>0.557168</td>\n",
       "      <td>0.100597</td>\n",
       "    </tr>\n",
       "    <tr>\n",
       "      <th>Sodium</th>\n",
       "      <td>0.413492</td>\n",
       "      <td>0.154635</td>\n",
       "    </tr>\n",
       "    <tr>\n",
       "      <th>Carbohydrates</th>\n",
       "      <td>0.094416</td>\n",
       "      <td>-0.024719</td>\n",
       "    </tr>\n",
       "    <tr>\n",
       "      <th>Dietary Fiber</th>\n",
       "      <td>0.077305</td>\n",
       "      <td>0.087498</td>\n",
       "    </tr>\n",
       "    <tr>\n",
       "      <th>Vitamin A</th>\n",
       "      <td>0.080840</td>\n",
       "      <td>0.325466</td>\n",
       "    </tr>\n",
       "    <tr>\n",
       "      <th>Calcium</th>\n",
       "      <td>0.113909</td>\n",
       "      <td>-0.168236</td>\n",
       "    </tr>\n",
       "    <tr>\n",
       "      <th>Iron</th>\n",
       "      <td>0.154527</td>\n",
       "      <td>0.069144</td>\n",
       "    </tr>\n",
       "    <tr>\n",
       "      <th>Vitamin C</th>\n",
       "      <td>-0.112065</td>\n",
       "      <td>0.898030</td>\n",
       "    </tr>\n",
       "  </tbody>\n",
       "</table>\n",
       "</div>"
      ],
      "text/plain": [
       "                     z1        z2\n",
       "Total Fat      0.414338  0.033307\n",
       "Saturated Fat  0.525428 -0.105464\n",
       "Cholesterol    0.557168  0.100597\n",
       "Sodium         0.413492  0.154635\n",
       "Carbohydrates  0.094416 -0.024719\n",
       "Dietary Fiber  0.077305  0.087498\n",
       "Vitamin A      0.080840  0.325466\n",
       "Calcium        0.113909 -0.168236\n",
       "Iron           0.154527  0.069144\n",
       "Vitamin C     -0.112065  0.898030"
      ]
     },
     "execution_count": 45,
     "metadata": {},
     "output_type": "execute_result"
    }
   ],
   "source": [
    "loadings=pd.DataFrame(pca.components_[0:2,:].T).set_index(np.arange(1,11))\n",
    "loadings.columns = ['z1','z2']\n",
    "loadings.index = menu_num.columns\n",
    "loadings"
   ]
  },
  {
   "cell_type": "markdown",
   "metadata": {},
   "source": [
    "9. It can be very difficult to see here what each feature represents if there are too many features. To resolve this issue, we instead use `dcp.SparsePCA` which does the following: it attempts to find a compromise between being close to the \"true\" PCA components and only selecting one feature for each component. This is controlled by a parameter `alpha` that can be tuned. Run the code below for `alpha=0`, `alpha=5`, and `alpha=20`. Can you see what is happening?"
   ]
  },
  {
   "cell_type": "code",
   "execution_count": 46,
   "metadata": {},
   "outputs": [
    {
     "data": {
      "text/html": [
       "<div>\n",
       "<style scoped>\n",
       "    .dataframe tbody tr th:only-of-type {\n",
       "        vertical-align: middle;\n",
       "    }\n",
       "\n",
       "    .dataframe tbody tr th {\n",
       "        vertical-align: top;\n",
       "    }\n",
       "\n",
       "    .dataframe thead th {\n",
       "        text-align: right;\n",
       "    }\n",
       "</style>\n",
       "<table border=\"1\" class=\"dataframe\">\n",
       "  <thead>\n",
       "    <tr style=\"text-align: right;\">\n",
       "      <th></th>\n",
       "      <th>z1</th>\n",
       "      <th>z2</th>\n",
       "    </tr>\n",
       "  </thead>\n",
       "  <tbody>\n",
       "    <tr>\n",
       "      <th>Total Fat</th>\n",
       "      <td>-0.416513</td>\n",
       "      <td>0.024076</td>\n",
       "    </tr>\n",
       "    <tr>\n",
       "      <th>Saturated Fat</th>\n",
       "      <td>-0.512292</td>\n",
       "      <td>0.174011</td>\n",
       "    </tr>\n",
       "    <tr>\n",
       "      <th>Cholesterol</th>\n",
       "      <td>-0.568412</td>\n",
       "      <td>0.000000</td>\n",
       "    </tr>\n",
       "    <tr>\n",
       "      <th>Sodium</th>\n",
       "      <td>-0.428282</td>\n",
       "      <td>-0.064503</td>\n",
       "    </tr>\n",
       "    <tr>\n",
       "      <th>Carbohydrates</th>\n",
       "      <td>-0.085847</td>\n",
       "      <td>0.024817</td>\n",
       "    </tr>\n",
       "    <tr>\n",
       "      <th>Dietary Fiber</th>\n",
       "      <td>-0.080337</td>\n",
       "      <td>-0.058937</td>\n",
       "    </tr>\n",
       "    <tr>\n",
       "      <th>Vitamin A</th>\n",
       "      <td>-0.108185</td>\n",
       "      <td>-0.276924</td>\n",
       "    </tr>\n",
       "    <tr>\n",
       "      <th>Calcium</th>\n",
       "      <td>-0.086985</td>\n",
       "      <td>0.171721</td>\n",
       "    </tr>\n",
       "    <tr>\n",
       "      <th>Iron</th>\n",
       "      <td>-0.156403</td>\n",
       "      <td>-0.027591</td>\n",
       "    </tr>\n",
       "    <tr>\n",
       "      <th>Vitamin C</th>\n",
       "      <td>0.000000</td>\n",
       "      <td>-0.924096</td>\n",
       "    </tr>\n",
       "  </tbody>\n",
       "</table>\n",
       "</div>"
      ],
      "text/plain": [
       "                     z1        z2\n",
       "Total Fat     -0.416513  0.024076\n",
       "Saturated Fat -0.512292  0.174011\n",
       "Cholesterol   -0.568412  0.000000\n",
       "Sodium        -0.428282 -0.064503\n",
       "Carbohydrates -0.085847  0.024817\n",
       "Dietary Fiber -0.080337 -0.058937\n",
       "Vitamin A     -0.108185 -0.276924\n",
       "Calcium       -0.086985  0.171721\n",
       "Iron          -0.156403 -0.027591\n",
       "Vitamin C      0.000000 -0.924096"
      ]
     },
     "execution_count": 46,
     "metadata": {},
     "output_type": "execute_result"
    }
   ],
   "source": [
    "pca_sparse=dcp.SparsePCA(alpha=5,n_components=2)\n",
    "pca_sparse.fit(menu_num)\n",
    "loadings_sparse=pd.DataFrame(pca_sparse.components_.T).set_index(np.arange(1,11))\n",
    "loadings_sparse.columns = ['z1','z2']\n",
    "loadings_sparse.index = menu_num.columns\n",
    "loadings_sparse"
   ]
  },
  {
   "cell_type": "markdown",
   "metadata": {},
   "source": [
    "10. Finally, we will match our components to the menu items. The code below is used to generate a dataframe that contains four columns : Item, Category and the two first components created via the \"standard\" PCA:"
   ]
  },
  {
   "cell_type": "code",
   "execution_count": 47,
   "metadata": {},
   "outputs": [
    {
     "data": {
      "text/html": [
       "<div>\n",
       "<style scoped>\n",
       "    .dataframe tbody tr th:only-of-type {\n",
       "        vertical-align: middle;\n",
       "    }\n",
       "\n",
       "    .dataframe tbody tr th {\n",
       "        vertical-align: top;\n",
       "    }\n",
       "\n",
       "    .dataframe thead th {\n",
       "        text-align: right;\n",
       "    }\n",
       "</style>\n",
       "<table border=\"1\" class=\"dataframe\">\n",
       "  <thead>\n",
       "    <tr style=\"text-align: right;\">\n",
       "      <th></th>\n",
       "      <th>Item</th>\n",
       "      <th>Category</th>\n",
       "      <th>z1</th>\n",
       "      <th>z2</th>\n",
       "    </tr>\n",
       "  </thead>\n",
       "  <tbody>\n",
       "    <tr>\n",
       "      <th>0</th>\n",
       "      <td>Egg McMuffin</td>\n",
       "      <td>Breakfast</td>\n",
       "      <td>42.427732</td>\n",
       "      <td>1.183941</td>\n",
       "    </tr>\n",
       "    <tr>\n",
       "      <th>1</th>\n",
       "      <td>Egg White Delight</td>\n",
       "      <td>Breakfast</td>\n",
       "      <td>-11.149091</td>\n",
       "      <td>-7.606257</td>\n",
       "    </tr>\n",
       "    <tr>\n",
       "      <th>2</th>\n",
       "      <td>Sausage McMuffin</td>\n",
       "      <td>Breakfast</td>\n",
       "      <td>17.351623</td>\n",
       "      <td>-8.039691</td>\n",
       "    </tr>\n",
       "    <tr>\n",
       "      <th>3</th>\n",
       "      <td>Sausage McMuffin with Egg</td>\n",
       "      <td>Breakfast</td>\n",
       "      <td>73.642595</td>\n",
       "      <td>1.466572</td>\n",
       "    </tr>\n",
       "    <tr>\n",
       "      <th>4</th>\n",
       "      <td>Sausage McMuffin with Egg Whites</td>\n",
       "      <td>Breakfast</td>\n",
       "      <td>19.401078</td>\n",
       "      <td>-7.971486</td>\n",
       "    </tr>\n",
       "    <tr>\n",
       "      <th>...</th>\n",
       "      <td>...</td>\n",
       "      <td>...</td>\n",
       "      <td>...</td>\n",
       "      <td>...</td>\n",
       "    </tr>\n",
       "    <tr>\n",
       "      <th>254</th>\n",
       "      <td>McFlurry with Oreo Cookies (Small)</td>\n",
       "      <td>Smoothies &amp; Shakes</td>\n",
       "      <td>7.998526</td>\n",
       "      <td>-13.839585</td>\n",
       "    </tr>\n",
       "    <tr>\n",
       "      <th>255</th>\n",
       "      <td>McFlurry with Oreo Cookies (Medium)</td>\n",
       "      <td>Smoothies &amp; Shakes</td>\n",
       "      <td>26.208344</td>\n",
       "      <td>-13.921793</td>\n",
       "    </tr>\n",
       "    <tr>\n",
       "      <th>256</th>\n",
       "      <td>McFlurry with Oreo Cookies (Snack)</td>\n",
       "      <td>Smoothies &amp; Shakes</td>\n",
       "      <td>-11.477986</td>\n",
       "      <td>-12.873513</td>\n",
       "    </tr>\n",
       "    <tr>\n",
       "      <th>257</th>\n",
       "      <td>McFlurry with Reese's Peanut Butter Cups (Medium)</td>\n",
       "      <td>Smoothies &amp; Shakes</td>\n",
       "      <td>43.965216</td>\n",
       "      <td>-16.748407</td>\n",
       "    </tr>\n",
       "    <tr>\n",
       "      <th>258</th>\n",
       "      <td>McFlurry with Reese's Peanut Butter Cups (Snack)</td>\n",
       "      <td>Smoothies &amp; Shakes</td>\n",
       "      <td>-2.290446</td>\n",
       "      <td>-14.197327</td>\n",
       "    </tr>\n",
       "  </tbody>\n",
       "</table>\n",
       "<p>259 rows × 4 columns</p>\n",
       "</div>"
      ],
      "text/plain": [
       "                                                  Item            Category  \\\n",
       "0                                         Egg McMuffin           Breakfast   \n",
       "1                                    Egg White Delight           Breakfast   \n",
       "2                                     Sausage McMuffin           Breakfast   \n",
       "3                            Sausage McMuffin with Egg           Breakfast   \n",
       "4                     Sausage McMuffin with Egg Whites           Breakfast   \n",
       "..                                                 ...                 ...   \n",
       "254                 McFlurry with Oreo Cookies (Small)  Smoothies & Shakes   \n",
       "255                McFlurry with Oreo Cookies (Medium)  Smoothies & Shakes   \n",
       "256                 McFlurry with Oreo Cookies (Snack)  Smoothies & Shakes   \n",
       "257  McFlurry with Reese's Peanut Butter Cups (Medium)  Smoothies & Shakes   \n",
       "258   McFlurry with Reese's Peanut Butter Cups (Snack)  Smoothies & Shakes   \n",
       "\n",
       "            z1         z2  \n",
       "0    42.427732   1.183941  \n",
       "1   -11.149091  -7.606257  \n",
       "2    17.351623  -8.039691  \n",
       "3    73.642595   1.466572  \n",
       "4    19.401078  -7.971486  \n",
       "..         ...        ...  \n",
       "254   7.998526 -13.839585  \n",
       "255  26.208344 -13.921793  \n",
       "256 -11.477986 -12.873513  \n",
       "257  43.965216 -16.748407  \n",
       "258  -2.290446 -14.197327  \n",
       "\n",
       "[259 rows x 4 columns]"
      ]
     },
     "execution_count": 47,
     "metadata": {},
     "output_type": "execute_result"
    }
   ],
   "source": [
    "data_pca = pca.fit_transform(menu_num)\n",
    "\n",
    "df=pd.DataFrame()\n",
    "df[\"Item\"]=menu[\"Item\"]\n",
    "df[\"Category\"]=menu[\"Category\"]\n",
    "df[\"z1\"]=data_pca[:, 0].reshape(-1)\n",
    "df[\"z2\"]=data_pca[:,1].reshape(-1)\n",
    "df"
   ]
  },
  {
   "cell_type": "markdown",
   "metadata": {},
   "source": [
    "11. Plot a scatter plot of z2 as a function of z1, with the hue of the points being determined by the category."
   ]
  },
  {
   "cell_type": "code",
   "execution_count": null,
   "metadata": {},
   "outputs": [],
   "source": []
  },
  {
   "cell_type": "markdown",
   "metadata": {},
   "source": [
    "# Exercise: other applications of PCA - understanding what it means to compress an image"
   ]
  },
  {
   "cell_type": "markdown",
   "metadata": {},
   "source": [
    "Please install the `pillow` library (for image reading and editing) before starting this exercise. Then restart the kernel and proceed with the exercise."
   ]
  },
  {
   "cell_type": "code",
   "execution_count": null,
   "metadata": {},
   "outputs": [],
   "source": [
    "conda install -c anaconda pillow"
   ]
  },
  {
   "cell_type": "code",
   "execution_count": null,
   "metadata": {},
   "outputs": [],
   "source": [
    "from PIL import Image, ImageOps"
   ]
  },
  {
   "cell_type": "markdown",
   "metadata": {},
   "source": [
    "We'll be using a high-resolution photo of Nice, France, a favorite among British tourists:\n",
    "\n",
    "Picture credit: Photo by <a href=\"https://unsplash.com/@florielaure?utm_source=unsplash&amp;utm_medium=referral&amp;utm_content=creditCopyText\">Caudron Florie Laure</a> on <a href=\"https://unsplash.com/s/photos/france-nice?utm_source=unsplash&amp;utm_medium=referral&amp;utm_content=creditCopyText\">Unsplash</a></span>"
   ]
  },
  {
   "cell_type": "code",
   "execution_count": null,
   "metadata": {},
   "outputs": [],
   "source": [
    "img = Image.open('Nice.jpg')"
   ]
  },
  {
   "cell_type": "markdown",
   "metadata": {},
   "source": [
    "1. Take a look at the image by running the code below --- isn't Nice gorgeous??"
   ]
  },
  {
   "cell_type": "code",
   "execution_count": null,
   "metadata": {},
   "outputs": [],
   "source": [
    "img"
   ]
  },
  {
   "cell_type": "markdown",
   "metadata": {},
   "source": [
    "For those of you who have a little photography knowledge, you'll know that any image is made up of *pixels* and each pixel is represented as a color via a triple (R,G,B) corresponding to the amount of Red, Green, and Blue in the pixel. This is a bit complex for us for the example so we will convert the image to grayscale so we only have one number per pixel (the amount of gray). To do this, we will use `.grayscale`."
   ]
  },
  {
   "cell_type": "code",
   "execution_count": null,
   "metadata": {},
   "outputs": [],
   "source": [
    "img_gray=ImageOps.grayscale(img)"
   ]
  },
  {
   "cell_type": "code",
   "execution_count": null,
   "metadata": {},
   "outputs": [],
   "source": [
    "img_gray"
   ]
  },
  {
   "cell_type": "markdown",
   "metadata": {},
   "source": [
    "2. We can thus obtain a representation of the image via an array of numbers: this array is the same size as the number of pixels in the photo and contains numbers from 0 to 255, with 0 being white and 255 being black. Run the code below to obtain the aforementioned array. What is the shape of the array? Look at the properties of the picture - what do these numbers correspond to? How many numbers does the computer have to store to store this image?"
   ]
  },
  {
   "cell_type": "code",
   "execution_count": null,
   "metadata": {},
   "outputs": [],
   "source": [
    "array_gray=np.array(img_gray)"
   ]
  },
  {
   "cell_type": "code",
   "execution_count": null,
   "metadata": {},
   "outputs": [],
   "source": [
    "array_gray.shape"
   ]
  },
  {
   "cell_type": "code",
   "execution_count": null,
   "metadata": {},
   "outputs": [],
   "source": [
    "array_gray.size"
   ]
  },
  {
   "cell_type": "markdown",
   "metadata": {},
   "source": [
    "This corresponds to the size of the picture (3778 pixels by 3024). The computer has to store 3778 * 3024 numbers, i.e., 11,424,672 numbers."
   ]
  },
  {
   "cell_type": "markdown",
   "metadata": {},
   "source": [
    "3. Our goal is to apply PCA to the picture to understand how image compression works. Fit the PCA transform with no limits on the number of components to the data `array_gray` (this may take a couple of seconds to compute)."
   ]
  },
  {
   "cell_type": "code",
   "execution_count": null,
   "metadata": {},
   "outputs": [],
   "source": [
    "pca=dcp.PCA()\n",
    "pca.fit(array_gray)"
   ]
  },
  {
   "cell_type": "markdown",
   "metadata": {},
   "source": [
    "4. What is the size of the array returned by `pca.explained_variance_ratio_`? If we were to view `array_gray` as a dataframe, how many observations would there be? How many features? Does the size of the array then make sense?"
   ]
  },
  {
   "cell_type": "code",
   "execution_count": null,
   "metadata": {},
   "outputs": [],
   "source": []
  },
  {
   "cell_type": "markdown",
   "metadata": {},
   "source": [
    "5. Build an array containing the cumulative sum of the explained variance ratio. Plot this array as a function of the number of components. What do you observe?"
   ]
  },
  {
   "cell_type": "code",
   "execution_count": null,
   "metadata": {},
   "outputs": [],
   "source": []
  },
  {
   "cell_type": "markdown",
   "metadata": {},
   "source": [
    "6. If you wanted to explain 95% of the variance, how many components should you keep? What if you wanted to keep 99% of the variance? Use `np.where`."
   ]
  },
  {
   "cell_type": "code",
   "execution_count": null,
   "metadata": {},
   "outputs": [],
   "source": []
  },
  {
   "cell_type": "code",
   "execution_count": null,
   "metadata": {},
   "outputs": [],
   "source": []
  },
  {
   "cell_type": "code",
   "execution_count": null,
   "metadata": {},
   "outputs": [],
   "source": []
  },
  {
   "cell_type": "code",
   "execution_count": null,
   "metadata": {},
   "outputs": [],
   "source": []
  },
  {
   "cell_type": "markdown",
   "metadata": {},
   "source": [
    "We would keep the first 105 components for 95% and 434 for 99%."
   ]
  },
  {
   "cell_type": "markdown",
   "metadata": {},
   "source": [
    "7. Rerun PCA with a number of components equal to 105. Obtain the array corresponding to the scores and set it equal to `scores`. What is the shape of `scores`?"
   ]
  },
  {
   "cell_type": "code",
   "execution_count": null,
   "metadata": {},
   "outputs": [],
   "source": []
  },
  {
   "cell_type": "markdown",
   "metadata": {},
   "source": [
    "8. We know from lecture that scores contains 105 new features (with each feature containing 3778 observations). For one given observation (i.e., if we look at a row of `scores`), we have for example that $z_1$, the first new feature (i.e., the first column of `scores`), is equal to a linear combination of the old features (which have been centered):\n",
    "$$z_1=a_{11} (x_1-mean_{feature 1})+...+a_{1n} (x_n-mean_{feature n})$$\n",
    "It is possible, to go the other direction as well: rewrite all these equalities that we have in such a way that $x_1,...,x_n$ are written as a linear combination of the new features $z_1,...,z_n$ and the loadings $a_{11},...,a_{1n},...., a_{nn}$. \n",
    "This is what the `.inverse_transform` function does when applied to `scores`. Give it a try and let `new_image` be the result. What is the shape of `new_image`?"
   ]
  },
  {
   "cell_type": "code",
   "execution_count": null,
   "metadata": {},
   "outputs": [],
   "source": []
  },
  {
   "cell_type": "code",
   "execution_count": null,
   "metadata": {},
   "outputs": [],
   "source": []
  },
  {
   "cell_type": "markdown",
   "metadata": {},
   "source": [
    "9. To obtain this array (that has exactly the same size as the previous image), we only need know the scores, the loadings, and the means. How many numbers does this constitute? Compare this to the number of numbers we had to retain for `array_gray`."
   ]
  },
  {
   "cell_type": "code",
   "execution_count": null,
   "metadata": {},
   "outputs": [],
   "source": []
  },
  {
   "cell_type": "code",
   "execution_count": null,
   "metadata": {},
   "outputs": [],
   "source": []
  },
  {
   "cell_type": "code",
   "execution_count": null,
   "metadata": {},
   "outputs": [],
   "source": []
  },
  {
   "cell_type": "markdown",
   "metadata": {},
   "source": [
    "We are only retaining 6% of the total number of numbers!"
   ]
  },
  {
   "cell_type": "markdown",
   "metadata": {},
   "source": [
    "10. We now plot `new_image`: this requires a couple of manipulations. Indeed, a quick check shows us that `new_image` contains numbers that are not integers between 0 and 255. We need to rescale the matrix to obtain only numbers betwen 0 and 255. Run the following code and look at the image. Can you tell the difference with the first image?"
   ]
  },
  {
   "cell_type": "code",
   "execution_count": null,
   "metadata": {},
   "outputs": [],
   "source": []
  },
  {
   "cell_type": "code",
   "execution_count": null,
   "metadata": {},
   "outputs": [],
   "source": []
  },
  {
   "cell_type": "code",
   "execution_count": null,
   "metadata": {},
   "outputs": [],
   "source": []
  },
  {
   "cell_type": "code",
   "execution_count": null,
   "metadata": {},
   "outputs": [],
   "source": []
  },
  {
   "cell_type": "markdown",
   "metadata": {},
   "source": [
    "11. If you are not satisfied with the quality of the picture, rerun the same process with a number of components equal to 434. How many numbers are you storing here?"
   ]
  },
  {
   "cell_type": "code",
   "execution_count": null,
   "metadata": {},
   "outputs": [],
   "source": []
  },
  {
   "cell_type": "code",
   "execution_count": null,
   "metadata": {},
   "outputs": [],
   "source": []
  },
  {
   "cell_type": "code",
   "execution_count": null,
   "metadata": {},
   "outputs": [],
   "source": []
  },
  {
   "cell_type": "code",
   "execution_count": null,
   "metadata": {},
   "outputs": [],
   "source": []
  },
  {
   "cell_type": "code",
   "execution_count": null,
   "metadata": {},
   "outputs": [],
   "source": []
  },
  {
   "cell_type": "code",
   "execution_count": null,
   "metadata": {},
   "outputs": [],
   "source": []
  },
  {
   "cell_type": "code",
   "execution_count": null,
   "metadata": {},
   "outputs": [],
   "source": []
  },
  {
   "cell_type": "markdown",
   "metadata": {},
   "source": [
    "12. Do you understand why this is called image compression? Explain why companies such as Facebook or Instagram would find image compression very valuable."
   ]
  },
  {
   "cell_type": "markdown",
   "metadata": {},
   "source": [
    " "
   ]
  }
 ],
 "metadata": {
  "interpreter": {
   "hash": "dfbf29d6b298ee06653be85b1336aa59e8cd7929544b69296d5ef5d391694a35"
  },
  "kernelspec": {
   "display_name": "dtvc_env",
   "language": "python",
   "name": "python3"
  },
  "language_info": {
   "codemirror_mode": {
    "name": "ipython",
    "version": 3
   },
   "file_extension": ".py",
   "mimetype": "text/x-python",
   "name": "python",
   "nbconvert_exporter": "python",
   "pygments_lexer": "ipython3",
   "version": "3.7.7"
  }
 },
 "nbformat": 4,
 "nbformat_minor": 4
}
