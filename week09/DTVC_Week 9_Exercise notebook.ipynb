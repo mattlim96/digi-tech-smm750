{
 "cells": [
  {
   "cell_type": "code",
   "execution_count": null,
   "metadata": {},
   "outputs": [],
   "source": [
    "import pandas as pd\n",
    "import numpy as np\n",
    "import matplotlib as mp\n",
    "import matplotlib.pyplot as plt\n",
    "import seaborn as sns\n",
    "import graphviz as gp\n",
    "from pygal.maps.world import World\n",
    "from IPython.display import SVG, display\n",
    "from sklearn import preprocessing\n",
    "from scipy.cluster.hierarchy import dendrogram, linkage, fcluster\n",
    "from sklearn.cluster import KMeans"
   ]
  },
  {
   "cell_type": "markdown",
   "metadata": {},
   "source": [
    "# A customer segmentation exercise\n",
    "\n",
    "The data we use is originally from [Kaggle](https://www.kaggle.com/vjchoudhary7/customer-segmentation-tutorial-in-python). We start off by importing the data."
   ]
  },
  {
   "cell_type": "code",
   "execution_count": null,
   "metadata": {},
   "outputs": [],
   "source": [
    "customers=pd.read_csv(\"mall_customers.csv\")\n",
    "customers"
   ]
  },
  {
   "cell_type": "markdown",
   "metadata": {},
   "source": [
    "We remove the customer ID, since this doesn't hold any relevant information:"
   ]
  },
  {
   "cell_type": "code",
   "execution_count": null,
   "metadata": {},
   "outputs": [],
   "source": [
    "customers=customers.drop(columns=[\"CustomerID\"])"
   ]
  },
  {
   "cell_type": "markdown",
   "metadata": {},
   "source": [
    "We can only work with numerical variables, so let's one-hot-encode the gender:"
   ]
  },
  {
   "cell_type": "code",
   "execution_count": null,
   "metadata": {},
   "outputs": [],
   "source": [
    "customers = pd.get_dummies(customers,drop_first=True,columns=['Gender'])"
   ]
  },
  {
   "cell_type": "markdown",
   "metadata": {},
   "source": [
    "Finally, we note the very different scales. Scaling would be one way, but given that we also have the binary gender variable, it may be more sensible to only normalize:"
   ]
  },
  {
   "cell_type": "code",
   "execution_count": null,
   "metadata": {},
   "outputs": [],
   "source": [
    "min_max_scaler = preprocessing.MinMaxScaler()\n",
    "customers = pd.DataFrame(min_max_scaler.fit_transform(customers.values), columns=customers.columns, index=customers.index)\n",
    "customers"
   ]
  },
  {
   "cell_type": "markdown",
   "metadata": {},
   "source": [
    "## Using hierarchical clustering on the customers"
   ]
  },
  {
   "cell_type": "markdown",
   "metadata": {},
   "source": [
    "1. Using `scipy`, create a dendrogram `Z` with `linkage(customers,method=\"average\")`, then visualize it with `dendogram(Z)`. How many clusters do you think we should use?"
   ]
  },
  {
   "cell_type": "code",
   "execution_count": null,
   "metadata": {},
   "outputs": [],
   "source": [
    "\n"
   ]
  },
  {
   "cell_type": "markdown",
   "metadata": {},
   "source": [
    "2. Repeat the process using `method=\"ward\"`. How many clusters do you think we should use in this case?"
   ]
  },
  {
   "cell_type": "code",
   "execution_count": null,
   "metadata": {},
   "outputs": [],
   "source": [
    "\n",
    "\n"
   ]
  },
  {
   "cell_type": "markdown",
   "metadata": {},
   "source": [
    "3. We take 4 clusters. Using the code below, we obtain the labels for the data and add them to the `customers` dataframe to obtain `customers_hier`. We then plot the average value of the scores taken on for each feature in that cluster and put this into a heatmap to better visualize. What kind of clusters appear?"
   ]
  },
  {
   "cell_type": "code",
   "execution_count": null,
   "metadata": {},
   "outputs": [],
   "source": [
    "labels=fcluster(Z, 4, criterion='maxclust') "
   ]
  },
  {
   "cell_type": "code",
   "execution_count": null,
   "metadata": {},
   "outputs": [],
   "source": [
    "customers_hier=customers.copy()\n",
    "customers_hier[\"Labels\"]=labels\n",
    "\n",
    "customers_hier=customers_hier.groupby(customers_hier[\"Labels\"]).mean().reset_index()\n",
    "customers_hier=customers_hier.drop(columns=[\"Labels\"]).set_index(np.arange(1,5))\n",
    "sns.heatmap(customers_hier,cmap=\"PiYG\")\n",
    "plt.show()"
   ]
  },
  {
   "cell_type": "markdown",
   "metadata": {},
   "source": [
    "4. Instead of just plotting the average values, we can draw a snake plot that also includes the range of values around the mean. For this, we need to \"melt\" the dataframe, that is, we need to have all attribute values in a single column, with an additional column specifying the attribute to which the value belongs"
   ]
  },
  {
   "cell_type": "code",
   "execution_count": null,
   "metadata": {},
   "outputs": [],
   "source": [
    "customers_hier=customers.copy()\n",
    "customers_hier[\"Labels\"]=labels\n",
    "customers_hier_melt = pd.melt(customers_hier.reset_index(),\n",
    "                            id_vars=['Labels'],\n",
    "                            value_vars=['Age','Annual Income (k$)','Spending Score (1-100)','Gender_Male'],\n",
    "                            var_name='Attribute',value_name='Value')\n",
    "plt.title('Snake plot of the clusters')\n",
    "sns.lineplot(x=\"Attribute\", y=\"Value\", hue='Labels', data=customers_hier_melt)\n",
    "plt.show()"
   ]
  },
  {
   "cell_type": "markdown",
   "metadata": {},
   "source": [
    "## Using K-means clustering on the customers"
   ]
  },
  {
   "cell_type": "markdown",
   "metadata": {},
   "source": [
    "5. Use `KMeans()` instead with `n_clusters=4`. Call this model `kmeans` and fit it to the `customers` data.\n",
    "From our `kmeans` model, we get the labels with `kmeans.labels_`. Use this to create a similar heatmap and snakeplot. Do the clusters obtained show similarities?"
   ]
  },
  {
   "cell_type": "code",
   "execution_count": null,
   "metadata": {},
   "outputs": [],
   "source": []
  },
  {
   "cell_type": "code",
   "execution_count": null,
   "metadata": {},
   "outputs": [],
   "source": []
  },
  {
   "cell_type": "code",
   "execution_count": null,
   "metadata": {},
   "outputs": [],
   "source": []
  },
  {
   "cell_type": "markdown",
   "metadata": {},
   "source": [
    "6. In K-means clustering, we usually look at inertia to see how many clusters to choose. The inertia measures the sum of distances between each point and the centroid of its cluster. Run the code below to find out how inertia changes with the number of clusters. How many clusters would you pick? Why do you think it's not a good idea to go for the number of clusters which gives the smallest inertia?"
   ]
  },
  {
   "cell_type": "code",
   "execution_count": null,
   "metadata": {},
   "outputs": [],
   "source": [
    "inertia_K=[]\n",
    "K = range(1,10)\n",
    "for k in K:\n",
    "    kmeanModel = KMeans(n_clusters=k)\n",
    "    kmeanModel.fit(customers)\n",
    "    inertia_K.append(kmeanModel.inertia_)\n",
    "plt.plot(K,inertia_K)\n",
    "plt.show()"
   ]
  },
  {
   "cell_type": "markdown",
   "metadata": {},
   "source": [
    "## Developing a targeted marketing campaign"
   ]
  },
  {
   "cell_type": "markdown",
   "metadata": {},
   "source": [
    "7. Run again the code with K-means clustering and four clusters. Based on this, together with an overview of the size of the different clusters (below), what marketing strategy would you suggest to the mall provider?"
   ]
  },
  {
   "cell_type": "code",
   "execution_count": null,
   "metadata": {},
   "outputs": [],
   "source": []
  },
  {
   "cell_type": "code",
   "execution_count": null,
   "metadata": {},
   "outputs": [],
   "source": []
  },
  {
   "cell_type": "code",
   "execution_count": null,
   "metadata": {},
   "outputs": [],
   "source": []
  },
  {
   "cell_type": "code",
   "execution_count": null,
   "metadata": {},
   "outputs": [],
   "source": [
    "sns.histplot(customers_km['Labels'])\n",
    "plt.show()"
   ]
  }
 ],
 "metadata": {
  "kernelspec": {
   "display_name": "dtvc_env",
   "language": "python",
   "name": "dtvc_env"
  },
  "language_info": {
   "codemirror_mode": {
    "name": "ipython",
    "version": 3
   },
   "file_extension": ".py",
   "mimetype": "text/x-python",
   "name": "python",
   "nbconvert_exporter": "python",
   "pygments_lexer": "ipython3",
   "version": "3.7.7"
  }
 },
 "nbformat": 4,
 "nbformat_minor": 4
}
