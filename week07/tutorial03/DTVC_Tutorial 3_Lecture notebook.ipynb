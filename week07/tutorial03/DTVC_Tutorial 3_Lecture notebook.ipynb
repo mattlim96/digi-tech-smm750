{
 "cells": [
  {
   "cell_type": "code",
   "execution_count": 3,
   "metadata": {},
   "outputs": [],
   "source": [
    "import numpy as np\n",
    "import pandas as pd\n",
    "import seaborn as sns\n",
    "import matplotlib.pyplot as plt\n",
    "from sklearn.impute import SimpleImputer\n",
    "from sklearn.model_selection import train_test_split\n",
    "from sklearn.linear_model import LogisticRegression\n",
    "from sklearn.tree import DecisionTreeClassifier\n",
    "from sklearn import preprocessing\n",
    "from sklearn import metrics\n",
    "from sklearn.tree import export_graphviz\n",
    "import graphviz as gp"
   ]
  },
  {
   "cell_type": "markdown",
   "metadata": {},
   "source": [
    "Throughout this tutorial, we are considering the *Retention modeling at Scholastic Travel Company* case."
   ]
  },
  {
   "cell_type": "markdown",
   "metadata": {},
   "source": [
    "# Part 1: Pre-processing the data\n",
    "\n",
    "The goal of this Break Out is to brainstorm some ideas for data preprocessing/feature engineering."
   ]
  },
  {
   "cell_type": "code",
   "execution_count": 4,
   "metadata": {},
   "outputs": [
    {
     "data": {
      "text/html": [
       "<div>\n",
       "<style scoped>\n",
       "    .dataframe tbody tr th:only-of-type {\n",
       "        vertical-align: middle;\n",
       "    }\n",
       "\n",
       "    .dataframe tbody tr th {\n",
       "        vertical-align: top;\n",
       "    }\n",
       "\n",
       "    .dataframe thead th {\n",
       "        text-align: right;\n",
       "    }\n",
       "</style>\n",
       "<table border=\"1\" class=\"dataframe\">\n",
       "  <thead>\n",
       "    <tr style=\"text-align: right;\">\n",
       "      <th></th>\n",
       "      <th>ID</th>\n",
       "      <th>Program.Code</th>\n",
       "      <th>From.Grade</th>\n",
       "      <th>To.Grade</th>\n",
       "      <th>Group.State</th>\n",
       "      <th>Is.Non.Annual.</th>\n",
       "      <th>Days</th>\n",
       "      <th>Travel.Type</th>\n",
       "      <th>Departure.Date</th>\n",
       "      <th>Return.Date</th>\n",
       "      <th>...</th>\n",
       "      <th>GroupGradeTypeLow</th>\n",
       "      <th>GroupGradeTypeHigh</th>\n",
       "      <th>GroupGradeType</th>\n",
       "      <th>MajorProgramCode</th>\n",
       "      <th>SingleGradeTripFlag</th>\n",
       "      <th>FPP.to.School.enrollment</th>\n",
       "      <th>FPP.to.PAX</th>\n",
       "      <th>Num.of.Non_FPP.PAX</th>\n",
       "      <th>SchoolSizeIndicator</th>\n",
       "      <th>Retained.in.2012.</th>\n",
       "    </tr>\n",
       "  </thead>\n",
       "  <tbody>\n",
       "    <tr>\n",
       "      <th>0</th>\n",
       "      <td>1</td>\n",
       "      <td>HS</td>\n",
       "      <td>4.0</td>\n",
       "      <td>4.0</td>\n",
       "      <td>CA</td>\n",
       "      <td>0</td>\n",
       "      <td>1</td>\n",
       "      <td>A</td>\n",
       "      <td>40557</td>\n",
       "      <td>40557</td>\n",
       "      <td>...</td>\n",
       "      <td>K</td>\n",
       "      <td>Elementary</td>\n",
       "      <td>K-&gt;Elementary</td>\n",
       "      <td>H</td>\n",
       "      <td>1</td>\n",
       "      <td>0.063646</td>\n",
       "      <td>0.936508</td>\n",
       "      <td>4</td>\n",
       "      <td>L</td>\n",
       "      <td>1</td>\n",
       "    </tr>\n",
       "    <tr>\n",
       "      <th>1</th>\n",
       "      <td>2</td>\n",
       "      <td>HC</td>\n",
       "      <td>8.0</td>\n",
       "      <td>8.0</td>\n",
       "      <td>AZ</td>\n",
       "      <td>0</td>\n",
       "      <td>7</td>\n",
       "      <td>A</td>\n",
       "      <td>40557</td>\n",
       "      <td>40564</td>\n",
       "      <td>...</td>\n",
       "      <td>Middle</td>\n",
       "      <td>Middle</td>\n",
       "      <td>Middle-&gt;Middle</td>\n",
       "      <td>H</td>\n",
       "      <td>1</td>\n",
       "      <td>0.025882</td>\n",
       "      <td>0.880000</td>\n",
       "      <td>3</td>\n",
       "      <td>L</td>\n",
       "      <td>1</td>\n",
       "    </tr>\n",
       "    <tr>\n",
       "      <th>2</th>\n",
       "      <td>3</td>\n",
       "      <td>HD</td>\n",
       "      <td>8.0</td>\n",
       "      <td>8.0</td>\n",
       "      <td>FL</td>\n",
       "      <td>0</td>\n",
       "      <td>3</td>\n",
       "      <td>A</td>\n",
       "      <td>40558</td>\n",
       "      <td>40560</td>\n",
       "      <td>...</td>\n",
       "      <td>Middle</td>\n",
       "      <td>Middle</td>\n",
       "      <td>Middle-&gt;Middle</td>\n",
       "      <td>H</td>\n",
       "      <td>1</td>\n",
       "      <td>0.025131</td>\n",
       "      <td>0.888889</td>\n",
       "      <td>3</td>\n",
       "      <td>L</td>\n",
       "      <td>1</td>\n",
       "    </tr>\n",
       "    <tr>\n",
       "      <th>3</th>\n",
       "      <td>4</td>\n",
       "      <td>HN</td>\n",
       "      <td>9.0</td>\n",
       "      <td>12.0</td>\n",
       "      <td>VA</td>\n",
       "      <td>1</td>\n",
       "      <td>3</td>\n",
       "      <td>B</td>\n",
       "      <td>40558</td>\n",
       "      <td>40560</td>\n",
       "      <td>...</td>\n",
       "      <td>Undefined</td>\n",
       "      <td>Undefined</td>\n",
       "      <td>Undefined-&gt;Undefined</td>\n",
       "      <td>H</td>\n",
       "      <td>0</td>\n",
       "      <td>NaN</td>\n",
       "      <td>1.000000</td>\n",
       "      <td>0</td>\n",
       "      <td>NaN</td>\n",
       "      <td>0</td>\n",
       "    </tr>\n",
       "    <tr>\n",
       "      <th>4</th>\n",
       "      <td>5</td>\n",
       "      <td>HD</td>\n",
       "      <td>6.0</td>\n",
       "      <td>8.0</td>\n",
       "      <td>FL</td>\n",
       "      <td>0</td>\n",
       "      <td>6</td>\n",
       "      <td>T</td>\n",
       "      <td>40559</td>\n",
       "      <td>40564</td>\n",
       "      <td>...</td>\n",
       "      <td>Middle</td>\n",
       "      <td>Middle</td>\n",
       "      <td>Middle-&gt;Middle</td>\n",
       "      <td>H</td>\n",
       "      <td>0</td>\n",
       "      <td>0.112500</td>\n",
       "      <td>0.910112</td>\n",
       "      <td>8</td>\n",
       "      <td>M-L</td>\n",
       "      <td>0</td>\n",
       "    </tr>\n",
       "  </tbody>\n",
       "</table>\n",
       "<p>5 rows × 56 columns</p>\n",
       "</div>"
      ],
      "text/plain": [
       "   ID Program.Code  From.Grade  To.Grade Group.State  Is.Non.Annual.  Days  \\\n",
       "0   1           HS         4.0       4.0          CA               0     1   \n",
       "1   2           HC         8.0       8.0          AZ               0     7   \n",
       "2   3           HD         8.0       8.0          FL               0     3   \n",
       "3   4           HN         9.0      12.0          VA               1     3   \n",
       "4   5           HD         6.0       8.0          FL               0     6   \n",
       "\n",
       "  Travel.Type  Departure.Date  Return.Date  ...  GroupGradeTypeLow  \\\n",
       "0           A           40557        40557  ...                  K   \n",
       "1           A           40557        40564  ...             Middle   \n",
       "2           A           40558        40560  ...             Middle   \n",
       "3           B           40558        40560  ...          Undefined   \n",
       "4           T           40559        40564  ...             Middle   \n",
       "\n",
       "  GroupGradeTypeHigh        GroupGradeType  MajorProgramCode  \\\n",
       "0         Elementary         K->Elementary                 H   \n",
       "1             Middle        Middle->Middle                 H   \n",
       "2             Middle        Middle->Middle                 H   \n",
       "3          Undefined  Undefined->Undefined                 H   \n",
       "4             Middle        Middle->Middle                 H   \n",
       "\n",
       "   SingleGradeTripFlag  FPP.to.School.enrollment  FPP.to.PAX  \\\n",
       "0                    1                  0.063646    0.936508   \n",
       "1                    1                  0.025882    0.880000   \n",
       "2                    1                  0.025131    0.888889   \n",
       "3                    0                       NaN    1.000000   \n",
       "4                    0                  0.112500    0.910112   \n",
       "\n",
       "   Num.of.Non_FPP.PAX  SchoolSizeIndicator  Retained.in.2012.  \n",
       "0                   4                    L                  1  \n",
       "1                   3                    L                  1  \n",
       "2                   3                    L                  1  \n",
       "3                   0                  NaN                  0  \n",
       "4                   8                  M-L                  0  \n",
       "\n",
       "[5 rows x 56 columns]"
      ]
     },
     "execution_count": 4,
     "metadata": {},
     "output_type": "execute_result"
    }
   ],
   "source": [
    "stca_raw = pd.read_csv(\"stca_raw_data.csv\")\n",
    "stca_raw.head()"
   ]
  },
  {
   "cell_type": "markdown",
   "metadata": {},
   "source": [
    "Use this space to investigate the data if need be."
   ]
  },
  {
   "cell_type": "markdown",
   "metadata": {},
   "source": [
    "# Part 2: Predicting returning customers using logistic regression\n",
    "\n",
    "We use here a preprocessed and engineered dataset. Of course you are more than welcome to use your own cleaned dataset if you would like to. The goal now is to proceed with classification and get some practice using the methods seen in class."
   ]
  },
  {
   "cell_type": "code",
   "execution_count": 5,
   "metadata": {},
   "outputs": [
    {
     "data": {
      "text/html": [
       "<div>\n",
       "<style scoped>\n",
       "    .dataframe tbody tr th:only-of-type {\n",
       "        vertical-align: middle;\n",
       "    }\n",
       "\n",
       "    .dataframe tbody tr th {\n",
       "        vertical-align: top;\n",
       "    }\n",
       "\n",
       "    .dataframe thead th {\n",
       "        text-align: right;\n",
       "    }\n",
       "</style>\n",
       "<table border=\"1\" class=\"dataframe\">\n",
       "  <thead>\n",
       "    <tr style=\"text-align: right;\">\n",
       "      <th></th>\n",
       "      <th>From.Grade</th>\n",
       "      <th>To.Grade</th>\n",
       "      <th>Is.Non.Annual.</th>\n",
       "      <th>Days</th>\n",
       "      <th>Departure.Date</th>\n",
       "      <th>Deposit.Date</th>\n",
       "      <th>Tuition</th>\n",
       "      <th>FRP.Active</th>\n",
       "      <th>FRP.Cancelled</th>\n",
       "      <th>Cancelled.Pax</th>\n",
       "      <th>...</th>\n",
       "      <th>Region_New_Mountain</th>\n",
       "      <th>Region_New_North East</th>\n",
       "      <th>Region_New_Northen California</th>\n",
       "      <th>Region_New_Pacific</th>\n",
       "      <th>Region_New_South Atlantic</th>\n",
       "      <th>Region_New_South Central</th>\n",
       "      <th>Region_New_Southern California</th>\n",
       "      <th>Region_New_Texas</th>\n",
       "      <th>Region_New_West North Central</th>\n",
       "      <th>DepartureSeason_Winter</th>\n",
       "    </tr>\n",
       "  </thead>\n",
       "  <tbody>\n",
       "    <tr>\n",
       "      <th>0</th>\n",
       "      <td>4.0</td>\n",
       "      <td>4.0</td>\n",
       "      <td>0.0</td>\n",
       "      <td>1.0</td>\n",
       "      <td>40557.0</td>\n",
       "      <td>40420.0</td>\n",
       "      <td>424.0</td>\n",
       "      <td>25.0</td>\n",
       "      <td>3.0</td>\n",
       "      <td>3.0</td>\n",
       "      <td>...</td>\n",
       "      <td>0</td>\n",
       "      <td>0</td>\n",
       "      <td>0</td>\n",
       "      <td>0</td>\n",
       "      <td>0</td>\n",
       "      <td>0</td>\n",
       "      <td>1</td>\n",
       "      <td>0</td>\n",
       "      <td>0</td>\n",
       "      <td>1</td>\n",
       "    </tr>\n",
       "    <tr>\n",
       "      <th>1</th>\n",
       "      <td>8.0</td>\n",
       "      <td>8.0</td>\n",
       "      <td>0.0</td>\n",
       "      <td>7.0</td>\n",
       "      <td>40557.0</td>\n",
       "      <td>40132.0</td>\n",
       "      <td>2350.0</td>\n",
       "      <td>9.0</td>\n",
       "      <td>9.0</td>\n",
       "      <td>11.0</td>\n",
       "      <td>...</td>\n",
       "      <td>1</td>\n",
       "      <td>0</td>\n",
       "      <td>0</td>\n",
       "      <td>0</td>\n",
       "      <td>0</td>\n",
       "      <td>0</td>\n",
       "      <td>0</td>\n",
       "      <td>0</td>\n",
       "      <td>0</td>\n",
       "      <td>1</td>\n",
       "    </tr>\n",
       "    <tr>\n",
       "      <th>2</th>\n",
       "      <td>8.0</td>\n",
       "      <td>8.0</td>\n",
       "      <td>0.0</td>\n",
       "      <td>3.0</td>\n",
       "      <td>40558.0</td>\n",
       "      <td>40466.0</td>\n",
       "      <td>1181.0</td>\n",
       "      <td>17.0</td>\n",
       "      <td>6.0</td>\n",
       "      <td>6.0</td>\n",
       "      <td>...</td>\n",
       "      <td>0</td>\n",
       "      <td>0</td>\n",
       "      <td>0</td>\n",
       "      <td>0</td>\n",
       "      <td>1</td>\n",
       "      <td>0</td>\n",
       "      <td>0</td>\n",
       "      <td>0</td>\n",
       "      <td>0</td>\n",
       "      <td>1</td>\n",
       "    </tr>\n",
       "    <tr>\n",
       "      <th>3</th>\n",
       "      <td>6.0</td>\n",
       "      <td>8.0</td>\n",
       "      <td>0.0</td>\n",
       "      <td>6.0</td>\n",
       "      <td>40559.0</td>\n",
       "      <td>40451.0</td>\n",
       "      <td>865.0</td>\n",
       "      <td>40.0</td>\n",
       "      <td>8.0</td>\n",
       "      <td>9.0</td>\n",
       "      <td>...</td>\n",
       "      <td>0</td>\n",
       "      <td>0</td>\n",
       "      <td>0</td>\n",
       "      <td>0</td>\n",
       "      <td>1</td>\n",
       "      <td>0</td>\n",
       "      <td>0</td>\n",
       "      <td>0</td>\n",
       "      <td>0</td>\n",
       "      <td>1</td>\n",
       "    </tr>\n",
       "    <tr>\n",
       "      <th>4</th>\n",
       "      <td>10.0</td>\n",
       "      <td>12.0</td>\n",
       "      <td>0.0</td>\n",
       "      <td>4.0</td>\n",
       "      <td>40560.0</td>\n",
       "      <td>40451.0</td>\n",
       "      <td>2025.0</td>\n",
       "      <td>9.0</td>\n",
       "      <td>4.0</td>\n",
       "      <td>3.0</td>\n",
       "      <td>...</td>\n",
       "      <td>0</td>\n",
       "      <td>0</td>\n",
       "      <td>0</td>\n",
       "      <td>0</td>\n",
       "      <td>0</td>\n",
       "      <td>1</td>\n",
       "      <td>0</td>\n",
       "      <td>0</td>\n",
       "      <td>0</td>\n",
       "      <td>1</td>\n",
       "    </tr>\n",
       "  </tbody>\n",
       "</table>\n",
       "<p>5 rows × 43 columns</p>\n",
       "</div>"
      ],
      "text/plain": [
       "   From.Grade  To.Grade  Is.Non.Annual.  Days  Departure.Date  Deposit.Date  \\\n",
       "0         4.0       4.0             0.0   1.0         40557.0       40420.0   \n",
       "1         8.0       8.0             0.0   7.0         40557.0       40132.0   \n",
       "2         8.0       8.0             0.0   3.0         40558.0       40466.0   \n",
       "3         6.0       8.0             0.0   6.0         40559.0       40451.0   \n",
       "4        10.0      12.0             0.0   4.0         40560.0       40451.0   \n",
       "\n",
       "   Tuition  FRP.Active  FRP.Cancelled  Cancelled.Pax  ...  \\\n",
       "0    424.0        25.0            3.0            3.0  ...   \n",
       "1   2350.0         9.0            9.0           11.0  ...   \n",
       "2   1181.0        17.0            6.0            6.0  ...   \n",
       "3    865.0        40.0            8.0            9.0  ...   \n",
       "4   2025.0         9.0            4.0            3.0  ...   \n",
       "\n",
       "   Region_New_Mountain  Region_New_North East  Region_New_Northen California  \\\n",
       "0                    0                      0                              0   \n",
       "1                    1                      0                              0   \n",
       "2                    0                      0                              0   \n",
       "3                    0                      0                              0   \n",
       "4                    0                      0                              0   \n",
       "\n",
       "   Region_New_Pacific  Region_New_South Atlantic  Region_New_South Central  \\\n",
       "0                   0                          0                         0   \n",
       "1                   0                          0                         0   \n",
       "2                   0                          1                         0   \n",
       "3                   0                          1                         0   \n",
       "4                   0                          0                         1   \n",
       "\n",
       "   Region_New_Southern California  Region_New_Texas  \\\n",
       "0                               1                 0   \n",
       "1                               0                 0   \n",
       "2                               0                 0   \n",
       "3                               0                 0   \n",
       "4                               0                 0   \n",
       "\n",
       "   Region_New_West North Central  DepartureSeason_Winter  \n",
       "0                              0                       1  \n",
       "1                              0                       1  \n",
       "2                              0                       1  \n",
       "3                              0                       1  \n",
       "4                              0                       1  \n",
       "\n",
       "[5 rows x 43 columns]"
      ]
     },
     "execution_count": 5,
     "metadata": {},
     "output_type": "execute_result"
    }
   ],
   "source": [
    "stca = pd.read_csv(\"stca_clean.csv\")\n",
    "stca.head()"
   ]
  },
  {
   "cell_type": "markdown",
   "metadata": {},
   "source": [
    "Create the labels `y` and the feature matrix `X` as discussed in class. Recall that we are trying to predict the outcome `\"Retained.in.2012.\"`"
   ]
  },
  {
   "cell_type": "code",
   "execution_count": 6,
   "metadata": {},
   "outputs": [],
   "source": [
    "y=stca[[\"Retained.in.2012.\"]]"
   ]
  },
  {
   "cell_type": "code",
   "execution_count": 7,
   "metadata": {},
   "outputs": [],
   "source": [
    "X=stca.drop(columns=[\"Retained.in.2012.\"])"
   ]
  },
  {
   "cell_type": "markdown",
   "metadata": {},
   "source": [
    "Separate the data into training/validation/testing with percentages 60/20/20, using `train_test_split`. Why are we creating a validation set here?"
   ]
  },
  {
   "cell_type": "code",
   "execution_count": 8,
   "metadata": {},
   "outputs": [],
   "source": [
    "X_train, X_other, y_train, y_other = train_test_split(X, y, test_size=0.4, random_state = 657)"
   ]
  },
  {
   "cell_type": "code",
   "execution_count": 9,
   "metadata": {},
   "outputs": [],
   "source": [
    "X_test, X_validation, y_test, y_validation = train_test_split(X_other, y_other, test_size=0.5, random_state = 343)"
   ]
  },
  {
   "cell_type": "markdown",
   "metadata": {},
   "source": [
    "Using `scikit` run a logistic regression on `X_train,y_train` with the parameter `max_iter` set to 2000 (that is, use `LogisticRegression(max_iter=2000)`. What are the 5 largest coefficients and the 5 smallest? Do they make sense intuitively?"
   ]
  },
  {
   "cell_type": "code",
   "execution_count": 10,
   "metadata": {},
   "outputs": [
    {
     "data": {
      "text/plain": [
       "LogisticRegression(max_iter=2000)"
      ]
     },
     "execution_count": 10,
     "metadata": {},
     "output_type": "execute_result"
    }
   ],
   "source": [
    "classifier_LR = LogisticRegression(max_iter=2000)\n",
    "classifier_LR.fit(X_train, y_train.values.ravel())"
   ]
  },
  {
   "cell_type": "markdown",
   "metadata": {},
   "source": [
    "The code below prints out the five largest coefficients:"
   ]
  },
  {
   "cell_type": "code",
   "execution_count": 11,
   "metadata": {},
   "outputs": [
    {
     "data": {
      "text/html": [
       "<div>\n",
       "<style scoped>\n",
       "    .dataframe tbody tr th:only-of-type {\n",
       "        vertical-align: middle;\n",
       "    }\n",
       "\n",
       "    .dataframe tbody tr th {\n",
       "        vertical-align: top;\n",
       "    }\n",
       "\n",
       "    .dataframe thead th {\n",
       "        text-align: right;\n",
       "    }\n",
       "</style>\n",
       "<table border=\"1\" class=\"dataframe\">\n",
       "  <thead>\n",
       "    <tr style=\"text-align: right;\">\n",
       "      <th></th>\n",
       "      <th>Variable</th>\n",
       "      <th>Coefficient</th>\n",
       "    </tr>\n",
       "  </thead>\n",
       "  <tbody>\n",
       "    <tr>\n",
       "      <th>19</th>\n",
       "      <td>SingleGradeTripFlag</td>\n",
       "      <td>0.458681</td>\n",
       "    </tr>\n",
       "    <tr>\n",
       "      <th>20</th>\n",
       "      <td>Ability_to_Pay</td>\n",
       "      <td>0.309634</td>\n",
       "    </tr>\n",
       "    <tr>\n",
       "      <th>0</th>\n",
       "      <td>From.Grade</td>\n",
       "      <td>0.292735</td>\n",
       "    </tr>\n",
       "    <tr>\n",
       "      <th>13</th>\n",
       "      <td>MDR.Low.Grade</td>\n",
       "      <td>0.082621</td>\n",
       "    </tr>\n",
       "    <tr>\n",
       "      <th>38</th>\n",
       "      <td>Region_New_Southern California</td>\n",
       "      <td>0.080665</td>\n",
       "    </tr>\n",
       "  </tbody>\n",
       "</table>\n",
       "</div>"
      ],
      "text/plain": [
       "                          Variable Coefficient\n",
       "19             SingleGradeTripFlag    0.458681\n",
       "20                  Ability_to_Pay    0.309634\n",
       "0                       From.Grade    0.292735\n",
       "13                   MDR.Low.Grade    0.082621\n",
       "38  Region_New_Southern California    0.080665"
      ]
     },
     "execution_count": 11,
     "metadata": {},
     "output_type": "execute_result"
    }
   ],
   "source": [
    "summary = pd.DataFrame([X_train.columns,classifier_LR.coef_[0]]).T.sort_values(by = 1, ascending = False)\n",
    "summary.columns = ['Variable','Coefficient']\n",
    "summary.head(n=5)"
   ]
  },
  {
   "cell_type": "markdown",
   "metadata": {},
   "source": [
    "The next piece of code prints out the five smallest coefficients"
   ]
  },
  {
   "cell_type": "code",
   "execution_count": 12,
   "metadata": {},
   "outputs": [
    {
     "data": {
      "text/html": [
       "<div>\n",
       "<style scoped>\n",
       "    .dataframe tbody tr th:only-of-type {\n",
       "        vertical-align: middle;\n",
       "    }\n",
       "\n",
       "    .dataframe tbody tr th {\n",
       "        vertical-align: top;\n",
       "    }\n",
       "\n",
       "    .dataframe thead th {\n",
       "        text-align: right;\n",
       "    }\n",
       "</style>\n",
       "<table border=\"1\" class=\"dataframe\">\n",
       "  <thead>\n",
       "    <tr style=\"text-align: right;\">\n",
       "      <th></th>\n",
       "      <th>Variable</th>\n",
       "      <th>Coefficient</th>\n",
       "    </tr>\n",
       "  </thead>\n",
       "  <tbody>\n",
       "    <tr>\n",
       "      <th>29</th>\n",
       "      <td>SchoolSizeIndicator_S</td>\n",
       "      <td>-0.148782</td>\n",
       "    </tr>\n",
       "    <tr>\n",
       "      <th>14</th>\n",
       "      <td>MDR.High.Grade</td>\n",
       "      <td>-0.281402</td>\n",
       "    </tr>\n",
       "    <tr>\n",
       "      <th>27</th>\n",
       "      <td>SPR.New.Existing_NEW</td>\n",
       "      <td>-0.306903</td>\n",
       "    </tr>\n",
       "    <tr>\n",
       "      <th>2</th>\n",
       "      <td>Is.Non.Annual.</td>\n",
       "      <td>-0.392015</td>\n",
       "    </tr>\n",
       "    <tr>\n",
       "      <th>1</th>\n",
       "      <td>To.Grade</td>\n",
       "      <td>-0.481541</td>\n",
       "    </tr>\n",
       "  </tbody>\n",
       "</table>\n",
       "</div>"
      ],
      "text/plain": [
       "                 Variable Coefficient\n",
       "29  SchoolSizeIndicator_S   -0.148782\n",
       "14         MDR.High.Grade   -0.281402\n",
       "27   SPR.New.Existing_NEW   -0.306903\n",
       "2          Is.Non.Annual.   -0.392015\n",
       "1                To.Grade   -0.481541"
      ]
     },
     "execution_count": 12,
     "metadata": {},
     "output_type": "execute_result"
    }
   ],
   "source": [
    "summary.tail(n=5)"
   ]
  },
  {
   "cell_type": "markdown",
   "metadata": {},
   "source": [
    "Obtain the predicted probabilities for `X_validation`, using `[model-name].predict_proba(X_validation)[:,1]`. What are different ways of measuring how good the method is? We'll take a look at the ROC curve (using `metrics.roc_curve`), then use the area under the curve here given by `metrics.roc_auc_score` to evaluate the quality of our model."
   ]
  },
  {
   "cell_type": "code",
   "execution_count": 13,
   "metadata": {},
   "outputs": [
    {
     "data": {
      "image/png": "[encoded data removed]",
      "text/plain": [
       "<Figure size 432x288 with 1 Axes>"
      ]
     },
     "metadata": {
      "needs_background": "light"
     },
     "output_type": "display_data"
    }
   ],
   "source": [
    "from matplotlib import pyplot\n",
    "y_pred_prob = classifier_LR.predict_proba(X_validation)[:,1]\n",
    "fpr, tpr, thresholds = metrics.roc_curve(y_validation,y_pred_prob)\n",
    "pyplot.plot(fpr, tpr, linewidth=4)\n",
    "plt.show()"
   ]
  },
  {
   "cell_type": "code",
   "execution_count": 14,
   "metadata": {},
   "outputs": [
    {
     "data": {
      "text/plain": [
       "0.8040710751237068"
      ]
     },
     "execution_count": 14,
     "metadata": {},
     "output_type": "execute_result"
    }
   ],
   "source": [
    "metrics.roc_auc_score(y_validation, y_pred_prob)"
   ]
  },
  {
   "cell_type": "markdown",
   "metadata": {},
   "source": [
    "Recall that the area under the curve is generated with different values of the threshold. Our goal is now to think about a threshold. What is a false positive here / a false negative? Which one do you think we should focus on assuming that we adapt our marketing policy based on the output of our algorithm?"
   ]
  },
  {
   "cell_type": "markdown",
   "metadata": {},
   "source": [
    "False positives here are the number of clients we predict we retain and then don't. False negatives are the number of clients we predict we don't retain and then do. Let's take a look at both cases: if we predict that a customer will not be retained (while he is - FN), then we will invest some amount of money trying to make him happy when he was in fact already happy. If we predict that a customer will be retained (while he will not be FP), then we don't spend money on trying to retain him --- but we lose a customer and have to go through the long and expensive process of replacing that customer. Overall, better to invest many small sums than lose clients: better to have small FP and large FN."
   ]
  },
  {
   "cell_type": "markdown",
   "metadata": {},
   "source": [
    "Set the threshold to 0.7 using `np.where`. Then, obtain the `metrics.confusion_matrix`, as well as the `metrics.accuracy_score`."
   ]
  },
  {
   "cell_type": "code",
   "execution_count": 15,
   "metadata": {},
   "outputs": [],
   "source": [
    "threshold = 0.7\n",
    "y_validation_pred = np.where(y_pred_prob < threshold, 0, 1)"
   ]
  },
  {
   "cell_type": "code",
   "execution_count": 16,
   "metadata": {},
   "outputs": [
    {
     "data": {
      "text/plain": [
       "array([[145,  35],\n",
       "       [ 82, 165]], dtype=int64)"
      ]
     },
     "execution_count": 16,
     "metadata": {},
     "output_type": "execute_result"
    }
   ],
   "source": [
    "metrics.confusion_matrix(y_validation, y_validation_pred)"
   ]
  },
  {
   "cell_type": "code",
   "execution_count": 17,
   "metadata": {},
   "outputs": [
    {
     "data": {
      "text/plain": [
       "0.7259953161592506"
      ]
     },
     "execution_count": 17,
     "metadata": {},
     "output_type": "execute_result"
    }
   ],
   "source": [
    "metrics.accuracy_score(y_validation,y_validation_pred)"
   ]
  },
  {
   "cell_type": "markdown",
   "metadata": {},
   "source": [
    "# Part 3: Setting a threshold"
   ]
  },
  {
   "cell_type": "markdown",
   "metadata": {},
   "source": [
    "A good starting point for setting a threshold is the population average (0.613 in our case). There are other thresholds to set, that try to balance the true positive and false positive rates in an effective way. One example is [Youden’s J statistic](https://en.wikipedia.org/wiki/Youden%27s_J_statistic). This is simply calculated as:\n",
    "\n",
    "$J = Sensitivity + Specificity – 1  = True Positive Rate – False Positive Rate$\n",
    "\n",
    "We have this available directly from creating the ROC curve:"
   ]
  },
  {
   "cell_type": "code",
   "execution_count": 18,
   "metadata": {},
   "outputs": [
    {
     "data": {
      "text/plain": [
       "array([0.        , 0.00404858, 0.06882591, 0.06327036, 0.0754161 ,\n",
       "       0.06986055, 0.07390913, 0.06835358, 0.10479082, 0.09367971,\n",
       "       0.0977283 , 0.09217274, 0.1245614 , 0.11900585, 0.13520018,\n",
       "       0.12964462, 0.14583896, 0.1402834 , 0.16052632, 0.1494152 ,\n",
       "       0.15346379, 0.14790823, 0.15195682, 0.14640126, 0.17878992,\n",
       "       0.17323437, 0.23396311, 0.22840756, 0.23650472, 0.23094917,\n",
       "       0.26738641, 0.26183086, 0.26992803, 0.26437247, 0.28461538,\n",
       "       0.27905983, 0.287157  , 0.27604588, 0.2962888 , 0.29073324,\n",
       "       0.33121907, 0.32566352, 0.33376068, 0.32820513, 0.34439946,\n",
       "       0.33328835, 0.34138552, 0.33582996, 0.37631579, 0.37076023,\n",
       "       0.41124606, 0.40569051, 0.43403059, 0.42847503, 0.4608637 ,\n",
       "       0.45530814, 0.46340531, 0.45784975, 0.47404408, 0.46848853,\n",
       "       0.4765857 , 0.46547458, 0.48166892, 0.4705578 , 0.50294647,\n",
       "       0.4862798 , 0.49032839, 0.48477283, 0.50096716, 0.49541161,\n",
       "       0.49946019, 0.48834908, 0.49239766, 0.48684211, 0.49089069,\n",
       "       0.48533513, 0.4934323 , 0.48787674, 0.49597391, 0.49041835,\n",
       "       0.50661269, 0.50105713, 0.51725146, 0.49502924, 0.49907782,\n",
       "       0.49352227, 0.50161943, 0.49606388, 0.50416104, 0.49304993,\n",
       "       0.5011471 , 0.49559154, 0.50368871, 0.49813315, 0.5102789 ,\n",
       "       0.50472335, 0.52496626, 0.5082996 , 0.51639676, 0.48861898,\n",
       "       0.49671615, 0.48560504, 0.48965362, 0.48409807, 0.48814665,\n",
       "       0.43814665, 0.44219523, 0.43108412, 0.4351327 , 0.41291048,\n",
       "       0.41695906, 0.41140351, 0.41545209, 0.40434098, 0.40838956,\n",
       "       0.39727845, 0.40132704, 0.38466037, 0.38870895, 0.37204229,\n",
       "       0.37609087, 0.3594242 , 0.36347278, 0.35236167, 0.35641026,\n",
       "       0.3508547 , 0.36300045, 0.35744489, 0.36149348, 0.35593792,\n",
       "       0.3599865 , 0.31554206, 0.31959064, 0.29736842, 0.301417  ,\n",
       "       0.26252812, 0.2665767 , 0.24991003, 0.25395861, 0.2428475 ,\n",
       "       0.24689609, 0.21911831, 0.22316689, 0.21761134, 0.22165992,\n",
       "       0.21054881, 0.21459739, 0.20904184, 0.21309042, 0.20197931,\n",
       "       0.20602789, 0.19491678, 0.19896536, 0.13785425, 0.14190283,\n",
       "       0.10301395, 0.10706253, 0.00150697, 0.00555556, 0.        ])"
      ]
     },
     "execution_count": 18,
     "metadata": {},
     "output_type": "execute_result"
    }
   ],
   "source": [
    "J = tpr - fpr\n",
    "J"
   ]
  },
  {
   "cell_type": "markdown",
   "metadata": {},
   "source": [
    "The approach involves maximizing $J$. Hence, we simply pick the threshold with the highest $J$:"
   ]
  },
  {
   "cell_type": "code",
   "execution_count": 19,
   "metadata": {},
   "outputs": [
    {
     "name": "stdout",
     "output_type": "stream",
     "text": [
      "The best threshold according to the J statistic is 0.5679412669029718\n"
     ]
    }
   ],
   "source": [
    "print(\"The best threshold according to the J statistic is \" + str(thresholds[np.argmax(J)]))"
   ]
  },
  {
   "cell_type": "markdown",
   "metadata": {},
   "source": [
    "Let's see the confusion matrix at this threshold:"
   ]
  },
  {
   "cell_type": "code",
   "execution_count": 20,
   "metadata": {},
   "outputs": [
    {
     "data": {
      "text/plain": [
       "array([[120,  60],\n",
       "       [ 35, 212]], dtype=int64)"
      ]
     },
     "execution_count": 20,
     "metadata": {},
     "output_type": "execute_result"
    }
   ],
   "source": [
    "threshold = thresholds[np.argmax(J)]\n",
    "y_validation_pred = np.where(y_pred_prob < threshold, 0, 1)\n",
    "metrics.confusion_matrix(y_validation, y_validation_pred)"
   ]
  },
  {
   "cell_type": "markdown",
   "metadata": {},
   "source": [
    "There are many other similar metrics, of course. But of course, these are not dependent on the specifc costs of false positives and false negatives (recall that in some applications, FP are more expensive, and in others, FN are more expensive).\n",
    "\n",
    "If we know the cost of any of the outcomes, we can directly compute the cost of our prediction mistakes. To go back to the example above, let's make a few assumptions:\n",
    "\n",
    "- STC only markets to groups it thinks will not be retained, at a cost of £100 per group\n",
    "- A non-retained group that receives marketing will be convinced otherwise\n",
    "- Any group going on a trip (whether retained, or because it receives marketing), brings in a benefit of £1,000\n",
    "\n",
    "What does this mean for STC's profits?"
   ]
  },
  {
   "cell_type": "markdown",
   "metadata": {},
   "source": [
    "1. True negative: we market to this group, and it would in fact not have been retained otherwise. The net-profit then is £900\n",
    "2. False negative: we market to this group, even though it would have been retained. The net-profit for such a group is £900\n",
    "3. False positive: we assume the group is not retained, so we don't market to it (and lose it). The net-profit here is £0\n",
    "4. True positive: we correcly assume that the group is retained, and we don't market to it. The net-profit here is £1000"
   ]
  },
  {
   "cell_type": "markdown",
   "metadata": {},
   "source": [
    "Given this, we can now calculate the profits we would get from the validation customers, using the confusion matrix (we start again with a threshold of 0.7):"
   ]
  },
  {
   "cell_type": "code",
   "execution_count": 21,
   "metadata": {},
   "outputs": [
    {
     "name": "stdout",
     "output_type": "stream",
     "text": [
      "The profit at threshold 0.7 is 369300\n"
     ]
    }
   ],
   "source": [
    "threshold = 0.7\n",
    "y_validation_pred = np.where(y_pred_prob < threshold, 0, 1)\n",
    "cm = metrics.confusion_matrix(y_validation, y_validation_pred)\n",
    "profit = cm[0][0] * 900 + cm[1][0] * 900 + cm[0][1] * 0 + cm[1][1] * 1000\n",
    "print(\"The profit at threshold \" + str(threshold) + \" is \" + str(profit))"
   ]
  },
  {
   "cell_type": "markdown",
   "metadata": {},
   "source": [
    "Let's try for the threshold given by the J-statistic:"
   ]
  },
  {
   "cell_type": "code",
   "execution_count": 22,
   "metadata": {},
   "outputs": [
    {
     "name": "stdout",
     "output_type": "stream",
     "text": [
      "The profit at threshold 0.5679412669029718 is 351500\n"
     ]
    }
   ],
   "source": [
    "threshold = thresholds[np.argmax(J)]\n",
    "y_validation_pred = np.where(y_pred_prob < threshold, 0, 1)\n",
    "cm = metrics.confusion_matrix(y_validation, y_validation_pred)\n",
    "profit = cm[0][0] * 900 + cm[1][0] * 900 + cm[0][1] * 0 + cm[1][1] * 1000\n",
    "print(\"The profit at threshold \" + str(threshold) + \" is \" + str(profit))"
   ]
  },
  {
   "cell_type": "markdown",
   "metadata": {},
   "source": [
    "We can see how to optimize this, right?"
   ]
  },
  {
   "cell_type": "markdown",
   "metadata": {},
   "source": [
    "# Part 4: CART for classification\n",
    "\n",
    "We now move onto using CART for classification. We will also be using the Area Under the Curve (AUC) to measure how good our model is."
   ]
  },
  {
   "cell_type": "markdown",
   "metadata": {},
   "source": [
    "We start by fitting a Classification Tree to the data with `max_leaf_nodes=8`:"
   ]
  },
  {
   "cell_type": "code",
   "execution_count": 23,
   "metadata": {},
   "outputs": [
    {
     "data": {
      "text/plain": [
       "DecisionTreeClassifier(max_leaf_nodes=8)"
      ]
     },
     "execution_count": 23,
     "metadata": {},
     "output_type": "execute_result"
    }
   ],
   "source": [
    "classifier_DT = DecisionTreeClassifier(max_leaf_nodes = 8)\n",
    "classifier_DT.fit(X_train, y_train)"
   ]
  },
  {
   "cell_type": "markdown",
   "metadata": {},
   "source": [
    "We can use the code below to plot the tree. Which variables seem to intervene? Are they similar to the ones obtained for Logistic Regression?"
   ]
  },
  {
   "cell_type": "code",
   "execution_count": 24,
   "metadata": {},
   "outputs": [
    {
     "data": {
      "image/svg+xml": "<?xml version=\"1.0\" encoding=\"UTF-8\" standalone=\"no\"?>\n<!DOCTYPE svg PUBLIC \"-//W3C//DTD SVG 1.1//EN\"\n \"http://www.w3.org/Graphics/SVG/1.1/DTD/svg11.dtd\">\n<!-- Generated by graphviz version 2.49.3 (0)\n -->\n<!-- Title: Tree Pages: 1 -->\n<svg width=\"841pt\" height=\"552pt\"\n viewBox=\"0.00 0.00 841.00 552.00\" xmlns=\"http://www.w3.org/2000/svg\" xmlns:xlink=\"http://www.w3.org/1999/xlink\">\n<g id=\"graph0\" class=\"graph\" transform=\"scale(1 1) rotate(0) translate(4 548)\">\n<title>Tree</title>\n<polygon fill=\"white\" stroke=\"transparent\" points=\"-4,4 -4,-548 837,-548 837,4 -4,4\"/>\n<!-- 0 -->\n<g id=\"node1\" class=\"node\">\n<title>0</title>\n<path fill=\"#add6f4\" stroke=\"black\" d=\"M545.5,-544C545.5,-544 380.5,-544 380.5,-544 374.5,-544 368.5,-538 368.5,-532 368.5,-532 368.5,-473 368.5,-473 368.5,-467 374.5,-461 380.5,-461 380.5,-461 545.5,-461 545.5,-461 551.5,-461 557.5,-467 557.5,-473 557.5,-473 557.5,-532 557.5,-532 557.5,-538 551.5,-544 545.5,-544\"/>\n<text text-anchor=\"middle\" x=\"463\" y=\"-528.8\" font-family=\"Helvetica,sans-Serif\" font-size=\"14.00\">SingleGradeTripFlag &lt;= 0.5</text>\n<text text-anchor=\"middle\" x=\"463\" y=\"-513.8\" font-family=\"Helvetica,sans-Serif\" font-size=\"14.00\">gini = 0.465</text>\n<text text-anchor=\"middle\" x=\"463\" y=\"-498.8\" font-family=\"Helvetica,sans-Serif\" font-size=\"14.00\">samples = 1281</text>\n<text text-anchor=\"middle\" x=\"463\" y=\"-483.8\" font-family=\"Helvetica,sans-Serif\" font-size=\"14.00\">value = [472, 809]</text>\n<text text-anchor=\"middle\" x=\"463\" y=\"-468.8\" font-family=\"Helvetica,sans-Serif\" font-size=\"14.00\">class = Retained</text>\n</g>\n<!-- 1 -->\n<g id=\"node2\" class=\"node\">\n<title>1</title>\n<path fill=\"#f3c6a6\" stroke=\"black\" d=\"M428,-425C428,-425 300,-425 300,-425 294,-425 288,-419 288,-413 288,-413 288,-354 288,-354 288,-348 294,-342 300,-342 300,-342 428,-342 428,-342 434,-342 440,-348 440,-354 440,-354 440,-413 440,-413 440,-419 434,-425 428,-425\"/>\n<text text-anchor=\"middle\" x=\"364\" y=\"-409.8\" font-family=\"Helvetica,sans-Serif\" font-size=\"14.00\">Is.Non.Annual. &lt;= 0.5</text>\n<text text-anchor=\"middle\" x=\"364\" y=\"-394.8\" font-family=\"Helvetica,sans-Serif\" font-size=\"14.00\">gini = 0.458</text>\n<text text-anchor=\"middle\" x=\"364\" y=\"-379.8\" font-family=\"Helvetica,sans-Serif\" font-size=\"14.00\">samples = 513</text>\n<text text-anchor=\"middle\" x=\"364\" y=\"-364.8\" font-family=\"Helvetica,sans-Serif\" font-size=\"14.00\">value = [331, 182]</text>\n<text text-anchor=\"middle\" x=\"364\" y=\"-349.8\" font-family=\"Helvetica,sans-Serif\" font-size=\"14.00\">class = Not Retained</text>\n</g>\n<!-- 0&#45;&gt;1 -->\n<g id=\"edge1\" class=\"edge\">\n<title>0&#45;&gt;1</title>\n<path fill=\"none\" stroke=\"black\" d=\"M428.65,-460.91C420.97,-451.83 412.76,-442.12 404.84,-432.77\"/>\n<polygon fill=\"black\" stroke=\"black\" points=\"407.42,-430.39 398.29,-425.02 402.07,-434.92 407.42,-430.39\"/>\n<text text-anchor=\"middle\" x=\"396.21\" y=\"-446.23\" font-family=\"Helvetica,sans-Serif\" font-size=\"14.00\">True</text>\n</g>\n<!-- 2 -->\n<g id=\"node9\" class=\"node\">\n<title>2</title>\n<path fill=\"#66b3eb\" stroke=\"black\" d=\"M626,-425C626,-425 498,-425 498,-425 492,-425 486,-419 486,-413 486,-413 486,-354 486,-354 486,-348 492,-342 498,-342 498,-342 626,-342 626,-342 632,-342 638,-348 638,-354 638,-354 638,-413 638,-413 638,-419 632,-425 626,-425\"/>\n<text text-anchor=\"middle\" x=\"562\" y=\"-409.8\" font-family=\"Helvetica,sans-Serif\" font-size=\"14.00\">Is.Non.Annual. &lt;= 0.5</text>\n<text text-anchor=\"middle\" x=\"562\" y=\"-394.8\" font-family=\"Helvetica,sans-Serif\" font-size=\"14.00\">gini = 0.3</text>\n<text text-anchor=\"middle\" x=\"562\" y=\"-379.8\" font-family=\"Helvetica,sans-Serif\" font-size=\"14.00\">samples = 768</text>\n<text text-anchor=\"middle\" x=\"562\" y=\"-364.8\" font-family=\"Helvetica,sans-Serif\" font-size=\"14.00\">value = [141, 627]</text>\n<text text-anchor=\"middle\" x=\"562\" y=\"-349.8\" font-family=\"Helvetica,sans-Serif\" font-size=\"14.00\">class = Retained</text>\n</g>\n<!-- 0&#45;&gt;2 -->\n<g id=\"edge8\" class=\"edge\">\n<title>0&#45;&gt;2</title>\n<path fill=\"none\" stroke=\"black\" d=\"M497.35,-460.91C505.03,-451.83 513.24,-442.12 521.16,-432.77\"/>\n<polygon fill=\"black\" stroke=\"black\" points=\"523.93,-434.92 527.71,-425.02 518.58,-430.39 523.93,-434.92\"/>\n<text text-anchor=\"middle\" x=\"529.79\" y=\"-446.23\" font-family=\"Helvetica,sans-Serif\" font-size=\"14.00\">False</text>\n</g>\n<!-- 3 -->\n<g id=\"node3\" class=\"node\">\n<title>3</title>\n<path fill=\"#fcefe5\" stroke=\"black\" d=\"M260.5,-306C260.5,-306 71.5,-306 71.5,-306 65.5,-306 59.5,-300 59.5,-294 59.5,-294 59.5,-235 59.5,-235 59.5,-229 65.5,-223 71.5,-223 71.5,-223 260.5,-223 260.5,-223 266.5,-223 272.5,-229 272.5,-235 272.5,-235 272.5,-294 272.5,-294 272.5,-300 266.5,-306 260.5,-306\"/>\n<text text-anchor=\"middle\" x=\"166\" y=\"-290.8\" font-family=\"Helvetica,sans-Serif\" font-size=\"14.00\">SPR.New.Existing_NEW &lt;= 0.5</text>\n<text text-anchor=\"middle\" x=\"166\" y=\"-275.8\" font-family=\"Helvetica,sans-Serif\" font-size=\"14.00\">gini = 0.498</text>\n<text text-anchor=\"middle\" x=\"166\" y=\"-260.8\" font-family=\"Helvetica,sans-Serif\" font-size=\"14.00\">samples = 348</text>\n<text text-anchor=\"middle\" x=\"166\" y=\"-245.8\" font-family=\"Helvetica,sans-Serif\" font-size=\"14.00\">value = [186, 162]</text>\n<text text-anchor=\"middle\" x=\"166\" y=\"-230.8\" font-family=\"Helvetica,sans-Serif\" font-size=\"14.00\">class = Not Retained</text>\n</g>\n<!-- 1&#45;&gt;3 -->\n<g id=\"edge2\" class=\"edge\">\n<title>1&#45;&gt;3</title>\n<path fill=\"none\" stroke=\"black\" d=\"M295.3,-341.91C278.56,-332.02 260.55,-321.37 243.43,-311.25\"/>\n<polygon fill=\"black\" stroke=\"black\" points=\"244.96,-308.09 234.57,-306.02 241.4,-314.12 244.96,-308.09\"/>\n</g>\n<!-- 4 -->\n<g id=\"node8\" class=\"node\">\n<title>4</title>\n<path fill=\"#e99254\" stroke=\"black\" d=\"M425,-298.5C425,-298.5 303,-298.5 303,-298.5 297,-298.5 291,-292.5 291,-286.5 291,-286.5 291,-242.5 291,-242.5 291,-236.5 297,-230.5 303,-230.5 303,-230.5 425,-230.5 425,-230.5 431,-230.5 437,-236.5 437,-242.5 437,-242.5 437,-286.5 437,-286.5 437,-292.5 431,-298.5 425,-298.5\"/>\n<text text-anchor=\"middle\" x=\"364\" y=\"-283.3\" font-family=\"Helvetica,sans-Serif\" font-size=\"14.00\">gini = 0.213</text>\n<text text-anchor=\"middle\" x=\"364\" y=\"-268.3\" font-family=\"Helvetica,sans-Serif\" font-size=\"14.00\">samples = 165</text>\n<text text-anchor=\"middle\" x=\"364\" y=\"-253.3\" font-family=\"Helvetica,sans-Serif\" font-size=\"14.00\">value = [145, 20]</text>\n<text text-anchor=\"middle\" x=\"364\" y=\"-238.3\" font-family=\"Helvetica,sans-Serif\" font-size=\"14.00\">class = Not Retained</text>\n</g>\n<!-- 1&#45;&gt;4 -->\n<g id=\"edge7\" class=\"edge\">\n<title>1&#45;&gt;4</title>\n<path fill=\"none\" stroke=\"black\" d=\"M364,-341.91C364,-331.2 364,-319.62 364,-308.78\"/>\n<polygon fill=\"black\" stroke=\"black\" points=\"367.5,-308.67 364,-298.67 360.5,-308.67 367.5,-308.67\"/>\n</g>\n<!-- 5 -->\n<g id=\"node4\" class=\"node\">\n<title>5</title>\n<path fill=\"#89c5ef\" stroke=\"black\" d=\"M108,-179.5C108,-179.5 12,-179.5 12,-179.5 6,-179.5 0,-173.5 0,-167.5 0,-167.5 0,-123.5 0,-123.5 0,-117.5 6,-111.5 12,-111.5 12,-111.5 108,-111.5 108,-111.5 114,-111.5 120,-117.5 120,-123.5 120,-123.5 120,-167.5 120,-167.5 120,-173.5 114,-179.5 108,-179.5\"/>\n<text text-anchor=\"middle\" x=\"60\" y=\"-164.3\" font-family=\"Helvetica,sans-Serif\" font-size=\"14.00\">gini = 0.41</text>\n<text text-anchor=\"middle\" x=\"60\" y=\"-149.3\" font-family=\"Helvetica,sans-Serif\" font-size=\"14.00\">samples = 160</text>\n<text text-anchor=\"middle\" x=\"60\" y=\"-134.3\" font-family=\"Helvetica,sans-Serif\" font-size=\"14.00\">value = [46, 114]</text>\n<text text-anchor=\"middle\" x=\"60\" y=\"-119.3\" font-family=\"Helvetica,sans-Serif\" font-size=\"14.00\">class = Retained</text>\n</g>\n<!-- 3&#45;&gt;5 -->\n<g id=\"edge3\" class=\"edge\">\n<title>3&#45;&gt;5</title>\n<path fill=\"none\" stroke=\"black\" d=\"M129.22,-222.91C118.73,-211.32 107.29,-198.7 96.79,-187.11\"/>\n<polygon fill=\"black\" stroke=\"black\" points=\"99.36,-184.73 90.05,-179.67 94.17,-189.43 99.36,-184.73\"/>\n</g>\n<!-- 6 -->\n<g id=\"node5\" class=\"node\">\n<title>6</title>\n<path fill=\"#eeac7d\" stroke=\"black\" d=\"M272,-187C272,-187 150,-187 150,-187 144,-187 138,-181 138,-175 138,-175 138,-116 138,-116 138,-110 144,-104 150,-104 150,-104 272,-104 272,-104 278,-104 284,-110 284,-116 284,-116 284,-175 284,-175 284,-181 278,-187 272,-187\"/>\n<text text-anchor=\"middle\" x=\"211\" y=\"-171.8\" font-family=\"Helvetica,sans-Serif\" font-size=\"14.00\">FRP.Active &lt;= 17.5</text>\n<text text-anchor=\"middle\" x=\"211\" y=\"-156.8\" font-family=\"Helvetica,sans-Serif\" font-size=\"14.00\">gini = 0.38</text>\n<text text-anchor=\"middle\" x=\"211\" y=\"-141.8\" font-family=\"Helvetica,sans-Serif\" font-size=\"14.00\">samples = 188</text>\n<text text-anchor=\"middle\" x=\"211\" y=\"-126.8\" font-family=\"Helvetica,sans-Serif\" font-size=\"14.00\">value = [140, 48]</text>\n<text text-anchor=\"middle\" x=\"211\" y=\"-111.8\" font-family=\"Helvetica,sans-Serif\" font-size=\"14.00\">class = Not Retained</text>\n</g>\n<!-- 3&#45;&gt;6 -->\n<g id=\"edge4\" class=\"edge\">\n<title>3&#45;&gt;6</title>\n<path fill=\"none\" stroke=\"black\" d=\"M181.61,-222.91C184.89,-214.38 188.39,-205.28 191.79,-196.46\"/>\n<polygon fill=\"black\" stroke=\"black\" points=\"195.09,-197.61 195.42,-187.02 188.56,-195.1 195.09,-197.61\"/>\n</g>\n<!-- 13 -->\n<g id=\"node6\" class=\"node\">\n<title>13</title>\n<path fill=\"#eca16b\" stroke=\"black\" d=\"M166,-68C166,-68 44,-68 44,-68 38,-68 32,-62 32,-56 32,-56 32,-12 32,-12 32,-6 38,0 44,0 44,0 166,0 166,0 172,0 178,-6 178,-12 178,-12 178,-56 178,-56 178,-62 172,-68 166,-68\"/>\n<text text-anchor=\"middle\" x=\"105\" y=\"-52.8\" font-family=\"Helvetica,sans-Serif\" font-size=\"14.00\">gini = 0.321</text>\n<text text-anchor=\"middle\" x=\"105\" y=\"-37.8\" font-family=\"Helvetica,sans-Serif\" font-size=\"14.00\">samples = 164</text>\n<text text-anchor=\"middle\" x=\"105\" y=\"-22.8\" font-family=\"Helvetica,sans-Serif\" font-size=\"14.00\">value = [131, 33]</text>\n<text text-anchor=\"middle\" x=\"105\" y=\"-7.8\" font-family=\"Helvetica,sans-Serif\" font-size=\"14.00\">class = Not Retained</text>\n</g>\n<!-- 6&#45;&gt;13 -->\n<g id=\"edge5\" class=\"edge\">\n<title>6&#45;&gt;13</title>\n<path fill=\"none\" stroke=\"black\" d=\"M171.53,-103.73C162.61,-94.51 153.15,-84.74 144.24,-75.53\"/>\n<polygon fill=\"black\" stroke=\"black\" points=\"146.71,-73.05 137.24,-68.3 141.68,-77.92 146.71,-73.05\"/>\n</g>\n<!-- 14 -->\n<g id=\"node7\" class=\"node\">\n<title>14</title>\n<path fill=\"#b0d8f5\" stroke=\"black\" d=\"M304,-68C304,-68 208,-68 208,-68 202,-68 196,-62 196,-56 196,-56 196,-12 196,-12 196,-6 202,0 208,0 208,0 304,0 304,0 310,0 316,-6 316,-12 316,-12 316,-56 316,-56 316,-62 310,-68 304,-68\"/>\n<text text-anchor=\"middle\" x=\"256\" y=\"-52.8\" font-family=\"Helvetica,sans-Serif\" font-size=\"14.00\">gini = 0.469</text>\n<text text-anchor=\"middle\" x=\"256\" y=\"-37.8\" font-family=\"Helvetica,sans-Serif\" font-size=\"14.00\">samples = 24</text>\n<text text-anchor=\"middle\" x=\"256\" y=\"-22.8\" font-family=\"Helvetica,sans-Serif\" font-size=\"14.00\">value = [9, 15]</text>\n<text text-anchor=\"middle\" x=\"256\" y=\"-7.8\" font-family=\"Helvetica,sans-Serif\" font-size=\"14.00\">class = Retained</text>\n</g>\n<!-- 6&#45;&gt;14 -->\n<g id=\"edge6\" class=\"edge\">\n<title>6&#45;&gt;14</title>\n<path fill=\"none\" stroke=\"black\" d=\"M227.76,-103.73C231.24,-95.24 234.93,-86.28 238.44,-77.73\"/>\n<polygon fill=\"black\" stroke=\"black\" points=\"241.75,-78.88 242.32,-68.3 235.28,-76.22 241.75,-78.88\"/>\n</g>\n<!-- 7 -->\n<g id=\"node10\" class=\"node\">\n<title>7</title>\n<path fill=\"#5eafea\" stroke=\"black\" d=\"M656.5,-306C656.5,-306 467.5,-306 467.5,-306 461.5,-306 455.5,-300 455.5,-294 455.5,-294 455.5,-235 455.5,-235 455.5,-229 461.5,-223 467.5,-223 467.5,-223 656.5,-223 656.5,-223 662.5,-223 668.5,-229 668.5,-235 668.5,-235 668.5,-294 668.5,-294 668.5,-300 662.5,-306 656.5,-306\"/>\n<text text-anchor=\"middle\" x=\"562\" y=\"-290.8\" font-family=\"Helvetica,sans-Serif\" font-size=\"14.00\">SPR.New.Existing_NEW &lt;= 0.5</text>\n<text text-anchor=\"middle\" x=\"562\" y=\"-275.8\" font-family=\"Helvetica,sans-Serif\" font-size=\"14.00\">gini = 0.264</text>\n<text text-anchor=\"middle\" x=\"562\" y=\"-260.8\" font-family=\"Helvetica,sans-Serif\" font-size=\"14.00\">samples = 734</text>\n<text text-anchor=\"middle\" x=\"562\" y=\"-245.8\" font-family=\"Helvetica,sans-Serif\" font-size=\"14.00\">value = [115, 619]</text>\n<text text-anchor=\"middle\" x=\"562\" y=\"-230.8\" font-family=\"Helvetica,sans-Serif\" font-size=\"14.00\">class = Retained</text>\n</g>\n<!-- 2&#45;&gt;7 -->\n<g id=\"edge9\" class=\"edge\">\n<title>2&#45;&gt;7</title>\n<path fill=\"none\" stroke=\"black\" d=\"M562,-341.91C562,-333.65 562,-324.86 562,-316.3\"/>\n<polygon fill=\"black\" stroke=\"black\" points=\"565.5,-316.02 562,-306.02 558.5,-316.02 565.5,-316.02\"/>\n</g>\n<!-- 8 -->\n<g id=\"node15\" class=\"node\">\n<title>8</title>\n<path fill=\"#eda876\" stroke=\"black\" d=\"M821,-298.5C821,-298.5 699,-298.5 699,-298.5 693,-298.5 687,-292.5 687,-286.5 687,-286.5 687,-242.5 687,-242.5 687,-236.5 693,-230.5 699,-230.5 699,-230.5 821,-230.5 821,-230.5 827,-230.5 833,-236.5 833,-242.5 833,-242.5 833,-286.5 833,-286.5 833,-292.5 827,-298.5 821,-298.5\"/>\n<text text-anchor=\"middle\" x=\"760\" y=\"-283.3\" font-family=\"Helvetica,sans-Serif\" font-size=\"14.00\">gini = 0.36</text>\n<text text-anchor=\"middle\" x=\"760\" y=\"-268.3\" font-family=\"Helvetica,sans-Serif\" font-size=\"14.00\">samples = 34</text>\n<text text-anchor=\"middle\" x=\"760\" y=\"-253.3\" font-family=\"Helvetica,sans-Serif\" font-size=\"14.00\">value = [26, 8]</text>\n<text text-anchor=\"middle\" x=\"760\" y=\"-238.3\" font-family=\"Helvetica,sans-Serif\" font-size=\"14.00\">class = Not Retained</text>\n</g>\n<!-- 2&#45;&gt;8 -->\n<g id=\"edge14\" class=\"edge\">\n<title>2&#45;&gt;8</title>\n<path fill=\"none\" stroke=\"black\" d=\"M630.7,-341.91C651.61,-329.55 674.52,-316.01 695.17,-303.81\"/>\n<polygon fill=\"black\" stroke=\"black\" points=\"697.04,-306.77 703.87,-298.67 693.48,-300.74 697.04,-306.77\"/>\n</g>\n<!-- 9 -->\n<g id=\"node11\" class=\"node\">\n<title>9</title>\n<path fill=\"#51a9e8\" stroke=\"black\" d=\"M580,-187C580,-187 484,-187 484,-187 478,-187 472,-181 472,-175 472,-175 472,-116 472,-116 472,-110 478,-104 484,-104 484,-104 580,-104 580,-104 586,-104 592,-110 592,-116 592,-116 592,-175 592,-175 592,-181 586,-187 580,-187\"/>\n<text text-anchor=\"middle\" x=\"532\" y=\"-171.8\" font-family=\"Helvetica,sans-Serif\" font-size=\"14.00\">FPP &lt;= 15.5</text>\n<text text-anchor=\"middle\" x=\"532\" y=\"-156.8\" font-family=\"Helvetica,sans-Serif\" font-size=\"14.00\">gini = 0.193</text>\n<text text-anchor=\"middle\" x=\"532\" y=\"-141.8\" font-family=\"Helvetica,sans-Serif\" font-size=\"14.00\">samples = 599</text>\n<text text-anchor=\"middle\" x=\"532\" y=\"-126.8\" font-family=\"Helvetica,sans-Serif\" font-size=\"14.00\">value = [65, 534]</text>\n<text text-anchor=\"middle\" x=\"532\" y=\"-111.8\" font-family=\"Helvetica,sans-Serif\" font-size=\"14.00\">class = Retained</text>\n</g>\n<!-- 7&#45;&gt;9 -->\n<g id=\"edge10\" class=\"edge\">\n<title>7&#45;&gt;9</title>\n<path fill=\"none\" stroke=\"black\" d=\"M551.59,-222.91C549.43,-214.47 547.12,-205.48 544.88,-196.74\"/>\n<polygon fill=\"black\" stroke=\"black\" points=\"548.26,-195.84 542.39,-187.02 541.48,-197.58 548.26,-195.84\"/>\n</g>\n<!-- 10 -->\n<g id=\"node14\" class=\"node\">\n<title>10</title>\n<path fill=\"#add7f4\" stroke=\"black\" d=\"M718,-179.5C718,-179.5 622,-179.5 622,-179.5 616,-179.5 610,-173.5 610,-167.5 610,-167.5 610,-123.5 610,-123.5 610,-117.5 616,-111.5 622,-111.5 622,-111.5 718,-111.5 718,-111.5 724,-111.5 730,-117.5 730,-123.5 730,-123.5 730,-167.5 730,-167.5 730,-173.5 724,-179.5 718,-179.5\"/>\n<text text-anchor=\"middle\" x=\"670\" y=\"-164.3\" font-family=\"Helvetica,sans-Serif\" font-size=\"14.00\">gini = 0.466</text>\n<text text-anchor=\"middle\" x=\"670\" y=\"-149.3\" font-family=\"Helvetica,sans-Serif\" font-size=\"14.00\">samples = 135</text>\n<text text-anchor=\"middle\" x=\"670\" y=\"-134.3\" font-family=\"Helvetica,sans-Serif\" font-size=\"14.00\">value = [50, 85]</text>\n<text text-anchor=\"middle\" x=\"670\" y=\"-119.3\" font-family=\"Helvetica,sans-Serif\" font-size=\"14.00\">class = Retained</text>\n</g>\n<!-- 7&#45;&gt;10 -->\n<g id=\"edge13\" class=\"edge\">\n<title>7&#45;&gt;10</title>\n<path fill=\"none\" stroke=\"black\" d=\"M599.47,-222.91C610.17,-211.32 621.82,-198.7 632.51,-187.11\"/>\n<polygon fill=\"black\" stroke=\"black\" points=\"635.17,-189.39 639.38,-179.67 630.03,-184.64 635.17,-189.39\"/>\n</g>\n<!-- 11 -->\n<g id=\"node12\" class=\"node\">\n<title>11</title>\n<path fill=\"#88c4ef\" stroke=\"black\" d=\"M502,-68C502,-68 406,-68 406,-68 400,-68 394,-62 394,-56 394,-56 394,-12 394,-12 394,-6 400,0 406,0 406,0 502,0 502,0 508,0 514,-6 514,-12 514,-12 514,-56 514,-56 514,-62 508,-68 502,-68\"/>\n<text text-anchor=\"middle\" x=\"454\" y=\"-52.8\" font-family=\"Helvetica,sans-Serif\" font-size=\"14.00\">gini = 0.407</text>\n<text text-anchor=\"middle\" x=\"454\" y=\"-37.8\" font-family=\"Helvetica,sans-Serif\" font-size=\"14.00\">samples = 116</text>\n<text text-anchor=\"middle\" x=\"454\" y=\"-22.8\" font-family=\"Helvetica,sans-Serif\" font-size=\"14.00\">value = [33, 83]</text>\n<text text-anchor=\"middle\" x=\"454\" y=\"-7.8\" font-family=\"Helvetica,sans-Serif\" font-size=\"14.00\">class = Retained</text>\n</g>\n<!-- 9&#45;&gt;11 -->\n<g id=\"edge11\" class=\"edge\">\n<title>9&#45;&gt;11</title>\n<path fill=\"none\" stroke=\"black\" d=\"M502.96,-103.73C496.65,-94.88 489.98,-85.51 483.65,-76.63\"/>\n<polygon fill=\"black\" stroke=\"black\" points=\"486.37,-74.41 477.72,-68.3 480.67,-78.48 486.37,-74.41\"/>\n</g>\n<!-- 12 -->\n<g id=\"node13\" class=\"node\">\n<title>12</title>\n<path fill=\"#47a4e7\" stroke=\"black\" d=\"M640,-68C640,-68 544,-68 544,-68 538,-68 532,-62 532,-56 532,-56 532,-12 532,-12 532,-6 538,0 544,0 544,0 640,0 640,0 646,0 652,-6 652,-12 652,-12 652,-56 652,-56 652,-62 646,-68 640,-68\"/>\n<text text-anchor=\"middle\" x=\"592\" y=\"-52.8\" font-family=\"Helvetica,sans-Serif\" font-size=\"14.00\">gini = 0.124</text>\n<text text-anchor=\"middle\" x=\"592\" y=\"-37.8\" font-family=\"Helvetica,sans-Serif\" font-size=\"14.00\">samples = 483</text>\n<text text-anchor=\"middle\" x=\"592\" y=\"-22.8\" font-family=\"Helvetica,sans-Serif\" font-size=\"14.00\">value = [32, 451]</text>\n<text text-anchor=\"middle\" x=\"592\" y=\"-7.8\" font-family=\"Helvetica,sans-Serif\" font-size=\"14.00\">class = Retained</text>\n</g>\n<!-- 9&#45;&gt;12 -->\n<g id=\"edge12\" class=\"edge\">\n<title>9&#45;&gt;12</title>\n<path fill=\"none\" stroke=\"black\" d=\"M554.34,-103.73C559.09,-95.06 564.11,-85.9 568.89,-77.18\"/>\n<polygon fill=\"black\" stroke=\"black\" points=\"572.02,-78.75 573.75,-68.3 565.88,-75.39 572.02,-78.75\"/>\n</g>\n</g>\n</svg>\n",
      "text/plain": [
       "<graphviz.sources.Source at 0x13d84bb46d0>"
      ]
     },
     "execution_count": 24,
     "metadata": {},
     "output_type": "execute_result"
    }
   ],
   "source": [
    "from sklearn.tree import export_graphviz\n",
    "dot_data = export_graphviz(classifier_DT, feature_names = X_train.columns, filled = True, rounded = True, class_names=[\"Not Retained\",\"Retained\"])\n",
    "graph = gp.Source(dot_data)\n",
    "graph"
   ]
  },
  {
   "cell_type": "markdown",
   "metadata": {},
   "source": [
    "Then we use it to obtain the predicted probabilities of retention (i.e., classifier = 1) on `X_validation` using `.predict_proba`."
   ]
  },
  {
   "cell_type": "code",
   "execution_count": 25,
   "metadata": {},
   "outputs": [],
   "source": [
    "y_pred_prob = classifier_DT.predict_proba(X_validation)[:,1] # probabilities"
   ]
  },
  {
   "cell_type": "markdown",
   "metadata": {},
   "source": [
    "How good is the model? Compute the AUC for this model and the accuracy using the same threshold as above."
   ]
  },
  {
   "cell_type": "code",
   "execution_count": 26,
   "metadata": {},
   "outputs": [
    {
     "data": {
      "text/plain": [
       "0.8584795321637426"
      ]
     },
     "execution_count": 26,
     "metadata": {},
     "output_type": "execute_result"
    }
   ],
   "source": [
    "metrics.roc_auc_score(y_validation, y_pred_prob)"
   ]
  },
  {
   "cell_type": "code",
   "execution_count": 27,
   "metadata": {},
   "outputs": [],
   "source": [
    "y_validation_pred = np.where(y_pred_prob > threshold, 1, 0)"
   ]
  },
  {
   "cell_type": "code",
   "execution_count": 28,
   "metadata": {},
   "outputs": [
    {
     "data": {
      "text/plain": [
       "0.7915690866510539"
      ]
     },
     "execution_count": 28,
     "metadata": {},
     "output_type": "execute_result"
    }
   ],
   "source": [
    "metrics.accuracy_score(y_validation,y_validation_pred)"
   ]
  },
  {
   "cell_type": "code",
   "execution_count": 29,
   "metadata": {},
   "outputs": [
    {
     "data": {
      "text/plain": [
       "array([[107,  73],\n",
       "       [ 16, 231]], dtype=int64)"
      ]
     },
     "execution_count": 29,
     "metadata": {},
     "output_type": "execute_result"
    }
   ],
   "source": [
    "metrics.confusion_matrix(y_validation, y_validation_pred)"
   ]
  },
  {
   "cell_type": "markdown",
   "metadata": {},
   "source": [
    "# Part 5: Wrapping up"
   ]
  },
  {
   "cell_type": "markdown",
   "metadata": {},
   "source": [
    "If you were advising this company, what model would you recommend they use? Retrain the model you have selected on the training+validation set, then test it on the test set and report the AUC and profit on the test set. (These could be useful for the company to have.) Comment on the robustness of the approach."
   ]
  },
  {
   "cell_type": "code",
   "execution_count": 30,
   "metadata": {},
   "outputs": [],
   "source": [
    "X_end=X_train.append(X_validation)\n",
    "y_end=y_train.append(y_validation)"
   ]
  },
  {
   "cell_type": "code",
   "execution_count": 31,
   "metadata": {},
   "outputs": [
    {
     "name": "stdout",
     "output_type": "stream",
     "text": [
      "AUC: 0.8328684807256237\n",
      "Profit: 368400\n"
     ]
    }
   ],
   "source": [
    "classifier_DT = DecisionTreeClassifier(max_leaf_nodes = 8)\n",
    "classifier_DT.fit(X_end, y_end)\n",
    "y_pred_prob = classifier_DT.predict_proba(X_test)[:,1]  \n",
    "\n",
    "threshold = 0.7\n",
    "y_test_pred = np.where(y_pred_prob > threshold, 1, 0)\n",
    "\n",
    "print(\"AUC: \" + str(metrics.roc_auc_score(y_test,y_pred_prob)))\n",
    "\n",
    "cm = metrics.confusion_matrix(y_test, y_test_pred)\n",
    "profit = cm[0][0] * 900 + cm[1][0] * 900 + cm[0][1] * 0 + cm[1][1] * 1000\n",
    "\n",
    "print(\"Profit: \" + str(profit))"
   ]
  },
  {
   "cell_type": "markdown",
   "metadata": {},
   "source": [
    "This is a pretty consistent performance."
   ]
  },
  {
   "cell_type": "markdown",
   "metadata": {},
   "source": [
    "Would there be any other recommendations except for the model and the consequent predictions that you would give to the company based on your analyses?"
   ]
  },
  {
   "cell_type": "markdown",
   "metadata": {},
   "source": [
    "- It seems that in every method, \"SingleGradeTripFlag\" intervenes signaling that when the trip contains just a single grade, the client is more likely to come back. We may need to investigate why that is---do trips with multiple grades go badly?\n",
    "- We should maybe do two different analyses based on the \"Is.Non.Annual\" flag: one that is bi-yearly (where we include all datapoints with \"Is.Non.Annual\"=1) and one that is yearly (where we include all datapoints with \"Is.Non.Annual\"=0). \n",
    "- It seems to be really important to capture the first-time clients: once clients have returned once, they seem to keep returning.\n",
    "- The earlier the clients commit and the more full-paying participants they have seems to impact the likelihood of being retained: it seems that STC's best performances intervene in the case where there are a high number of participants."
   ]
  }
 ],
 "metadata": {
  "kernelspec": {
   "display_name": "Python 3 (ipykernel)",
   "language": "python",
   "name": "python3"
  },
  "language_info": {
   "codemirror_mode": {
    "name": "ipython",
    "version": 3
   },
   "file_extension": ".py",
   "mimetype": "text/x-python",
   "name": "python",
   "nbconvert_exporter": "python",
   "pygments_lexer": "ipython3",
   "version": "3.8.8"
  }
 },
 "nbformat": 4,
 "nbformat_minor": 4
}
