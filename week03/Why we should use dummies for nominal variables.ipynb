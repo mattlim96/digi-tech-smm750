{
 "cells": [
  {
   "cell_type": "code",
   "execution_count": 1,
   "id": "253fb6fa",
   "metadata": {},
   "outputs": [],
   "source": [
    "import pandas as pd\n",
    "import statsmodels.api as sm"
   ]
  },
  {
   "cell_type": "markdown",
   "id": "d8f16585",
   "metadata": {},
   "source": [
    "Let's create a simple data frame:"
   ]
  },
  {
   "cell_type": "code",
   "execution_count": 2,
   "id": "ec1664b8",
   "metadata": {},
   "outputs": [
    {
     "data": {
      "text/html": [
       "<div>\n",
       "<style scoped>\n",
       "    .dataframe tbody tr th:only-of-type {\n",
       "        vertical-align: middle;\n",
       "    }\n",
       "\n",
       "    .dataframe tbody tr th {\n",
       "        vertical-align: top;\n",
       "    }\n",
       "\n",
       "    .dataframe thead th {\n",
       "        text-align: right;\n",
       "    }\n",
       "</style>\n",
       "<table border=\"1\" class=\"dataframe\">\n",
       "  <thead>\n",
       "    <tr style=\"text-align: right;\">\n",
       "      <th></th>\n",
       "      <th>color</th>\n",
       "      <th>size</th>\n",
       "    </tr>\n",
       "  </thead>\n",
       "  <tbody>\n",
       "    <tr>\n",
       "      <th>0</th>\n",
       "      <td>red</td>\n",
       "      <td>4</td>\n",
       "    </tr>\n",
       "    <tr>\n",
       "      <th>1</th>\n",
       "      <td>blue</td>\n",
       "      <td>3</td>\n",
       "    </tr>\n",
       "    <tr>\n",
       "      <th>2</th>\n",
       "      <td>green</td>\n",
       "      <td>5</td>\n",
       "    </tr>\n",
       "    <tr>\n",
       "      <th>3</th>\n",
       "      <td>red</td>\n",
       "      <td>3</td>\n",
       "    </tr>\n",
       "    <tr>\n",
       "      <th>4</th>\n",
       "      <td>green</td>\n",
       "      <td>6</td>\n",
       "    </tr>\n",
       "    <tr>\n",
       "      <th>5</th>\n",
       "      <td>green</td>\n",
       "      <td>7</td>\n",
       "    </tr>\n",
       "    <tr>\n",
       "      <th>6</th>\n",
       "      <td>blue</td>\n",
       "      <td>1</td>\n",
       "    </tr>\n",
       "  </tbody>\n",
       "</table>\n",
       "</div>"
      ],
      "text/plain": [
       "   color  size\n",
       "0    red     4\n",
       "1   blue     3\n",
       "2  green     5\n",
       "3    red     3\n",
       "4  green     6\n",
       "5  green     7\n",
       "6   blue     1"
      ]
     },
     "execution_count": 2,
     "metadata": {},
     "output_type": "execute_result"
    }
   ],
   "source": [
    "df = pd.DataFrame({'color':['red','blue','green','red','green','green','blue'],'size':[4,3,5,3,6,7,1]})\n",
    "df"
   ]
  },
  {
   "cell_type": "markdown",
   "id": "32bda404",
   "metadata": {},
   "source": [
    "Start with one-hot-encoding (this is what you should be doing):"
   ]
  },
  {
   "cell_type": "code",
   "execution_count": 3,
   "id": "a371983c",
   "metadata": {},
   "outputs": [
    {
     "data": {
      "text/html": [
       "<div>\n",
       "<style scoped>\n",
       "    .dataframe tbody tr th:only-of-type {\n",
       "        vertical-align: middle;\n",
       "    }\n",
       "\n",
       "    .dataframe tbody tr th {\n",
       "        vertical-align: top;\n",
       "    }\n",
       "\n",
       "    .dataframe thead th {\n",
       "        text-align: right;\n",
       "    }\n",
       "</style>\n",
       "<table border=\"1\" class=\"dataframe\">\n",
       "  <thead>\n",
       "    <tr style=\"text-align: right;\">\n",
       "      <th></th>\n",
       "      <th>size</th>\n",
       "      <th>color_green</th>\n",
       "      <th>color_red</th>\n",
       "    </tr>\n",
       "  </thead>\n",
       "  <tbody>\n",
       "    <tr>\n",
       "      <th>0</th>\n",
       "      <td>4</td>\n",
       "      <td>0</td>\n",
       "      <td>1</td>\n",
       "    </tr>\n",
       "    <tr>\n",
       "      <th>1</th>\n",
       "      <td>3</td>\n",
       "      <td>0</td>\n",
       "      <td>0</td>\n",
       "    </tr>\n",
       "    <tr>\n",
       "      <th>2</th>\n",
       "      <td>5</td>\n",
       "      <td>1</td>\n",
       "      <td>0</td>\n",
       "    </tr>\n",
       "    <tr>\n",
       "      <th>3</th>\n",
       "      <td>3</td>\n",
       "      <td>0</td>\n",
       "      <td>1</td>\n",
       "    </tr>\n",
       "    <tr>\n",
       "      <th>4</th>\n",
       "      <td>6</td>\n",
       "      <td>1</td>\n",
       "      <td>0</td>\n",
       "    </tr>\n",
       "    <tr>\n",
       "      <th>5</th>\n",
       "      <td>7</td>\n",
       "      <td>1</td>\n",
       "      <td>0</td>\n",
       "    </tr>\n",
       "    <tr>\n",
       "      <th>6</th>\n",
       "      <td>1</td>\n",
       "      <td>0</td>\n",
       "      <td>0</td>\n",
       "    </tr>\n",
       "  </tbody>\n",
       "</table>\n",
       "</div>"
      ],
      "text/plain": [
       "   size  color_green  color_red\n",
       "0     4            0          1\n",
       "1     3            0          0\n",
       "2     5            1          0\n",
       "3     3            0          1\n",
       "4     6            1          0\n",
       "5     7            1          0\n",
       "6     1            0          0"
      ]
     },
     "execution_count": 3,
     "metadata": {},
     "output_type": "execute_result"
    }
   ],
   "source": [
    "dfnew = pd.get_dummies(df,drop_first=True,columns=['color'])\n",
    "dfnew"
   ]
  },
  {
   "cell_type": "markdown",
   "id": "4d74583b",
   "metadata": {},
   "source": [
    "Let's run a regression:"
   ]
  },
  {
   "cell_type": "code",
   "execution_count": 4,
   "id": "aa8ffcad",
   "metadata": {},
   "outputs": [
    {
     "name": "stdout",
     "output_type": "stream",
     "text": [
      "                            OLS Regression Results                            \n",
      "==============================================================================\n",
      "Dep. Variable:                   size   R-squared:                       0.819\n",
      "Model:                            OLS   Adj. R-squared:                  0.728\n",
      "Method:                 Least Squares   F-statistic:                     9.048\n",
      "Date:                Sun, 31 Oct 2021   Prob (F-statistic):             0.0328\n",
      "Time:                        16:54:51   Log-Likelihood:                -8.3862\n",
      "No. Observations:                   7   AIC:                             22.77\n",
      "Df Residuals:                       4   BIC:                             22.61\n",
      "Df Model:                           2                                         \n",
      "Covariance Type:            nonrobust                                         \n",
      "===============================================================================\n",
      "                  coef    std err          t      P>|t|      [0.025      0.975]\n",
      "-------------------------------------------------------------------------------\n",
      "const           2.0000      0.750      2.667      0.056      -0.082       4.082\n",
      "color_green     4.0000      0.968      4.131      0.014       1.312       6.688\n",
      "color_red       1.5000      1.061      1.414      0.230      -1.445       4.445\n",
      "==============================================================================\n",
      "Omnibus:                          nan   Durbin-Watson:                   2.167\n",
      "Prob(Omnibus):                    nan   Jarque-Bera (JB):                0.723\n",
      "Skew:                           0.000   Prob(JB):                        0.697\n",
      "Kurtosis:                       1.426   Cond. No.                         4.04\n",
      "==============================================================================\n",
      "\n",
      "Notes:\n",
      "[1] Standard Errors assume that the covariance matrix of the errors is correctly specified.\n"
     ]
    },
    {
     "name": "stderr",
     "output_type": "stream",
     "text": [
      "C:\\Users\\Mattheus\\anaconda3\\envs\\smm750\\lib\\site-packages\\statsmodels\\stats\\stattools.py:74: ValueWarning: omni_normtest is not valid with less than 8 observations; 7 samples were given.\n",
      "  warn(\"omni_normtest is not valid with less than 8 observations; %i \"\n"
     ]
    }
   ],
   "source": [
    "X = dfnew[['color_green','color_red']]\n",
    "Y = dfnew[['size']]\n",
    "\n",
    "X = sm.add_constant(X)\n",
    "lm = sm.OLS(Y, X).fit()\n",
    "print(lm.summary())"
   ]
  },
  {
   "cell_type": "markdown",
   "id": "aa1575cd",
   "metadata": {},
   "source": [
    "What does this say? The baseline value is $2$ (this is the average for any \"blue\" observation). Green observations on average have a size of $2 + 4 = 6$. Red observations have an average size of $2 + 1.5 = 3.5$."
   ]
  },
  {
   "cell_type": "markdown",
   "id": "54318fe3",
   "metadata": {},
   "source": [
    "Now, let's try ordinal encoding. We will just an arbitrary sequence:"
   ]
  },
  {
   "cell_type": "code",
   "execution_count": 5,
   "id": "1c9baae8",
   "metadata": {},
   "outputs": [
    {
     "data": {
      "text/html": [
       "<div>\n",
       "<style scoped>\n",
       "    .dataframe tbody tr th:only-of-type {\n",
       "        vertical-align: middle;\n",
       "    }\n",
       "\n",
       "    .dataframe tbody tr th {\n",
       "        vertical-align: top;\n",
       "    }\n",
       "\n",
       "    .dataframe thead th {\n",
       "        text-align: right;\n",
       "    }\n",
       "</style>\n",
       "<table border=\"1\" class=\"dataframe\">\n",
       "  <thead>\n",
       "    <tr style=\"text-align: right;\">\n",
       "      <th></th>\n",
       "      <th>color</th>\n",
       "      <th>size</th>\n",
       "    </tr>\n",
       "  </thead>\n",
       "  <tbody>\n",
       "    <tr>\n",
       "      <th>0</th>\n",
       "      <td>2.0</td>\n",
       "      <td>4</td>\n",
       "    </tr>\n",
       "    <tr>\n",
       "      <th>1</th>\n",
       "      <td>1.0</td>\n",
       "      <td>3</td>\n",
       "    </tr>\n",
       "    <tr>\n",
       "      <th>2</th>\n",
       "      <td>0.0</td>\n",
       "      <td>5</td>\n",
       "    </tr>\n",
       "    <tr>\n",
       "      <th>3</th>\n",
       "      <td>2.0</td>\n",
       "      <td>3</td>\n",
       "    </tr>\n",
       "    <tr>\n",
       "      <th>4</th>\n",
       "      <td>0.0</td>\n",
       "      <td>6</td>\n",
       "    </tr>\n",
       "    <tr>\n",
       "      <th>5</th>\n",
       "      <td>0.0</td>\n",
       "      <td>7</td>\n",
       "    </tr>\n",
       "    <tr>\n",
       "      <th>6</th>\n",
       "      <td>1.0</td>\n",
       "      <td>1</td>\n",
       "    </tr>\n",
       "  </tbody>\n",
       "</table>\n",
       "</div>"
      ],
      "text/plain": [
       "   color  size\n",
       "0    2.0     4\n",
       "1    1.0     3\n",
       "2    0.0     5\n",
       "3    2.0     3\n",
       "4    0.0     6\n",
       "5    0.0     7\n",
       "6    1.0     1"
      ]
     },
     "execution_count": 5,
     "metadata": {},
     "output_type": "execute_result"
    }
   ],
   "source": [
    "from sklearn.preprocessing import OrdinalEncoder\n",
    "\n",
    "dfnew = df.copy()\n",
    "encoder = OrdinalEncoder(categories=[['green','blue','red']]) \n",
    "dfnew[['color']] = encoder.fit_transform(dfnew[['color']])\n",
    "dfnew"
   ]
  },
  {
   "cell_type": "markdown",
   "id": "98f0298e",
   "metadata": {},
   "source": [
    "We again run a regression:"
   ]
  },
  {
   "cell_type": "code",
   "execution_count": 6,
   "id": "ddd69055",
   "metadata": {},
   "outputs": [
    {
     "name": "stdout",
     "output_type": "stream",
     "text": [
      "                            OLS Regression Results                            \n",
      "==============================================================================\n",
      "Dep. Variable:                   size   R-squared:                       0.389\n",
      "Model:                            OLS   Adj. R-squared:                  0.267\n",
      "Method:                 Least Squares   F-statistic:                     3.189\n",
      "Date:                Sun, 31 Oct 2021   Prob (F-statistic):              0.134\n",
      "Time:                        16:54:51   Log-Likelihood:                -12.641\n",
      "No. Observations:                   7   AIC:                             29.28\n",
      "Df Residuals:                       5   BIC:                             29.17\n",
      "Df Model:                           1                                         \n",
      "Covariance Type:            nonrobust                                         \n",
      "==============================================================================\n",
      "                 coef    std err          t      P>|t|      [0.025      0.975]\n",
      "------------------------------------------------------------------------------\n",
      "const          5.3529      0.945      5.665      0.002       2.924       7.782\n",
      "color         -1.4118      0.791     -1.786      0.134      -3.444       0.620\n",
      "==============================================================================\n",
      "Omnibus:                          nan   Durbin-Watson:                   1.906\n",
      "Prob(Omnibus):                    nan   Jarque-Bera (JB):                0.814\n",
      "Skew:                          -0.819   Prob(JB):                        0.666\n",
      "Kurtosis:                       2.671   Cond. No.                         2.52\n",
      "==============================================================================\n",
      "\n",
      "Notes:\n",
      "[1] Standard Errors assume that the covariance matrix of the errors is correctly specified.\n"
     ]
    },
    {
     "name": "stderr",
     "output_type": "stream",
     "text": [
      "C:\\Users\\Mattheus\\anaconda3\\envs\\smm750\\lib\\site-packages\\statsmodels\\stats\\stattools.py:74: ValueWarning: omni_normtest is not valid with less than 8 observations; 7 samples were given.\n",
      "  warn(\"omni_normtest is not valid with less than 8 observations; %i \"\n"
     ]
    }
   ],
   "source": [
    "X = dfnew[['color']]\n",
    "Y = dfnew[['size']]\n",
    "\n",
    "X = sm.add_constant(X)\n",
    "lm = sm.OLS(Y, X).fit()\n",
    "print(lm.summary())"
   ]
  },
  {
   "cell_type": "markdown",
   "id": "58247386",
   "metadata": {},
   "source": [
    "Green is zero. Hence, the regressions ays that the average green observation should have size 5.3. Blue is 1, hence the average blue observation should have $5.3 - 1*1.4 = 3.9$. Red is 2, so the average red observation should have $5.3 - 2*1.4 = 2.5$. Of course, we can easily see that blue observations actually have a smaller average than red. But the order we gave puts an additional constraint on the model. We see that the model in fact fits much worse (Adjusted $R^2$ of 0.267 instead of 0.728."
   ]
  },
  {
   "cell_type": "code",
   "execution_count": null,
   "id": "ee168783",
   "metadata": {},
   "outputs": [],
   "source": []
  }
 ],
 "metadata": {
  "interpreter": {
   "hash": "df4e212b3ca48d28190f7fa319070b735bf716a22d4b5700005d4436fb499095"
  },
  "kernelspec": {
   "display_name": "Python 3.8.8 64-bit ('smm750': conda)",
   "name": "python3"
  },
  "language_info": {
   "codemirror_mode": {
    "name": "ipython",
    "version": 3
   },
   "file_extension": ".py",
   "mimetype": "text/x-python",
   "name": "python",
   "nbconvert_exporter": "python",
   "pygments_lexer": "ipython3",
   "version": "3.8.8"
  }
 },
 "nbformat": 4,
 "nbformat_minor": 5
}
