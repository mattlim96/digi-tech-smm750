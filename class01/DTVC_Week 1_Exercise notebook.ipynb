{
 "cells": [
  {
   "cell_type": "markdown",
   "source": [
    "In this notebook, we are going to review some of the basics in Python that you partially covered in your introductory classes. We will get started on some very easy exercises and progressively see more complicated topics.\n",
    "\n",
    "The goal of this short tutorial is to reinforce important basics, and for you to see whether you'll be comfortable using Python throughout the class - if there are any issues, we want to make sure to fix them early on, to get the best learning experience.\n",
    "\n",
    "Please fill in the document as you go!"
   ],
   "metadata": {}
  },
  {
   "cell_type": "markdown",
   "source": [
    "## Welcome to our first Jupyter notebook!\n",
    "\n",
    "This is a markdown, where you can read text written in a \"normal\" font. These will be interspersed with coding blocks that you can run. \n",
    "\n",
    "As you may know, Python is open source code. This means that anyone is free to contribute to writing bits of it and anyone can use it free of charge. A collection of pieces of code is called a package: we install packages so we don't have to rewrite things from scratch every time. We can leverage what other people have already done!\n",
    "\n",
    "As a consequence, the first commands you will see here deal with package installation. These packages will be installed using \"conda install name_of_package\". You may also come across the code \"pip install name_of_package\": these are similar commands. As we are working with Anaconda, the first one is easier to use. But if for some reason, conda install fails to work for you, switch to pip (also, many packages are not available with conda, but only with pip)!\n",
    "\n",
    "The way it works for most coding languages is that packages only have to be installed *once*. This is similar to downloading an app e.g. on your phone. However, packages generally have to be loaded or imported at the beginning of every session (i.e., every time you re-open anaconda). This is similar to opening the app on your phone. It means that the package is active in the background. \n",
    "\n",
    "As a consequence, I am including some \"installation commands\" at the beginning of this notebook. In the future, you won't need to run those code segments again: you will just have to load them.. However, it doesn't really matter if you forget and run them again - anaconda will check for you whether they are already there, and if they are, will simply not reinstall them.\n",
    "\n",
    "Note that we are downloading an awful lot of packages here. This is because these packages will come in useful at many point in times in this course, so we may as well install them from the get-go. However, you will only need to have installed `numpy` and `pandas` for the rest of the notebook, so feel free to skip the rest during class if you run into trouble and try installing them after class."
   ],
   "metadata": {}
  },
  {
   "cell_type": "code",
   "execution_count": 1,
   "source": [
    "conda install numpy"
   ],
   "outputs": [
    {
     "output_type": "stream",
     "name": "stdout",
     "text": [
      "Collecting package metadata (current_repodata.json): done\n",
      "Solving environment: done\n",
      "\n",
      "# All requested packages already installed.\n",
      "\n",
      "\n",
      "Note: you may need to restart the kernel to use updated packages.\n"
     ]
    }
   ],
   "metadata": {}
  },
  {
   "cell_type": "code",
   "execution_count": 2,
   "source": [
    "conda install scipy"
   ],
   "outputs": [
    {
     "output_type": "stream",
     "name": "stdout",
     "text": [
      "Collecting package metadata (current_repodata.json): done\n",
      "Solving environment: done\n",
      "\n",
      "# All requested packages already installed.\n",
      "\n",
      "\n",
      "Note: you may need to restart the kernel to use updated packages.\n"
     ]
    }
   ],
   "metadata": {}
  },
  {
   "cell_type": "code",
   "execution_count": 3,
   "source": [
    "conda install pandas"
   ],
   "outputs": [
    {
     "output_type": "stream",
     "name": "stdout",
     "text": [
      "Collecting package metadata (current_repodata.json): done\n",
      "Solving environment: done\n",
      "\n",
      "# All requested packages already installed.\n",
      "\n",
      "\n",
      "Note: you may need to restart the kernel to use updated packages.\n"
     ]
    }
   ],
   "metadata": {}
  },
  {
   "cell_type": "code",
   "execution_count": 4,
   "source": [
    "conda install matplotlib"
   ],
   "outputs": [
    {
     "output_type": "stream",
     "name": "stdout",
     "text": [
      "Collecting package metadata (current_repodata.json): done\n",
      "Solving environment: done\n",
      "\n",
      "# All requested packages already installed.\n",
      "\n",
      "\n",
      "Note: you may need to restart the kernel to use updated packages.\n"
     ]
    }
   ],
   "metadata": {}
  },
  {
   "cell_type": "code",
   "execution_count": 5,
   "source": [
    "conda install statsmodels"
   ],
   "outputs": [
    {
     "output_type": "stream",
     "name": "stdout",
     "text": [
      "Collecting package metadata (current_repodata.json): done\n",
      "Solving environment: done\n",
      "\n",
      "# All requested packages already installed.\n",
      "\n",
      "\n",
      "Note: you may need to restart the kernel to use updated packages.\n"
     ]
    }
   ],
   "metadata": {}
  },
  {
   "cell_type": "code",
   "execution_count": 6,
   "source": [
    "conda install seaborn"
   ],
   "outputs": [
    {
     "output_type": "stream",
     "name": "stdout",
     "text": [
      "Collecting package metadata (current_repodata.json): done\n",
      "Solving environment: done\n",
      "\n",
      "# All requested packages already installed.\n",
      "\n",
      "\n",
      "Note: you may need to restart the kernel to use updated packages.\n"
     ]
    }
   ],
   "metadata": {}
  },
  {
   "cell_type": "code",
   "execution_count": 7,
   "source": [
    "conda install scikit-learn"
   ],
   "outputs": [
    {
     "output_type": "stream",
     "name": "stdout",
     "text": [
      "Collecting package metadata (current_repodata.json): done\n",
      "Solving environment: done\n",
      "\n",
      "# All requested packages already installed.\n",
      "\n",
      "\n",
      "Note: you may need to restart the kernel to use updated packages.\n"
     ]
    }
   ],
   "metadata": {}
  },
  {
   "cell_type": "code",
   "execution_count": 8,
   "source": [
    "conda install graphviz"
   ],
   "outputs": [
    {
     "output_type": "stream",
     "name": "stdout",
     "text": [
      "Collecting package metadata (current_repodata.json): done\n",
      "Solving environment: done\n",
      "\n",
      "# All requested packages already installed.\n",
      "\n",
      "\n",
      "Note: you may need to restart the kernel to use updated packages.\n"
     ]
    }
   ],
   "metadata": {}
  },
  {
   "cell_type": "code",
   "execution_count": 9,
   "source": [
    "conda install python-graphviz"
   ],
   "outputs": [
    {
     "output_type": "stream",
     "name": "stdout",
     "text": [
      "Collecting package metadata (current_repodata.json): done\n",
      "Solving environment: done\n",
      "\n",
      "# All requested packages already installed.\n",
      "\n",
      "\n",
      "Note: you may need to restart the kernel to use updated packages.\n"
     ]
    }
   ],
   "metadata": {}
  },
  {
   "cell_type": "code",
   "execution_count": 10,
   "source": [
    "pip install pygal_maps_world "
   ],
   "outputs": [
    {
     "output_type": "stream",
     "name": "stdout",
     "text": [
      "Requirement already satisfied: pygal_maps_world in /opt/anaconda3/envs/smm750/lib/python3.7/site-packages (1.0.2)\n",
      "Requirement already satisfied: pygal>=1.9.9 in /opt/anaconda3/envs/smm750/lib/python3.7/site-packages (from pygal_maps_world) (2.4.0)\n",
      "Note: you may need to restart the kernel to use updated packages.\n"
     ]
    }
   ],
   "metadata": {}
  },
  {
   "cell_type": "code",
   "execution_count": 11,
   "source": [
    "pip install tweepy"
   ],
   "outputs": [
    {
     "output_type": "stream",
     "name": "stdout",
     "text": [
      "Requirement already satisfied: tweepy in /opt/anaconda3/envs/smm750/lib/python3.7/site-packages (4.1.0)\n",
      "Requirement already satisfied: requests-oauthlib<2,>=1.0.0 in /opt/anaconda3/envs/smm750/lib/python3.7/site-packages (from tweepy) (1.3.0)\n",
      "Requirement already satisfied: requests<3,>=2.11.1 in /opt/anaconda3/envs/smm750/lib/python3.7/site-packages (from tweepy) (2.26.0)\n",
      "Requirement already satisfied: certifi>=2017.4.17 in /opt/anaconda3/envs/smm750/lib/python3.7/site-packages (from requests<3,>=2.11.1->tweepy) (2021.5.30)\n",
      "Requirement already satisfied: urllib3<1.27,>=1.21.1 in /opt/anaconda3/envs/smm750/lib/python3.7/site-packages (from requests<3,>=2.11.1->tweepy) (1.26.7)\n",
      "Requirement already satisfied: idna<4,>=2.5 in /opt/anaconda3/envs/smm750/lib/python3.7/site-packages (from requests<3,>=2.11.1->tweepy) (3.2)\n",
      "Requirement already satisfied: charset-normalizer~=2.0.0 in /opt/anaconda3/envs/smm750/lib/python3.7/site-packages (from requests<3,>=2.11.1->tweepy) (2.0.6)\n",
      "Requirement already satisfied: oauthlib>=3.0.0 in /opt/anaconda3/envs/smm750/lib/python3.7/site-packages (from requests-oauthlib<2,>=1.0.0->tweepy) (3.1.1)\n",
      "Note: you may need to restart the kernel to use updated packages.\n"
     ]
    }
   ],
   "metadata": {}
  },
  {
   "cell_type": "code",
   "execution_count": 12,
   "source": [
    "pip install beautifulsoup4"
   ],
   "outputs": [
    {
     "output_type": "stream",
     "name": "stdout",
     "text": [
      "Requirement already satisfied: beautifulsoup4 in /opt/anaconda3/envs/smm750/lib/python3.7/site-packages (4.10.0)\n",
      "Requirement already satisfied: soupsieve>1.2 in /opt/anaconda3/envs/smm750/lib/python3.7/site-packages (from beautifulsoup4) (2.2.1)\n",
      "Note: you may need to restart the kernel to use updated packages.\n"
     ]
    }
   ],
   "metadata": {}
  },
  {
   "cell_type": "code",
   "execution_count": 13,
   "source": [
    "pip install requests"
   ],
   "outputs": [
    {
     "output_type": "stream",
     "name": "stdout",
     "text": [
      "Requirement already satisfied: requests in /opt/anaconda3/envs/smm750/lib/python3.7/site-packages (2.26.0)\n",
      "Requirement already satisfied: urllib3<1.27,>=1.21.1 in /opt/anaconda3/envs/smm750/lib/python3.7/site-packages (from requests) (1.26.7)\n",
      "Requirement already satisfied: idna<4,>=2.5 in /opt/anaconda3/envs/smm750/lib/python3.7/site-packages (from requests) (3.2)\n",
      "Requirement already satisfied: certifi>=2017.4.17 in /opt/anaconda3/envs/smm750/lib/python3.7/site-packages (from requests) (2021.5.30)\n",
      "Requirement already satisfied: charset-normalizer~=2.0.0 in /opt/anaconda3/envs/smm750/lib/python3.7/site-packages (from requests) (2.0.6)\n",
      "Note: you may need to restart the kernel to use updated packages.\n"
     ]
    }
   ],
   "metadata": {}
  },
  {
   "cell_type": "code",
   "execution_count": 14,
   "source": [
    "pip install splash"
   ],
   "outputs": [
    {
     "output_type": "stream",
     "name": "stdout",
     "text": [
      "Requirement already satisfied: splash in /opt/anaconda3/envs/smm750/lib/python3.7/site-packages (3.5)\n",
      "Requirement already satisfied: adblockparser in /opt/anaconda3/envs/smm750/lib/python3.7/site-packages (from splash) (0.7)\n",
      "Requirement already satisfied: psutil in /opt/anaconda3/envs/smm750/lib/python3.7/site-packages (from splash) (5.8.0)\n",
      "Requirement already satisfied: Twisted[http2]>=19.7.0 in /opt/anaconda3/envs/smm750/lib/python3.7/site-packages (from splash) (21.7.0)\n",
      "Requirement already satisfied: xvfbwrapper in /opt/anaconda3/envs/smm750/lib/python3.7/site-packages (from splash) (0.2.9)\n",
      "Requirement already satisfied: funcparserlib in /opt/anaconda3/envs/smm750/lib/python3.7/site-packages (from splash) (0.3.5)\n",
      "Requirement already satisfied: attrs>=18.2.0 in /opt/anaconda3/envs/smm750/lib/python3.7/site-packages (from splash) (21.2.0)\n",
      "Requirement already satisfied: qt5reactor in /opt/anaconda3/envs/smm750/lib/python3.7/site-packages (from splash) (0.6.3)\n",
      "Requirement already satisfied: Pillow>=3.4.2 in /opt/anaconda3/envs/smm750/lib/python3.7/site-packages (from splash) (8.3.1)\n",
      "Requirement already satisfied: constantly>=15.1 in /opt/anaconda3/envs/smm750/lib/python3.7/site-packages (from Twisted[http2]>=19.7.0->splash) (15.1.0)\n",
      "Requirement already satisfied: typing-extensions>=3.6.5 in /opt/anaconda3/envs/smm750/lib/python3.7/site-packages (from Twisted[http2]>=19.7.0->splash) (3.10.0.2)\n",
      "Requirement already satisfied: Automat>=0.8.0 in /opt/anaconda3/envs/smm750/lib/python3.7/site-packages (from Twisted[http2]>=19.7.0->splash) (20.2.0)\n",
      "Requirement already satisfied: zope.interface>=4.4.2 in /opt/anaconda3/envs/smm750/lib/python3.7/site-packages (from Twisted[http2]>=19.7.0->splash) (5.4.0)\n",
      "Requirement already satisfied: incremental>=21.3.0 in /opt/anaconda3/envs/smm750/lib/python3.7/site-packages (from Twisted[http2]>=19.7.0->splash) (21.3.0)\n",
      "Requirement already satisfied: hyperlink>=17.1.1 in /opt/anaconda3/envs/smm750/lib/python3.7/site-packages (from Twisted[http2]>=19.7.0->splash) (21.0.0)\n",
      "Requirement already satisfied: priority<2.0,>=1.1.0 in /opt/anaconda3/envs/smm750/lib/python3.7/site-packages (from Twisted[http2]>=19.7.0->splash) (1.3.0)\n",
      "Requirement already satisfied: h2<4.0,>=3.0 in /opt/anaconda3/envs/smm750/lib/python3.7/site-packages (from Twisted[http2]>=19.7.0->splash) (3.2.0)\n",
      "Requirement already satisfied: six in /opt/anaconda3/envs/smm750/lib/python3.7/site-packages (from Automat>=0.8.0->Twisted[http2]>=19.7.0->splash) (1.16.0)\n",
      "Requirement already satisfied: hpack<4,>=3.0 in /opt/anaconda3/envs/smm750/lib/python3.7/site-packages (from h2<4.0,>=3.0->Twisted[http2]>=19.7.0->splash) (3.0.0)\n",
      "Requirement already satisfied: hyperframe<6,>=5.2.0 in /opt/anaconda3/envs/smm750/lib/python3.7/site-packages (from h2<4.0,>=3.0->Twisted[http2]>=19.7.0->splash) (5.2.0)\n",
      "Requirement already satisfied: idna>=2.5 in /opt/anaconda3/envs/smm750/lib/python3.7/site-packages (from hyperlink>=17.1.1->Twisted[http2]>=19.7.0->splash) (3.2)\n",
      "Requirement already satisfied: setuptools in /opt/anaconda3/envs/smm750/lib/python3.7/site-packages (from zope.interface>=4.4.2->Twisted[http2]>=19.7.0->splash) (58.0.4)\n",
      "Note: you may need to restart the kernel to use updated packages.\n"
     ]
    }
   ],
   "metadata": {}
  },
  {
   "cell_type": "code",
   "execution_count": 15,
   "source": [
    "pip install scrapy"
   ],
   "outputs": [
    {
     "output_type": "stream",
     "name": "stdout",
     "text": [
      "Requirement already satisfied: scrapy in /opt/anaconda3/envs/smm750/lib/python3.7/site-packages (2.5.1)\n",
      "Requirement already satisfied: Twisted[http2]>=17.9.0 in /opt/anaconda3/envs/smm750/lib/python3.7/site-packages (from scrapy) (21.7.0)\n",
      "Requirement already satisfied: cssselect>=0.9.1 in /opt/anaconda3/envs/smm750/lib/python3.7/site-packages (from scrapy) (1.1.0)\n",
      "Requirement already satisfied: h2<4.0,>=3.0 in /opt/anaconda3/envs/smm750/lib/python3.7/site-packages (from scrapy) (3.2.0)\n",
      "Requirement already satisfied: lxml>=3.5.0 in /opt/anaconda3/envs/smm750/lib/python3.7/site-packages (from scrapy) (4.6.3)\n",
      "Requirement already satisfied: protego>=0.1.15 in /opt/anaconda3/envs/smm750/lib/python3.7/site-packages (from scrapy) (0.1.16)\n",
      "Requirement already satisfied: pyOpenSSL>=16.2.0 in /opt/anaconda3/envs/smm750/lib/python3.7/site-packages (from scrapy) (21.0.0)\n",
      "Requirement already satisfied: PyDispatcher>=2.0.5 in /opt/anaconda3/envs/smm750/lib/python3.7/site-packages (from scrapy) (2.0.5)\n",
      "Requirement already satisfied: parsel>=1.5.0 in /opt/anaconda3/envs/smm750/lib/python3.7/site-packages (from scrapy) (1.6.0)\n",
      "Requirement already satisfied: itemloaders>=1.0.1 in /opt/anaconda3/envs/smm750/lib/python3.7/site-packages (from scrapy) (1.0.4)\n",
      "Requirement already satisfied: itemadapter>=0.1.0 in /opt/anaconda3/envs/smm750/lib/python3.7/site-packages (from scrapy) (0.4.0)\n",
      "Requirement already satisfied: cryptography>=2.0 in /opt/anaconda3/envs/smm750/lib/python3.7/site-packages (from scrapy) (35.0.0)\n",
      "Requirement already satisfied: service-identity>=16.0.0 in /opt/anaconda3/envs/smm750/lib/python3.7/site-packages (from scrapy) (21.1.0)\n",
      "Requirement already satisfied: zope.interface>=4.1.3 in /opt/anaconda3/envs/smm750/lib/python3.7/site-packages (from scrapy) (5.4.0)\n",
      "Requirement already satisfied: queuelib>=1.4.2 in /opt/anaconda3/envs/smm750/lib/python3.7/site-packages (from scrapy) (1.6.2)\n",
      "Requirement already satisfied: w3lib>=1.17.0 in /opt/anaconda3/envs/smm750/lib/python3.7/site-packages (from scrapy) (1.22.0)\n",
      "Requirement already satisfied: cffi>=1.12 in /opt/anaconda3/envs/smm750/lib/python3.7/site-packages (from cryptography>=2.0->scrapy) (1.14.6)\n",
      "Requirement already satisfied: pycparser in /opt/anaconda3/envs/smm750/lib/python3.7/site-packages (from cffi>=1.12->cryptography>=2.0->scrapy) (2.20)\n",
      "Requirement already satisfied: hyperframe<6,>=5.2.0 in /opt/anaconda3/envs/smm750/lib/python3.7/site-packages (from h2<4.0,>=3.0->scrapy) (5.2.0)\n",
      "Requirement already satisfied: hpack<4,>=3.0 in /opt/anaconda3/envs/smm750/lib/python3.7/site-packages (from h2<4.0,>=3.0->scrapy) (3.0.0)\n",
      "Requirement already satisfied: jmespath>=0.9.5 in /opt/anaconda3/envs/smm750/lib/python3.7/site-packages (from itemloaders>=1.0.1->scrapy) (0.10.0)\n",
      "Requirement already satisfied: six>=1.6.0 in /opt/anaconda3/envs/smm750/lib/python3.7/site-packages (from parsel>=1.5.0->scrapy) (1.16.0)\n",
      "Requirement already satisfied: pyasn1-modules in /opt/anaconda3/envs/smm750/lib/python3.7/site-packages (from service-identity>=16.0.0->scrapy) (0.2.8)\n",
      "Requirement already satisfied: attrs>=19.1.0 in /opt/anaconda3/envs/smm750/lib/python3.7/site-packages (from service-identity>=16.0.0->scrapy) (21.2.0)\n",
      "Requirement already satisfied: pyasn1 in /opt/anaconda3/envs/smm750/lib/python3.7/site-packages (from service-identity>=16.0.0->scrapy) (0.4.8)\n",
      "Requirement already satisfied: constantly>=15.1 in /opt/anaconda3/envs/smm750/lib/python3.7/site-packages (from Twisted[http2]>=17.9.0->scrapy) (15.1.0)\n",
      "Requirement already satisfied: hyperlink>=17.1.1 in /opt/anaconda3/envs/smm750/lib/python3.7/site-packages (from Twisted[http2]>=17.9.0->scrapy) (21.0.0)\n",
      "Requirement already satisfied: Automat>=0.8.0 in /opt/anaconda3/envs/smm750/lib/python3.7/site-packages (from Twisted[http2]>=17.9.0->scrapy) (20.2.0)\n",
      "Requirement already satisfied: typing-extensions>=3.6.5 in /opt/anaconda3/envs/smm750/lib/python3.7/site-packages (from Twisted[http2]>=17.9.0->scrapy) (3.10.0.2)\n",
      "Requirement already satisfied: incremental>=21.3.0 in /opt/anaconda3/envs/smm750/lib/python3.7/site-packages (from Twisted[http2]>=17.9.0->scrapy) (21.3.0)\n",
      "Requirement already satisfied: priority<2.0,>=1.1.0 in /opt/anaconda3/envs/smm750/lib/python3.7/site-packages (from Twisted[http2]>=17.9.0->scrapy) (1.3.0)\n",
      "Requirement already satisfied: idna>=2.5 in /opt/anaconda3/envs/smm750/lib/python3.7/site-packages (from hyperlink>=17.1.1->Twisted[http2]>=17.9.0->scrapy) (3.2)\n",
      "Requirement already satisfied: setuptools in /opt/anaconda3/envs/smm750/lib/python3.7/site-packages (from zope.interface>=4.1.3->scrapy) (58.0.4)\n",
      "Note: you may need to restart the kernel to use updated packages.\n"
     ]
    }
   ],
   "metadata": {}
  },
  {
   "cell_type": "code",
   "execution_count": 16,
   "source": [
    "pip install scrapy-splash"
   ],
   "outputs": [
    {
     "output_type": "stream",
     "name": "stdout",
     "text": [
      "Requirement already satisfied: scrapy-splash in /opt/anaconda3/envs/smm750/lib/python3.7/site-packages (0.8.0)\n",
      "Note: you may need to restart the kernel to use updated packages.\n"
     ]
    }
   ],
   "metadata": {}
  },
  {
   "cell_type": "code",
   "execution_count": 17,
   "source": [
    "pip install nltk"
   ],
   "outputs": [
    {
     "output_type": "stream",
     "name": "stdout",
     "text": [
      "Requirement already satisfied: nltk in /opt/anaconda3/envs/smm750/lib/python3.7/site-packages (3.6.3)\n",
      "Requirement already satisfied: tqdm in /opt/anaconda3/envs/smm750/lib/python3.7/site-packages (from nltk) (4.62.3)\n",
      "Requirement already satisfied: click in /opt/anaconda3/envs/smm750/lib/python3.7/site-packages (from nltk) (8.0.1)\n",
      "Requirement already satisfied: joblib in /opt/anaconda3/envs/smm750/lib/python3.7/site-packages (from nltk) (1.0.1)\n",
      "Requirement already satisfied: regex in /opt/anaconda3/envs/smm750/lib/python3.7/site-packages (from nltk) (2021.9.30)\n",
      "Requirement already satisfied: importlib-metadata in /opt/anaconda3/envs/smm750/lib/python3.7/site-packages (from click->nltk) (4.8.1)\n",
      "Requirement already satisfied: zipp>=0.5 in /opt/anaconda3/envs/smm750/lib/python3.7/site-packages (from importlib-metadata->click->nltk) (3.5.0)\n",
      "Requirement already satisfied: typing-extensions>=3.6.4 in /opt/anaconda3/envs/smm750/lib/python3.7/site-packages (from importlib-metadata->click->nltk) (3.10.0.2)\n",
      "Note: you may need to restart the kernel to use updated packages.\n"
     ]
    }
   ],
   "metadata": {}
  },
  {
   "cell_type": "code",
   "execution_count": 18,
   "source": [
    "pip install praw"
   ],
   "outputs": [
    {
     "output_type": "stream",
     "name": "stdout",
     "text": [
      "Requirement already satisfied: praw in /opt/anaconda3/envs/smm750/lib/python3.7/site-packages (7.4.0)\n",
      "Requirement already satisfied: update-checker>=0.18 in /opt/anaconda3/envs/smm750/lib/python3.7/site-packages (from praw) (0.18.0)\n",
      "Requirement already satisfied: websocket-client>=0.54.0 in /opt/anaconda3/envs/smm750/lib/python3.7/site-packages (from praw) (1.2.1)\n",
      "Requirement already satisfied: prawcore<3,>=2.1 in /opt/anaconda3/envs/smm750/lib/python3.7/site-packages (from praw) (2.3.0)\n",
      "Requirement already satisfied: requests<3.0,>=2.6.0 in /opt/anaconda3/envs/smm750/lib/python3.7/site-packages (from prawcore<3,>=2.1->praw) (2.26.0)\n",
      "Requirement already satisfied: certifi>=2017.4.17 in /opt/anaconda3/envs/smm750/lib/python3.7/site-packages (from requests<3.0,>=2.6.0->prawcore<3,>=2.1->praw) (2021.5.30)\n",
      "Requirement already satisfied: charset-normalizer~=2.0.0 in /opt/anaconda3/envs/smm750/lib/python3.7/site-packages (from requests<3.0,>=2.6.0->prawcore<3,>=2.1->praw) (2.0.6)\n",
      "Requirement already satisfied: idna<4,>=2.5 in /opt/anaconda3/envs/smm750/lib/python3.7/site-packages (from requests<3.0,>=2.6.0->prawcore<3,>=2.1->praw) (3.2)\n",
      "Requirement already satisfied: urllib3<1.27,>=1.21.1 in /opt/anaconda3/envs/smm750/lib/python3.7/site-packages (from requests<3.0,>=2.6.0->prawcore<3,>=2.1->praw) (1.26.7)\n",
      "Note: you may need to restart the kernel to use updated packages.\n"
     ]
    }
   ],
   "metadata": {}
  },
  {
   "cell_type": "code",
   "execution_count": 19,
   "source": [
    "pip install pytrends"
   ],
   "outputs": [
    {
     "output_type": "stream",
     "name": "stdout",
     "text": [
      "Requirement already satisfied: pytrends in /opt/anaconda3/envs/smm750/lib/python3.7/site-packages (4.7.3)\n",
      "Requirement already satisfied: lxml in /opt/anaconda3/envs/smm750/lib/python3.7/site-packages (from pytrends) (4.6.3)\n",
      "Requirement already satisfied: pandas>=0.25 in /opt/anaconda3/envs/smm750/lib/python3.7/site-packages (from pytrends) (1.3.3)\n",
      "Requirement already satisfied: requests in /opt/anaconda3/envs/smm750/lib/python3.7/site-packages (from pytrends) (2.26.0)\n",
      "Requirement already satisfied: numpy>=1.17.3 in /opt/anaconda3/envs/smm750/lib/python3.7/site-packages (from pandas>=0.25->pytrends) (1.20.3)\n",
      "Requirement already satisfied: python-dateutil>=2.7.3 in /opt/anaconda3/envs/smm750/lib/python3.7/site-packages (from pandas>=0.25->pytrends) (2.8.2)\n",
      "Requirement already satisfied: pytz>=2017.3 in /opt/anaconda3/envs/smm750/lib/python3.7/site-packages (from pandas>=0.25->pytrends) (2021.1)\n",
      "Requirement already satisfied: six>=1.5 in /opt/anaconda3/envs/smm750/lib/python3.7/site-packages (from python-dateutil>=2.7.3->pandas>=0.25->pytrends) (1.16.0)\n",
      "Requirement already satisfied: idna<4,>=2.5 in /opt/anaconda3/envs/smm750/lib/python3.7/site-packages (from requests->pytrends) (3.2)\n",
      "Requirement already satisfied: charset-normalizer~=2.0.0 in /opt/anaconda3/envs/smm750/lib/python3.7/site-packages (from requests->pytrends) (2.0.6)\n",
      "Requirement already satisfied: urllib3<1.27,>=1.21.1 in /opt/anaconda3/envs/smm750/lib/python3.7/site-packages (from requests->pytrends) (1.26.7)\n",
      "Requirement already satisfied: certifi>=2017.4.17 in /opt/anaconda3/envs/smm750/lib/python3.7/site-packages (from requests->pytrends) (2021.5.30)\n",
      "Note: you may need to restart the kernel to use updated packages.\n"
     ]
    }
   ],
   "metadata": {}
  },
  {
   "cell_type": "code",
   "execution_count": 20,
   "source": [
    "pip install selenium"
   ],
   "outputs": [
    {
     "output_type": "stream",
     "name": "stdout",
     "text": [
      "Requirement already satisfied: selenium in /opt/anaconda3/envs/smm750/lib/python3.7/site-packages (3.141.0)\n",
      "Requirement already satisfied: urllib3 in /opt/anaconda3/envs/smm750/lib/python3.7/site-packages (from selenium) (1.26.7)\n",
      "Note: you may need to restart the kernel to use updated packages.\n"
     ]
    }
   ],
   "metadata": {}
  },
  {
   "cell_type": "markdown",
   "source": [
    "# 1. Preambles in a Jupyter Notebook\n",
    "\n",
    "Python is a pretty \"basic\" shell. It contains for example commands to do basic arithmetic and basic data structures (such as lists). To complement the existing functionalities provided by Python, we install **packages**. For any package we wish to use in a notebook, we first need to import it, often renaming it in the process to make it shorter to type out. \n",
    "\n",
    "You don't need to know what each package does exactly but it can be useful to have a high-level idea: the ones we use in this session are numpy (specializes in **arrays** which are ways of storing data) and pandas (specializes in **dataframes** which again are a way of storing data)."
   ],
   "metadata": {}
  },
  {
   "cell_type": "code",
   "execution_count": 35,
   "source": [
    "import numpy as np\n",
    "import pandas as pd"
   ],
   "outputs": [],
   "metadata": {}
  },
  {
   "cell_type": "markdown",
   "source": [
    "In general, in preambles of the notebooks I give you, there is also a part that reads in the data that we are going to use throughout the lecture. We will see how we \"read in\" data later on."
   ],
   "metadata": {}
  },
  {
   "cell_type": "markdown",
   "source": [
    "# 2. Print, variable assignment and types, basic operations, lists\n",
    "\n",
    "All of the concepts we see here should be easy and immediate for you in the long-run (i.e., you should be so familiar with them that you don't need any googling or help using them). \n",
    "\n",
    "## 1. Printing\n",
    "\n",
    "The \"print\" command enables us to \"see\" what is going on in the background. We use it in this way: `print(\"Hello World!\")`. Try it out!"
   ],
   "metadata": {}
  },
  {
   "cell_type": "code",
   "execution_count": 23,
   "source": [
    "print(\"hello world\")"
   ],
   "outputs": [
    {
     "output_type": "stream",
     "name": "stdout",
     "text": [
      "hello world\n"
     ]
    }
   ],
   "metadata": {}
  },
  {
   "cell_type": "markdown",
   "source": [
    "Note that you can get round using `print` if you just type `Hello World!` e.g. Try it out!"
   ],
   "metadata": {}
  },
  {
   "cell_type": "code",
   "execution_count": 26,
   "source": [
    "\"Hello World!\""
   ],
   "outputs": [
    {
     "output_type": "execute_result",
     "data": {
      "text/plain": [
       "'Hello World!'"
      ]
     },
     "metadata": {},
     "execution_count": 26
    }
   ],
   "metadata": {}
  },
  {
   "cell_type": "markdown",
   "source": [
    "This only works for the last command you type in though. If you type ` \"Hello World!\"` and then, in the same block, `\"My name is...\"`, only the last one appears. Try it out! This is where `print` is particularly useful."
   ],
   "metadata": {}
  },
  {
   "cell_type": "code",
   "execution_count": 48,
   "source": [
    "\"Hello World!\"\n",
    "\"My name is...\""
   ],
   "outputs": [
    {
     "output_type": "execute_result",
     "data": {
      "text/plain": [
       "'My name is...'"
      ]
     },
     "metadata": {},
     "execution_count": 48
    }
   ],
   "metadata": {}
  },
  {
   "cell_type": "markdown",
   "source": [
    "## 2. Variable Assignment and Types\n",
    "\n",
    "It is very useful to know how to store information into a variable. For example, if the price of a good is 28.75 euros and I don't want to keep remembering this number, I can simply write `p=28.75` and then call `p` throughout. This is known as *variable assignment*: we assign to the variable p the value 28.75. \n",
    "\n",
    "Try assigning the integer 104 to the variable `number`. Then print out `number`."
   ],
   "metadata": {}
  },
  {
   "cell_type": "code",
   "execution_count": 30,
   "source": [
    "number = 4\n",
    "number"
   ],
   "outputs": [
    {
     "output_type": "execute_result",
     "data": {
      "text/plain": [
       "4"
      ]
     },
     "metadata": {},
     "execution_count": 30
    }
   ],
   "metadata": {}
  },
  {
   "cell_type": "markdown",
   "source": [
    "To organize things, Python classifies information into categories and then handles these categories differently. There are many categories but we just focus on three: integers (such as 104), floats (you can view these as decimal numbers), and strings (which are text based). For Python to recognize these categories, you don't have to do much except input your information correctly. You can use `type` to see what this gives you. For example:"
   ],
   "metadata": {}
  },
  {
   "cell_type": "code",
   "execution_count": 31,
   "source": [
    "number=104\n",
    "type(number)"
   ],
   "outputs": [
    {
     "output_type": "execute_result",
     "data": {
      "text/plain": [
       "int"
      ]
     },
     "metadata": {},
     "execution_count": 31
    }
   ],
   "metadata": {}
  },
  {
   "cell_type": "markdown",
   "source": [
    "Now pick your favorite float and string, assign them to some variables and print out their type!"
   ],
   "metadata": {}
  },
  {
   "cell_type": "code",
   "execution_count": 32,
   "source": [
    "f = 1.0\n",
    "s = 'hello'\n",
    "print(f,s)"
   ],
   "outputs": [
    {
     "output_type": "stream",
     "name": "stdout",
     "text": [
      "1.0 hello\n"
     ]
    }
   ],
   "metadata": {}
  },
  {
   "cell_type": "markdown",
   "source": [
    "## 3. Basic operations\n",
    "\n",
    "These are the basic arithmetic operations that you may have to conduct: they include `+` for addition, `-` for substraction, `*` for multiplication, `/` for division and `**` for powers. \n",
    "\n",
    "Our first exercise is to take any temperature in Celsius and conver it to Fahrenheit. For example, $0^\\circ C \\cdot 9/5+32= 32^\\circ F$. How much is $15^\\circ$ Celsius in Fahrenheit?"
   ],
   "metadata": {}
  },
  {
   "cell_type": "code",
   "execution_count": 33,
   "source": [
    "print(number + f)"
   ],
   "outputs": [
    {
     "output_type": "stream",
     "name": "stdout",
     "text": [
      "105.0\n"
     ]
    }
   ],
   "metadata": {
    "scrolled": true
   }
  },
  {
   "cell_type": "markdown",
   "source": [
    "Compute the area of a circle of radius 3. (Reminder: $A=\\pi R^2$ and use `np.pi` for $\\pi$.)"
   ],
   "metadata": {}
  },
  {
   "cell_type": "code",
   "execution_count": 36,
   "source": [
    "A = np.pi * 3 ** 2\n",
    "A"
   ],
   "outputs": [
    {
     "output_type": "execute_result",
     "data": {
      "text/plain": [
       "28.274333882308138"
      ]
     },
     "metadata": {},
     "execution_count": 36
    }
   ],
   "metadata": {}
  },
  {
   "cell_type": "markdown",
   "source": [
    "The `%` operation gives the remainder of a division: try `10%2` versus `11%2`."
   ],
   "metadata": {}
  },
  {
   "cell_type": "code",
   "execution_count": 39,
   "source": [
    "r1 = 10%2\n",
    "r2 = 11%2\n",
    "print(r1, 'vs', r2)"
   ],
   "outputs": [
    {
     "output_type": "stream",
     "name": "stdout",
     "text": [
      "0 vs 1\n"
     ]
    }
   ],
   "metadata": {}
  },
  {
   "cell_type": "code",
   "execution_count": null,
   "source": [],
   "outputs": [],
   "metadata": {}
  },
  {
   "cell_type": "markdown",
   "source": [
    "## 4. Lists\n",
    "\n",
    "These are the most basic data structures one can encounter in Python. Defining a list L can look something like this `L=[1,2,3]`. A list can take as an entry any type of variable (strings, floats, integers). It can also be taken to be empty if the goal is just to add to it later `L=[]`.\n",
    "\n",
    "Create a list L that contains: your first name, your last name, your age. Print it out."
   ],
   "metadata": {}
  },
  {
   "cell_type": "code",
   "execution_count": 40,
   "source": [
    "L = ['Mattheus','Lim','24']\n",
    "L"
   ],
   "outputs": [
    {
     "output_type": "execute_result",
     "data": {
      "text/plain": [
       "['Mattheus', 'Lim', '24']"
      ]
     },
     "metadata": {},
     "execution_count": 40
    }
   ],
   "metadata": {}
  },
  {
   "cell_type": "markdown",
   "source": [
    "Check that your list has size 3 by running `len()`."
   ],
   "metadata": {}
  },
  {
   "cell_type": "code",
   "execution_count": 41,
   "source": [
    "len(L)"
   ],
   "outputs": [
    {
     "output_type": "execute_result",
     "data": {
      "text/plain": [
       "3"
      ]
     },
     "metadata": {},
     "execution_count": 41
    }
   ],
   "metadata": {}
  },
  {
   "cell_type": "markdown",
   "source": [
    "Access the second element of your list using `L[1]`. Why is it not `L[2]`? How do I access the last two elements e.g.?"
   ],
   "metadata": {}
  },
  {
   "cell_type": "code",
   "execution_count": 42,
   "source": [
    "L[1]"
   ],
   "outputs": [
    {
     "output_type": "execute_result",
     "data": {
      "text/plain": [
       "'Lim'"
      ]
     },
     "metadata": {},
     "execution_count": 42
    }
   ],
   "metadata": {}
  },
  {
   "cell_type": "markdown",
   "source": [
    "Note that `L[-1]` gives access to the last element."
   ],
   "metadata": {}
  },
  {
   "cell_type": "code",
   "execution_count": 43,
   "source": [
    "L[-1]"
   ],
   "outputs": [
    {
     "output_type": "execute_result",
     "data": {
      "text/plain": [
       "'24'"
      ]
     },
     "metadata": {},
     "execution_count": 43
    }
   ],
   "metadata": {}
  },
  {
   "cell_type": "markdown",
   "source": [
    "Change the first element of the list to your second name, or a name you would have liked to have if you don't have a second name. Use the assignment operator (`=`) to do this."
   ],
   "metadata": {}
  },
  {
   "cell_type": "code",
   "execution_count": 44,
   "source": [
    "L[0] = 'Jen-Sern'\n",
    "L"
   ],
   "outputs": [
    {
     "output_type": "execute_result",
     "data": {
      "text/plain": [
       "['Jen-Sern', 'Lim', '24']"
      ]
     },
     "metadata": {},
     "execution_count": 44
    }
   ],
   "metadata": {}
  },
  {
   "cell_type": "markdown",
   "source": [
    "Using `.append` add your month of birth (as a string) to your list L."
   ],
   "metadata": {}
  },
  {
   "cell_type": "code",
   "execution_count": 45,
   "source": [
    "L.append('12')\n",
    "L"
   ],
   "outputs": [
    {
     "output_type": "execute_result",
     "data": {
      "text/plain": [
       "['Jen-Sern', 'Lim', '24', '12']"
      ]
     },
     "metadata": {},
     "execution_count": 45
    }
   ],
   "metadata": {}
  },
  {
   "cell_type": "markdown",
   "source": [
    "Suppose I want to add two pieces of information to the list: the class name and number, i.e., I want to add `M=[\"DTVC\", 1]` to the existing list L. Try using `.append()` and `.extend()` to see how they are different. Which one should you use?"
   ],
   "metadata": {}
  },
  {
   "cell_type": "code",
   "execution_count": 49,
   "source": [
    "L=[\"Philippe\",\"Blaettchen\",29]\n",
    "M=[\"DTVC\",1]\n",
    "L.append(M)\n",
    "L"
   ],
   "outputs": [
    {
     "output_type": "execute_result",
     "data": {
      "text/plain": [
       "['Philippe', 'Blaettchen', 29, ['DTVC', 1]]"
      ]
     },
     "metadata": {},
     "execution_count": 49
    }
   ],
   "metadata": {}
  },
  {
   "cell_type": "code",
   "execution_count": 50,
   "source": [
    "L=[\"Philippe\",\"Blaettchen\",29]\n",
    "M=[\"DTVC\",1]\n",
    "L.extend(M)\n",
    "L"
   ],
   "outputs": [
    {
     "output_type": "execute_result",
     "data": {
      "text/plain": [
       "['Philippe', 'Blaettchen', 29, 'DTVC', 1]"
      ]
     },
     "metadata": {},
     "execution_count": 50
    }
   ],
   "metadata": {}
  },
  {
   "cell_type": "markdown",
   "source": [
    "Note that `.append` and `.extend` modify the *original* list. If you want to create a new variable that contains L with M added on you would use the `+` operator thus:"
   ],
   "metadata": {}
  },
  {
   "cell_type": "code",
   "execution_count": 51,
   "source": [
    "L=[\"Philippe\",\"Blaettchen\",29]\n",
    "M=[\"DTVC\",1]\n",
    "NewList=L+M\n",
    "print(NewList)"
   ],
   "outputs": [
    {
     "output_type": "stream",
     "name": "stdout",
     "text": [
      "['Philippe', 'Blaettchen', 29, 'DTVC', 1]\n"
     ]
    }
   ],
   "metadata": {}
  },
  {
   "cell_type": "markdown",
   "source": [
    "One last operator that might be useful for lists is the ability to count frequencies `.count`. Use `.count` to count the number of occurrences of 5 in the list below."
   ],
   "metadata": {}
  },
  {
   "cell_type": "code",
   "execution_count": 52,
   "source": [
    "L=[1,2,4,2,4,5,1,5,0]"
   ],
   "outputs": [],
   "metadata": {}
  },
  {
   "cell_type": "code",
   "execution_count": 53,
   "source": [
    "L.count(5)"
   ],
   "outputs": [
    {
     "output_type": "execute_result",
     "data": {
      "text/plain": [
       "2"
      ]
     },
     "metadata": {},
     "execution_count": 53
    }
   ],
   "metadata": {}
  },
  {
   "cell_type": "markdown",
   "source": [
    "Similar functions that can be used are `.sort` which sorts the list for you, `.insert` which inserts an element at a specified index, and `.index` which returns the first index of appearance of a given item."
   ],
   "metadata": {}
  },
  {
   "cell_type": "markdown",
   "source": [
    "# 3. Conditions, if...then...else, and loops\n",
    "\n",
    "It can be very useful to be able to check whether a condition is verified or loop through a list. We give more examples now.\n",
    "\n",
    "## 1. Conditions\n",
    "\n",
    "The first condition is simply whether something is equal to something else. We use here `==`: when the left hand side of the double equality is equal to the right hand side, True is returned. Otherwise False is returned. Note that `==` and `=` mean fundamentally different things: `==` is about checking whether two things are the same, `=` assigns a value to whatever is on the left hand side. Note that not equal to is `!=`.\n",
    "\n",
    "Create a variable `x` equal to 2. Check using `==` whether `x` is equal to 2."
   ],
   "metadata": {}
  },
  {
   "cell_type": "code",
   "execution_count": 54,
   "source": [
    "x = 2\n",
    "x == 2"
   ],
   "outputs": [
    {
     "output_type": "execute_result",
     "data": {
      "text/plain": [
       "True"
      ]
     },
     "metadata": {},
     "execution_count": 54
    }
   ],
   "metadata": {}
  },
  {
   "cell_type": "markdown",
   "source": [
    "There are also the `and` and `or` operators. The `and` operator returns True if both conditions it links are true. The `or` operator returns True if at least one of the conditions is true.\n",
    "\n",
    "Try it out for yourself: define a variable `x` equal to `10`. Try both the `and` and `or` operators with conditions x is equal to 10 and x is greater than or equal to 15."
   ],
   "metadata": {}
  },
  {
   "cell_type": "code",
   "execution_count": 56,
   "source": [
    "x = 10\n",
    "x == 10 or x >=15"
   ],
   "outputs": [
    {
     "output_type": "execute_result",
     "data": {
      "text/plain": [
       "True"
      ]
     },
     "metadata": {},
     "execution_count": 56
    }
   ],
   "metadata": {}
  },
  {
   "cell_type": "code",
   "execution_count": null,
   "source": [],
   "outputs": [],
   "metadata": {}
  },
  {
   "cell_type": "markdown",
   "source": [
    "The final condition we see here is the condition `in` which checks whether a given element is in a given structure.\n",
    "Define the list `L=[3,4,5]` and the variable `x=3` then check whether x is in L. What happens if `x=1`?"
   ],
   "metadata": {}
  },
  {
   "cell_type": "code",
   "execution_count": 59,
   "source": [
    "L=[3,4,5]\n",
    "x=1\n",
    "x in L"
   ],
   "outputs": [
    {
     "output_type": "execute_result",
     "data": {
      "text/plain": [
       "False"
      ]
     },
     "metadata": {},
     "execution_count": 59
    }
   ],
   "metadata": {}
  },
  {
   "cell_type": "markdown",
   "source": [
    "## 2. If...then..else\n",
    "\n",
    "We have seen how to check different conditions on variables. It may be useful sometimes to have some action based on the answer to the condition. This is codified in the if..then..else type routines: if [condition] is satisfied, then [do this], else [do this]. For example:"
   ],
   "metadata": {}
  },
  {
   "cell_type": "code",
   "execution_count": 60,
   "source": [
    "name = \"John\"\n",
    "age = 23\n",
    "if name == \"John\" or age == 23:\n",
    "    print(\"Your name is John or you are 23 years old.\")\n",
    "\n",
    "else:\n",
    "    print(\"Your name mustn't be John\")"
   ],
   "outputs": [
    {
     "output_type": "stream",
     "name": "stdout",
     "text": [
      "Your name is John or you are 23 years old.\n"
     ]
    }
   ],
   "metadata": {}
  },
  {
   "cell_type": "markdown",
   "source": [
    "Two things are **crucial** here: the two dots at the end of if and else and the indentation. If you don't have the tabulation before print this code will not work. Try it out!"
   ],
   "metadata": {}
  },
  {
   "cell_type": "markdown",
   "source": [
    "Sometimes you may have many conditions to check, in which case you would use elif, in this way:"
   ],
   "metadata": {}
  },
  {
   "cell_type": "code",
   "execution_count": 61,
   "source": [
    "name = \"John\"\n",
    "\n",
    "if name == \"Rachel\":\n",
    "    print(\"Your name is Rachel.\")\n",
    "\n",
    "elif name==\"John\":\n",
    "    print(\"Your name is John.\")\n",
    "\n",
    "else:\n",
    "    print(\"Your name mustn't be John, nor Rachel.\")"
   ],
   "outputs": [
    {
     "output_type": "stream",
     "name": "stdout",
     "text": [
      "Your name is John.\n"
     ]
    }
   ],
   "metadata": {}
  },
  {
   "cell_type": "markdown",
   "source": [
    "Your turn: create a list with a number of elements between 3 and 5. Then have an if...then...else type statement, which returns 3 if the list of elements has length 3, 4 if it has length 4, 5 if it has length 5, \"there is an error\" otherwise."
   ],
   "metadata": {}
  },
  {
   "cell_type": "code",
   "execution_count": 62,
   "source": [
    "L = [1,2,3]\n",
    "\n",
    "if len(L) == 1 or len(L) == 2 or len(L) == 3:\n",
    "    print(str(len(L)))\n",
    "else:\n",
    "    print(\"there is an error\")"
   ],
   "outputs": [
    {
     "output_type": "stream",
     "name": "stdout",
     "text": [
      "3\n"
     ]
    }
   ],
   "metadata": {}
  },
  {
   "cell_type": "markdown",
   "source": [
    "## 3. For loops\n",
    "\n",
    "For loops enable us to repeat an operation many times without typing it out at each iteration.\n",
    "\n",
    "For example, we can use it to sum over all possible items in a list:"
   ],
   "metadata": {}
  },
  {
   "cell_type": "code",
   "execution_count": null,
   "source": [
    "L=[2,5,10,4]\n",
    "sum_L=0\n",
    "\n",
    "for i in L:\n",
    "    sum_L=sum_L+i\n",
    "    \n",
    "print(sum_L)"
   ],
   "outputs": [],
   "metadata": {}
  },
  {
   "cell_type": "markdown",
   "source": [
    "The notion of `range` is very useful for for loops. Try the following code to understand what range does."
   ],
   "metadata": {}
  },
  {
   "cell_type": "code",
   "execution_count": null,
   "source": [
    "for i in range(10):\n",
    "    print(i)"
   ],
   "outputs": [],
   "metadata": {}
  },
  {
   "cell_type": "code",
   "execution_count": null,
   "source": [
    "for i in range(5,10):\n",
    "    print(i)"
   ],
   "outputs": [],
   "metadata": {}
  },
  {
   "cell_type": "code",
   "execution_count": null,
   "source": [
    "for i in range(0,10,2):\n",
    "    print(i)"
   ],
   "outputs": [],
   "metadata": {}
  },
  {
   "cell_type": "markdown",
   "source": [
    "How could we use `range`, `len(L)` to compute the sum of all elements in the list L above?"
   ],
   "metadata": {}
  },
  {
   "cell_type": "code",
   "execution_count": null,
   "source": [],
   "outputs": [],
   "metadata": {}
  },
  {
   "cell_type": "markdown",
   "source": [
    "One can also have a `while` clause: for example:"
   ],
   "metadata": {}
  },
  {
   "cell_type": "code",
   "execution_count": null,
   "source": [
    "count = 0\n",
    "while count < 5:\n",
    "    print(count)\n",
    "    count = count+1 "
   ],
   "outputs": [],
   "metadata": {}
  },
  {
   "cell_type": "markdown",
   "source": [
    "This means that while the condition `count<5` is satisfied, we keep executing the command. As soon as it stops being satisfied, we stop."
   ],
   "metadata": {}
  },
  {
   "cell_type": "markdown",
   "source": [
    "These for loops can be very useful to create lists. For example, if we want to create a list with all powers of 2 from 1 to 16, we can do so like this:"
   ],
   "metadata": {}
  },
  {
   "cell_type": "code",
   "execution_count": null,
   "source": [
    "List_powersof2=[]\n",
    "for i in range(0,5):\n",
    "    List_powersof2.append(2**i)\n",
    "\n",
    "print(List_powersof2)"
   ],
   "outputs": [],
   "metadata": {}
  },
  {
   "cell_type": "markdown",
   "source": [
    "Or even more simply:"
   ],
   "metadata": {}
  },
  {
   "cell_type": "code",
   "execution_count": null,
   "source": [
    "List_powersof2=[2**i for i in range(0,5)]\n",
    "print(List_powersof2)"
   ],
   "outputs": [],
   "metadata": {}
  },
  {
   "cell_type": "markdown",
   "source": [
    "We can even add conditions, e.g., if we want to remove 8 from the list."
   ],
   "metadata": {}
  },
  {
   "cell_type": "code",
   "execution_count": null,
   "source": [
    "List_powersof2=[2**i for i in range(0,5) if 2**i!=8]\n",
    "print(List_powersof2)"
   ],
   "outputs": [],
   "metadata": {}
  },
  {
   "cell_type": "markdown",
   "source": [
    "Your turn! Create a list with all the powers of 10 up to 100000 (included), removing 100."
   ],
   "metadata": {}
  },
  {
   "cell_type": "code",
   "execution_count": null,
   "source": [],
   "outputs": [],
   "metadata": {}
  },
  {
   "cell_type": "markdown",
   "source": [
    "# 4. Functions\n",
    "\n",
    "Functions are essentially like recipes for our computer: we only need to define an input, and we get back an output according to the rules of the recipe.\n",
    "\n",
    "Take, for example, the conversion from Fahrenheit to Celsius. Of course, we can look up and type the formula every time that we need to convert a temperature. But why not make our lives easier?\n",
    "\n",
    "Remember that $x^\\circ C \\cdot 9/5+32= y^\\circ F$. How much is are $15^\\circ C$, $25^\\circ C$, and $30^\\circ C$ in Fahrenheit? Lets start by defining a function that converts **any** temperature in Fahrenheit to the correct temperature in Celsius."
   ],
   "metadata": {}
  },
  {
   "cell_type": "code",
   "execution_count": null,
   "source": [
    "def celsius_to_fahrenheit(celsius):\n",
    "    fahrenheit = celsius * 9/5 + 32\n",
    "    return fahrenheit"
   ],
   "outputs": [],
   "metadata": {}
  },
  {
   "cell_type": "markdown",
   "source": [
    "That was easy! We just had to define the input, the recipe itself, and the output. Let's use it now!"
   ],
   "metadata": {}
  },
  {
   "cell_type": "code",
   "execution_count": null,
   "source": [
    "celsius_to_fahrenheit(15)"
   ],
   "outputs": [],
   "metadata": {}
  },
  {
   "cell_type": "markdown",
   "source": [
    "So far, so good. But what if we want to have all the temperatures converted? The key is that we don't have to redefine the formula, we just call it up. Try combining the function with a for-loop."
   ],
   "metadata": {}
  },
  {
   "cell_type": "code",
   "execution_count": null,
   "source": [],
   "outputs": [],
   "metadata": {}
  },
  {
   "cell_type": "markdown",
   "source": [
    "# 5. Data structures\n",
    "\n",
    "Data structures play a key role for us: we start with numpy arrays, then panda dataframes (which we will use heavily in the Machine Learning part of the course), and then dictionaries (which we use in Optimization)."
   ],
   "metadata": {}
  },
  {
   "cell_type": "markdown",
   "source": [
    "## 1. Numpy arrays\n",
    "\n",
    "Numpy arrays are an alternative to Python lists. As indicated by the name, they are part of the Numpy package. The advantages are that they are fast, easy to work with, and give users the opportunity to perform calculations across entire arrays. Note that elements of the array are accessed in exactly the same way as for lists.\n",
    "\n",
    "Generally, to create a numpy array, we first write a list and then specify that it is a numpy array. This of course requires the numpy package to be imported. For example:"
   ],
   "metadata": {}
  },
  {
   "cell_type": "code",
   "execution_count": null,
   "source": [
    "# Create 2 lists height and weight\n",
    "height = [1.67,  1.87, 1.82, 1.60, 1.73, 1.85]\n",
    "weight = [55, 100, 83, 91, 61, 70]\n",
    "\n",
    "# Create 2 numpy arrays from height and weight\n",
    "np_height = np.array(height)\n",
    "np_weight = np.array(weight)"
   ],
   "outputs": [],
   "metadata": {}
  },
  {
   "cell_type": "markdown",
   "source": [
    "Check what the type of `np_height` is."
   ],
   "metadata": {}
  },
  {
   "cell_type": "code",
   "execution_count": null,
   "source": [],
   "outputs": [],
   "metadata": {}
  },
  {
   "cell_type": "markdown",
   "source": [
    "Numpy arrays are useful for many things. First off, it is very easy to do computations with them. For example, if you want to create an array `bmi` that contains the BMI (given by $weight/height^2$) then this can easily be done by acting as if the arrays are just numbers. Try it out!"
   ],
   "metadata": {}
  },
  {
   "cell_type": "code",
   "execution_count": null,
   "source": [],
   "outputs": [],
   "metadata": {}
  },
  {
   "cell_type": "markdown",
   "source": [
    "Another very useful function is the ability to filter the array as needed. For example: healthy BMIs are between 18 and 25. We can select in the bmi list the bmis that match by doing simple conditioning. Note that for sets, and becomes `&` and or becomes `|`. Do not forget the parentheses!"
   ],
   "metadata": {}
  },
  {
   "cell_type": "code",
   "execution_count": null,
   "source": [
    "(bmi>=18) & (bmi<=25)"
   ],
   "outputs": [],
   "metadata": {}
  },
  {
   "cell_type": "markdown",
   "source": [
    "Do the same for all the BMI values that are *not* healthy (i.e., the values that are below 18 or above 25)."
   ],
   "metadata": {}
  },
  {
   "cell_type": "code",
   "execution_count": null,
   "source": [],
   "outputs": [],
   "metadata": {}
  },
  {
   "cell_type": "markdown",
   "source": [
    "This tells us which indexes satisfy (or don't) this condition. We can also get the actual values if we wish by doing the following:"
   ],
   "metadata": {}
  },
  {
   "cell_type": "code",
   "execution_count": null,
   "source": [
    "bmi[(bmi>=18) & (bmi<=25)]"
   ],
   "outputs": [],
   "metadata": {}
  },
  {
   "cell_type": "markdown",
   "source": [
    "These give us the values of the bmi that are healthy.\n",
    "\n",
    "Your turn: the list below corresponds to grades obtained in an MBA course. The students that obtained between 80 and 90 will get a B. Create a numpy array. Find which grades satisfy this condition. How many are there?"
   ],
   "metadata": {}
  },
  {
   "cell_type": "code",
   "execution_count": null,
   "source": [
    "Grades=[12,54,82,100,95,62,87,34,29,98,72,36,85,69,81,96]\n",
    "\n"
   ],
   "outputs": [],
   "metadata": {}
  },
  {
   "cell_type": "markdown",
   "source": [
    "You can easily construct arrays of ones and zeros by using the commands `np.zeros((1,5))` (which would give you an array of size $1\\times 5$ of zeros) and likewise `np.ones((1,5))` (which would give you an array of size $1\\times 5$)."
   ],
   "metadata": {}
  },
  {
   "cell_type": "code",
   "execution_count": null,
   "source": [
    "print(np.zeros((1,5)))\n",
    "print(np.ones((1,5)))"
   ],
   "outputs": [],
   "metadata": {}
  },
  {
   "cell_type": "markdown",
   "source": [
    " You can also construct arrays that contain a range by using `np.arange()`."
   ],
   "metadata": {}
  },
  {
   "cell_type": "code",
   "execution_count": null,
   "source": [
    "np.arange(20)"
   ],
   "outputs": [],
   "metadata": {}
  },
  {
   "cell_type": "markdown",
   "source": [
    "That you can then reshape as needed: say you want an array that has 4 rows and 5 columns, we could simply do the following:"
   ],
   "metadata": {}
  },
  {
   "cell_type": "code",
   "execution_count": null,
   "source": [
    "np.arange(20).reshape((4,5))"
   ],
   "outputs": [],
   "metadata": {}
  },
  {
   "cell_type": "markdown",
   "source": [
    "To obtain the shape of the array above, we use `shape`:"
   ],
   "metadata": {}
  },
  {
   "cell_type": "code",
   "execution_count": null,
   "source": [
    "np.arange(20).reshape((4,5)).shape"
   ],
   "outputs": [],
   "metadata": {}
  },
  {
   "cell_type": "markdown",
   "source": [
    "Your turn! Create a numpy array `A` using `np.arange(12)`. Reshape it so that it is of size (4,3). Then create another numpy area `B` using `np.ones(12)`and reshape it so that it is of size (4,3). Try `A+B`, `A*B`, `A.min()`, `A.min(axis=0)`, `A.min(axis=1)`. What happens everytime?"
   ],
   "metadata": {}
  },
  {
   "cell_type": "code",
   "execution_count": null,
   "source": [],
   "outputs": [],
   "metadata": {}
  },
  {
   "cell_type": "markdown",
   "source": [
    "Other functions such as `.max` `.cumsum`, `.sum` function in a similar fashion.\n",
    "\n",
    "Two important functions that we discuss now is `.all` and `.any`. They are also useful for dataframes. Do you understand what they're doing?"
   ],
   "metadata": {}
  },
  {
   "cell_type": "code",
   "execution_count": null,
   "source": [
    "(B==1).all()"
   ],
   "outputs": [],
   "metadata": {}
  },
  {
   "cell_type": "code",
   "execution_count": null,
   "source": [
    "(A==1).all()"
   ],
   "outputs": [],
   "metadata": {}
  },
  {
   "cell_type": "code",
   "execution_count": null,
   "source": [
    "(A==1).any()"
   ],
   "outputs": [],
   "metadata": {}
  },
  {
   "cell_type": "markdown",
   "source": [
    "## 2. Panda Dataframes\n",
    "\n",
    "This is an incredibly important type of data structure and one we will use almost exclusively in the machine learning lectures. We will most often read a dataframe from a .csv file (similar to those you can open in Excel). This will require us to use e.g., `Dataset=pd.read_csv(\"data.csv\")`. Here, we don't do this but use a pre-existing dataset from the seaborn plotting package as an example."
   ],
   "metadata": {}
  },
  {
   "cell_type": "code",
   "execution_count": null,
   "source": [
    "import seaborn as sns\n",
    "tips=sns.load_dataset(\"tips\")"
   ],
   "outputs": [],
   "metadata": {}
  },
  {
   "cell_type": "markdown",
   "source": [
    "The reason we use dataframes a lot is because they are formatted in a functional way (and so easy to read). What happens if you just type in `tips`?"
   ],
   "metadata": {}
  },
  {
   "cell_type": "code",
   "execution_count": null,
   "source": [],
   "outputs": [],
   "metadata": {}
  },
  {
   "cell_type": "markdown",
   "source": [
    "Take a look at the header of tips using `.head()`."
   ],
   "metadata": {}
  },
  {
   "cell_type": "code",
   "execution_count": null,
   "source": [],
   "outputs": [],
   "metadata": {}
  },
  {
   "cell_type": "markdown",
   "source": [
    "We can also create our own dataframe using a dictionary: we will briefly discuss this when we discuss dictionaries. We will rarely need to do this in our examples.\n",
    "\n",
    "Dataframes do not treat features (i.e., the columns) and observations (i.e., the rows) in the same way. For example to access column data (e.g., total_bill), it is quite easy. Accessing observations is a bit harder.\n",
    "\n",
    "Try `tips['total_bill']` and `tips[['total_bill']]`. What is the difference? It may be useful to use `type` to answer the question. We will use `tips[['total_bill']]` in general as this a datatype we master."
   ],
   "metadata": {}
  },
  {
   "cell_type": "code",
   "execution_count": null,
   "source": [],
   "outputs": [],
   "metadata": {}
  },
  {
   "cell_type": "code",
   "execution_count": null,
   "source": [],
   "outputs": [],
   "metadata": {}
  },
  {
   "cell_type": "code",
   "execution_count": null,
   "source": [],
   "outputs": [],
   "metadata": {}
  },
  {
   "cell_type": "markdown",
   "source": [
    "Try selecting two columns now, say `total_bill` and `smoker`."
   ],
   "metadata": {}
  },
  {
   "cell_type": "code",
   "execution_count": null,
   "source": [],
   "outputs": [],
   "metadata": {}
  },
  {
   "cell_type": "markdown",
   "source": [
    "To access observations, we use square brackets but with integers. For example `tips[0:5]` accesses the first 5 observations. How would you access observations 5 through 10?"
   ],
   "metadata": {}
  },
  {
   "cell_type": "code",
   "execution_count": null,
   "source": [
    "tips[0:5]"
   ],
   "outputs": [],
   "metadata": {}
  },
  {
   "cell_type": "code",
   "execution_count": null,
   "source": [],
   "outputs": [],
   "metadata": {}
  },
  {
   "cell_type": "markdown",
   "source": [
    "Sometimes it can be complicated to understand what the *index* of our dataframe is. We use `.index` for this. What do we get in this case? Do you find this surprising?"
   ],
   "metadata": {}
  },
  {
   "cell_type": "code",
   "execution_count": null,
   "source": [],
   "outputs": [],
   "metadata": {}
  },
  {
   "cell_type": "markdown",
   "source": [
    "Accessing one observation rather than a range (as done above) can be done using `.loc`: for example `tips.loc[[5]]`. This just returns the line indexed by 5. If you want to return the line corresponding to position 5, you would use `tips.iloc[[5]]`. The command `.loc` and `.iloc` can also be used for the columns. See the example below."
   ],
   "metadata": {}
  },
  {
   "cell_type": "code",
   "execution_count": null,
   "source": [
    "tips.loc[[5]]"
   ],
   "outputs": [],
   "metadata": {}
  },
  {
   "cell_type": "code",
   "execution_count": null,
   "source": [
    "tips.iloc[:,1:3]"
   ],
   "outputs": [],
   "metadata": {}
  },
  {
   "cell_type": "markdown",
   "source": [
    "Using `.loc` or `.iloc`, you can also select many different observations that are not necessarily contiguous, for example, try selecting rows indexed by 5 and 8 using a similar strategy to arrays."
   ],
   "metadata": {}
  },
  {
   "cell_type": "code",
   "execution_count": null,
   "source": [],
   "outputs": [],
   "metadata": {}
  },
  {
   "cell_type": "markdown",
   "source": [
    "You can also filter in a similar way as done for arrays: for example, if you only want to consider male tippers you would use:"
   ],
   "metadata": {}
  },
  {
   "cell_type": "code",
   "execution_count": null,
   "source": [
    "tips[tips[\"sex\"]==\"Male\"]"
   ],
   "outputs": [],
   "metadata": {}
  },
  {
   "cell_type": "markdown",
   "source": [
    "Your turn! Select the rows that correspond to the size of the party being larger or equal to 4."
   ],
   "metadata": {}
  },
  {
   "cell_type": "code",
   "execution_count": null,
   "source": [],
   "outputs": [],
   "metadata": {}
  },
  {
   "cell_type": "markdown",
   "source": [
    "Now, try using `tips.where(tips[\"sex\"]==\"Male\")`. What is the difference with the method used above?"
   ],
   "metadata": {}
  },
  {
   "cell_type": "code",
   "execution_count": null,
   "source": [],
   "outputs": [],
   "metadata": {}
  },
  {
   "cell_type": "markdown",
   "source": [
    "An important thing to know how to do is how to drop a column from a dataframe. This is done by using `.drop(columns=[\"name1\",\"name2\"])`. Drop the column \"time\" from the tips dataset."
   ],
   "metadata": {}
  },
  {
   "cell_type": "code",
   "execution_count": null,
   "source": [],
   "outputs": [],
   "metadata": {}
  },
  {
   "cell_type": "code",
   "execution_count": null,
   "source": [
    "tips.mean()"
   ],
   "outputs": [],
   "metadata": {}
  },
  {
   "cell_type": "markdown",
   "source": [
    "There are many, many different functions that can be applied to the dataset: `.describe()` is probably the most useful. We also have things such as `.max`, `.min`, `.median`, etc. Try them out!"
   ],
   "metadata": {}
  },
  {
   "cell_type": "code",
   "execution_count": null,
   "source": [],
   "outputs": [],
   "metadata": {}
  },
  {
   "cell_type": "code",
   "execution_count": null,
   "source": [],
   "outputs": [],
   "metadata": {}
  },
  {
   "cell_type": "code",
   "execution_count": null,
   "source": [],
   "outputs": [],
   "metadata": {}
  },
  {
   "cell_type": "markdown",
   "source": [
    "We review three last functions: `.join`, `.merge`, and `.groupby` which are both very useful. \n",
    "\n",
    "The functions `.join` and `.merge` are quite similar. We first look at `.join`. Run the following example: what is the code doing?"
   ],
   "metadata": {}
  },
  {
   "cell_type": "code",
   "execution_count": null,
   "source": [
    "df1 = pd.DataFrame({'lkey': ['foo', 'bar', 'baz', 'foo'],\n",
    "                    'value1': [1, 2, 3, 5]})\n",
    "df2 = pd.DataFrame({'rkey': ['foo', 'bar', 'baz', 'foo'],\n",
    "                    'value2': [5, 6, 7, 8]})\n",
    "df1.join(df2)\n",
    "#columns should have different names e.g. value1, value2 for join to work: they are joined based on common index.\n",
    "#note that the dataframe obtained has the same size as the two initial datasets"
   ],
   "outputs": [],
   "metadata": {}
  },
  {
   "cell_type": "code",
   "execution_count": null,
   "source": [
    "df1 = pd.DataFrame({'lkey': ['foo', 'bar', 'baz', 'foo'],\n",
    "                    'value': [1, 2, 3, 5]})\n",
    "df2 = pd.DataFrame({'rkey': ['foo', 'bar', 'baz', 'foo'],\n",
    "                    'value': [5, 6, 7, 8]})\n",
    "df1.merge(df2, left_on='lkey', right_on='rkey')\n",
    "#here, the values are merged based on the values of the dataset: as foo appears twice, we have 4 possible options."
   ],
   "outputs": [],
   "metadata": {}
  },
  {
   "cell_type": "markdown",
   "source": [
    "Don't get too caught up in this! Just know that they exist and refer back here if you ever need to use them to determine how you would do so.\n",
    "\n",
    "We now move onto `.groupby`. This enables us to simplify the datasets considerably by grouping together observations that present some similarities and then applying some operation to it."
   ],
   "metadata": {}
  },
  {
   "cell_type": "code",
   "execution_count": null,
   "source": [
    "tips.groupby([\"sex\"]).mean()"
   ],
   "outputs": [],
   "metadata": {}
  },
  {
   "cell_type": "markdown",
   "source": [
    "For example, we observe here that the total bill is generally higher when a man pays than when a woman does. How do the days of the week impact the total bill?"
   ],
   "metadata": {}
  },
  {
   "cell_type": "code",
   "execution_count": null,
   "source": [],
   "outputs": [],
   "metadata": {}
  },
  {
   "cell_type": "markdown",
   "source": [
    "Use `.groupby` and `.count` to find the most observed set-up of size of group and sex in the dataset."
   ],
   "metadata": {}
  },
  {
   "cell_type": "code",
   "execution_count": null,
   "source": [],
   "outputs": [],
   "metadata": {}
  },
  {
   "cell_type": "markdown",
   "source": [
    "## 3. Dictionaries\n",
    "\n",
    "Dictionaries are a default data storage type proposed by Python. They have the advantage of being very flexible with only the information we have present. They are hard to read however. Consider the following dictionary."
   ],
   "metadata": {}
  },
  {
   "cell_type": "code",
   "execution_count": null,
   "source": [
    "scientists={\"marie curie\":[\"radioactivity\",2], \"albert einstein\":[\"relativity\",1], \"isaac newton\":[\"gravity\"]}"
   ],
   "outputs": [],
   "metadata": {}
  },
  {
   "cell_type": "code",
   "execution_count": null,
   "source": [
    "scientists"
   ],
   "outputs": [],
   "metadata": {}
  },
  {
   "cell_type": "markdown",
   "source": [
    "The numbers here are the number of Nobel Prizes (only 4 people have ever received 2). Note that as Isaac Newton was born before Nobel prizes existed, he does not have any. This isn't a problem in dictionaries: we can have as much (or as little) information on one of the entries as possible (i.e., there can be a lot of variability between entries). In a dataframe, for example, this would have to be an empty entry, so we would waste room storing a useless entry.\n",
    "\n",
    "We will see that this is very useful for optimization. Try calling the \"marie curie\" entry in the dictionary. How would your proceed? Note that \"marie curie\", \"albert einstein\", \"isaac newton\" are what are called *keys*. We can call them by typing in `scientists.keys()`."
   ],
   "metadata": {}
  },
  {
   "cell_type": "code",
   "execution_count": null,
   "source": [],
   "outputs": [],
   "metadata": {}
  },
  {
   "cell_type": "code",
   "execution_count": null,
   "source": [],
   "outputs": [],
   "metadata": {}
  },
  {
   "cell_type": "markdown",
   "source": [
    "We can also use dictionaries to construct dataframes. We first construct a dictionary: `dict={'col1':[information], 'col2':[information]}`. We then use `pd.DataFrame(dict)` to obtain the corresponding dataframe.\n",
    "\n",
    "Construct a dictionary with columns \"capital\" and \"continent\" included. Populate these with the information on your favorite countries. Make this into a dataframe with the index being the countries' names."
   ],
   "metadata": {}
  },
  {
   "cell_type": "code",
   "execution_count": null,
   "source": [],
   "outputs": [],
   "metadata": {}
  },
  {
   "cell_type": "markdown",
   "source": [
    "# 6. Exercises *(Time-permitting or Homework)*"
   ],
   "metadata": {}
  },
  {
   "cell_type": "markdown",
   "source": [
    "## Exercise 1: \n",
    "\n",
    "Consider this list `L= [1, 4, 9, 16, 25, 36, 49, 64, 81, 100]`. Write a routine that takes this list and makes a new list that only has even elements of this list in it. (This can be done in one line.)"
   ],
   "metadata": {}
  },
  {
   "cell_type": "code",
   "execution_count": null,
   "source": [],
   "outputs": [],
   "metadata": {}
  },
  {
   "cell_type": "markdown",
   "source": [
    "## Exercise 2:\n",
    "\n",
    "1. Consider these two lists: `L1 = [1, 1, 2, 3, 5, 8, 13, 21, 34, 55, 89]` and `L2 = [1, 2, 3, 4, 5, 6, 7, 8, 9, 10, 11, 12, 13]`. Write a routine that returns a list that contains only the elements that are in common between the lists (possibly with duplicates). This can be done in one line of code. \n",
    "2. Write a routine that removes the duplicates from the list obtained (i.e., instead of `[1, 1, 2, 3, 5, 8, 13]` obtain `[1, 2, 3, 5, 8, 13]`). This can be done in 2 lines of code. *(Hard)*"
   ],
   "metadata": {}
  },
  {
   "cell_type": "code",
   "execution_count": null,
   "source": [],
   "outputs": [],
   "metadata": {}
  },
  {
   "cell_type": "code",
   "execution_count": null,
   "source": [],
   "outputs": [],
   "metadata": {}
  },
  {
   "cell_type": "markdown",
   "source": [
    "## Exercise 3\n",
    "\n",
    "1. Write a routine that takes this array `arr = np.array([0, 1, 2, 3, 4, 5, 6, 7, 8, 9])` as input and modifies it so that all odd numbers have been replaced with -1. This should take a line.\n",
    "2. How would you modify this routine so that you create a *new* array instead of just modifying `arr`? Hint: you may want to use the `np.where()` function which is similar to `.where()` for dataframes. Check out the documentation!"
   ],
   "metadata": {}
  },
  {
   "cell_type": "code",
   "execution_count": null,
   "source": [],
   "outputs": [],
   "metadata": {}
  },
  {
   "cell_type": "code",
   "execution_count": null,
   "source": [],
   "outputs": [],
   "metadata": {}
  },
  {
   "cell_type": "markdown",
   "source": [
    "## Exercise 4\n",
    "\n",
    "1. Given two arrays: `arr1=np.array([1,3,5])` and `arr2=np.array([2,4,5])`, stack them one on top of another to obtain `arr`. Use `.vstack` for this (see documentation).\n",
    "2. How can I call entry 6 in `arr`?"
   ],
   "metadata": {}
  },
  {
   "cell_type": "code",
   "execution_count": null,
   "source": [],
   "outputs": [],
   "metadata": {}
  },
  {
   "cell_type": "code",
   "execution_count": null,
   "source": [],
   "outputs": [],
   "metadata": {}
  },
  {
   "cell_type": "markdown",
   "source": [
    "## Exercise 5\n",
    "\n",
    "1. Using the `tips` dataframe from above, find the largest total tip left.\n",
    "2. Isolate the row/observation which this corresponds to. Hint: This is one of the rare times where we need to use `tips[\"total_bill\"]` rather than `tips[[\"total_bill\"]]`.\n",
    "3. For each day of the week, find the average total bill left."
   ],
   "metadata": {}
  },
  {
   "cell_type": "code",
   "execution_count": null,
   "source": [
    "import seaborn as sns\n",
    "tips=sns.load_dataset(\"tips\")\n"
   ],
   "outputs": [],
   "metadata": {}
  },
  {
   "cell_type": "code",
   "execution_count": null,
   "source": [],
   "outputs": [],
   "metadata": {}
  },
  {
   "cell_type": "code",
   "execution_count": null,
   "source": [],
   "outputs": [],
   "metadata": {}
  },
  {
   "cell_type": "code",
   "execution_count": null,
   "source": [],
   "outputs": [],
   "metadata": {}
  },
  {
   "cell_type": "code",
   "execution_count": null,
   "source": [],
   "outputs": [],
   "metadata": {}
  }
 ],
 "metadata": {
  "kernelspec": {
   "name": "python3",
   "display_name": "Python 3.7.11 64-bit ('smm750': conda)"
  },
  "language_info": {
   "name": "python",
   "version": "3.7.7",
   "mimetype": "text/x-python",
   "codemirror_mode": {
    "name": "ipython",
    "version": 3
   },
   "pygments_lexer": "ipython3",
   "nbconvert_exporter": "python",
   "file_extension": ".py"
  },
  "interpreter": {
   "hash": "f629333e1b46320084e8326c4621ad47c167cfc00211fa80b8c459f615c9621f"
  }
 },
 "nbformat": 4,
 "nbformat_minor": 4
}